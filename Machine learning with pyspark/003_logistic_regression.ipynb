{
 "cells": [
  {
   "cell_type": "code",
   "execution_count": 1,
   "metadata": {
    "ExecuteTime": {
     "end_time": "2020-05-25T16:45:41.262521Z",
     "start_time": "2020-05-25T16:45:15.646463Z"
    }
   },
   "outputs": [],
   "source": [
    "#import SparkSession\n",
    "from pyspark.sql import SparkSession\n",
    "spark=SparkSession.builder.appName('log_reg').getOrCreate()"
   ]
  },
  {
   "cell_type": "code",
   "execution_count": 17,
   "metadata": {
    "ExecuteTime": {
     "end_time": "2020-05-25T16:51:26.243699Z",
     "start_time": "2020-05-25T16:51:24.592662Z"
    }
   },
   "outputs": [
    {
     "name": "stdout",
     "output_type": "stream",
     "text": [
      "+---------+---+--------------+--------+----------------+------+\n",
      "|  Country|Age|Repeat_Visitor|Platform|Web_pages_viewed|Status|\n",
      "+---------+---+--------------+--------+----------------+------+\n",
      "|    India| 41|             1|   Yahoo|              21|     1|\n",
      "|   Brazil| 28|             1|   Yahoo|               5|     0|\n",
      "|   Brazil| 40|             0|  Google|               3|     0|\n",
      "|Indonesia| 31|             1|    Bing|              15|     1|\n",
      "| Malaysia| 32|             0|  Google|              15|     1|\n",
      "|   Brazil| 32|             0|  Google|               3|     0|\n",
      "|   Brazil| 32|             0|  Google|               6|     0|\n",
      "|Indonesia| 27|             0|  Google|               9|     0|\n",
      "|Indonesia| 32|             0|   Yahoo|               2|     0|\n",
      "|Indonesia| 31|             1|    Bing|              16|     1|\n",
      "| Malaysia| 27|             1|  Google|              21|     1|\n",
      "|Indonesia| 29|             1|   Yahoo|               9|     1|\n",
      "|Indonesia| 33|             1|   Yahoo|              20|     1|\n",
      "|Indonesia| 35|             0|    Bing|               2|     0|\n",
      "|    India| 27|             1|   Yahoo|              21|     1|\n",
      "|Indonesia| 35|             0|    Bing|               2|     0|\n",
      "|Indonesia| 19|             1|   Yahoo|              17|     1|\n",
      "|Indonesia| 17|             1|   Yahoo|              13|     1|\n",
      "| Malaysia| 46|             0|   Yahoo|               5|     0|\n",
      "|Indonesia| 24|             0|  Google|               7|     0|\n",
      "+---------+---+--------------+--------+----------------+------+\n",
      "only showing top 20 rows\n",
      "\n"
     ]
    }
   ],
   "source": [
    "#read the dataset\n",
    "df=spark.read.csv('Log_Reg_dataset.csv',inferSchema=True,header=True)\n",
    "df.show()"
   ]
  },
  {
   "cell_type": "code",
   "execution_count": 18,
   "metadata": {
    "ExecuteTime": {
     "end_time": "2020-05-25T16:51:28.231098Z",
     "start_time": "2020-05-25T16:51:27.924398Z"
    }
   },
   "outputs": [
    {
     "name": "stdout",
     "output_type": "stream",
     "text": [
      "Shape of dataset (20000, 6)\n"
     ]
    }
   ],
   "source": [
    "#check the shape of the data \n",
    "print(\"Shape of dataset\",(df.count(),len(df.columns)))"
   ]
  },
  {
   "cell_type": "code",
   "execution_count": 19,
   "metadata": {
    "ExecuteTime": {
     "end_time": "2020-05-25T16:51:28.298916Z",
     "start_time": "2020-05-25T16:51:28.286949Z"
    }
   },
   "outputs": [
    {
     "name": "stdout",
     "output_type": "stream",
     "text": [
      "root\n",
      " |-- Country: string (nullable = true)\n",
      " |-- Age: integer (nullable = true)\n",
      " |-- Repeat_Visitor: integer (nullable = true)\n",
      " |-- Platform: string (nullable = true)\n",
      " |-- Web_pages_viewed: integer (nullable = true)\n",
      " |-- Status: integer (nullable = true)\n",
      "\n"
     ]
    }
   ],
   "source": [
    "#printSchema\n",
    "df.printSchema()"
   ]
  },
  {
   "cell_type": "code",
   "execution_count": 20,
   "metadata": {
    "ExecuteTime": {
     "end_time": "2020-05-25T16:51:28.507676Z",
     "start_time": "2020-05-25T16:51:28.492716Z"
    }
   },
   "outputs": [
    {
     "data": {
      "text/plain": [
       "['Country', 'Age', 'Repeat_Visitor', 'Platform', 'Web_pages_viewed', 'Status']"
      ]
     },
     "execution_count": 20,
     "metadata": {},
     "output_type": "execute_result"
    }
   ],
   "source": [
    "df.columns"
   ]
  },
  {
   "cell_type": "code",
   "execution_count": 21,
   "metadata": {
    "ExecuteTime": {
     "end_time": "2020-05-25T16:51:30.781788Z",
     "start_time": "2020-05-25T16:51:28.727406Z"
    }
   },
   "outputs": [
    {
     "name": "stdout",
     "output_type": "stream",
     "text": [
      "+-------+--------+-----------------+-----------------+--------+-----------------+------------------+\n",
      "|summary| Country|              Age|   Repeat_Visitor|Platform| Web_pages_viewed|            Status|\n",
      "+-------+--------+-----------------+-----------------+--------+-----------------+------------------+\n",
      "|  count|   20000|            20000|            20000|   20000|            20000|             20000|\n",
      "|   mean|    null|         28.53955|           0.5029|    null|           9.5533|               0.5|\n",
      "| stddev|    null|7.888912950773227|0.500004090187782|    null|6.073903499824976|0.5000125004687693|\n",
      "|    min|  Brazil|               17|                0|    Bing|                1|                 0|\n",
      "|    max|Malaysia|              111|                1|   Yahoo|               29|                 1|\n",
      "+-------+--------+-----------------+-----------------+--------+-----------------+------------------+\n",
      "\n"
     ]
    }
   ],
   "source": [
    "#Exploratory Data Analysis\n",
    "df.describe().show()"
   ]
  },
  {
   "cell_type": "code",
   "execution_count": 22,
   "metadata": {
    "ExecuteTime": {
     "end_time": "2020-05-25T16:51:32.753650Z",
     "start_time": "2020-05-25T16:51:30.789768Z"
    }
   },
   "outputs": [
    {
     "name": "stdout",
     "output_type": "stream",
     "text": [
      "+---------+-----+\n",
      "|  Country|count|\n",
      "+---------+-----+\n",
      "| Malaysia| 1218|\n",
      "|    India| 4018|\n",
      "|Indonesia|12178|\n",
      "|   Brazil| 2586|\n",
      "+---------+-----+\n",
      "\n"
     ]
    }
   ],
   "source": [
    "df.groupBy('Country').count().show()"
   ]
  },
  {
   "cell_type": "code",
   "execution_count": 23,
   "metadata": {
    "ExecuteTime": {
     "end_time": "2020-05-25T16:51:34.654413Z",
     "start_time": "2020-05-25T16:51:32.760672Z"
    }
   },
   "outputs": [
    {
     "name": "stdout",
     "output_type": "stream",
     "text": [
      "+--------+-----+\n",
      "|Platform|count|\n",
      "+--------+-----+\n",
      "|   Yahoo| 9859|\n",
      "|    Bing| 4360|\n",
      "|  Google| 5781|\n",
      "+--------+-----+\n",
      "\n"
     ]
    }
   ],
   "source": [
    "df.groupBy('Platform').count().show()"
   ]
  },
  {
   "cell_type": "code",
   "execution_count": 24,
   "metadata": {
    "ExecuteTime": {
     "end_time": "2020-05-25T16:51:36.342850Z",
     "start_time": "2020-05-25T16:51:34.662390Z"
    }
   },
   "outputs": [
    {
     "name": "stdout",
     "output_type": "stream",
     "text": [
      "+------+-----+\n",
      "|Status|count|\n",
      "+------+-----+\n",
      "|     1|10000|\n",
      "|     0|10000|\n",
      "+------+-----+\n",
      "\n"
     ]
    }
   ],
   "source": [
    "df.groupBy('Status').count().show()"
   ]
  },
  {
   "cell_type": "code",
   "execution_count": 25,
   "metadata": {
    "ExecuteTime": {
     "end_time": "2020-05-25T16:51:36.360802Z",
     "start_time": "2020-05-25T16:51:36.352823Z"
    }
   },
   "outputs": [],
   "source": [
    "from pyspark.ml.feature import StringIndexer"
   ]
  },
  {
   "cell_type": "code",
   "execution_count": 26,
   "metadata": {
    "ExecuteTime": {
     "end_time": "2020-05-25T16:51:38.090308Z",
     "start_time": "2020-05-25T16:51:36.370775Z"
    }
   },
   "outputs": [
    {
     "name": "stdout",
     "output_type": "stream",
     "text": [
      "+---------+---+--------------+--------+----------------+------+------------+\n",
      "|  Country|Age|Repeat_Visitor|Platform|Web_pages_viewed|Status|Platform_Num|\n",
      "+---------+---+--------------+--------+----------------+------+------------+\n",
      "|    India| 41|             1|   Yahoo|              21|     1|         0.0|\n",
      "|   Brazil| 28|             1|   Yahoo|               5|     0|         0.0|\n",
      "|   Brazil| 40|             0|  Google|               3|     0|         1.0|\n",
      "|Indonesia| 31|             1|    Bing|              15|     1|         2.0|\n",
      "| Malaysia| 32|             0|  Google|              15|     1|         1.0|\n",
      "|   Brazil| 32|             0|  Google|               3|     0|         1.0|\n",
      "|   Brazil| 32|             0|  Google|               6|     0|         1.0|\n",
      "|Indonesia| 27|             0|  Google|               9|     0|         1.0|\n",
      "|Indonesia| 32|             0|   Yahoo|               2|     0|         0.0|\n",
      "|Indonesia| 31|             1|    Bing|              16|     1|         2.0|\n",
      "| Malaysia| 27|             1|  Google|              21|     1|         1.0|\n",
      "|Indonesia| 29|             1|   Yahoo|               9|     1|         0.0|\n",
      "|Indonesia| 33|             1|   Yahoo|              20|     1|         0.0|\n",
      "|Indonesia| 35|             0|    Bing|               2|     0|         2.0|\n",
      "|    India| 27|             1|   Yahoo|              21|     1|         0.0|\n",
      "|Indonesia| 35|             0|    Bing|               2|     0|         2.0|\n",
      "|Indonesia| 19|             1|   Yahoo|              17|     1|         0.0|\n",
      "|Indonesia| 17|             1|   Yahoo|              13|     1|         0.0|\n",
      "| Malaysia| 46|             0|   Yahoo|               5|     0|         0.0|\n",
      "|Indonesia| 24|             0|  Google|               7|     0|         1.0|\n",
      "+---------+---+--------------+--------+----------------+------+------------+\n",
      "only showing top 20 rows\n",
      "\n"
     ]
    }
   ],
   "source": [
    "platform_indexer = StringIndexer(inputCol=\"Platform\", outputCol=\"Platform_Num\").fit(df)\n",
    "df = platform_indexer.transform(df)\n",
    "df.show()"
   ]
  },
  {
   "cell_type": "code",
   "execution_count": 27,
   "metadata": {
    "ExecuteTime": {
     "end_time": "2020-05-25T16:51:38.108260Z",
     "start_time": "2020-05-25T16:51:38.099287Z"
    }
   },
   "outputs": [],
   "source": [
    "from pyspark.ml.feature import OneHotEncoder"
   ]
  },
  {
   "cell_type": "code",
   "execution_count": null,
   "metadata": {
    "ExecuteTime": {
     "end_time": "2020-05-25T16:49:54.750455Z",
     "start_time": "2020-05-25T16:49:54.277141Z"
    }
   },
   "outputs": [],
   "source": [
    "\n"
   ]
  },
  {
   "cell_type": "code",
   "execution_count": 28,
   "metadata": {
    "ExecuteTime": {
     "end_time": "2020-05-25T16:51:43.666015Z",
     "start_time": "2020-05-25T16:51:43.602188Z"
    }
   },
   "outputs": [],
   "source": [
    "#one hot encoding\n",
    "platform_encoder = OneHotEncoder(inputCol=\"Platform_Num\", outputCol=\"Platform_Num_Vector\")\n",
    "df = platform_encoder.transform(df)"
   ]
  },
  {
   "cell_type": "code",
   "execution_count": null,
   "metadata": {
    "ExecuteTime": {
     "end_time": "2020-05-25T16:48:54.317927Z",
     "start_time": "2020-05-25T16:48:54.307979Z"
    }
   },
   "outputs": [],
   "source": []
  },
  {
   "cell_type": "code",
   "execution_count": 29,
   "metadata": {
    "ExecuteTime": {
     "end_time": "2020-05-25T16:52:28.216238Z",
     "start_time": "2020-05-25T16:52:27.408965Z"
    }
   },
   "outputs": [],
   "source": [
    "country_indexer = StringIndexer(inputCol=\"Country\", outputCol=\"Country_Num\").fit(df)\n",
    "df = country_indexer.transform(df)"
   ]
  },
  {
   "cell_type": "code",
   "execution_count": 30,
   "metadata": {
    "ExecuteTime": {
     "end_time": "2020-05-25T16:52:43.115178Z",
     "start_time": "2020-05-25T16:52:42.701243Z"
    }
   },
   "outputs": [
    {
     "name": "stdout",
     "output_type": "stream",
     "text": [
      "+---------+-----------+\n",
      "|  Country|Country_Num|\n",
      "+---------+-----------+\n",
      "|    India|        1.0|\n",
      "|   Brazil|        2.0|\n",
      "|   Brazil|        2.0|\n",
      "|Indonesia|        0.0|\n",
      "| Malaysia|        3.0|\n",
      "|   Brazil|        2.0|\n",
      "|   Brazil|        2.0|\n",
      "|Indonesia|        0.0|\n",
      "|Indonesia|        0.0|\n",
      "|Indonesia|        0.0|\n",
      "| Malaysia|        3.0|\n",
      "|Indonesia|        0.0|\n",
      "|Indonesia|        0.0|\n",
      "|Indonesia|        0.0|\n",
      "|    India|        1.0|\n",
      "|Indonesia|        0.0|\n",
      "|Indonesia|        0.0|\n",
      "|Indonesia|        0.0|\n",
      "| Malaysia|        3.0|\n",
      "|Indonesia|        0.0|\n",
      "+---------+-----------+\n",
      "only showing top 20 rows\n",
      "\n"
     ]
    }
   ],
   "source": [
    "df.select(['Country','Country_Num']).show()"
   ]
  },
  {
   "cell_type": "code",
   "execution_count": 31,
   "metadata": {
    "ExecuteTime": {
     "end_time": "2020-05-25T16:53:27.962110Z",
     "start_time": "2020-05-25T16:53:27.902270Z"
    }
   },
   "outputs": [],
   "source": [
    "#one hot encoding\n",
    "country_encoder = OneHotEncoder(inputCol=\"Country_Num\", outputCol=\"Country_Vector\")\n",
    "df = country_encoder.transform(df)"
   ]
  },
  {
   "cell_type": "code",
   "execution_count": 32,
   "metadata": {
    "ExecuteTime": {
     "end_time": "2020-05-25T16:53:45.657424Z",
     "start_time": "2020-05-25T16:53:45.053466Z"
    }
   },
   "outputs": [
    {
     "name": "stdout",
     "output_type": "stream",
     "text": [
      "+-------+-----------+--------------+\n",
      "|Country|country_Num|Country_Vector|\n",
      "+-------+-----------+--------------+\n",
      "|India  |1.0        |(3,[1],[1.0]) |\n",
      "|Brazil |2.0        |(3,[2],[1.0]) |\n",
      "|Brazil |2.0        |(3,[2],[1.0]) |\n",
      "+-------+-----------+--------------+\n",
      "only showing top 3 rows\n",
      "\n"
     ]
    }
   ],
   "source": [
    "\n",
    "\n",
    "df.select(['Country','country_Num','Country_Vector']).show(3,False)\n",
    "\n"
   ]
  },
  {
   "cell_type": "code",
   "execution_count": 33,
   "metadata": {
    "ExecuteTime": {
     "end_time": "2020-05-25T16:54:10.335060Z",
     "start_time": "2020-05-25T16:54:06.841538Z"
    }
   },
   "outputs": [
    {
     "name": "stdout",
     "output_type": "stream",
     "text": [
      "+-----------+-----+\n",
      "|Country_Num|count|\n",
      "+-----------+-----+\n",
      "|0.0        |12178|\n",
      "|1.0        |4018 |\n",
      "|2.0        |2586 |\n",
      "|3.0        |1218 |\n",
      "+-----------+-----+\n",
      "\n"
     ]
    }
   ],
   "source": [
    "df.groupBy('Country_Num').count().orderBy('count',ascending=False).show(5,False)"
   ]
  },
  {
   "cell_type": "code",
   "execution_count": 34,
   "metadata": {
    "ExecuteTime": {
     "end_time": "2020-05-25T16:54:32.768341Z",
     "start_time": "2020-05-25T16:54:28.322144Z"
    }
   },
   "outputs": [
    {
     "name": "stdout",
     "output_type": "stream",
     "text": [
      "+--------------+-----+\n",
      "|Country_Vector|count|\n",
      "+--------------+-----+\n",
      "|(3,[0],[1.0]) |12178|\n",
      "|(3,[1],[1.0]) |4018 |\n",
      "|(3,[2],[1.0]) |2586 |\n",
      "|(3,[],[])     |1218 |\n",
      "+--------------+-----+\n",
      "\n"
     ]
    }
   ],
   "source": [
    "\n",
    "\n",
    "df.groupBy('Country_Vector').count().orderBy('count',ascending=False).show(5,False)\n",
    "\n"
   ]
  },
  {
   "cell_type": "code",
   "execution_count": 35,
   "metadata": {
    "ExecuteTime": {
     "end_time": "2020-05-25T16:54:41.523233Z",
     "start_time": "2020-05-25T16:54:41.513257Z"
    }
   },
   "outputs": [],
   "source": [
    "from pyspark.ml.feature import VectorAssembler"
   ]
  },
  {
   "cell_type": "code",
   "execution_count": 36,
   "metadata": {
    "ExecuteTime": {
     "end_time": "2020-05-25T16:55:10.177692Z",
     "start_time": "2020-05-25T16:55:09.519451Z"
    }
   },
   "outputs": [
    {
     "name": "stdout",
     "output_type": "stream",
     "text": [
      "+-------+---+--------------+--------+----------------+------+------------+-------------------+-----------+--------------+\n",
      "|Country|Age|Repeat_Visitor|Platform|Web_pages_viewed|Status|Platform_Num|Platform_Num_Vector|Country_Num|Country_Vector|\n",
      "+-------+---+--------------+--------+----------------+------+------------+-------------------+-----------+--------------+\n",
      "|  India| 41|             1|   Yahoo|              21|     1|         0.0|      (2,[0],[1.0])|        1.0| (3,[1],[1.0])|\n",
      "| Brazil| 28|             1|   Yahoo|               5|     0|         0.0|      (2,[0],[1.0])|        2.0| (3,[2],[1.0])|\n",
      "| Brazil| 40|             0|  Google|               3|     0|         1.0|      (2,[1],[1.0])|        2.0| (3,[2],[1.0])|\n",
      "+-------+---+--------------+--------+----------------+------+------------+-------------------+-----------+--------------+\n",
      "only showing top 3 rows\n",
      "\n"
     ]
    }
   ],
   "source": [
    "df.show(3)"
   ]
  },
  {
   "cell_type": "code",
   "execution_count": 38,
   "metadata": {
    "ExecuteTime": {
     "end_time": "2020-05-25T16:56:37.419012Z",
     "start_time": "2020-05-25T16:56:37.140717Z"
    }
   },
   "outputs": [],
   "source": [
    "df_assembler = VectorAssembler(inputCols=['Platform_Num_Vector','Country_Vector',\n",
    "                                          'Age', 'Repeat_Visitor','Web_pages_viewed'], \n",
    "                               outputCol=\"features\")\n",
    "df = df_assembler.transform(df)"
   ]
  },
  {
   "cell_type": "code",
   "execution_count": 39,
   "metadata": {
    "ExecuteTime": {
     "end_time": "2020-05-25T16:56:47.126143Z",
     "start_time": "2020-05-25T16:56:47.114214Z"
    }
   },
   "outputs": [
    {
     "name": "stdout",
     "output_type": "stream",
     "text": [
      "root\n",
      " |-- Country: string (nullable = true)\n",
      " |-- Age: integer (nullable = true)\n",
      " |-- Repeat_Visitor: integer (nullable = true)\n",
      " |-- Platform: string (nullable = true)\n",
      " |-- Web_pages_viewed: integer (nullable = true)\n",
      " |-- Status: integer (nullable = true)\n",
      " |-- Platform_Num: double (nullable = false)\n",
      " |-- Platform_Num_Vector: vector (nullable = true)\n",
      " |-- Country_Num: double (nullable = false)\n",
      " |-- Country_Vector: vector (nullable = true)\n",
      " |-- features: vector (nullable = true)\n",
      "\n"
     ]
    }
   ],
   "source": [
    "\n",
    "\n",
    "df.printSchema()\n",
    "\n"
   ]
  },
  {
   "cell_type": "code",
   "execution_count": 41,
   "metadata": {
    "ExecuteTime": {
     "end_time": "2020-05-25T16:57:04.597611Z",
     "start_time": "2020-05-25T16:57:04.082823Z"
    }
   },
   "outputs": [
    {
     "name": "stdout",
     "output_type": "stream",
     "text": [
      "+-----------------------------------+------+\n",
      "|features                           |Status|\n",
      "+-----------------------------------+------+\n",
      "|[1.0,0.0,0.0,1.0,0.0,41.0,1.0,21.0]|1     |\n",
      "|[1.0,0.0,0.0,0.0,1.0,28.0,1.0,5.0] |0     |\n",
      "|(8,[1,4,5,7],[1.0,1.0,40.0,3.0])   |0     |\n",
      "|(8,[2,5,6,7],[1.0,31.0,1.0,15.0])  |1     |\n",
      "|(8,[1,5,7],[1.0,32.0,15.0])        |1     |\n",
      "|(8,[1,4,5,7],[1.0,1.0,32.0,3.0])   |0     |\n",
      "|(8,[1,4,5,7],[1.0,1.0,32.0,6.0])   |0     |\n",
      "|(8,[1,2,5,7],[1.0,1.0,27.0,9.0])   |0     |\n",
      "|(8,[0,2,5,7],[1.0,1.0,32.0,2.0])   |0     |\n",
      "|(8,[2,5,6,7],[1.0,31.0,1.0,16.0])  |1     |\n",
      "+-----------------------------------+------+\n",
      "only showing top 10 rows\n",
      "\n"
     ]
    }
   ],
   "source": [
    "\n",
    "df.select(['features','Status']).show(10,False)\n",
    "\n"
   ]
  },
  {
   "cell_type": "code",
   "execution_count": 42,
   "metadata": {
    "ExecuteTime": {
     "end_time": "2020-05-25T19:03:32.197616Z",
     "start_time": "2020-05-25T19:03:32.072089Z"
    }
   },
   "outputs": [],
   "source": [
    "#select data for building model\n",
    "model_df=df.select(['features','Status'])"
   ]
  },
  {
   "cell_type": "code",
   "execution_count": 43,
   "metadata": {
    "ExecuteTime": {
     "end_time": "2020-05-25T19:03:42.186979Z",
     "start_time": "2020-05-25T19:03:42.182979Z"
    }
   },
   "outputs": [],
   "source": [
    "from pyspark.ml.classification import LogisticRegression"
   ]
  },
  {
   "cell_type": "code",
   "execution_count": 44,
   "metadata": {
    "ExecuteTime": {
     "end_time": "2020-05-25T19:03:52.536925Z",
     "start_time": "2020-05-25T19:03:52.307771Z"
    }
   },
   "outputs": [],
   "source": [
    "#split the data \n",
    "training_df,test_df=model_df.randomSplit([0.75,0.25])"
   ]
  },
  {
   "cell_type": "code",
   "execution_count": 45,
   "metadata": {
    "ExecuteTime": {
     "end_time": "2020-05-25T19:04:06.584426Z",
     "start_time": "2020-05-25T19:04:04.352286Z"
    }
   },
   "outputs": [
    {
     "data": {
      "text/plain": [
       "14937"
      ]
     },
     "execution_count": 45,
     "metadata": {},
     "output_type": "execute_result"
    }
   ],
   "source": [
    "training_df.count()"
   ]
  },
  {
   "cell_type": "code",
   "execution_count": 46,
   "metadata": {
    "ExecuteTime": {
     "end_time": "2020-05-25T19:04:13.890234Z",
     "start_time": "2020-05-25T19:04:13.162108Z"
    }
   },
   "outputs": [
    {
     "data": {
      "text/plain": [
       "5063"
      ]
     },
     "execution_count": 46,
     "metadata": {},
     "output_type": "execute_result"
    }
   ],
   "source": [
    "test_df.count()"
   ]
  },
  {
   "cell_type": "code",
   "execution_count": 47,
   "metadata": {
    "ExecuteTime": {
     "end_time": "2020-05-25T19:04:27.665198Z",
     "start_time": "2020-05-25T19:04:23.479477Z"
    }
   },
   "outputs": [],
   "source": [
    "log_reg=LogisticRegression(labelCol='Status').fit(training_df)"
   ]
  },
  {
   "cell_type": "code",
   "execution_count": 48,
   "metadata": {
    "ExecuteTime": {
     "end_time": "2020-05-25T19:04:41.000827Z",
     "start_time": "2020-05-25T19:04:40.704621Z"
    }
   },
   "outputs": [],
   "source": [
    "train_results=log_reg.evaluate(training_df).predictions"
   ]
  },
  {
   "cell_type": "code",
   "execution_count": 49,
   "metadata": {
    "ExecuteTime": {
     "end_time": "2020-05-25T19:05:13.456192Z",
     "start_time": "2020-05-25T19:05:12.955529Z"
    }
   },
   "outputs": [
    {
     "name": "stdout",
     "output_type": "stream",
     "text": [
      "+------+----------+----------------------------------------+\n",
      "|Status|prediction|probability                             |\n",
      "+------+----------+----------------------------------------+\n",
      "|1     |1.0       |[0.31049070635400494,0.689509293645995] |\n",
      "|1     |1.0       |[0.17459623190439916,0.8254037680956008]|\n",
      "|1     |1.0       |[0.17459623190439916,0.8254037680956008]|\n",
      "|1     |1.0       |[0.09038303290316324,0.9096169670968368]|\n",
      "|1     |1.0       |[0.09038303290316324,0.9096169670968368]|\n",
      "|1     |1.0       |[0.09038303290316324,0.9096169670968368]|\n",
      "|1     |1.0       |[0.09038303290316324,0.9096169670968368]|\n",
      "|1     |1.0       |[0.09038303290316324,0.9096169670968368]|\n",
      "|1     |1.0       |[0.04459398342158313,0.955406016578417] |\n",
      "|1     |1.0       |[0.04459398342158313,0.955406016578417] |\n",
      "+------+----------+----------------------------------------+\n",
      "only showing top 10 rows\n",
      "\n"
     ]
    }
   ],
   "source": [
    "train_results.filter(train_results['Status']==1).filter(train_results['prediction']==1).select(['Status','prediction','probability']).show(10,False)"
   ]
  },
  {
   "cell_type": "markdown",
   "metadata": {},
   "source": [
    "Probability at 0 index is for 0 class and probabilty as 1 index is for 1 class"
   ]
  },
  {
   "cell_type": "code",
   "execution_count": 50,
   "metadata": {
    "ExecuteTime": {
     "end_time": "2020-05-25T19:05:53.758391Z",
     "start_time": "2020-05-25T19:05:53.224052Z"
    }
   },
   "outputs": [],
   "source": [
    "correct_preds=train_results.filter(train_results['Status']==1).filter(train_results['prediction']==1).count()"
   ]
  },
  {
   "cell_type": "code",
   "execution_count": 51,
   "metadata": {
    "ExecuteTime": {
     "end_time": "2020-05-25T19:06:05.056375Z",
     "start_time": "2020-05-25T19:06:04.628579Z"
    }
   },
   "outputs": [
    {
     "data": {
      "text/plain": [
       "7493"
      ]
     },
     "execution_count": 51,
     "metadata": {},
     "output_type": "execute_result"
    }
   ],
   "source": [
    "training_df.filter(training_df['Status']==1).count()"
   ]
  },
  {
   "cell_type": "code",
   "execution_count": 52,
   "metadata": {
    "ExecuteTime": {
     "end_time": "2020-05-25T19:06:21.417248Z",
     "start_time": "2020-05-25T19:06:21.012297Z"
    }
   },
   "outputs": [
    {
     "data": {
      "text/plain": [
       "0.9376751634859202"
      ]
     },
     "execution_count": 52,
     "metadata": {},
     "output_type": "execute_result"
    }
   ],
   "source": [
    "#accuracy on training dataset \n",
    "float(correct_preds)/(training_df.filter(training_df['Status']==1).count())"
   ]
  },
  {
   "cell_type": "code",
   "execution_count": 53,
   "metadata": {
    "ExecuteTime": {
     "end_time": "2020-05-25T19:06:42.067826Z",
     "start_time": "2020-05-25T19:06:41.372914Z"
    }
   },
   "outputs": [
    {
     "name": "stdout",
     "output_type": "stream",
     "text": [
      "+------+----------+\n",
      "|Status|prediction|\n",
      "+------+----------+\n",
      "|0     |0.0       |\n",
      "|0     |0.0       |\n",
      "|0     |0.0       |\n",
      "|0     |0.0       |\n",
      "|0     |0.0       |\n",
      "|0     |0.0       |\n",
      "|0     |0.0       |\n",
      "|1     |0.0       |\n",
      "|1     |0.0       |\n",
      "|0     |1.0       |\n",
      "+------+----------+\n",
      "only showing top 10 rows\n",
      "\n"
     ]
    }
   ],
   "source": [
    "results=log_reg.evaluate(test_df).predictions\n",
    "results.select(['Status','prediction']).show(10,False)"
   ]
  },
  {
   "cell_type": "code",
   "execution_count": 54,
   "metadata": {
    "ExecuteTime": {
     "end_time": "2020-05-25T19:06:56.829097Z",
     "start_time": "2020-05-25T19:06:56.821117Z"
    }
   },
   "outputs": [
    {
     "name": "stdout",
     "output_type": "stream",
     "text": [
      "root\n",
      " |-- features: vector (nullable = true)\n",
      " |-- Status: integer (nullable = true)\n",
      " |-- rawPrediction: vector (nullable = true)\n",
      " |-- probability: vector (nullable = true)\n",
      " |-- prediction: double (nullable = false)\n",
      "\n"
     ]
    }
   ],
   "source": [
    "results.printSchema()"
   ]
  },
  {
   "cell_type": "code",
   "execution_count": 55,
   "metadata": {
    "ExecuteTime": {
     "end_time": "2020-05-25T19:07:15.574222Z",
     "start_time": "2020-05-25T19:07:15.569249Z"
    }
   },
   "outputs": [],
   "source": [
    "from pyspark.ml.evaluation import BinaryClassificationEvaluator"
   ]
  },
  {
   "cell_type": "code",
   "execution_count": 56,
   "metadata": {
    "ExecuteTime": {
     "end_time": "2020-05-25T19:07:40.263594Z",
     "start_time": "2020-05-25T19:07:38.508665Z"
    }
   },
   "outputs": [],
   "source": [
    "#confusion matrix\n",
    "true_postives = results[(results.Status == 1) & (results.prediction == 1)].count()\n",
    "true_negatives = results[(results.Status == 0) & (results.prediction == 0)].count()\n",
    "false_positives = results[(results.Status == 0) & (results.prediction == 1)].count()\n",
    "false_negatives = results[(results.Status == 1) & (results.prediction == 0)].count()"
   ]
  },
  {
   "cell_type": "code",
   "execution_count": 57,
   "metadata": {
    "ExecuteTime": {
     "end_time": "2020-05-25T19:08:01.673838Z",
     "start_time": "2020-05-25T19:08:01.326192Z"
    }
   },
   "outputs": [
    {
     "name": "stdout",
     "output_type": "stream",
     "text": [
      "2349\n",
      "2407\n",
      "149\n",
      "158\n",
      "5063\n",
      "5063\n"
     ]
    }
   ],
   "source": [
    "print (true_postives)\n",
    "print (true_negatives)\n",
    "print (false_positives)\n",
    "print (false_negatives)\n",
    "print(true_postives+true_negatives+false_positives+false_negatives)\n",
    "print (results.count())"
   ]
  },
  {
   "cell_type": "code",
   "execution_count": 58,
   "metadata": {
    "ExecuteTime": {
     "end_time": "2020-05-25T19:08:28.505855Z",
     "start_time": "2020-05-25T19:08:28.501865Z"
    }
   },
   "outputs": [
    {
     "name": "stdout",
     "output_type": "stream",
     "text": [
      "0.9369764658954927\n"
     ]
    }
   ],
   "source": [
    "\n",
    "\n",
    "recall = float(true_postives)/(true_postives + false_negatives)\n",
    "print(recall)\n",
    "\n"
   ]
  },
  {
   "cell_type": "code",
   "execution_count": 59,
   "metadata": {
    "ExecuteTime": {
     "end_time": "2020-05-25T19:08:30.532260Z",
     "start_time": "2020-05-25T19:08:30.526290Z"
    }
   },
   "outputs": [
    {
     "name": "stdout",
     "output_type": "stream",
     "text": [
      "0.9403522818254604\n"
     ]
    }
   ],
   "source": [
    "precision = float(true_postives) / (true_postives + false_positives)\n",
    "print(precision)"
   ]
  },
  {
   "cell_type": "code",
   "execution_count": 60,
   "metadata": {
    "ExecuteTime": {
     "end_time": "2020-05-25T19:08:38.098531Z",
     "start_time": "2020-05-25T19:08:37.761796Z"
    }
   },
   "outputs": [
    {
     "name": "stdout",
     "output_type": "stream",
     "text": [
      "0.9393640134307722\n"
     ]
    }
   ],
   "source": [
    "accuracy=float((true_postives+true_negatives) /(results.count()))\n",
    "print(accuracy)"
   ]
  },
  {
   "cell_type": "code",
   "execution_count": null,
   "metadata": {},
   "outputs": [],
   "source": []
  }
 ],
 "metadata": {
  "kernelspec": {
   "display_name": "Python 3",
   "language": "python",
   "name": "python3"
  },
  "language_info": {
   "codemirror_mode": {
    "name": "ipython",
    "version": 3
   },
   "file_extension": ".py",
   "mimetype": "text/x-python",
   "name": "python",
   "nbconvert_exporter": "python",
   "pygments_lexer": "ipython3",
   "version": "3.6.6"
  }
 },
 "nbformat": 4,
 "nbformat_minor": 2
}
