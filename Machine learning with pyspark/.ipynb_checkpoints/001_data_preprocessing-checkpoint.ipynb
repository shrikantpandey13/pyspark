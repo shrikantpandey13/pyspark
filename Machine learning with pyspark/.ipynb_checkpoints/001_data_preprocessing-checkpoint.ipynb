{
 "cells": [
  {
   "cell_type": "code",
   "execution_count": 38,
   "metadata": {
    "colab": {
     "base_uri": "https://localhost:8080/",
     "height": 1000
    },
    "colab_type": "code",
    "id": "EM2G7A6gM352",
    "outputId": "263c3cad-c6da-4f20-949d-ebd1bf96f2cd"
   },
   "outputs": [
    {
     "name": "stdout",
     "output_type": "stream",
     "text": [
      "spark-3.0.0-preview2-bin-hadoop3.2/\n",
      "spark-3.0.0-preview2-bin-hadoop3.2/data/\n",
      "spark-3.0.0-preview2-bin-hadoop3.2/data/streaming/\n",
      "spark-3.0.0-preview2-bin-hadoop3.2/data/streaming/AFINN-111.txt\n",
      "spark-3.0.0-preview2-bin-hadoop3.2/data/mllib/\n",
      "spark-3.0.0-preview2-bin-hadoop3.2/data/mllib/sample_binary_classification_data.txt\n",
      "spark-3.0.0-preview2-bin-hadoop3.2/data/mllib/sample_kmeans_data.txt\n",
      "spark-3.0.0-preview2-bin-hadoop3.2/data/mllib/sample_multiclass_classification_data.txt\n",
      "spark-3.0.0-preview2-bin-hadoop3.2/data/mllib/sample_lda_libsvm_data.txt\n",
      "spark-3.0.0-preview2-bin-hadoop3.2/data/mllib/iris_libsvm.txt\n",
      "spark-3.0.0-preview2-bin-hadoop3.2/data/mllib/pagerank_data.txt\n",
      "spark-3.0.0-preview2-bin-hadoop3.2/data/mllib/sample_linear_regression_data.txt\n",
      "spark-3.0.0-preview2-bin-hadoop3.2/data/mllib/pic_data.txt\n",
      "spark-3.0.0-preview2-bin-hadoop3.2/data/mllib/als/\n",
      "spark-3.0.0-preview2-bin-hadoop3.2/data/mllib/als/test.data\n",
      "spark-3.0.0-preview2-bin-hadoop3.2/data/mllib/als/sample_movielens_ratings.txt\n",
      "spark-3.0.0-preview2-bin-hadoop3.2/data/mllib/ridge-data/\n",
      "spark-3.0.0-preview2-bin-hadoop3.2/data/mllib/ridge-data/lpsa.data\n",
      "spark-3.0.0-preview2-bin-hadoop3.2/data/mllib/sample_movielens_data.txt\n",
      "spark-3.0.0-preview2-bin-hadoop3.2/data/mllib/sample_isotonic_regression_libsvm_data.txt\n",
      "spark-3.0.0-preview2-bin-hadoop3.2/data/mllib/sample_svm_data.txt\n",
      "spark-3.0.0-preview2-bin-hadoop3.2/data/mllib/kmeans_data.txt\n",
      "spark-3.0.0-preview2-bin-hadoop3.2/data/mllib/sample_libsvm_data.txt\n",
      "spark-3.0.0-preview2-bin-hadoop3.2/data/mllib/images/\n",
      "spark-3.0.0-preview2-bin-hadoop3.2/data/mllib/images/origin/\n",
      "spark-3.0.0-preview2-bin-hadoop3.2/data/mllib/images/origin/multi-channel/\n",
      "spark-3.0.0-preview2-bin-hadoop3.2/data/mllib/images/origin/multi-channel/grayscale.jpg\n",
      "spark-3.0.0-preview2-bin-hadoop3.2/data/mllib/images/origin/multi-channel/BGRA.png\n",
      "spark-3.0.0-preview2-bin-hadoop3.2/data/mllib/images/origin/multi-channel/chr30.4.184.jpg\n",
      "spark-3.0.0-preview2-bin-hadoop3.2/data/mllib/images/origin/multi-channel/BGRA_alpha_60.png\n",
      "spark-3.0.0-preview2-bin-hadoop3.2/data/mllib/images/origin/kittens/\n",
      "spark-3.0.0-preview2-bin-hadoop3.2/data/mllib/images/origin/kittens/not-image.txt\n",
      "spark-3.0.0-preview2-bin-hadoop3.2/data/mllib/images/origin/kittens/54893.jpg\n",
      "spark-3.0.0-preview2-bin-hadoop3.2/data/mllib/images/origin/kittens/DP153539.jpg\n",
      "spark-3.0.0-preview2-bin-hadoop3.2/data/mllib/images/origin/kittens/29.5.a_b_EGDP022204.jpg\n",
      "spark-3.0.0-preview2-bin-hadoop3.2/data/mllib/images/origin/kittens/DP802813.jpg\n",
      "spark-3.0.0-preview2-bin-hadoop3.2/data/mllib/images/origin/license.txt\n",
      "spark-3.0.0-preview2-bin-hadoop3.2/data/mllib/images/partitioned/\n",
      "spark-3.0.0-preview2-bin-hadoop3.2/data/mllib/images/partitioned/cls=multichannel/\n",
      "spark-3.0.0-preview2-bin-hadoop3.2/data/mllib/images/partitioned/cls=multichannel/date=2018-01/\n",
      "spark-3.0.0-preview2-bin-hadoop3.2/data/mllib/images/partitioned/cls=multichannel/date=2018-01/BGRA.png\n",
      "spark-3.0.0-preview2-bin-hadoop3.2/data/mllib/images/partitioned/cls=multichannel/date=2018-01/BGRA_alpha_60.png\n",
      "spark-3.0.0-preview2-bin-hadoop3.2/data/mllib/images/partitioned/cls=multichannel/date=2018-02/\n",
      "spark-3.0.0-preview2-bin-hadoop3.2/data/mllib/images/partitioned/cls=multichannel/date=2018-02/grayscale.jpg\n",
      "spark-3.0.0-preview2-bin-hadoop3.2/data/mllib/images/partitioned/cls=multichannel/date=2018-02/chr30.4.184.jpg\n",
      "spark-3.0.0-preview2-bin-hadoop3.2/data/mllib/images/partitioned/cls=kittens/\n",
      "spark-3.0.0-preview2-bin-hadoop3.2/data/mllib/images/partitioned/cls=kittens/date=2018-01/\n",
      "spark-3.0.0-preview2-bin-hadoop3.2/data/mllib/images/partitioned/cls=kittens/date=2018-01/not-image.txt\n",
      "spark-3.0.0-preview2-bin-hadoop3.2/data/mllib/images/partitioned/cls=kittens/date=2018-01/29.5.a_b_EGDP022204.jpg\n",
      "spark-3.0.0-preview2-bin-hadoop3.2/data/mllib/images/partitioned/cls=kittens/date=2018-02/\n",
      "spark-3.0.0-preview2-bin-hadoop3.2/data/mllib/images/partitioned/cls=kittens/date=2018-02/54893.jpg\n",
      "spark-3.0.0-preview2-bin-hadoop3.2/data/mllib/images/partitioned/cls=kittens/date=2018-02/DP153539.jpg\n",
      "spark-3.0.0-preview2-bin-hadoop3.2/data/mllib/images/partitioned/cls=kittens/date=2018-02/DP802813.jpg\n",
      "spark-3.0.0-preview2-bin-hadoop3.2/data/mllib/images/license.txt\n",
      "spark-3.0.0-preview2-bin-hadoop3.2/data/mllib/streaming_kmeans_data_test.txt\n",
      "spark-3.0.0-preview2-bin-hadoop3.2/data/mllib/sample_lda_data.txt\n",
      "spark-3.0.0-preview2-bin-hadoop3.2/data/mllib/gmm_data.txt\n",
      "spark-3.0.0-preview2-bin-hadoop3.2/data/mllib/sample_fpgrowth.txt\n",
      "spark-3.0.0-preview2-bin-hadoop3.2/data/graphx/\n",
      "spark-3.0.0-preview2-bin-hadoop3.2/data/graphx/followers.txt\n",
      "spark-3.0.0-preview2-bin-hadoop3.2/data/graphx/users.txt\n",
      "spark-3.0.0-preview2-bin-hadoop3.2/licenses/\n",
      "spark-3.0.0-preview2-bin-hadoop3.2/licenses/LICENSE-javassist.html\n",
      "spark-3.0.0-preview2-bin-hadoop3.2/licenses/LICENSE-protobuf.txt\n",
      "spark-3.0.0-preview2-bin-hadoop3.2/licenses/LICENSE-jakarta.xml.bind-api.txt\n",
      "spark-3.0.0-preview2-bin-hadoop3.2/licenses/LICENSE-dnsjava.txt\n",
      "spark-3.0.0-preview2-bin-hadoop3.2/licenses/LICENSE-CC0.txt\n",
      "spark-3.0.0-preview2-bin-hadoop3.2/licenses/LICENSE-leveldbjni.txt\n",
      "spark-3.0.0-preview2-bin-hadoop3.2/licenses/LICENSE-jakarta-ws-rs-api\n",
      "spark-3.0.0-preview2-bin-hadoop3.2/licenses/LICENSE-re2j.txt\n",
      "spark-3.0.0-preview2-bin-hadoop3.2/licenses/LICENSE-vis.txt\n",
      "spark-3.0.0-preview2-bin-hadoop3.2/licenses/LICENSE-d3.min.js.txt\n",
      "spark-3.0.0-preview2-bin-hadoop3.2/licenses/LICENSE-dagre-d3.txt\n",
      "spark-3.0.0-preview2-bin-hadoop3.2/licenses/LICENSE-jaxb-runtime.txt\n",
      "spark-3.0.0-preview2-bin-hadoop3.2/licenses/LICENSE-matchMedia-polyfill.txt\n",
      "spark-3.0.0-preview2-bin-hadoop3.2/licenses/LICENSE-mustache.txt\n",
      "spark-3.0.0-preview2-bin-hadoop3.2/licenses/LICENSE-arpack.txt\n",
      "spark-3.0.0-preview2-bin-hadoop3.2/licenses/LICENSE-pmml-model.txt\n",
      "spark-3.0.0-preview2-bin-hadoop3.2/licenses/LICENSE-sorttable.js.txt\n",
      "spark-3.0.0-preview2-bin-hadoop3.2/licenses/LICENSE-pyrolite.txt\n",
      "spark-3.0.0-preview2-bin-hadoop3.2/licenses/LICENSE-javolution.txt\n",
      "spark-3.0.0-preview2-bin-hadoop3.2/licenses/LICENSE-javax-transaction-transaction-api.txt\n",
      "spark-3.0.0-preview2-bin-hadoop3.2/licenses/LICENSE-JTransforms.txt\n",
      "spark-3.0.0-preview2-bin-hadoop3.2/licenses/LICENSE-join.txt\n",
      "spark-3.0.0-preview2-bin-hadoop3.2/licenses/LICENSE-machinist.txt\n",
      "spark-3.0.0-preview2-bin-hadoop3.2/licenses/LICENSE-py4j.txt\n",
      "spark-3.0.0-preview2-bin-hadoop3.2/licenses/LICENSE-slf4j.txt\n",
      "spark-3.0.0-preview2-bin-hadoop3.2/licenses/LICENSE-AnchorJS.txt\n",
      "spark-3.0.0-preview2-bin-hadoop3.2/licenses/LICENSE-heapq.txt\n",
      "spark-3.0.0-preview2-bin-hadoop3.2/licenses/LICENSE-istack-commons-runtime.txt\n",
      "spark-3.0.0-preview2-bin-hadoop3.2/licenses/LICENSE-scopt.txt\n",
      "spark-3.0.0-preview2-bin-hadoop3.2/licenses/LICENSE-scala.txt\n",
      "spark-3.0.0-preview2-bin-hadoop3.2/licenses/LICENSE-jakarta.activation-api.txt\n",
      "spark-3.0.0-preview2-bin-hadoop3.2/licenses/LICENSE-netlib.txt\n",
      "spark-3.0.0-preview2-bin-hadoop3.2/licenses/LICENSE-json-formatter.txt\n",
      "spark-3.0.0-preview2-bin-hadoop3.2/licenses/LICENSE-jline.txt\n",
      "spark-3.0.0-preview2-bin-hadoop3.2/licenses/LICENSE-jquery.txt\n",
      "spark-3.0.0-preview2-bin-hadoop3.2/licenses/LICENSE-modernizr.txt\n",
      "spark-3.0.0-preview2-bin-hadoop3.2/licenses/LICENSE-jodd.txt\n",
      "spark-3.0.0-preview2-bin-hadoop3.2/licenses/LICENSE-jakarta-annotation-api\n",
      "spark-3.0.0-preview2-bin-hadoop3.2/licenses/LICENSE-automaton.txt\n",
      "spark-3.0.0-preview2-bin-hadoop3.2/licenses/LICENSE-minlog.txt\n",
      "spark-3.0.0-preview2-bin-hadoop3.2/licenses/LICENSE-zstd-jni.txt\n",
      "spark-3.0.0-preview2-bin-hadoop3.2/licenses/LICENSE-antlr.txt\n",
      "spark-3.0.0-preview2-bin-hadoop3.2/licenses/LICENSE-spire.txt\n",
      "spark-3.0.0-preview2-bin-hadoop3.2/licenses/LICENSE-graphlib-dot.txt\n",
      "spark-3.0.0-preview2-bin-hadoop3.2/licenses/LICENSE-f2j.txt\n",
      "spark-3.0.0-preview2-bin-hadoop3.2/licenses/LICENSE-cloudpickle.txt\n",
      "spark-3.0.0-preview2-bin-hadoop3.2/licenses/LICENSE-reflectasm.txt\n",
      "spark-3.0.0-preview2-bin-hadoop3.2/licenses/LICENSE-janino.txt\n",
      "spark-3.0.0-preview2-bin-hadoop3.2/licenses/LICENSE-sbt-launch-lib.txt\n",
      "spark-3.0.0-preview2-bin-hadoop3.2/licenses/LICENSE-zstd.txt\n",
      "spark-3.0.0-preview2-bin-hadoop3.2/licenses/LICENSE-paranamer.txt\n",
      "spark-3.0.0-preview2-bin-hadoop3.2/licenses/LICENSE-datatables.txt\n",
      "spark-3.0.0-preview2-bin-hadoop3.2/licenses/LICENSE-jsp-api.txt\n",
      "spark-3.0.0-preview2-bin-hadoop3.2/licenses/LICENSE-bootstrap.txt\n",
      "spark-3.0.0-preview2-bin-hadoop3.2/licenses/LICENSE-JLargeArrays.txt\n",
      "spark-3.0.0-preview2-bin-hadoop3.2/licenses/LICENSE-kryo.txt\n",
      "spark-3.0.0-preview2-bin-hadoop3.2/licenses/LICENSE-xmlenc.txt\n",
      "spark-3.0.0-preview2-bin-hadoop3.2/licenses/LICENSE-respond.txt\n",
      "spark-3.0.0-preview2-bin-hadoop3.2/examples/\n",
      "spark-3.0.0-preview2-bin-hadoop3.2/examples/jars/\n",
      "spark-3.0.0-preview2-bin-hadoop3.2/examples/jars/spark-examples_2.12-3.0.0-preview2.jar\n",
      "spark-3.0.0-preview2-bin-hadoop3.2/examples/jars/scopt_2.12-3.7.1.jar\n",
      "spark-3.0.0-preview2-bin-hadoop3.2/examples/src/\n",
      "spark-3.0.0-preview2-bin-hadoop3.2/examples/src/main/\n",
      "spark-3.0.0-preview2-bin-hadoop3.2/examples/src/main/resources/\n",
      "spark-3.0.0-preview2-bin-hadoop3.2/examples/src/main/resources/users.orc\n",
      "spark-3.0.0-preview2-bin-hadoop3.2/examples/src/main/resources/people.txt\n",
      "spark-3.0.0-preview2-bin-hadoop3.2/examples/src/main/resources/employees.json\n",
      "spark-3.0.0-preview2-bin-hadoop3.2/examples/src/main/resources/people.json\n",
      "spark-3.0.0-preview2-bin-hadoop3.2/examples/src/main/resources/people.csv\n",
      "spark-3.0.0-preview2-bin-hadoop3.2/examples/src/main/resources/users.parquet\n",
      "spark-3.0.0-preview2-bin-hadoop3.2/examples/src/main/resources/kv1.txt\n",
      "spark-3.0.0-preview2-bin-hadoop3.2/examples/src/main/resources/partitioned_users.orc/\n",
      "spark-3.0.0-preview2-bin-hadoop3.2/examples/src/main/resources/partitioned_users.orc/favorite_color=red/\n",
      "spark-3.0.0-preview2-bin-hadoop3.2/examples/src/main/resources/partitioned_users.orc/favorite_color=red/users.orc\n",
      "spark-3.0.0-preview2-bin-hadoop3.2/examples/src/main/resources/partitioned_users.orc/favorite_color=__HIVE_DEFAULT_PARTITION__/\n",
      "spark-3.0.0-preview2-bin-hadoop3.2/examples/src/main/resources/partitioned_users.orc/favorite_color=__HIVE_DEFAULT_PARTITION__/users.orc\n",
      "spark-3.0.0-preview2-bin-hadoop3.2/examples/src/main/resources/partitioned_users.orc/do_not_read_this.txt\n",
      "spark-3.0.0-preview2-bin-hadoop3.2/examples/src/main/resources/full_user.avsc\n",
      "spark-3.0.0-preview2-bin-hadoop3.2/examples/src/main/resources/user.avsc\n",
      "spark-3.0.0-preview2-bin-hadoop3.2/examples/src/main/resources/users.avro\n",
      "spark-3.0.0-preview2-bin-hadoop3.2/examples/src/main/scripts/\n",
      "spark-3.0.0-preview2-bin-hadoop3.2/examples/src/main/scripts/getGpusResources.sh\n",
      "spark-3.0.0-preview2-bin-hadoop3.2/examples/src/main/java/\n",
      "spark-3.0.0-preview2-bin-hadoop3.2/examples/src/main/java/org/\n",
      "spark-3.0.0-preview2-bin-hadoop3.2/examples/src/main/java/org/apache/\n",
      "spark-3.0.0-preview2-bin-hadoop3.2/examples/src/main/java/org/apache/spark/\n",
      "spark-3.0.0-preview2-bin-hadoop3.2/examples/src/main/java/org/apache/spark/examples/\n",
      "spark-3.0.0-preview2-bin-hadoop3.2/examples/src/main/java/org/apache/spark/examples/ml/\n",
      "spark-3.0.0-preview2-bin-hadoop3.2/examples/src/main/java/org/apache/spark/examples/ml/JavaKMeansExample.java\n",
      "spark-3.0.0-preview2-bin-hadoop3.2/examples/src/main/java/org/apache/spark/examples/ml/JavaCorrelationExample.java\n",
      "spark-3.0.0-preview2-bin-hadoop3.2/examples/src/main/java/org/apache/spark/examples/ml/JavaModelSelectionViaTrainValidationSplitExample.java\n",
      "spark-3.0.0-preview2-bin-hadoop3.2/examples/src/main/java/org/apache/spark/examples/ml/JavaPrefixSpanExample.java\n",
      "spark-3.0.0-preview2-bin-hadoop3.2/examples/src/main/java/org/apache/spark/examples/ml/JavaVectorSizeHintExample.java\n",
      "spark-3.0.0-preview2-bin-hadoop3.2/examples/src/main/java/org/apache/spark/examples/ml/JavaOneHotEncoderExample.java\n",
      "spark-3.0.0-preview2-bin-hadoop3.2/examples/src/main/java/org/apache/spark/examples/ml/JavaQuantileDiscretizerExample.java\n",
      "spark-3.0.0-preview2-bin-hadoop3.2/examples/src/main/java/org/apache/spark/examples/ml/JavaElementwiseProductExample.java\n",
      "spark-3.0.0-preview2-bin-hadoop3.2/examples/src/main/java/org/apache/spark/examples/ml/JavaBucketedRandomProjectionLSHExample.java\n",
      "spark-3.0.0-preview2-bin-hadoop3.2/examples/src/main/java/org/apache/spark/examples/ml/JavaGradientBoostedTreeRegressorExample.java\n",
      "spark-3.0.0-preview2-bin-hadoop3.2/examples/src/main/java/org/apache/spark/examples/ml/JavaCountVectorizerExample.java\n",
      "spark-3.0.0-preview2-bin-hadoop3.2/examples/src/main/java/org/apache/spark/examples/ml/JavaInteractionExample.java\n",
      "spark-3.0.0-preview2-bin-hadoop3.2/examples/src/main/java/org/apache/spark/examples/ml/JavaRandomForestClassifierExample.java\n",
      "spark-3.0.0-preview2-bin-hadoop3.2/examples/src/main/java/org/apache/spark/examples/ml/JavaDocument.java\n",
      "spark-3.0.0-preview2-bin-hadoop3.2/examples/src/main/java/org/apache/spark/examples/ml/JavaOneVsRestExample.java\n",
      "spark-3.0.0-preview2-bin-hadoop3.2/examples/src/main/java/org/apache/spark/examples/ml/JavaBucketizerExample.java\n",
      "spark-3.0.0-preview2-bin-hadoop3.2/examples/src/main/java/org/apache/spark/examples/ml/JavaLogisticRegressionSummaryExample.java\n",
      "spark-3.0.0-preview2-bin-hadoop3.2/examples/src/main/java/org/apache/spark/examples/ml/JavaRandomForestRegressorExample.java\n",
      "spark-3.0.0-preview2-bin-hadoop3.2/examples/src/main/java/org/apache/spark/examples/ml/JavaLinearRegressionWithElasticNetExample.java\n",
      "spark-3.0.0-preview2-bin-hadoop3.2/examples/src/main/java/org/apache/spark/examples/ml/JavaVectorAssemblerExample.java\n",
      "spark-3.0.0-preview2-bin-hadoop3.2/examples/src/main/java/org/apache/spark/examples/ml/JavaDecisionTreeClassificationExample.java\n",
      "spark-3.0.0-preview2-bin-hadoop3.2/examples/src/main/java/org/apache/spark/examples/ml/JavaMinMaxScalerExample.java\n",
      "spark-3.0.0-preview2-bin-hadoop3.2/examples/src/main/java/org/apache/spark/examples/ml/JavaMultilayerPerceptronClassifierExample.java\n",
      "spark-3.0.0-preview2-bin-hadoop3.2/examples/src/main/java/org/apache/spark/examples/ml/JavaMulticlassLogisticRegressionWithElasticNetExample.java\n",
      "spark-3.0.0-preview2-bin-hadoop3.2/examples/src/main/java/org/apache/spark/examples/ml/JavaWord2VecExample.java\n",
      "spark-3.0.0-preview2-bin-hadoop3.2/examples/src/main/java/org/apache/spark/examples/ml/JavaRFormulaExample.java\n",
      "spark-3.0.0-preview2-bin-hadoop3.2/examples/src/main/java/org/apache/spark/examples/ml/JavaGaussianMixtureExample.java\n",
      "spark-3.0.0-preview2-bin-hadoop3.2/examples/src/main/java/org/apache/spark/examples/ml/JavaGeneralizedLinearRegressionExample.java\n",
      "spark-3.0.0-preview2-bin-hadoop3.2/examples/src/main/java/org/apache/spark/examples/ml/JavaChiSquareTestExample.java\n",
      "spark-3.0.0-preview2-bin-hadoop3.2/examples/src/main/java/org/apache/spark/examples/ml/JavaMaxAbsScalerExample.java\n",
      "spark-3.0.0-preview2-bin-hadoop3.2/examples/src/main/java/org/apache/spark/examples/ml/JavaModelSelectionViaCrossValidationExample.java\n",
      "spark-3.0.0-preview2-bin-hadoop3.2/examples/src/main/java/org/apache/spark/examples/ml/JavaRobustScalerExample.java\n",
      "spark-3.0.0-preview2-bin-hadoop3.2/examples/src/main/java/org/apache/spark/examples/ml/JavaSQLTransformerExample.java\n",
      "spark-3.0.0-preview2-bin-hadoop3.2/examples/src/main/java/org/apache/spark/examples/ml/JavaBinarizerExample.java\n",
      "spark-3.0.0-preview2-bin-hadoop3.2/examples/src/main/java/org/apache/spark/examples/ml/JavaLDAExample.java\n",
      "spark-3.0.0-preview2-bin-hadoop3.2/examples/src/main/java/org/apache/spark/examples/ml/JavaTokenizerExample.java\n",
      "spark-3.0.0-preview2-bin-hadoop3.2/examples/src/main/java/org/apache/spark/examples/ml/JavaFPGrowthExample.java\n",
      "spark-3.0.0-preview2-bin-hadoop3.2/examples/src/main/java/org/apache/spark/examples/ml/JavaChiSqSelectorExample.java\n",
      "spark-3.0.0-preview2-bin-hadoop3.2/examples/src/main/java/org/apache/spark/examples/ml/JavaTfIdfExample.java\n",
      "spark-3.0.0-preview2-bin-hadoop3.2/examples/src/main/java/org/apache/spark/examples/ml/JavaPolynomialExpansionExample.java\n",
      "spark-3.0.0-preview2-bin-hadoop3.2/examples/src/main/java/org/apache/spark/examples/ml/JavaALSExample.java\n",
      "spark-3.0.0-preview2-bin-hadoop3.2/examples/src/main/java/org/apache/spark/examples/ml/JavaStandardScalerExample.java\n",
      "spark-3.0.0-preview2-bin-hadoop3.2/examples/src/main/java/org/apache/spark/examples/ml/JavaPipelineExample.java\n",
      "spark-3.0.0-preview2-bin-hadoop3.2/examples/src/main/java/org/apache/spark/examples/ml/JavaPCAExample.java\n",
      "spark-3.0.0-preview2-bin-hadoop3.2/examples/src/main/java/org/apache/spark/examples/ml/JavaDecisionTreeRegressionExample.java\n",
      "spark-3.0.0-preview2-bin-hadoop3.2/examples/src/main/java/org/apache/spark/examples/ml/JavaLabeledDocument.java\n",
      "spark-3.0.0-preview2-bin-hadoop3.2/examples/src/main/java/org/apache/spark/examples/ml/JavaNaiveBayesExample.java\n",
      "spark-3.0.0-preview2-bin-hadoop3.2/examples/src/main/java/org/apache/spark/examples/ml/JavaBisectingKMeansExample.java\n",
      "spark-3.0.0-preview2-bin-hadoop3.2/examples/src/main/java/org/apache/spark/examples/ml/JavaMinHashLSHExample.java\n",
      "spark-3.0.0-preview2-bin-hadoop3.2/examples/src/main/java/org/apache/spark/examples/ml/JavaSummarizerExample.java\n",
      "spark-3.0.0-preview2-bin-hadoop3.2/examples/src/main/java/org/apache/spark/examples/ml/JavaNormalizerExample.java\n",
      "spark-3.0.0-preview2-bin-hadoop3.2/examples/src/main/java/org/apache/spark/examples/ml/JavaLinearSVCExample.java\n",
      "spark-3.0.0-preview2-bin-hadoop3.2/examples/src/main/java/org/apache/spark/examples/ml/JavaStringIndexerExample.java\n",
      "spark-3.0.0-preview2-bin-hadoop3.2/examples/src/main/java/org/apache/spark/examples/ml/JavaImputerExample.java\n",
      "spark-3.0.0-preview2-bin-hadoop3.2/examples/src/main/java/org/apache/spark/examples/ml/JavaVectorSlicerExample.java\n",
      "spark-3.0.0-preview2-bin-hadoop3.2/examples/src/main/java/org/apache/spark/examples/ml/JavaFeatureHasherExample.java\n",
      "spark-3.0.0-preview2-bin-hadoop3.2/examples/src/main/java/org/apache/spark/examples/ml/JavaVectorIndexerExample.java\n",
      "spark-3.0.0-preview2-bin-hadoop3.2/examples/src/main/java/org/apache/spark/examples/ml/JavaIsotonicRegressionExample.java\n",
      "spark-3.0.0-preview2-bin-hadoop3.2/examples/src/main/java/org/apache/spark/examples/ml/JavaPowerIterationClusteringExample.java\n",
      "spark-3.0.0-preview2-bin-hadoop3.2/examples/src/main/java/org/apache/spark/examples/ml/JavaLogisticRegressionWithElasticNetExample.java\n",
      "spark-3.0.0-preview2-bin-hadoop3.2/examples/src/main/java/org/apache/spark/examples/ml/JavaGradientBoostedTreeClassifierExample.java\n",
      "spark-3.0.0-preview2-bin-hadoop3.2/examples/src/main/java/org/apache/spark/examples/ml/JavaIndexToStringExample.java\n",
      "spark-3.0.0-preview2-bin-hadoop3.2/examples/src/main/java/org/apache/spark/examples/ml/JavaEstimatorTransformerParamExample.java\n",
      "spark-3.0.0-preview2-bin-hadoop3.2/examples/src/main/java/org/apache/spark/examples/ml/JavaNGramExample.java\n",
      "spark-3.0.0-preview2-bin-hadoop3.2/examples/src/main/java/org/apache/spark/examples/ml/JavaStopWordsRemoverExample.java\n",
      "spark-3.0.0-preview2-bin-hadoop3.2/examples/src/main/java/org/apache/spark/examples/ml/JavaDCTExample.java\n",
      "spark-3.0.0-preview2-bin-hadoop3.2/examples/src/main/java/org/apache/spark/examples/ml/JavaAFTSurvivalRegressionExample.java\n",
      "spark-3.0.0-preview2-bin-hadoop3.2/examples/src/main/java/org/apache/spark/examples/JavaLogQuery.java\n",
      "spark-3.0.0-preview2-bin-hadoop3.2/examples/src/main/java/org/apache/spark/examples/streaming/\n",
      "spark-3.0.0-preview2-bin-hadoop3.2/examples/src/main/java/org/apache/spark/examples/streaming/JavaNetworkWordCount.java\n",
      "spark-3.0.0-preview2-bin-hadoop3.2/examples/src/main/java/org/apache/spark/examples/streaming/JavaRecoverableNetworkWordCount.java\n",
      "spark-3.0.0-preview2-bin-hadoop3.2/examples/src/main/java/org/apache/spark/examples/streaming/JavaDirectKerberizedKafkaWordCount.java\n",
      "spark-3.0.0-preview2-bin-hadoop3.2/examples/src/main/java/org/apache/spark/examples/streaming/JavaRecord.java\n",
      "spark-3.0.0-preview2-bin-hadoop3.2/examples/src/main/java/org/apache/spark/examples/streaming/JavaDirectKafkaWordCount.java\n",
      "spark-3.0.0-preview2-bin-hadoop3.2/examples/src/main/java/org/apache/spark/examples/streaming/JavaStatefulNetworkWordCount.java\n",
      "spark-3.0.0-preview2-bin-hadoop3.2/examples/src/main/java/org/apache/spark/examples/streaming/JavaCustomReceiver.java\n",
      "spark-3.0.0-preview2-bin-hadoop3.2/examples/src/main/java/org/apache/spark/examples/streaming/JavaSqlNetworkWordCount.java\n",
      "spark-3.0.0-preview2-bin-hadoop3.2/examples/src/main/java/org/apache/spark/examples/streaming/JavaQueueStream.java\n",
      "spark-3.0.0-preview2-bin-hadoop3.2/examples/src/main/java/org/apache/spark/examples/JavaHdfsLR.java\n",
      "spark-3.0.0-preview2-bin-hadoop3.2/examples/src/main/java/org/apache/spark/examples/JavaStatusTrackerDemo.java\n",
      "spark-3.0.0-preview2-bin-hadoop3.2/examples/src/main/java/org/apache/spark/examples/JavaPageRank.java\n",
      "spark-3.0.0-preview2-bin-hadoop3.2/examples/src/main/java/org/apache/spark/examples/JavaSparkPi.java\n",
      "spark-3.0.0-preview2-bin-hadoop3.2/examples/src/main/java/org/apache/spark/examples/sql/\n",
      "spark-3.0.0-preview2-bin-hadoop3.2/examples/src/main/java/org/apache/spark/examples/sql/JavaSQLDataSourceExample.java\n",
      "spark-3.0.0-preview2-bin-hadoop3.2/examples/src/main/java/org/apache/spark/examples/sql/streaming/\n",
      "spark-3.0.0-preview2-bin-hadoop3.2/examples/src/main/java/org/apache/spark/examples/sql/streaming/JavaStructuredKerberizedKafkaWordCount.java\n",
      "spark-3.0.0-preview2-bin-hadoop3.2/examples/src/main/java/org/apache/spark/examples/sql/streaming/JavaStructuredSessionization.java\n",
      "spark-3.0.0-preview2-bin-hadoop3.2/examples/src/main/java/org/apache/spark/examples/sql/streaming/JavaStructuredNetworkWordCountWindowed.java\n",
      "spark-3.0.0-preview2-bin-hadoop3.2/examples/src/main/java/org/apache/spark/examples/sql/streaming/JavaStructuredNetworkWordCount.java\n",
      "spark-3.0.0-preview2-bin-hadoop3.2/examples/src/main/java/org/apache/spark/examples/sql/streaming/JavaStructuredKafkaWordCount.java\n",
      "spark-3.0.0-preview2-bin-hadoop3.2/examples/src/main/java/org/apache/spark/examples/sql/JavaUserDefinedTypedAggregation.java\n",
      "spark-3.0.0-preview2-bin-hadoop3.2/examples/src/main/java/org/apache/spark/examples/sql/JavaUserDefinedUntypedAggregation.java\n",
      "spark-3.0.0-preview2-bin-hadoop3.2/examples/src/main/java/org/apache/spark/examples/sql/hive/\n",
      "spark-3.0.0-preview2-bin-hadoop3.2/examples/src/main/java/org/apache/spark/examples/sql/hive/JavaSparkHiveExample.java\n",
      "spark-3.0.0-preview2-bin-hadoop3.2/examples/src/main/java/org/apache/spark/examples/sql/JavaSparkSQLExample.java\n",
      "spark-3.0.0-preview2-bin-hadoop3.2/examples/src/main/java/org/apache/spark/examples/JavaWordCount.java\n",
      "spark-3.0.0-preview2-bin-hadoop3.2/examples/src/main/java/org/apache/spark/examples/mllib/\n",
      "spark-3.0.0-preview2-bin-hadoop3.2/examples/src/main/java/org/apache/spark/examples/mllib/JavaKMeansExample.java\n",
      "spark-3.0.0-preview2-bin-hadoop3.2/examples/src/main/java/org/apache/spark/examples/mllib/JavaPrefixSpanExample.java\n",
      "spark-3.0.0-preview2-bin-hadoop3.2/examples/src/main/java/org/apache/spark/examples/mllib/JavaGradientBoostingRegressionExample.java\n",
      "spark-3.0.0-preview2-bin-hadoop3.2/examples/src/main/java/org/apache/spark/examples/mllib/JavaElementwiseProductExample.java\n",
      "spark-3.0.0-preview2-bin-hadoop3.2/examples/src/main/java/org/apache/spark/examples/mllib/JavaKernelDensityEstimationExample.java\n",
      "spark-3.0.0-preview2-bin-hadoop3.2/examples/src/main/java/org/apache/spark/examples/mllib/JavaRankingMetricsExample.java\n",
      "spark-3.0.0-preview2-bin-hadoop3.2/examples/src/main/java/org/apache/spark/examples/mllib/JavaALS.java\n",
      "spark-3.0.0-preview2-bin-hadoop3.2/examples/src/main/java/org/apache/spark/examples/mllib/JavaHypothesisTestingExample.java\n",
      "spark-3.0.0-preview2-bin-hadoop3.2/examples/src/main/java/org/apache/spark/examples/mllib/JavaSummaryStatisticsExample.java\n",
      "spark-3.0.0-preview2-bin-hadoop3.2/examples/src/main/java/org/apache/spark/examples/mllib/JavaStratifiedSamplingExample.java\n",
      "spark-3.0.0-preview2-bin-hadoop3.2/examples/src/main/java/org/apache/spark/examples/mllib/JavaDecisionTreeClassificationExample.java\n",
      "spark-3.0.0-preview2-bin-hadoop3.2/examples/src/main/java/org/apache/spark/examples/mllib/JavaRandomForestRegressionExample.java\n",
      "spark-3.0.0-preview2-bin-hadoop3.2/examples/src/main/java/org/apache/spark/examples/mllib/JavaLogisticRegressionWithLBFGSExample.java\n",
      "spark-3.0.0-preview2-bin-hadoop3.2/examples/src/main/java/org/apache/spark/examples/mllib/JavaMulticlassClassificationMetricsExample.java\n",
      "spark-3.0.0-preview2-bin-hadoop3.2/examples/src/main/java/org/apache/spark/examples/mllib/JavaSVMWithSGDExample.java\n",
      "spark-3.0.0-preview2-bin-hadoop3.2/examples/src/main/java/org/apache/spark/examples/mllib/JavaLBFGSExample.java\n",
      "spark-3.0.0-preview2-bin-hadoop3.2/examples/src/main/java/org/apache/spark/examples/mllib/JavaStreamingTestExample.java\n",
      "spark-3.0.0-preview2-bin-hadoop3.2/examples/src/main/java/org/apache/spark/examples/mllib/JavaGaussianMixtureExample.java\n",
      "spark-3.0.0-preview2-bin-hadoop3.2/examples/src/main/java/org/apache/spark/examples/mllib/JavaAssociationRulesExample.java\n",
      "spark-3.0.0-preview2-bin-hadoop3.2/examples/src/main/java/org/apache/spark/examples/mllib/JavaRecommendationExample.java\n",
      "spark-3.0.0-preview2-bin-hadoop3.2/examples/src/main/java/org/apache/spark/examples/mllib/JavaMultiLabelClassificationMetricsExample.java\n",
      "spark-3.0.0-preview2-bin-hadoop3.2/examples/src/main/java/org/apache/spark/examples/mllib/JavaChiSqSelectorExample.java\n",
      "spark-3.0.0-preview2-bin-hadoop3.2/examples/src/main/java/org/apache/spark/examples/mllib/JavaPCAExample.java\n",
      "spark-3.0.0-preview2-bin-hadoop3.2/examples/src/main/java/org/apache/spark/examples/mllib/JavaDecisionTreeRegressionExample.java\n",
      "spark-3.0.0-preview2-bin-hadoop3.2/examples/src/main/java/org/apache/spark/examples/mllib/JavaSVDExample.java\n",
      "spark-3.0.0-preview2-bin-hadoop3.2/examples/src/main/java/org/apache/spark/examples/mllib/JavaLatentDirichletAllocationExample.java\n",
      "spark-3.0.0-preview2-bin-hadoop3.2/examples/src/main/java/org/apache/spark/examples/mllib/JavaNaiveBayesExample.java\n",
      "spark-3.0.0-preview2-bin-hadoop3.2/examples/src/main/java/org/apache/spark/examples/mllib/JavaBisectingKMeansExample.java\n",
      "spark-3.0.0-preview2-bin-hadoop3.2/examples/src/main/java/org/apache/spark/examples/mllib/JavaHypothesisTestingKolmogorovSmirnovTestExample.java\n",
      "spark-3.0.0-preview2-bin-hadoop3.2/examples/src/main/java/org/apache/spark/examples/mllib/JavaRandomForestClassificationExample.java\n",
      "spark-3.0.0-preview2-bin-hadoop3.2/examples/src/main/java/org/apache/spark/examples/mllib/JavaSimpleFPGrowth.java\n",
      "spark-3.0.0-preview2-bin-hadoop3.2/examples/src/main/java/org/apache/spark/examples/mllib/JavaBinaryClassificationMetricsExample.java\n",
      "spark-3.0.0-preview2-bin-hadoop3.2/examples/src/main/java/org/apache/spark/examples/mllib/JavaGradientBoostingClassificationExample.java\n",
      "spark-3.0.0-preview2-bin-hadoop3.2/examples/src/main/java/org/apache/spark/examples/mllib/JavaIsotonicRegressionExample.java\n",
      "spark-3.0.0-preview2-bin-hadoop3.2/examples/src/main/java/org/apache/spark/examples/mllib/JavaCorrelationsExample.java\n",
      "spark-3.0.0-preview2-bin-hadoop3.2/examples/src/main/java/org/apache/spark/examples/mllib/JavaPowerIterationClusteringExample.java\n",
      "spark-3.0.0-preview2-bin-hadoop3.2/examples/src/main/java/org/apache/spark/examples/JavaTC.java\n",
      "spark-3.0.0-preview2-bin-hadoop3.2/examples/src/main/python/\n",
      "spark-3.0.0-preview2-bin-hadoop3.2/examples/src/main/python/ml/\n",
      "spark-3.0.0-preview2-bin-hadoop3.2/examples/src/main/python/ml/correlation_example.py\n",
      "spark-3.0.0-preview2-bin-hadoop3.2/examples/src/main/python/ml/word2vec_example.py\n",
      "spark-3.0.0-preview2-bin-hadoop3.2/examples/src/main/python/ml/gaussian_mixture_example.py\n",
      "spark-3.0.0-preview2-bin-hadoop3.2/examples/src/main/python/ml/multiclass_logistic_regression_with_elastic_net.py\n",
      "spark-3.0.0-preview2-bin-hadoop3.2/examples/src/main/python/ml/bisecting_k_means_example.py\n",
      "spark-3.0.0-preview2-bin-hadoop3.2/examples/src/main/python/ml/max_abs_scaler_example.py\n",
      "spark-3.0.0-preview2-bin-hadoop3.2/examples/src/main/python/ml/tf_idf_example.py\n",
      "spark-3.0.0-preview2-bin-hadoop3.2/examples/src/main/python/ml/index_to_string_example.py\n",
      "spark-3.0.0-preview2-bin-hadoop3.2/examples/src/main/python/ml/linearsvc.py\n",
      "spark-3.0.0-preview2-bin-hadoop3.2/examples/src/main/python/ml/random_forest_classifier_example.py\n",
      "spark-3.0.0-preview2-bin-hadoop3.2/examples/src/main/python/ml/train_validation_split.py\n",
      "spark-3.0.0-preview2-bin-hadoop3.2/examples/src/main/python/ml/chi_square_test_example.py\n",
      "spark-3.0.0-preview2-bin-hadoop3.2/examples/src/main/python/ml/vector_size_hint_example.py\n",
      "spark-3.0.0-preview2-bin-hadoop3.2/examples/src/main/python/ml/aft_survival_regression.py\n",
      "spark-3.0.0-preview2-bin-hadoop3.2/examples/src/main/python/ml/string_indexer_example.py\n",
      "spark-3.0.0-preview2-bin-hadoop3.2/examples/src/main/python/ml/estimator_transformer_param_example.py\n",
      "spark-3.0.0-preview2-bin-hadoop3.2/examples/src/main/python/ml/binarizer_example.py\n",
      "spark-3.0.0-preview2-bin-hadoop3.2/examples/src/main/python/ml/bucketed_random_projection_lsh_example.py\n",
      "spark-3.0.0-preview2-bin-hadoop3.2/examples/src/main/python/ml/multilayer_perceptron_classification.py\n",
      "spark-3.0.0-preview2-bin-hadoop3.2/examples/src/main/python/ml/stopwords_remover_example.py\n",
      "spark-3.0.0-preview2-bin-hadoop3.2/examples/src/main/python/ml/vector_indexer_example.py\n",
      "spark-3.0.0-preview2-bin-hadoop3.2/examples/src/main/python/ml/normalizer_example.py\n",
      "spark-3.0.0-preview2-bin-hadoop3.2/examples/src/main/python/ml/cross_validator.py\n",
      "spark-3.0.0-preview2-bin-hadoop3.2/examples/src/main/python/ml/logistic_regression_summary_example.py\n",
      "spark-3.0.0-preview2-bin-hadoop3.2/examples/src/main/python/ml/decision_tree_regression_example.py\n",
      "spark-3.0.0-preview2-bin-hadoop3.2/examples/src/main/python/ml/generalized_linear_regression_example.py\n",
      "spark-3.0.0-preview2-bin-hadoop3.2/examples/src/main/python/ml/random_forest_regressor_example.py\n",
      "spark-3.0.0-preview2-bin-hadoop3.2/examples/src/main/python/ml/dct_example.py\n",
      "spark-3.0.0-preview2-bin-hadoop3.2/examples/src/main/python/ml/vector_assembler_example.py\n",
      "spark-3.0.0-preview2-bin-hadoop3.2/examples/src/main/python/ml/elementwise_product_example.py\n",
      "spark-3.0.0-preview2-bin-hadoop3.2/examples/src/main/python/ml/lda_example.py\n",
      "spark-3.0.0-preview2-bin-hadoop3.2/examples/src/main/python/ml/linear_regression_with_elastic_net.py\n",
      "spark-3.0.0-preview2-bin-hadoop3.2/examples/src/main/python/ml/standard_scaler_example.py\n",
      "spark-3.0.0-preview2-bin-hadoop3.2/examples/src/main/python/ml/polynomial_expansion_example.py\n",
      "spark-3.0.0-preview2-bin-hadoop3.2/examples/src/main/python/ml/n_gram_example.py\n",
      "spark-3.0.0-preview2-bin-hadoop3.2/examples/src/main/python/ml/one_vs_rest_example.py\n",
      "spark-3.0.0-preview2-bin-hadoop3.2/examples/src/main/python/ml/bucketizer_example.py\n",
      "spark-3.0.0-preview2-bin-hadoop3.2/examples/src/main/python/ml/als_example.py\n",
      "spark-3.0.0-preview2-bin-hadoop3.2/examples/src/main/python/ml/isotonic_regression_example.py\n",
      "spark-3.0.0-preview2-bin-hadoop3.2/examples/src/main/python/ml/chisq_selector_example.py\n",
      "spark-3.0.0-preview2-bin-hadoop3.2/examples/src/main/python/ml/sql_transformer.py\n",
      "spark-3.0.0-preview2-bin-hadoop3.2/examples/src/main/python/ml/dataframe_example.py\n",
      "spark-3.0.0-preview2-bin-hadoop3.2/examples/src/main/python/ml/feature_hasher_example.py\n",
      "spark-3.0.0-preview2-bin-hadoop3.2/examples/src/main/python/ml/imputer_example.py\n",
      "spark-3.0.0-preview2-bin-hadoop3.2/examples/src/main/python/ml/tokenizer_example.py\n",
      "spark-3.0.0-preview2-bin-hadoop3.2/examples/src/main/python/ml/logistic_regression_with_elastic_net.py\n",
      "spark-3.0.0-preview2-bin-hadoop3.2/examples/src/main/python/ml/pipeline_example.py\n",
      "spark-3.0.0-preview2-bin-hadoop3.2/examples/src/main/python/ml/gradient_boosted_tree_regressor_example.py\n",
      "spark-3.0.0-preview2-bin-hadoop3.2/examples/src/main/python/ml/summarizer_example.py\n",
      "spark-3.0.0-preview2-bin-hadoop3.2/examples/src/main/python/ml/min_max_scaler_example.py\n",
      "spark-3.0.0-preview2-bin-hadoop3.2/examples/src/main/python/ml/gradient_boosted_tree_classifier_example.py\n",
      "spark-3.0.0-preview2-bin-hadoop3.2/examples/src/main/python/ml/quantile_discretizer_example.py\n",
      "spark-3.0.0-preview2-bin-hadoop3.2/examples/src/main/python/ml/power_iteration_clustering_example.py\n",
      "spark-3.0.0-preview2-bin-hadoop3.2/examples/src/main/python/ml/onehot_encoder_example.py\n",
      "spark-3.0.0-preview2-bin-hadoop3.2/examples/src/main/python/ml/rformula_example.py\n",
      "spark-3.0.0-preview2-bin-hadoop3.2/examples/src/main/python/ml/vector_slicer_example.py\n",
      "spark-3.0.0-preview2-bin-hadoop3.2/examples/src/main/python/ml/interaction_example.py\n",
      "spark-3.0.0-preview2-bin-hadoop3.2/examples/src/main/python/ml/pca_example.py\n",
      "spark-3.0.0-preview2-bin-hadoop3.2/examples/src/main/python/ml/count_vectorizer_example.py\n",
      "spark-3.0.0-preview2-bin-hadoop3.2/examples/src/main/python/ml/decision_tree_classification_example.py\n",
      "spark-3.0.0-preview2-bin-hadoop3.2/examples/src/main/python/ml/kmeans_example.py\n",
      "spark-3.0.0-preview2-bin-hadoop3.2/examples/src/main/python/ml/naive_bayes_example.py\n",
      "spark-3.0.0-preview2-bin-hadoop3.2/examples/src/main/python/ml/min_hash_lsh_example.py\n",
      "spark-3.0.0-preview2-bin-hadoop3.2/examples/src/main/python/ml/robust_scaler_example.py\n",
      "spark-3.0.0-preview2-bin-hadoop3.2/examples/src/main/python/ml/prefixspan_example.py\n",
      "spark-3.0.0-preview2-bin-hadoop3.2/examples/src/main/python/ml/fpgrowth_example.py\n",
      "spark-3.0.0-preview2-bin-hadoop3.2/examples/src/main/python/streaming/\n",
      "spark-3.0.0-preview2-bin-hadoop3.2/examples/src/main/python/streaming/queue_stream.py\n",
      "spark-3.0.0-preview2-bin-hadoop3.2/examples/src/main/python/streaming/network_wordjoinsentiments.py\n",
      "spark-3.0.0-preview2-bin-hadoop3.2/examples/src/main/python/streaming/hdfs_wordcount.py\n",
      "spark-3.0.0-preview2-bin-hadoop3.2/examples/src/main/python/streaming/network_wordcount.py\n",
      "spark-3.0.0-preview2-bin-hadoop3.2/examples/src/main/python/streaming/sql_network_wordcount.py\n",
      "spark-3.0.0-preview2-bin-hadoop3.2/examples/src/main/python/streaming/recoverable_network_wordcount.py\n",
      "spark-3.0.0-preview2-bin-hadoop3.2/examples/src/main/python/streaming/stateful_network_wordcount.py\n",
      "spark-3.0.0-preview2-bin-hadoop3.2/examples/src/main/python/wordcount.py\n",
      "spark-3.0.0-preview2-bin-hadoop3.2/examples/src/main/python/transitive_closure.py\n",
      "spark-3.0.0-preview2-bin-hadoop3.2/examples/src/main/python/status_api_demo.py\n",
      "spark-3.0.0-preview2-bin-hadoop3.2/examples/src/main/python/kmeans.py\n",
      "spark-3.0.0-preview2-bin-hadoop3.2/examples/src/main/python/pi.py\n",
      "spark-3.0.0-preview2-bin-hadoop3.2/examples/src/main/python/sql/\n",
      "spark-3.0.0-preview2-bin-hadoop3.2/examples/src/main/python/sql/streaming/\n",
      "spark-3.0.0-preview2-bin-hadoop3.2/examples/src/main/python/sql/streaming/structured_network_wordcount.py\n",
      "spark-3.0.0-preview2-bin-hadoop3.2/examples/src/main/python/sql/streaming/structured_network_wordcount_windowed.py\n",
      "spark-3.0.0-preview2-bin-hadoop3.2/examples/src/main/python/sql/streaming/structured_kafka_wordcount.py\n",
      "spark-3.0.0-preview2-bin-hadoop3.2/examples/src/main/python/sql/hive.py\n",
      "spark-3.0.0-preview2-bin-hadoop3.2/examples/src/main/python/sql/basic.py\n",
      "spark-3.0.0-preview2-bin-hadoop3.2/examples/src/main/python/sql/arrow.py\n",
      "spark-3.0.0-preview2-bin-hadoop3.2/examples/src/main/python/sql/datasource.py\n",
      "spark-3.0.0-preview2-bin-hadoop3.2/examples/src/main/python/avro_inputformat.py\n",
      "spark-3.0.0-preview2-bin-hadoop3.2/examples/src/main/python/sort.py\n",
      "spark-3.0.0-preview2-bin-hadoop3.2/examples/src/main/python/pagerank.py\n",
      "spark-3.0.0-preview2-bin-hadoop3.2/examples/src/main/python/mllib/\n",
      "spark-3.0.0-preview2-bin-hadoop3.2/examples/src/main/python/mllib/word2vec_example.py\n",
      "spark-3.0.0-preview2-bin-hadoop3.2/examples/src/main/python/mllib/multi_label_metrics_example.py\n",
      "spark-3.0.0-preview2-bin-hadoop3.2/examples/src/main/python/mllib/gaussian_mixture_example.py\n",
      "spark-3.0.0-preview2-bin-hadoop3.2/examples/src/main/python/mllib/bisecting_k_means_example.py\n",
      "spark-3.0.0-preview2-bin-hadoop3.2/examples/src/main/python/mllib/tf_idf_example.py\n",
      "spark-3.0.0-preview2-bin-hadoop3.2/examples/src/main/python/mllib/logistic_regression_with_lbfgs_example.py\n",
      "spark-3.0.0-preview2-bin-hadoop3.2/examples/src/main/python/mllib/hypothesis_testing_example.py\n",
      "spark-3.0.0-preview2-bin-hadoop3.2/examples/src/main/python/mllib/gradient_boosting_classification_example.py\n",
      "spark-3.0.0-preview2-bin-hadoop3.2/examples/src/main/python/mllib/regression_metrics_example.py\n",
      "spark-3.0.0-preview2-bin-hadoop3.2/examples/src/main/python/mllib/normalizer_example.py\n",
      "spark-3.0.0-preview2-bin-hadoop3.2/examples/src/main/python/mllib/decision_tree_regression_example.py\n",
      "spark-3.0.0-preview2-bin-hadoop3.2/examples/src/main/python/mllib/kmeans.py\n",
      "spark-3.0.0-preview2-bin-hadoop3.2/examples/src/main/python/mllib/hypothesis_testing_kolmogorov_smirnov_test_example.py\n",
      "spark-3.0.0-preview2-bin-hadoop3.2/examples/src/main/python/mllib/elementwise_product_example.py\n",
      "spark-3.0.0-preview2-bin-hadoop3.2/examples/src/main/python/mllib/random_rdd_generation.py\n",
      "spark-3.0.0-preview2-bin-hadoop3.2/examples/src/main/python/mllib/latent_dirichlet_allocation_example.py\n",
      "spark-3.0.0-preview2-bin-hadoop3.2/examples/src/main/python/mllib/word2vec.py\n",
      "spark-3.0.0-preview2-bin-hadoop3.2/examples/src/main/python/mllib/binary_classification_metrics_example.py\n",
      "spark-3.0.0-preview2-bin-hadoop3.2/examples/src/main/python/mllib/stratified_sampling_example.py\n",
      "spark-3.0.0-preview2-bin-hadoop3.2/examples/src/main/python/mllib/random_forest_regression_example.py\n",
      "spark-3.0.0-preview2-bin-hadoop3.2/examples/src/main/python/mllib/correlations.py\n",
      "spark-3.0.0-preview2-bin-hadoop3.2/examples/src/main/python/mllib/standard_scaler_example.py\n",
      "spark-3.0.0-preview2-bin-hadoop3.2/examples/src/main/python/mllib/correlations_example.py\n",
      "spark-3.0.0-preview2-bin-hadoop3.2/examples/src/main/python/mllib/svm_with_sgd_example.py\n",
      "spark-3.0.0-preview2-bin-hadoop3.2/examples/src/main/python/mllib/k_means_example.py\n",
      "spark-3.0.0-preview2-bin-hadoop3.2/examples/src/main/python/mllib/isotonic_regression_example.py\n",
      "spark-3.0.0-preview2-bin-hadoop3.2/examples/src/main/python/mllib/summary_statistics_example.py\n",
      "spark-3.0.0-preview2-bin-hadoop3.2/examples/src/main/python/mllib/streaming_linear_regression_example.py\n",
      "spark-3.0.0-preview2-bin-hadoop3.2/examples/src/main/python/mllib/recommendation_example.py\n",
      "spark-3.0.0-preview2-bin-hadoop3.2/examples/src/main/python/mllib/multi_class_metrics_example.py\n",
      "spark-3.0.0-preview2-bin-hadoop3.2/examples/src/main/python/mllib/streaming_k_means_example.py\n",
      "spark-3.0.0-preview2-bin-hadoop3.2/examples/src/main/python/mllib/gradient_boosting_regression_example.py\n",
      "spark-3.0.0-preview2-bin-hadoop3.2/examples/src/main/python/mllib/logistic_regression.py\n",
      "spark-3.0.0-preview2-bin-hadoop3.2/examples/src/main/python/mllib/pca_rowmatrix_example.py\n",
      "spark-3.0.0-preview2-bin-hadoop3.2/examples/src/main/python/mllib/power_iteration_clustering_example.py\n",
      "spark-3.0.0-preview2-bin-hadoop3.2/examples/src/main/python/mllib/linear_regression_with_sgd_example.py\n",
      "spark-3.0.0-preview2-bin-hadoop3.2/examples/src/main/python/mllib/sampled_rdds.py\n",
      "spark-3.0.0-preview2-bin-hadoop3.2/examples/src/main/python/mllib/random_forest_classification_example.py\n",
      "spark-3.0.0-preview2-bin-hadoop3.2/examples/src/main/python/mllib/svd_example.py\n",
      "spark-3.0.0-preview2-bin-hadoop3.2/examples/src/main/python/mllib/decision_tree_classification_example.py\n",
      "spark-3.0.0-preview2-bin-hadoop3.2/examples/src/main/python/mllib/naive_bayes_example.py\n",
      "spark-3.0.0-preview2-bin-hadoop3.2/examples/src/main/python/mllib/kernel_density_estimation_example.py\n",
      "spark-3.0.0-preview2-bin-hadoop3.2/examples/src/main/python/mllib/fpgrowth_example.py\n",
      "spark-3.0.0-preview2-bin-hadoop3.2/examples/src/main/python/mllib/gaussian_mixture_model.py\n",
      "spark-3.0.0-preview2-bin-hadoop3.2/examples/src/main/python/mllib/ranking_metrics_example.py\n",
      "spark-3.0.0-preview2-bin-hadoop3.2/examples/src/main/python/logistic_regression.py\n",
      "spark-3.0.0-preview2-bin-hadoop3.2/examples/src/main/python/parquet_inputformat.py\n",
      "spark-3.0.0-preview2-bin-hadoop3.2/examples/src/main/python/als.py\n",
      "spark-3.0.0-preview2-bin-hadoop3.2/examples/src/main/scala/\n",
      "spark-3.0.0-preview2-bin-hadoop3.2/examples/src/main/scala/org/\n",
      "spark-3.0.0-preview2-bin-hadoop3.2/examples/src/main/scala/org/apache/\n",
      "spark-3.0.0-preview2-bin-hadoop3.2/examples/src/main/scala/org/apache/spark/\n",
      "spark-3.0.0-preview2-bin-hadoop3.2/examples/src/main/scala/org/apache/spark/examples/\n",
      "spark-3.0.0-preview2-bin-hadoop3.2/examples/src/main/scala/org/apache/spark/examples/SparkRemoteFileTest.scala\n",
      "spark-3.0.0-preview2-bin-hadoop3.2/examples/src/main/scala/org/apache/spark/examples/ml/\n",
      "spark-3.0.0-preview2-bin-hadoop3.2/examples/src/main/scala/org/apache/spark/examples/ml/PolynomialExpansionExample.scala\n",
      "spark-3.0.0-preview2-bin-hadoop3.2/examples/src/main/scala/org/apache/spark/examples/ml/LDAExample.scala\n",
      "spark-3.0.0-preview2-bin-hadoop3.2/examples/src/main/scala/org/apache/spark/examples/ml/BisectingKMeansExample.scala\n",
      "spark-3.0.0-preview2-bin-hadoop3.2/examples/src/main/scala/org/apache/spark/examples/ml/GBTExample.scala\n",
      "spark-3.0.0-preview2-bin-hadoop3.2/examples/src/main/scala/org/apache/spark/examples/ml/FeatureHasherExample.scala\n",
      "spark-3.0.0-preview2-bin-hadoop3.2/examples/src/main/scala/org/apache/spark/examples/ml/BucketizerExample.scala\n",
      "spark-3.0.0-preview2-bin-hadoop3.2/examples/src/main/scala/org/apache/spark/examples/ml/NormalizerExample.scala\n",
      "spark-3.0.0-preview2-bin-hadoop3.2/examples/src/main/scala/org/apache/spark/examples/ml/PCAExample.scala\n",
      "spark-3.0.0-preview2-bin-hadoop3.2/examples/src/main/scala/org/apache/spark/examples/ml/PowerIterationClusteringExample.scala\n",
      "spark-3.0.0-preview2-bin-hadoop3.2/examples/src/main/scala/org/apache/spark/examples/ml/StringIndexerExample.scala\n",
      "spark-3.0.0-preview2-bin-hadoop3.2/examples/src/main/scala/org/apache/spark/examples/ml/SummarizerExample.scala\n",
      "spark-3.0.0-preview2-bin-hadoop3.2/examples/src/main/scala/org/apache/spark/examples/ml/RFormulaExample.scala\n",
      "spark-3.0.0-preview2-bin-hadoop3.2/examples/src/main/scala/org/apache/spark/examples/ml/VectorAssemblerExample.scala\n",
      "spark-3.0.0-preview2-bin-hadoop3.2/examples/src/main/scala/org/apache/spark/examples/ml/ImputerExample.scala\n",
      "spark-3.0.0-preview2-bin-hadoop3.2/examples/src/main/scala/org/apache/spark/examples/ml/CountVectorizerExample.scala\n",
      "spark-3.0.0-preview2-bin-hadoop3.2/examples/src/main/scala/org/apache/spark/examples/ml/MinHashLSHExample.scala\n",
      "spark-3.0.0-preview2-bin-hadoop3.2/examples/src/main/scala/org/apache/spark/examples/ml/DCTExample.scala\n",
      "spark-3.0.0-preview2-bin-hadoop3.2/examples/src/main/scala/org/apache/spark/examples/ml/RandomForestRegressorExample.scala\n",
      "spark-3.0.0-preview2-bin-hadoop3.2/examples/src/main/scala/org/apache/spark/examples/ml/StopWordsRemoverExample.scala\n",
      "spark-3.0.0-preview2-bin-hadoop3.2/examples/src/main/scala/org/apache/spark/examples/ml/ModelSelectionViaCrossValidationExample.scala\n",
      "spark-3.0.0-preview2-bin-hadoop3.2/examples/src/main/scala/org/apache/spark/examples/ml/PrefixSpanExample.scala\n",
      "spark-3.0.0-preview2-bin-hadoop3.2/examples/src/main/scala/org/apache/spark/examples/ml/ChiSquareTestExample.scala\n",
      "spark-3.0.0-preview2-bin-hadoop3.2/examples/src/main/scala/org/apache/spark/examples/ml/LogisticRegressionSummaryExample.scala\n",
      "spark-3.0.0-preview2-bin-hadoop3.2/examples/src/main/scala/org/apache/spark/examples/ml/MultilayerPerceptronClassifierExample.scala\n",
      "spark-3.0.0-preview2-bin-hadoop3.2/examples/src/main/scala/org/apache/spark/examples/ml/Word2VecExample.scala\n",
      "spark-3.0.0-preview2-bin-hadoop3.2/examples/src/main/scala/org/apache/spark/examples/ml/StandardScalerExample.scala\n",
      "spark-3.0.0-preview2-bin-hadoop3.2/examples/src/main/scala/org/apache/spark/examples/ml/BucketedRandomProjectionLSHExample.scala\n",
      "spark-3.0.0-preview2-bin-hadoop3.2/examples/src/main/scala/org/apache/spark/examples/ml/GradientBoostedTreeClassifierExample.scala\n",
      "spark-3.0.0-preview2-bin-hadoop3.2/examples/src/main/scala/org/apache/spark/examples/ml/VectorSlicerExample.scala\n",
      "spark-3.0.0-preview2-bin-hadoop3.2/examples/src/main/scala/org/apache/spark/examples/ml/BinarizerExample.scala\n",
      "spark-3.0.0-preview2-bin-hadoop3.2/examples/src/main/scala/org/apache/spark/examples/ml/OneHotEncoderExample.scala\n",
      "spark-3.0.0-preview2-bin-hadoop3.2/examples/src/main/scala/org/apache/spark/examples/ml/InteractionExample.scala\n",
      "spark-3.0.0-preview2-bin-hadoop3.2/examples/src/main/scala/org/apache/spark/examples/ml/IsotonicRegressionExample.scala\n",
      "spark-3.0.0-preview2-bin-hadoop3.2/examples/src/main/scala/org/apache/spark/examples/ml/SQLTransformerExample.scala\n",
      "spark-3.0.0-preview2-bin-hadoop3.2/examples/src/main/scala/org/apache/spark/examples/ml/NaiveBayesExample.scala\n",
      "spark-3.0.0-preview2-bin-hadoop3.2/examples/src/main/scala/org/apache/spark/examples/ml/PipelineExample.scala\n",
      "spark-3.0.0-preview2-bin-hadoop3.2/examples/src/main/scala/org/apache/spark/examples/ml/TokenizerExample.scala\n",
      "spark-3.0.0-preview2-bin-hadoop3.2/examples/src/main/scala/org/apache/spark/examples/ml/ALSExample.scala\n",
      "spark-3.0.0-preview2-bin-hadoop3.2/examples/src/main/scala/org/apache/spark/examples/ml/KMeansExample.scala\n",
      "spark-3.0.0-preview2-bin-hadoop3.2/examples/src/main/scala/org/apache/spark/examples/ml/MulticlassLogisticRegressionWithElasticNetExample.scala\n",
      "spark-3.0.0-preview2-bin-hadoop3.2/examples/src/main/scala/org/apache/spark/examples/ml/OneVsRestExample.scala\n",
      "spark-3.0.0-preview2-bin-hadoop3.2/examples/src/main/scala/org/apache/spark/examples/ml/DataFrameExample.scala\n",
      "spark-3.0.0-preview2-bin-hadoop3.2/examples/src/main/scala/org/apache/spark/examples/ml/AFTSurvivalRegressionExample.scala\n",
      "spark-3.0.0-preview2-bin-hadoop3.2/examples/src/main/scala/org/apache/spark/examples/ml/RandomForestClassifierExample.scala\n",
      "spark-3.0.0-preview2-bin-hadoop3.2/examples/src/main/scala/org/apache/spark/examples/ml/VectorIndexerExample.scala\n",
      "spark-3.0.0-preview2-bin-hadoop3.2/examples/src/main/scala/org/apache/spark/examples/ml/EstimatorTransformerParamExample.scala\n",
      "spark-3.0.0-preview2-bin-hadoop3.2/examples/src/main/scala/org/apache/spark/examples/ml/ElementwiseProductExample.scala\n",
      "spark-3.0.0-preview2-bin-hadoop3.2/examples/src/main/scala/org/apache/spark/examples/ml/DecisionTreeClassificationExample.scala\n",
      "spark-3.0.0-preview2-bin-hadoop3.2/examples/src/main/scala/org/apache/spark/examples/ml/FPGrowthExample.scala\n",
      "spark-3.0.0-preview2-bin-hadoop3.2/examples/src/main/scala/org/apache/spark/examples/ml/RandomForestExample.scala\n",
      "spark-3.0.0-preview2-bin-hadoop3.2/examples/src/main/scala/org/apache/spark/examples/ml/GaussianMixtureExample.scala\n",
      "spark-3.0.0-preview2-bin-hadoop3.2/examples/src/main/scala/org/apache/spark/examples/ml/LogisticRegressionExample.scala\n",
      "spark-3.0.0-preview2-bin-hadoop3.2/examples/src/main/scala/org/apache/spark/examples/ml/LinearSVCExample.scala\n",
      "spark-3.0.0-preview2-bin-hadoop3.2/examples/src/main/scala/org/apache/spark/examples/ml/NGramExample.scala\n",
      "spark-3.0.0-preview2-bin-hadoop3.2/examples/src/main/scala/org/apache/spark/examples/ml/VectorSizeHintExample.scala\n",
      "spark-3.0.0-preview2-bin-hadoop3.2/examples/src/main/scala/org/apache/spark/examples/ml/LogisticRegressionWithElasticNetExample.scala\n",
      "spark-3.0.0-preview2-bin-hadoop3.2/examples/src/main/scala/org/apache/spark/examples/ml/UnaryTransformerExample.scala\n",
      "spark-3.0.0-preview2-bin-hadoop3.2/examples/src/main/scala/org/apache/spark/examples/ml/DeveloperApiExample.scala\n",
      "spark-3.0.0-preview2-bin-hadoop3.2/examples/src/main/scala/org/apache/spark/examples/ml/QuantileDiscretizerExample.scala\n",
      "spark-3.0.0-preview2-bin-hadoop3.2/examples/src/main/scala/org/apache/spark/examples/ml/LinearRegressionExample.scala\n",
      "spark-3.0.0-preview2-bin-hadoop3.2/examples/src/main/scala/org/apache/spark/examples/ml/RobustScalerExample.scala\n",
      "spark-3.0.0-preview2-bin-hadoop3.2/examples/src/main/scala/org/apache/spark/examples/ml/ChiSqSelectorExample.scala\n",
      "spark-3.0.0-preview2-bin-hadoop3.2/examples/src/main/scala/org/apache/spark/examples/ml/MinMaxScalerExample.scala\n",
      "spark-3.0.0-preview2-bin-hadoop3.2/examples/src/main/scala/org/apache/spark/examples/ml/MaxAbsScalerExample.scala\n",
      "spark-3.0.0-preview2-bin-hadoop3.2/examples/src/main/scala/org/apache/spark/examples/ml/TfIdfExample.scala\n",
      "spark-3.0.0-preview2-bin-hadoop3.2/examples/src/main/scala/org/apache/spark/examples/ml/GradientBoostedTreeRegressorExample.scala\n",
      "spark-3.0.0-preview2-bin-hadoop3.2/examples/src/main/scala/org/apache/spark/examples/ml/GeneralizedLinearRegressionExample.scala\n",
      "spark-3.0.0-preview2-bin-hadoop3.2/examples/src/main/scala/org/apache/spark/examples/ml/ModelSelectionViaTrainValidationSplitExample.scala\n",
      "spark-3.0.0-preview2-bin-hadoop3.2/examples/src/main/scala/org/apache/spark/examples/ml/CorrelationExample.scala\n",
      "spark-3.0.0-preview2-bin-hadoop3.2/examples/src/main/scala/org/apache/spark/examples/ml/DecisionTreeRegressionExample.scala\n",
      "spark-3.0.0-preview2-bin-hadoop3.2/examples/src/main/scala/org/apache/spark/examples/ml/IndexToStringExample.scala\n",
      "spark-3.0.0-preview2-bin-hadoop3.2/examples/src/main/scala/org/apache/spark/examples/ml/LinearRegressionWithElasticNetExample.scala\n",
      "spark-3.0.0-preview2-bin-hadoop3.2/examples/src/main/scala/org/apache/spark/examples/ml/DecisionTreeExample.scala\n",
      "spark-3.0.0-preview2-bin-hadoop3.2/examples/src/main/scala/org/apache/spark/examples/streaming/\n",
      "spark-3.0.0-preview2-bin-hadoop3.2/examples/src/main/scala/org/apache/spark/examples/streaming/SqlNetworkWordCount.scala\n",
      "spark-3.0.0-preview2-bin-hadoop3.2/examples/src/main/scala/org/apache/spark/examples/streaming/StreamingExamples.scala\n",
      "spark-3.0.0-preview2-bin-hadoop3.2/examples/src/main/scala/org/apache/spark/examples/streaming/QueueStream.scala\n",
      "spark-3.0.0-preview2-bin-hadoop3.2/examples/src/main/scala/org/apache/spark/examples/streaming/HdfsWordCount.scala\n",
      "spark-3.0.0-preview2-bin-hadoop3.2/examples/src/main/scala/org/apache/spark/examples/streaming/clickstream/\n",
      "spark-3.0.0-preview2-bin-hadoop3.2/examples/src/main/scala/org/apache/spark/examples/streaming/clickstream/PageViewStream.scala\n",
      "spark-3.0.0-preview2-bin-hadoop3.2/examples/src/main/scala/org/apache/spark/examples/streaming/clickstream/PageViewGenerator.scala\n",
      "spark-3.0.0-preview2-bin-hadoop3.2/examples/src/main/scala/org/apache/spark/examples/streaming/RecoverableNetworkWordCount.scala\n",
      "spark-3.0.0-preview2-bin-hadoop3.2/examples/src/main/scala/org/apache/spark/examples/streaming/CustomReceiver.scala\n",
      "spark-3.0.0-preview2-bin-hadoop3.2/examples/src/main/scala/org/apache/spark/examples/streaming/RawNetworkGrep.scala\n",
      "spark-3.0.0-preview2-bin-hadoop3.2/examples/src/main/scala/org/apache/spark/examples/streaming/DirectKafkaWordCount.scala\n",
      "spark-3.0.0-preview2-bin-hadoop3.2/examples/src/main/scala/org/apache/spark/examples/streaming/StatefulNetworkWordCount.scala\n",
      "spark-3.0.0-preview2-bin-hadoop3.2/examples/src/main/scala/org/apache/spark/examples/streaming/NetworkWordCount.scala\n",
      "spark-3.0.0-preview2-bin-hadoop3.2/examples/src/main/scala/org/apache/spark/examples/streaming/DirectKerberizedKafkaWordCount.scala\n",
      "spark-3.0.0-preview2-bin-hadoop3.2/examples/src/main/scala/org/apache/spark/examples/DriverSubmissionTest.scala\n",
      "spark-3.0.0-preview2-bin-hadoop3.2/examples/src/main/scala/org/apache/spark/examples/DFSReadWriteTest.scala\n",
      "spark-3.0.0-preview2-bin-hadoop3.2/examples/src/main/scala/org/apache/spark/examples/LocalFileLR.scala\n",
      "spark-3.0.0-preview2-bin-hadoop3.2/examples/src/main/scala/org/apache/spark/examples/MultiBroadcastTest.scala\n",
      "spark-3.0.0-preview2-bin-hadoop3.2/examples/src/main/scala/org/apache/spark/examples/SkewedGroupByTest.scala\n",
      "spark-3.0.0-preview2-bin-hadoop3.2/examples/src/main/scala/org/apache/spark/examples/AccumulatorMetricsTest.scala\n",
      "spark-3.0.0-preview2-bin-hadoop3.2/examples/src/main/scala/org/apache/spark/examples/SparkTC.scala\n",
      "spark-3.0.0-preview2-bin-hadoop3.2/examples/src/main/scala/org/apache/spark/examples/LogQuery.scala\n",
      "spark-3.0.0-preview2-bin-hadoop3.2/examples/src/main/scala/org/apache/spark/examples/SparkPageRank.scala\n",
      "spark-3.0.0-preview2-bin-hadoop3.2/examples/src/main/scala/org/apache/spark/examples/SparkPi.scala\n",
      "spark-3.0.0-preview2-bin-hadoop3.2/examples/src/main/scala/org/apache/spark/examples/LocalKMeans.scala\n",
      "spark-3.0.0-preview2-bin-hadoop3.2/examples/src/main/scala/org/apache/spark/examples/BroadcastTest.scala\n",
      "spark-3.0.0-preview2-bin-hadoop3.2/examples/src/main/scala/org/apache/spark/examples/LocalLR.scala\n",
      "spark-3.0.0-preview2-bin-hadoop3.2/examples/src/main/scala/org/apache/spark/examples/LocalPi.scala\n",
      "spark-3.0.0-preview2-bin-hadoop3.2/examples/src/main/scala/org/apache/spark/examples/sql/\n",
      "spark-3.0.0-preview2-bin-hadoop3.2/examples/src/main/scala/org/apache/spark/examples/sql/streaming/\n",
      "spark-3.0.0-preview2-bin-hadoop3.2/examples/src/main/scala/org/apache/spark/examples/sql/streaming/StructuredKafkaWordCount.scala\n",
      "spark-3.0.0-preview2-bin-hadoop3.2/examples/src/main/scala/org/apache/spark/examples/sql/streaming/StructuredSessionization.scala\n",
      "spark-3.0.0-preview2-bin-hadoop3.2/examples/src/main/scala/org/apache/spark/examples/sql/streaming/StructuredNetworkWordCount.scala\n",
      "spark-3.0.0-preview2-bin-hadoop3.2/examples/src/main/scala/org/apache/spark/examples/sql/streaming/StructuredNetworkWordCountWindowed.scala\n",
      "spark-3.0.0-preview2-bin-hadoop3.2/examples/src/main/scala/org/apache/spark/examples/sql/streaming/StructuredKerberizedKafkaWordCount.scala\n",
      "spark-3.0.0-preview2-bin-hadoop3.2/examples/src/main/scala/org/apache/spark/examples/sql/UserDefinedTypedAggregation.scala\n",
      "spark-3.0.0-preview2-bin-hadoop3.2/examples/src/main/scala/org/apache/spark/examples/sql/RDDRelation.scala\n",
      "spark-3.0.0-preview2-bin-hadoop3.2/examples/src/main/scala/org/apache/spark/examples/sql/SparkSQLExample.scala\n",
      "spark-3.0.0-preview2-bin-hadoop3.2/examples/src/main/scala/org/apache/spark/examples/sql/SQLDataSourceExample.scala\n",
      "spark-3.0.0-preview2-bin-hadoop3.2/examples/src/main/scala/org/apache/spark/examples/sql/hive/\n",
      "spark-3.0.0-preview2-bin-hadoop3.2/examples/src/main/scala/org/apache/spark/examples/sql/hive/SparkHiveExample.scala\n",
      "spark-3.0.0-preview2-bin-hadoop3.2/examples/src/main/scala/org/apache/spark/examples/sql/UserDefinedUntypedAggregation.scala\n",
      "spark-3.0.0-preview2-bin-hadoop3.2/examples/src/main/scala/org/apache/spark/examples/sql/SimpleTypedAggregator.scala\n",
      "spark-3.0.0-preview2-bin-hadoop3.2/examples/src/main/scala/org/apache/spark/examples/SparkHdfsLR.scala\n",
      "spark-3.0.0-preview2-bin-hadoop3.2/examples/src/main/scala/org/apache/spark/examples/mllib/\n",
      "spark-3.0.0-preview2-bin-hadoop3.2/examples/src/main/scala/org/apache/spark/examples/mllib/LDAExample.scala\n",
      "spark-3.0.0-preview2-bin-hadoop3.2/examples/src/main/scala/org/apache/spark/examples/mllib/BisectingKMeansExample.scala\n",
      "spark-3.0.0-preview2-bin-hadoop3.2/examples/src/main/scala/org/apache/spark/examples/mllib/TallSkinnySVD.scala\n",
      "spark-3.0.0-preview2-bin-hadoop3.2/examples/src/main/scala/org/apache/spark/examples/mllib/SampledRDDs.scala\n",
      "spark-3.0.0-preview2-bin-hadoop3.2/examples/src/main/scala/org/apache/spark/examples/mllib/RandomRDDGeneration.scala\n",
      "spark-3.0.0-preview2-bin-hadoop3.2/examples/src/main/scala/org/apache/spark/examples/mllib/NormalizerExample.scala\n",
      "spark-3.0.0-preview2-bin-hadoop3.2/examples/src/main/scala/org/apache/spark/examples/mllib/GradientBoostingClassificationExample.scala\n",
      "spark-3.0.0-preview2-bin-hadoop3.2/examples/src/main/scala/org/apache/spark/examples/mllib/PowerIterationClusteringExample.scala\n",
      "spark-3.0.0-preview2-bin-hadoop3.2/examples/src/main/scala/org/apache/spark/examples/mllib/StreamingTestExample.scala\n",
      "spark-3.0.0-preview2-bin-hadoop3.2/examples/src/main/scala/org/apache/spark/examples/mllib/MultiLabelMetricsExample.scala\n",
      "spark-3.0.0-preview2-bin-hadoop3.2/examples/src/main/scala/org/apache/spark/examples/mllib/LogisticRegressionWithLBFGSExample.scala\n",
      "spark-3.0.0-preview2-bin-hadoop3.2/examples/src/main/scala/org/apache/spark/examples/mllib/MultivariateSummarizer.scala\n",
      "spark-3.0.0-preview2-bin-hadoop3.2/examples/src/main/scala/org/apache/spark/examples/mllib/LBFGSExample.scala\n",
      "spark-3.0.0-preview2-bin-hadoop3.2/examples/src/main/scala/org/apache/spark/examples/mllib/TFIDFExample.scala\n",
      "spark-3.0.0-preview2-bin-hadoop3.2/examples/src/main/scala/org/apache/spark/examples/mllib/RandomForestRegressionExample.scala\n",
      "spark-3.0.0-preview2-bin-hadoop3.2/examples/src/main/scala/org/apache/spark/examples/mllib/PCAOnSourceVectorExample.scala\n",
      "spark-3.0.0-preview2-bin-hadoop3.2/examples/src/main/scala/org/apache/spark/examples/mllib/SVDExample.scala\n",
      "spark-3.0.0-preview2-bin-hadoop3.2/examples/src/main/scala/org/apache/spark/examples/mllib/PrefixSpanExample.scala\n",
      "spark-3.0.0-preview2-bin-hadoop3.2/examples/src/main/scala/org/apache/spark/examples/mllib/RandomForestClassificationExample.scala\n",
      "spark-3.0.0-preview2-bin-hadoop3.2/examples/src/main/scala/org/apache/spark/examples/mllib/Word2VecExample.scala\n",
      "spark-3.0.0-preview2-bin-hadoop3.2/examples/src/main/scala/org/apache/spark/examples/mllib/StandardScalerExample.scala\n",
      "spark-3.0.0-preview2-bin-hadoop3.2/examples/src/main/scala/org/apache/spark/examples/mllib/MulticlassMetricsExample.scala\n",
      "spark-3.0.0-preview2-bin-hadoop3.2/examples/src/main/scala/org/apache/spark/examples/mllib/GradientBoostingRegressionExample.scala\n",
      "spark-3.0.0-preview2-bin-hadoop3.2/examples/src/main/scala/org/apache/spark/examples/mllib/BinaryClassification.scala\n",
      "spark-3.0.0-preview2-bin-hadoop3.2/examples/src/main/scala/org/apache/spark/examples/mllib/BinaryClassificationMetricsExample.scala\n",
      "spark-3.0.0-preview2-bin-hadoop3.2/examples/src/main/scala/org/apache/spark/examples/mllib/IsotonicRegressionExample.scala\n",
      "spark-3.0.0-preview2-bin-hadoop3.2/examples/src/main/scala/org/apache/spark/examples/mllib/PMMLModelExportExample.scala\n",
      "spark-3.0.0-preview2-bin-hadoop3.2/examples/src/main/scala/org/apache/spark/examples/mllib/CosineSimilarity.scala\n",
      "spark-3.0.0-preview2-bin-hadoop3.2/examples/src/main/scala/org/apache/spark/examples/mllib/DenseKMeans.scala\n",
      "spark-3.0.0-preview2-bin-hadoop3.2/examples/src/main/scala/org/apache/spark/examples/mllib/NaiveBayesExample.scala\n",
      "spark-3.0.0-preview2-bin-hadoop3.2/examples/src/main/scala/org/apache/spark/examples/mllib/TallSkinnyPCA.scala\n",
      "spark-3.0.0-preview2-bin-hadoop3.2/examples/src/main/scala/org/apache/spark/examples/mllib/KMeansExample.scala\n",
      "spark-3.0.0-preview2-bin-hadoop3.2/examples/src/main/scala/org/apache/spark/examples/mllib/StreamingLinearRegressionExample.scala\n",
      "spark-3.0.0-preview2-bin-hadoop3.2/examples/src/main/scala/org/apache/spark/examples/mllib/RankingMetricsExample.scala\n",
      "spark-3.0.0-preview2-bin-hadoop3.2/examples/src/main/scala/org/apache/spark/examples/mllib/HypothesisTestingExample.scala\n",
      "spark-3.0.0-preview2-bin-hadoop3.2/examples/src/main/scala/org/apache/spark/examples/mllib/GradientBoostedTreesRunner.scala\n",
      "spark-3.0.0-preview2-bin-hadoop3.2/examples/src/main/scala/org/apache/spark/examples/mllib/HypothesisTestingKolmogorovSmirnovTestExample.scala\n",
      "spark-3.0.0-preview2-bin-hadoop3.2/examples/src/main/scala/org/apache/spark/examples/mllib/SimpleFPGrowth.scala\n",
      "spark-3.0.0-preview2-bin-hadoop3.2/examples/src/main/scala/org/apache/spark/examples/mllib/AbstractParams.scala\n",
      "spark-3.0.0-preview2-bin-hadoop3.2/examples/src/main/scala/org/apache/spark/examples/mllib/SVMWithSGDExample.scala\n",
      "spark-3.0.0-preview2-bin-hadoop3.2/examples/src/main/scala/org/apache/spark/examples/mllib/ElementwiseProductExample.scala\n",
      "spark-3.0.0-preview2-bin-hadoop3.2/examples/src/main/scala/org/apache/spark/examples/mllib/DecisionTreeClassificationExample.scala\n",
      "spark-3.0.0-preview2-bin-hadoop3.2/examples/src/main/scala/org/apache/spark/examples/mllib/FPGrowthExample.scala\n",
      "spark-3.0.0-preview2-bin-hadoop3.2/examples/src/main/scala/org/apache/spark/examples/mllib/GaussianMixtureExample.scala\n",
      "spark-3.0.0-preview2-bin-hadoop3.2/examples/src/main/scala/org/apache/spark/examples/mllib/StreamingLogisticRegression.scala\n",
      "spark-3.0.0-preview2-bin-hadoop3.2/examples/src/main/scala/org/apache/spark/examples/mllib/RecommendationExample.scala\n",
      "spark-3.0.0-preview2-bin-hadoop3.2/examples/src/main/scala/org/apache/spark/examples/mllib/ChiSqSelectorExample.scala\n",
      "spark-3.0.0-preview2-bin-hadoop3.2/examples/src/main/scala/org/apache/spark/examples/mllib/SummaryStatisticsExample.scala\n",
      "spark-3.0.0-preview2-bin-hadoop3.2/examples/src/main/scala/org/apache/spark/examples/mllib/SparseNaiveBayes.scala\n",
      "spark-3.0.0-preview2-bin-hadoop3.2/examples/src/main/scala/org/apache/spark/examples/mllib/MovieLensALS.scala\n",
      "spark-3.0.0-preview2-bin-hadoop3.2/examples/src/main/scala/org/apache/spark/examples/mllib/PCAOnRowMatrixExample.scala\n",
      "spark-3.0.0-preview2-bin-hadoop3.2/examples/src/main/scala/org/apache/spark/examples/mllib/Correlations.scala\n",
      "spark-3.0.0-preview2-bin-hadoop3.2/examples/src/main/scala/org/apache/spark/examples/mllib/CorrelationsExample.scala\n",
      "spark-3.0.0-preview2-bin-hadoop3.2/examples/src/main/scala/org/apache/spark/examples/mllib/StreamingKMeansExample.scala\n",
      "spark-3.0.0-preview2-bin-hadoop3.2/examples/src/main/scala/org/apache/spark/examples/mllib/AssociationRulesExample.scala\n",
      "spark-3.0.0-preview2-bin-hadoop3.2/examples/src/main/scala/org/apache/spark/examples/mllib/StratifiedSamplingExample.scala\n",
      "spark-3.0.0-preview2-bin-hadoop3.2/examples/src/main/scala/org/apache/spark/examples/mllib/KernelDensityEstimationExample.scala\n",
      "spark-3.0.0-preview2-bin-hadoop3.2/examples/src/main/scala/org/apache/spark/examples/mllib/DecisionTreeRunner.scala\n",
      "spark-3.0.0-preview2-bin-hadoop3.2/examples/src/main/scala/org/apache/spark/examples/mllib/DecisionTreeRegressionExample.scala\n",
      "spark-3.0.0-preview2-bin-hadoop3.2/examples/src/main/scala/org/apache/spark/examples/mllib/LatentDirichletAllocationExample.scala\n",
      "spark-3.0.0-preview2-bin-hadoop3.2/examples/src/main/scala/org/apache/spark/examples/GroupByTest.scala\n",
      "spark-3.0.0-preview2-bin-hadoop3.2/examples/src/main/scala/org/apache/spark/examples/pythonconverters/\n",
      "spark-3.0.0-preview2-bin-hadoop3.2/examples/src/main/scala/org/apache/spark/examples/pythonconverters/AvroConverters.scala\n",
      "spark-3.0.0-preview2-bin-hadoop3.2/examples/src/main/scala/org/apache/spark/examples/graphx/\n",
      "spark-3.0.0-preview2-bin-hadoop3.2/examples/src/main/scala/org/apache/spark/examples/graphx/LiveJournalPageRank.scala\n",
      "spark-3.0.0-preview2-bin-hadoop3.2/examples/src/main/scala/org/apache/spark/examples/graphx/Analytics.scala\n",
      "spark-3.0.0-preview2-bin-hadoop3.2/examples/src/main/scala/org/apache/spark/examples/graphx/ConnectedComponentsExample.scala\n",
      "spark-3.0.0-preview2-bin-hadoop3.2/examples/src/main/scala/org/apache/spark/examples/graphx/AggregateMessagesExample.scala\n",
      "spark-3.0.0-preview2-bin-hadoop3.2/examples/src/main/scala/org/apache/spark/examples/graphx/SynthBenchmark.scala\n",
      "spark-3.0.0-preview2-bin-hadoop3.2/examples/src/main/scala/org/apache/spark/examples/graphx/PageRankExample.scala\n",
      "spark-3.0.0-preview2-bin-hadoop3.2/examples/src/main/scala/org/apache/spark/examples/graphx/SSSPExample.scala\n",
      "spark-3.0.0-preview2-bin-hadoop3.2/examples/src/main/scala/org/apache/spark/examples/graphx/TriangleCountingExample.scala\n",
      "spark-3.0.0-preview2-bin-hadoop3.2/examples/src/main/scala/org/apache/spark/examples/graphx/ComprehensiveExample.scala\n",
      "spark-3.0.0-preview2-bin-hadoop3.2/examples/src/main/scala/org/apache/spark/examples/SparkKMeans.scala\n",
      "spark-3.0.0-preview2-bin-hadoop3.2/examples/src/main/scala/org/apache/spark/examples/LocalALS.scala\n",
      "spark-3.0.0-preview2-bin-hadoop3.2/examples/src/main/scala/org/apache/spark/examples/SparkALS.scala\n",
      "spark-3.0.0-preview2-bin-hadoop3.2/examples/src/main/scala/org/apache/spark/examples/SimpleSkewedGroupByTest.scala\n",
      "spark-3.0.0-preview2-bin-hadoop3.2/examples/src/main/scala/org/apache/spark/examples/ExceptionHandlingTest.scala\n",
      "spark-3.0.0-preview2-bin-hadoop3.2/examples/src/main/scala/org/apache/spark/examples/HdfsTest.scala\n",
      "spark-3.0.0-preview2-bin-hadoop3.2/examples/src/main/scala/org/apache/spark/examples/SparkLR.scala\n",
      "spark-3.0.0-preview2-bin-hadoop3.2/examples/src/main/r/\n",
      "spark-3.0.0-preview2-bin-hadoop3.2/examples/src/main/r/ml/\n",
      "spark-3.0.0-preview2-bin-hadoop3.2/examples/src/main/r/ml/bisectingKmeans.R\n",
      "spark-3.0.0-preview2-bin-hadoop3.2/examples/src/main/r/ml/fpm.R\n",
      "spark-3.0.0-preview2-bin-hadoop3.2/examples/src/main/r/ml/isoreg.R\n",
      "spark-3.0.0-preview2-bin-hadoop3.2/examples/src/main/r/ml/decisionTree.R\n",
      "spark-3.0.0-preview2-bin-hadoop3.2/examples/src/main/r/ml/powerIterationClustering.R\n",
      "spark-3.0.0-preview2-bin-hadoop3.2/examples/src/main/r/ml/naiveBayes.R\n",
      "spark-3.0.0-preview2-bin-hadoop3.2/examples/src/main/r/ml/prefixSpan.R\n",
      "spark-3.0.0-preview2-bin-hadoop3.2/examples/src/main/r/ml/gaussianMixture.R\n",
      "spark-3.0.0-preview2-bin-hadoop3.2/examples/src/main/r/ml/kmeans.R\n",
      "spark-3.0.0-preview2-bin-hadoop3.2/examples/src/main/r/ml/glm.R\n",
      "spark-3.0.0-preview2-bin-hadoop3.2/examples/src/main/r/ml/mlp.R\n",
      "spark-3.0.0-preview2-bin-hadoop3.2/examples/src/main/r/ml/lda.R\n",
      "spark-3.0.0-preview2-bin-hadoop3.2/examples/src/main/r/ml/survreg.R\n",
      "spark-3.0.0-preview2-bin-hadoop3.2/examples/src/main/r/ml/ml.R\n",
      "spark-3.0.0-preview2-bin-hadoop3.2/examples/src/main/r/ml/gbt.R\n",
      "spark-3.0.0-preview2-bin-hadoop3.2/examples/src/main/r/ml/svmLinear.R\n",
      "spark-3.0.0-preview2-bin-hadoop3.2/examples/src/main/r/ml/als.R\n",
      "spark-3.0.0-preview2-bin-hadoop3.2/examples/src/main/r/ml/logit.R\n",
      "spark-3.0.0-preview2-bin-hadoop3.2/examples/src/main/r/ml/kstest.R\n",
      "spark-3.0.0-preview2-bin-hadoop3.2/examples/src/main/r/ml/randomForest.R\n",
      "spark-3.0.0-preview2-bin-hadoop3.2/examples/src/main/r/streaming/\n",
      "spark-3.0.0-preview2-bin-hadoop3.2/examples/src/main/r/streaming/structured_network_wordcount.R\n",
      "spark-3.0.0-preview2-bin-hadoop3.2/examples/src/main/r/data-manipulation.R\n",
      "spark-3.0.0-preview2-bin-hadoop3.2/examples/src/main/r/dataframe.R\n",
      "spark-3.0.0-preview2-bin-hadoop3.2/examples/src/main/r/RSparkSQLExample.R\n",
      "spark-3.0.0-preview2-bin-hadoop3.2/conf/\n",
      "spark-3.0.0-preview2-bin-hadoop3.2/conf/slaves.template\n",
      "spark-3.0.0-preview2-bin-hadoop3.2/conf/spark-env.sh.template\n",
      "spark-3.0.0-preview2-bin-hadoop3.2/conf/log4j.properties.template\n",
      "spark-3.0.0-preview2-bin-hadoop3.2/conf/spark-defaults.conf.template\n",
      "spark-3.0.0-preview2-bin-hadoop3.2/conf/fairscheduler.xml.template\n",
      "spark-3.0.0-preview2-bin-hadoop3.2/conf/metrics.properties.template\n",
      "spark-3.0.0-preview2-bin-hadoop3.2/jars/\n",
      "spark-3.0.0-preview2-bin-hadoop3.2/jars/kerb-core-1.0.1.jar\n",
      "spark-3.0.0-preview2-bin-hadoop3.2/jars/token-provider-1.0.1.jar\n",
      "spark-3.0.0-preview2-bin-hadoop3.2/jars/kerby-config-1.0.1.jar\n",
      "spark-3.0.0-preview2-bin-hadoop3.2/jars/datanucleus-core-4.1.17.jar\n",
      "spark-3.0.0-preview2-bin-hadoop3.2/jars/jpam-1.1.jar\n",
      "spark-3.0.0-preview2-bin-hadoop3.2/jars/hive-shims-0.23-2.3.6.jar\n",
      "spark-3.0.0-preview2-bin-hadoop3.2/jars/okapi-shade-0.4.2.jar\n",
      "spark-3.0.0-preview2-bin-hadoop3.2/jars/commons-configuration2-2.1.1.jar\n",
      "spark-3.0.0-preview2-bin-hadoop3.2/jars/httpclient-4.5.6.jar\n",
      "spark-3.0.0-preview2-bin-hadoop3.2/jars/avro-1.8.2.jar\n",
      "spark-3.0.0-preview2-bin-hadoop3.2/jars/jsr305-3.0.0.jar\n",
      "spark-3.0.0-preview2-bin-hadoop3.2/jars/slf4j-api-1.7.16.jar\n",
      "spark-3.0.0-preview2-bin-hadoop3.2/jars/kerb-simplekdc-1.0.1.jar\n",
      "spark-3.0.0-preview2-bin-hadoop3.2/jars/JTransforms-3.1.jar\n",
      "spark-3.0.0-preview2-bin-hadoop3.2/jars/hadoop-yarn-client-3.2.0.jar\n",
      "spark-3.0.0-preview2-bin-hadoop3.2/jars/orc-core-1.5.8.jar\n",
      "spark-3.0.0-preview2-bin-hadoop3.2/jars/spark-mllib-local_2.12-3.0.0-preview2.jar\n",
      "spark-3.0.0-preview2-bin-hadoop3.2/jars/jersey-server-2.29.1.jar\n",
      "spark-3.0.0-preview2-bin-hadoop3.2/jars/hadoop-yarn-server-common-3.2.0.jar\n",
      "spark-3.0.0-preview2-bin-hadoop3.2/jars/scala-library-2.12.10.jar\n",
      "spark-3.0.0-preview2-bin-hadoop3.2/jars/jackson-dataformat-yaml-2.10.0.jar\n",
      "spark-3.0.0-preview2-bin-hadoop3.2/jars/parquet-common-1.10.1.jar\n",
      "spark-3.0.0-preview2-bin-hadoop3.2/jars/zstd-jni-1.4.4-3.jar\n",
      "spark-3.0.0-preview2-bin-hadoop3.2/jars/hive-serde-2.3.6.jar\n",
      "spark-3.0.0-preview2-bin-hadoop3.2/jars/ST4-4.0.4.jar\n",
      "spark-3.0.0-preview2-bin-hadoop3.2/jars/libthrift-0.12.0.jar\n",
      "spark-3.0.0-preview2-bin-hadoop3.2/jars/spark-hive-thriftserver_2.12-3.0.0-preview2.jar\n",
      "spark-3.0.0-preview2-bin-hadoop3.2/jars/dnsjava-2.1.7.jar\n",
      "spark-3.0.0-preview2-bin-hadoop3.2/jars/commons-daemon-1.0.13.jar\n",
      "spark-3.0.0-preview2-bin-hadoop3.2/jars/hive-shims-scheduler-2.3.6.jar\n",
      "spark-3.0.0-preview2-bin-hadoop3.2/jars/javassist-3.22.0-CR2.jar\n",
      "spark-3.0.0-preview2-bin-hadoop3.2/jars/stax-api-1.0.1.jar\n",
      "spark-3.0.0-preview2-bin-hadoop3.2/jars/json4s-ast_2.12-3.6.6.jar\n",
      "spark-3.0.0-preview2-bin-hadoop3.2/jars/kerby-pkix-1.0.1.jar\n",
      "spark-3.0.0-preview2-bin-hadoop3.2/jars/snappy-java-1.1.7.3.jar\n",
      "spark-3.0.0-preview2-bin-hadoop3.2/jars/spark-graph_2.12-3.0.0-preview2.jar\n",
      "spark-3.0.0-preview2-bin-hadoop3.2/jars/hive-common-2.3.6.jar\n",
      "spark-3.0.0-preview2-bin-hadoop3.2/jars/pyrolite-4.30.jar\n",
      "spark-3.0.0-preview2-bin-hadoop3.2/jars/metrics-json-4.1.1.jar\n",
      "spark-3.0.0-preview2-bin-hadoop3.2/jars/hive-exec-2.3.6-core.jar\n",
      "spark-3.0.0-preview2-bin-hadoop3.2/jars/super-csv-2.2.0.jar\n",
      "spark-3.0.0-preview2-bin-hadoop3.2/jars/kerb-common-1.0.1.jar\n",
      "spark-3.0.0-preview2-bin-hadoop3.2/jars/json4s-scalap_2.12-3.6.6.jar\n",
      "spark-3.0.0-preview2-bin-hadoop3.2/jars/jackson-databind-2.10.0.jar\n",
      "spark-3.0.0-preview2-bin-hadoop3.2/jars/log4j-1.2.17.jar\n",
      "spark-3.0.0-preview2-bin-hadoop3.2/jars/javolution-5.5.1.jar\n",
      "spark-3.0.0-preview2-bin-hadoop3.2/jars/spire_2.12-0.17.0-M1.jar\n",
      "spark-3.0.0-preview2-bin-hadoop3.2/jars/spark-graphx_2.12-3.0.0-preview2.jar\n",
      "spark-3.0.0-preview2-bin-hadoop3.2/jars/zookeeper-3.4.14.jar\n",
      "spark-3.0.0-preview2-bin-hadoop3.2/jars/velocity-1.5.jar\n",
      "spark-3.0.0-preview2-bin-hadoop3.2/jars/spark-tags_2.12-3.0.0-preview2-tests.jar\n",
      "spark-3.0.0-preview2-bin-hadoop3.2/jars/jakarta.activation-api-1.2.1.jar\n",
      "spark-3.0.0-preview2-bin-hadoop3.2/jars/spark-core_2.12-3.0.0-preview2.jar\n",
      "spark-3.0.0-preview2-bin-hadoop3.2/jars/kerby-util-1.0.1.jar\n",
      "spark-3.0.0-preview2-bin-hadoop3.2/jars/scala-parser-combinators_2.12-1.1.2.jar\n",
      "spark-3.0.0-preview2-bin-hadoop3.2/jars/paranamer-2.8.jar\n",
      "spark-3.0.0-preview2-bin-hadoop3.2/jars/spark-unsafe_2.12-3.0.0-preview2.jar\n",
      "spark-3.0.0-preview2-bin-hadoop3.2/jars/commons-lang-2.6.jar\n",
      "spark-3.0.0-preview2-bin-hadoop3.2/jars/spark-kubernetes_2.12-3.0.0-preview2.jar\n",
      "spark-3.0.0-preview2-bin-hadoop3.2/jars/joda-time-2.10.5.jar\n",
      "spark-3.0.0-preview2-bin-hadoop3.2/jars/jackson-module-paranamer-2.10.0.jar\n",
      "spark-3.0.0-preview2-bin-hadoop3.2/jars/mesos-1.4.0-shaded-protobuf.jar\n",
      "spark-3.0.0-preview2-bin-hadoop3.2/jars/breeze_2.12-1.0.jar\n",
      "spark-3.0.0-preview2-bin-hadoop3.2/jars/spark-sql_2.12-3.0.0-preview2.jar\n",
      "spark-3.0.0-preview2-bin-hadoop3.2/jars/metrics-jvm-4.1.1.jar\n",
      "spark-3.0.0-preview2-bin-hadoop3.2/jars/hadoop-auth-3.2.0.jar\n",
      "spark-3.0.0-preview2-bin-hadoop3.2/jars/kerb-server-1.0.1.jar\n",
      "spark-3.0.0-preview2-bin-hadoop3.2/jars/jersey-media-jaxb-2.29.1.jar\n",
      "spark-3.0.0-preview2-bin-hadoop3.2/jars/activation-1.1.1.jar\n",
      "spark-3.0.0-preview2-bin-hadoop3.2/jars/spark-hive_2.12-3.0.0-preview2.jar\n",
      "spark-3.0.0-preview2-bin-hadoop3.2/jars/jersey-hk2-2.29.1.jar\n",
      "spark-3.0.0-preview2-bin-hadoop3.2/jars/commons-net-3.1.jar\n",
      "spark-3.0.0-preview2-bin-hadoop3.2/jars/woodstox-core-5.0.3.jar\n",
      "spark-3.0.0-preview2-bin-hadoop3.2/jars/re2j-1.1.jar\n",
      "spark-3.0.0-preview2-bin-hadoop3.2/jars/spark-mesos_2.12-3.0.0-preview2.jar\n",
      "spark-3.0.0-preview2-bin-hadoop3.2/jars/avro-mapred-1.8.2-hadoop2.jar\n",
      "spark-3.0.0-preview2-bin-hadoop3.2/jars/transaction-api-1.1.jar\n",
      "spark-3.0.0-preview2-bin-hadoop3.2/jars/spark-yarn_2.12-3.0.0-preview2.jar\n",
      "spark-3.0.0-preview2-bin-hadoop3.2/jars/scala-collection-compat_2.12-2.1.1.jar\n",
      "spark-3.0.0-preview2-bin-hadoop3.2/jars/guice-servlet-4.0.jar\n",
      "spark-3.0.0-preview2-bin-hadoop3.2/jars/metrics-core-4.1.1.jar\n",
      "spark-3.0.0-preview2-bin-hadoop3.2/jars/protobuf-java-2.5.0.jar\n",
      "spark-3.0.0-preview2-bin-hadoop3.2/jars/py4j-0.10.8.1.jar\n",
      "spark-3.0.0-preview2-bin-hadoop3.2/jars/commons-compress-1.8.1.jar\n",
      "spark-3.0.0-preview2-bin-hadoop3.2/jars/kubernetes-client-4.6.4.jar\n",
      "spark-3.0.0-preview2-bin-hadoop3.2/jars/nimbus-jose-jwt-4.41.1.jar\n",
      "spark-3.0.0-preview2-bin-hadoop3.2/jars/spark-sketch_2.12-3.0.0-preview2.jar\n",
      "spark-3.0.0-preview2-bin-hadoop3.2/jars/zjsonpatch-0.3.0.jar\n",
      "spark-3.0.0-preview2-bin-hadoop3.2/jars/kubernetes-model-common-4.6.4.jar\n",
      "spark-3.0.0-preview2-bin-hadoop3.2/jars/spire-macros_2.12-0.17.0-M1.jar\n",
      "spark-3.0.0-preview2-bin-hadoop3.2/jars/spark-mllib_2.12-3.0.0-preview2.jar\n",
      "spark-3.0.0-preview2-bin-hadoop3.2/jars/commons-compiler-3.0.15.jar\n",
      "spark-3.0.0-preview2-bin-hadoop3.2/jars/univocity-parsers-2.8.3.jar\n",
      "spark-3.0.0-preview2-bin-hadoop3.2/jars/json4s-jackson_2.12-3.6.6.jar\n",
      "spark-3.0.0-preview2-bin-hadoop3.2/jars/arrow-vector-0.15.1.jar\n",
      "spark-3.0.0-preview2-bin-hadoop3.2/jars/spark-catalyst_2.12-3.0.0-preview2.jar\n",
      "spark-3.0.0-preview2-bin-hadoop3.2/jars/okhttp-3.12.6.jar\n",
      "spark-3.0.0-preview2-bin-hadoop3.2/jars/jersey-container-servlet-2.29.1.jar\n",
      "spark-3.0.0-preview2-bin-hadoop3.2/jars/curator-framework-2.13.0.jar\n",
      "spark-3.0.0-preview2-bin-hadoop3.2/jars/htrace-core4-4.1.0-incubating.jar\n",
      "spark-3.0.0-preview2-bin-hadoop3.2/jars/curator-client-2.13.0.jar\n",
      "spark-3.0.0-preview2-bin-hadoop3.2/jars/aopalliance-1.0.jar\n",
      "spark-3.0.0-preview2-bin-hadoop3.2/jars/hk2-locator-2.6.1.jar\n",
      "spark-3.0.0-preview2-bin-hadoop3.2/jars/jta-1.1.jar\n",
      "spark-3.0.0-preview2-bin-hadoop3.2/jars/commons-crypto-1.0.0.jar\n",
      "spark-3.0.0-preview2-bin-hadoop3.2/jars/hadoop-yarn-server-web-proxy-3.2.0.jar\n",
      "spark-3.0.0-preview2-bin-hadoop3.2/jars/kerb-util-1.0.1.jar\n",
      "spark-3.0.0-preview2-bin-hadoop3.2/jars/cats-kernel_2.12-2.0.0-M4.jar\n",
      "spark-3.0.0-preview2-bin-hadoop3.2/jars/guice-4.0.jar\n",
      "spark-3.0.0-preview2-bin-hadoop3.2/jars/spire-platform_2.12-0.17.0-M1.jar\n",
      "spark-3.0.0-preview2-bin-hadoop3.2/jars/jcl-over-slf4j-1.7.16.jar\n",
      "spark-3.0.0-preview2-bin-hadoop3.2/jars/jaxb-runtime-2.3.2.jar\n",
      "spark-3.0.0-preview2-bin-hadoop3.2/jars/json-1.8.jar\n",
      "spark-3.0.0-preview2-bin-hadoop3.2/jars/dropwizard-metrics-hadoop-metrics2-reporter-0.1.2.jar\n",
      "spark-3.0.0-preview2-bin-hadoop3.2/jars/kerb-client-1.0.1.jar\n",
      "spark-3.0.0-preview2-bin-hadoop3.2/jars/hadoop-common-3.2.0.jar\n",
      "spark-3.0.0-preview2-bin-hadoop3.2/jars/osgi-resource-locator-1.0.3.jar\n",
      "spark-3.0.0-preview2-bin-hadoop3.2/jars/hk2-utils-2.6.1.jar\n",
      "spark-3.0.0-preview2-bin-hadoop3.2/jars/ehcache-3.3.1.jar\n",
      "spark-3.0.0-preview2-bin-hadoop3.2/jars/accessors-smart-1.2.jar\n",
      "spark-3.0.0-preview2-bin-hadoop3.2/jars/algebra_2.12-2.0.0-M2.jar\n",
      "spark-3.0.0-preview2-bin-hadoop3.2/jars/jackson-core-asl-1.9.13.jar\n",
      "spark-3.0.0-preview2-bin-hadoop3.2/jars/json4s-core_2.12-3.6.6.jar\n",
      "spark-3.0.0-preview2-bin-hadoop3.2/jars/parquet-hadoop-1.10.1.jar\n",
      "spark-3.0.0-preview2-bin-hadoop3.2/jars/jersey-common-2.29.1.jar\n",
      "spark-3.0.0-preview2-bin-hadoop3.2/jars/stax2-api-3.1.4.jar\n",
      "spark-3.0.0-preview2-bin-hadoop3.2/jars/chill-java-0.9.3.jar\n",
      "spark-3.0.0-preview2-bin-hadoop3.2/jars/jackson-jaxrs-base-2.9.5.jar\n",
      "spark-3.0.0-preview2-bin-hadoop3.2/jars/hadoop-mapreduce-client-core-3.2.0.jar\n",
      "spark-3.0.0-preview2-bin-hadoop3.2/jars/minlog-1.3.0.jar\n",
      "spark-3.0.0-preview2-bin-hadoop3.2/jars/shims-0.7.45.jar\n",
      "spark-3.0.0-preview2-bin-hadoop3.2/jars/mssql-jdbc-6.2.1.jre7.jar\n",
      "spark-3.0.0-preview2-bin-hadoop3.2/jars/commons-cli-1.2.jar\n",
      "spark-3.0.0-preview2-bin-hadoop3.2/jars/jackson-module-jaxb-annotations-2.10.0.jar\n",
      "spark-3.0.0-preview2-bin-hadoop3.2/jars/logging-interceptor-3.12.6.jar\n",
      "spark-3.0.0-preview2-bin-hadoop3.2/jars/scala-reflect-2.12.10.jar\n",
      "spark-3.0.0-preview2-bin-hadoop3.2/jars/scala-xml_2.12-1.2.0.jar\n",
      "spark-3.0.0-preview2-bin-hadoop3.2/jars/flatbuffers-java-1.9.0.jar\n",
      "spark-3.0.0-preview2-bin-hadoop3.2/jars/jackson-core-2.10.0.jar\n",
      "spark-3.0.0-preview2-bin-hadoop3.2/jars/HikariCP-2.5.1.jar\n",
      "spark-3.0.0-preview2-bin-hadoop3.2/jars/libfb303-0.9.3.jar\n",
      "spark-3.0.0-preview2-bin-hadoop3.2/jars/audience-annotations-0.5.0.jar\n",
      "spark-3.0.0-preview2-bin-hadoop3.2/jars/objenesis-2.5.1.jar\n",
      "spark-3.0.0-preview2-bin-hadoop3.2/jars/arrow-memory-0.15.1.jar\n",
      "spark-3.0.0-preview2-bin-hadoop3.2/jars/jakarta.validation-api-2.0.2.jar\n",
      "spark-3.0.0-preview2-bin-hadoop3.2/jars/spark-network-common_2.12-3.0.0-preview2.jar\n",
      "spark-3.0.0-preview2-bin-hadoop3.2/jars/commons-io-2.4.jar\n",
      "spark-3.0.0-preview2-bin-hadoop3.2/jars/hk2-api-2.6.1.jar\n",
      "spark-3.0.0-preview2-bin-hadoop3.2/jars/breeze-macros_2.12-1.0.jar\n",
      "spark-3.0.0-preview2-bin-hadoop3.2/jars/kerby-asn1-1.0.1.jar\n",
      "spark-3.0.0-preview2-bin-hadoop3.2/jars/hive-vector-code-gen-2.3.6.jar\n",
      "spark-3.0.0-preview2-bin-hadoop3.2/jars/kerby-xdr-1.0.1.jar\n",
      "spark-3.0.0-preview2-bin-hadoop3.2/jars/hive-cli-2.3.6.jar\n",
      "spark-3.0.0-preview2-bin-hadoop3.2/jars/aopalliance-repackaged-2.6.1.jar\n",
      "spark-3.0.0-preview2-bin-hadoop3.2/jars/kerb-crypto-1.0.1.jar\n",
      "spark-3.0.0-preview2-bin-hadoop3.2/jars/jackson-mapper-asl-1.9.13.jar\n",
      "spark-3.0.0-preview2-bin-hadoop3.2/jars/commons-collections-3.2.2.jar\n",
      "spark-3.0.0-preview2-bin-hadoop3.2/jars/hive-service-rpc-2.3.6.jar\n",
      "spark-3.0.0-preview2-bin-hadoop3.2/jars/ivy-2.4.0.jar\n",
      "spark-3.0.0-preview2-bin-hadoop3.2/jars/istack-commons-runtime-3.0.8.jar\n",
      "spark-3.0.0-preview2-bin-hadoop3.2/jars/hadoop-mapreduce-client-jobclient-3.2.0.jar\n",
      "spark-3.0.0-preview2-bin-hadoop3.2/jars/netty-all-4.1.42.Final.jar\n",
      "spark-3.0.0-preview2-bin-hadoop3.2/jars/spire-util_2.12-0.17.0-M1.jar\n",
      "spark-3.0.0-preview2-bin-hadoop3.2/jars/compress-lzf-1.0.3.jar\n",
      "spark-3.0.0-preview2-bin-hadoop3.2/jars/RoaringBitmap-0.7.45.jar\n",
      "spark-3.0.0-preview2-bin-hadoop3.2/jars/javax.jdo-3.2.0-m3.jar\n",
      "spark-3.0.0-preview2-bin-hadoop3.2/jars/jcip-annotations-1.0-1.jar\n",
      "spark-3.0.0-preview2-bin-hadoop3.2/jars/hive-metastore-2.3.6.jar\n",
      "spark-3.0.0-preview2-bin-hadoop3.2/jars/jul-to-slf4j-1.7.16.jar\n",
      "spark-3.0.0-preview2-bin-hadoop3.2/jars/spark-tags_2.12-3.0.0-preview2.jar\n",
      "spark-3.0.0-preview2-bin-hadoop3.2/jars/spark-graph-api_2.12-3.0.0-preview2.jar\n",
      "spark-3.0.0-preview2-bin-hadoop3.2/jars/hadoop-client-3.2.0.jar\n",
      "spark-3.0.0-preview2-bin-hadoop3.2/jars/hadoop-annotations-3.2.0.jar\n",
      "spark-3.0.0-preview2-bin-hadoop3.2/jars/parquet-format-2.4.0.jar\n",
      "spark-3.0.0-preview2-bin-hadoop3.2/jars/httpcore-4.4.12.jar\n",
      "spark-3.0.0-preview2-bin-hadoop3.2/jars/parquet-column-1.10.1.jar\n",
      "spark-3.0.0-preview2-bin-hadoop3.2/jars/hadoop-hdfs-client-3.2.0.jar\n",
      "spark-3.0.0-preview2-bin-hadoop3.2/jars/kubernetes-model-4.6.4.jar\n",
      "spark-3.0.0-preview2-bin-hadoop3.2/jars/slf4j-log4j12-1.7.16.jar\n",
      "spark-3.0.0-preview2-bin-hadoop3.2/jars/kryo-shaded-4.0.2.jar\n",
      "spark-3.0.0-preview2-bin-hadoop3.2/jars/antlr-runtime-3.5.2.jar\n",
      "spark-3.0.0-preview2-bin-hadoop3.2/jars/metrics-jmx-4.1.1.jar\n",
      "spark-3.0.0-preview2-bin-hadoop3.2/jars/machinist_2.12-0.6.8.jar\n",
      "spark-3.0.0-preview2-bin-hadoop3.2/jars/json-smart-2.3.jar\n",
      "spark-3.0.0-preview2-bin-hadoop3.2/jars/hive-llap-common-2.3.6.jar\n",
      "spark-3.0.0-preview2-bin-hadoop3.2/jars/okio-1.15.0.jar\n",
      "spark-3.0.0-preview2-bin-hadoop3.2/jars/derby-10.12.1.1.jar\n",
      "spark-3.0.0-preview2-bin-hadoop3.2/jars/jakarta.xml.bind-api-2.3.2.jar\n",
      "spark-3.0.0-preview2-bin-hadoop3.2/jars/spark-repl_2.12-3.0.0-preview2.jar\n",
      "spark-3.0.0-preview2-bin-hadoop3.2/jars/hadoop-yarn-common-3.2.0.jar\n",
      "spark-3.0.0-preview2-bin-hadoop3.2/jars/jackson-module-scala_2.12-2.10.0.jar\n",
      "spark-3.0.0-preview2-bin-hadoop3.2/jars/bonecp-0.8.0.RELEASE.jar\n",
      "spark-3.0.0-preview2-bin-hadoop3.2/jars/snakeyaml-1.24.jar\n",
      "spark-3.0.0-preview2-bin-hadoop3.2/jars/jersey-container-servlet-core-2.29.1.jar\n",
      "spark-3.0.0-preview2-bin-hadoop3.2/jars/macro-compat_2.12-1.1.1.jar\n",
      "spark-3.0.0-preview2-bin-hadoop3.2/jars/commons-math3-3.4.1.jar\n",
      "spark-3.0.0-preview2-bin-hadoop3.2/jars/oro-2.0.8.jar\n",
      "spark-3.0.0-preview2-bin-hadoop3.2/jars/lz4-java-1.7.0.jar\n",
      "spark-3.0.0-preview2-bin-hadoop3.2/jars/orc-mapreduce-1.5.8.jar\n",
      "spark-3.0.0-preview2-bin-hadoop3.2/jars/jackson-jaxrs-json-provider-2.9.5.jar\n",
      "spark-3.0.0-preview2-bin-hadoop3.2/jars/kerb-identity-1.0.1.jar\n",
      "spark-3.0.0-preview2-bin-hadoop3.2/jars/jackson-annotations-2.10.0.jar\n",
      "spark-3.0.0-preview2-bin-hadoop3.2/jars/chill_2.12-0.9.3.jar\n",
      "spark-3.0.0-preview2-bin-hadoop3.2/jars/jersey-client-2.29.1.jar\n",
      "spark-3.0.0-preview2-bin-hadoop3.2/jars/opencsv-2.3.jar\n",
      "spark-3.0.0-preview2-bin-hadoop3.2/jars/geronimo-jcache_1.0_spec-1.0-alpha-1.jar\n",
      "spark-3.0.0-preview2-bin-hadoop3.2/jars/spark-kvstore_2.12-3.0.0-preview2.jar\n",
      "spark-3.0.0-preview2-bin-hadoop3.2/jars/scala-compiler-2.12.10.jar\n",
      "spark-3.0.0-preview2-bin-hadoop3.2/jars/metrics-graphite-4.1.1.jar\n",
      "spark-3.0.0-preview2-bin-hadoop3.2/jars/hadoop-yarn-api-3.2.0.jar\n",
      "spark-3.0.0-preview2-bin-hadoop3.2/jars/arrow-format-0.15.1.jar\n",
      "spark-3.0.0-preview2-bin-hadoop3.2/jars/parquet-jackson-1.10.1.jar\n",
      "spark-3.0.0-preview2-bin-hadoop3.2/jars/generex-1.0.2.jar\n",
      "spark-3.0.0-preview2-bin-hadoop3.2/jars/spark-streaming_2.12-3.0.0-preview2.jar\n",
      "spark-3.0.0-preview2-bin-hadoop3.2/jars/parquet-encoding-1.10.1.jar\n",
      "spark-3.0.0-preview2-bin-hadoop3.2/jars/commons-pool-1.5.4.jar\n",
      "spark-3.0.0-preview2-bin-hadoop3.2/jars/javax.servlet-api-3.1.0.jar\n",
      "spark-3.0.0-preview2-bin-hadoop3.2/jars/avro-ipc-1.8.2.jar\n",
      "spark-3.0.0-preview2-bin-hadoop3.2/jars/jakarta.ws.rs-api-2.1.6.jar\n",
      "spark-3.0.0-preview2-bin-hadoop3.2/jars/jsp-api-2.1.jar\n",
      "spark-3.0.0-preview2-bin-hadoop3.2/jars/jakarta.annotation-api-1.3.5.jar\n",
      "spark-3.0.0-preview2-bin-hadoop3.2/jars/stream-2.9.6.jar\n",
      "spark-3.0.0-preview2-bin-hadoop3.2/jars/javax.inject-1.jar\n",
      "spark-3.0.0-preview2-bin-hadoop3.2/jars/JLargeArrays-1.5.jar\n",
      "spark-3.0.0-preview2-bin-hadoop3.2/jars/xz-1.5.jar\n",
      "spark-3.0.0-preview2-bin-hadoop3.2/jars/datanucleus-api-jdo-4.2.4.jar\n",
      "spark-3.0.0-preview2-bin-hadoop3.2/jars/jaxb-api-2.2.11.jar\n",
      "spark-3.0.0-preview2-bin-hadoop3.2/jars/orc-shims-1.5.8.jar\n",
      "spark-3.0.0-preview2-bin-hadoop3.2/jars/hadoop-mapreduce-client-common-3.2.0.jar\n",
      "spark-3.0.0-preview2-bin-hadoop3.2/jars/core-1.1.2.jar\n",
      "spark-3.0.0-preview2-bin-hadoop3.2/jars/commons-codec-1.10.jar\n",
      "spark-3.0.0-preview2-bin-hadoop3.2/jars/commons-logging-1.1.3.jar\n",
      "spark-3.0.0-preview2-bin-hadoop3.2/jars/aircompressor-0.10.jar\n",
      "spark-3.0.0-preview2-bin-hadoop3.2/jars/shapeless_2.12-2.3.3.jar\n",
      "spark-3.0.0-preview2-bin-hadoop3.2/jars/curator-recipes-2.13.0.jar\n",
      "spark-3.0.0-preview2-bin-hadoop3.2/jars/jline-2.14.6.jar\n",
      "spark-3.0.0-preview2-bin-hadoop3.2/jars/leveldbjni-all-1.8.jar\n",
      "spark-3.0.0-preview2-bin-hadoop3.2/jars/hive-shims-2.3.6.jar\n",
      "spark-3.0.0-preview2-bin-hadoop3.2/jars/commons-lang3-3.9.jar\n",
      "spark-3.0.0-preview2-bin-hadoop3.2/jars/spark-network-shuffle_2.12-3.0.0-preview2.jar\n",
      "spark-3.0.0-preview2-bin-hadoop3.2/jars/xbean-asm7-shaded-4.15.jar\n",
      "spark-3.0.0-preview2-bin-hadoop3.2/jars/okhttp-2.7.5.jar\n",
      "spark-3.0.0-preview2-bin-hadoop3.2/jars/jdo-api-3.0.1.jar\n",
      "spark-3.0.0-preview2-bin-hadoop3.2/jars/spark-cypher_2.12-3.0.0-preview2.jar\n",
      "spark-3.0.0-preview2-bin-hadoop3.2/jars/hive-jdbc-2.3.6.jar\n",
      "spark-3.0.0-preview2-bin-hadoop3.2/jars/commons-dbcp-1.4.jar\n",
      "spark-3.0.0-preview2-bin-hadoop3.2/jars/gson-2.2.4.jar\n",
      "spark-3.0.0-preview2-bin-hadoop3.2/jars/arpack_combined_all-0.1.jar\n",
      "spark-3.0.0-preview2-bin-hadoop3.2/jars/hadoop-yarn-registry-3.2.0.jar\n",
      "spark-3.0.0-preview2-bin-hadoop3.2/jars/janino-3.0.15.jar\n",
      "spark-3.0.0-preview2-bin-hadoop3.2/jars/hive-shims-common-2.3.6.jar\n",
      "spark-3.0.0-preview2-bin-hadoop3.2/jars/jodd-core-3.5.2.jar\n",
      "spark-3.0.0-preview2-bin-hadoop3.2/jars/antlr4-runtime-4.7.1.jar\n",
      "spark-3.0.0-preview2-bin-hadoop3.2/jars/datanucleus-rdbms-4.1.19.jar\n",
      "spark-3.0.0-preview2-bin-hadoop3.2/jars/kerb-admin-1.0.1.jar\n",
      "spark-3.0.0-preview2-bin-hadoop3.2/jars/hive-beeline-2.3.6.jar\n",
      "spark-3.0.0-preview2-bin-hadoop3.2/jars/jakarta.inject-2.6.1.jar\n",
      "spark-3.0.0-preview2-bin-hadoop3.2/jars/automaton-1.11-8.jar\n",
      "spark-3.0.0-preview2-bin-hadoop3.2/jars/spark-launcher_2.12-3.0.0-preview2.jar\n",
      "spark-3.0.0-preview2-bin-hadoop3.2/jars/guava-14.0.1.jar\n",
      "spark-3.0.0-preview2-bin-hadoop3.2/jars/commons-text-1.6.jar\n",
      "spark-3.0.0-preview2-bin-hadoop3.2/jars/hive-storage-api-2.6.0.jar\n",
      "spark-3.0.0-preview2-bin-hadoop3.2/jars/commons-beanutils-1.9.4.jar\n",
      "spark-3.0.0-preview2-bin-hadoop3.2/jars/commons-httpclient-3.1.jar\n",
      "spark-3.0.0-preview2-bin-hadoop3.2/NOTICE\n",
      "spark-3.0.0-preview2-bin-hadoop3.2/python/\n",
      "spark-3.0.0-preview2-bin-hadoop3.2/python/.gitignore\n",
      "spark-3.0.0-preview2-bin-hadoop3.2/python/pyspark/\n",
      "spark-3.0.0-preview2-bin-hadoop3.2/python/pyspark/heapq3.py\n",
      "spark-3.0.0-preview2-bin-hadoop3.2/python/pyspark/ml/\n",
      "spark-3.0.0-preview2-bin-hadoop3.2/python/pyspark/ml/tuning.py\n",
      "spark-3.0.0-preview2-bin-hadoop3.2/python/pyspark/ml/clustering.py\n",
      "spark-3.0.0-preview2-bin-hadoop3.2/python/pyspark/ml/wrapper.py\n",
      "spark-3.0.0-preview2-bin-hadoop3.2/python/pyspark/ml/util.py\n",
      "spark-3.0.0-preview2-bin-hadoop3.2/python/pyspark/ml/tests/\n",
      "spark-3.0.0-preview2-bin-hadoop3.2/python/pyspark/ml/tests/test_stat.py\n",
      "spark-3.0.0-preview2-bin-hadoop3.2/python/pyspark/ml/tests/test_persistence.py\n",
      "spark-3.0.0-preview2-bin-hadoop3.2/python/pyspark/ml/tests/__init__.py\n",
      "spark-3.0.0-preview2-bin-hadoop3.2/python/pyspark/ml/tests/test_linalg.py\n",
      "spark-3.0.0-preview2-bin-hadoop3.2/python/pyspark/ml/tests/test_training_summary.py\n",
      "spark-3.0.0-preview2-bin-hadoop3.2/python/pyspark/ml/tests/test_param.py\n",
      "spark-3.0.0-preview2-bin-hadoop3.2/python/pyspark/ml/tests/test_feature.py\n",
      "spark-3.0.0-preview2-bin-hadoop3.2/python/pyspark/ml/tests/test_image.py\n",
      "spark-3.0.0-preview2-bin-hadoop3.2/python/pyspark/ml/tests/test_evaluation.py\n",
      "spark-3.0.0-preview2-bin-hadoop3.2/python/pyspark/ml/tests/test_wrapper.py\n",
      "spark-3.0.0-preview2-bin-hadoop3.2/python/pyspark/ml/tests/test_pipeline.py\n",
      "spark-3.0.0-preview2-bin-hadoop3.2/python/pyspark/ml/tests/test_base.py\n",
      "spark-3.0.0-preview2-bin-hadoop3.2/python/pyspark/ml/tests/test_algorithms.py\n",
      "spark-3.0.0-preview2-bin-hadoop3.2/python/pyspark/ml/tests/test_tuning.py\n",
      "spark-3.0.0-preview2-bin-hadoop3.2/python/pyspark/ml/tree.py\n",
      "spark-3.0.0-preview2-bin-hadoop3.2/python/pyspark/ml/fpm.py\n",
      "spark-3.0.0-preview2-bin-hadoop3.2/python/pyspark/ml/__init__.py\n",
      "spark-3.0.0-preview2-bin-hadoop3.2/python/pyspark/ml/linalg/\n",
      "spark-3.0.0-preview2-bin-hadoop3.2/python/pyspark/ml/linalg/__init__.py\n",
      "spark-3.0.0-preview2-bin-hadoop3.2/python/pyspark/ml/base.py\n",
      "spark-3.0.0-preview2-bin-hadoop3.2/python/pyspark/ml/common.py\n",
      "spark-3.0.0-preview2-bin-hadoop3.2/python/pyspark/ml/evaluation.py\n",
      "spark-3.0.0-preview2-bin-hadoop3.2/python/pyspark/ml/classification.py\n",
      "spark-3.0.0-preview2-bin-hadoop3.2/python/pyspark/ml/param/\n",
      "spark-3.0.0-preview2-bin-hadoop3.2/python/pyspark/ml/param/shared.py\n",
      "spark-3.0.0-preview2-bin-hadoop3.2/python/pyspark/ml/param/__init__.py\n",
      "spark-3.0.0-preview2-bin-hadoop3.2/python/pyspark/ml/param/_shared_params_code_gen.py\n",
      "spark-3.0.0-preview2-bin-hadoop3.2/python/pyspark/ml/feature.py\n",
      "spark-3.0.0-preview2-bin-hadoop3.2/python/pyspark/ml/image.py\n",
      "spark-3.0.0-preview2-bin-hadoop3.2/python/pyspark/ml/pipeline.py\n",
      "spark-3.0.0-preview2-bin-hadoop3.2/python/pyspark/ml/recommendation.py\n",
      "spark-3.0.0-preview2-bin-hadoop3.2/python/pyspark/ml/stat.py\n",
      "spark-3.0.0-preview2-bin-hadoop3.2/python/pyspark/ml/regression.py\n",
      "spark-3.0.0-preview2-bin-hadoop3.2/python/pyspark/shuffle.py\n",
      "spark-3.0.0-preview2-bin-hadoop3.2/python/pyspark/streaming/\n",
      "spark-3.0.0-preview2-bin-hadoop3.2/python/pyspark/streaming/util.py\n",
      "spark-3.0.0-preview2-bin-hadoop3.2/python/pyspark/streaming/context.py\n",
      "spark-3.0.0-preview2-bin-hadoop3.2/python/pyspark/streaming/tests/\n",
      "spark-3.0.0-preview2-bin-hadoop3.2/python/pyspark/streaming/tests/test_dstream.py\n",
      "spark-3.0.0-preview2-bin-hadoop3.2/python/pyspark/streaming/tests/__init__.py\n",
      "spark-3.0.0-preview2-bin-hadoop3.2/python/pyspark/streaming/tests/test_context.py\n",
      "spark-3.0.0-preview2-bin-hadoop3.2/python/pyspark/streaming/tests/test_kinesis.py\n",
      "spark-3.0.0-preview2-bin-hadoop3.2/python/pyspark/streaming/tests/test_listener.py\n",
      "spark-3.0.0-preview2-bin-hadoop3.2/python/pyspark/streaming/kinesis.py\n",
      "spark-3.0.0-preview2-bin-hadoop3.2/python/pyspark/streaming/dstream.py\n",
      "spark-3.0.0-preview2-bin-hadoop3.2/python/pyspark/streaming/__init__.py\n",
      "spark-3.0.0-preview2-bin-hadoop3.2/python/pyspark/streaming/listener.py\n",
      "spark-3.0.0-preview2-bin-hadoop3.2/python/pyspark/util.py\n",
      "spark-3.0.0-preview2-bin-hadoop3.2/python/pyspark/rddsampler.py\n",
      "spark-3.0.0-preview2-bin-hadoop3.2/python/pyspark/context.py\n",
      "spark-3.0.0-preview2-bin-hadoop3.2/python/pyspark/rdd.py\n",
      "spark-3.0.0-preview2-bin-hadoop3.2/python/pyspark/tests/\n",
      "spark-3.0.0-preview2-bin-hadoop3.2/python/pyspark/tests/test_serializers.py\n",
      "spark-3.0.0-preview2-bin-hadoop3.2/python/pyspark/tests/test_profiler.py\n",
      "spark-3.0.0-preview2-bin-hadoop3.2/python/pyspark/tests/test_pin_thread.py\n",
      "spark-3.0.0-preview2-bin-hadoop3.2/python/pyspark/tests/test_util.py\n",
      "spark-3.0.0-preview2-bin-hadoop3.2/python/pyspark/tests/__init__.py\n",
      "spark-3.0.0-preview2-bin-hadoop3.2/python/pyspark/tests/test_join.py\n",
      "spark-3.0.0-preview2-bin-hadoop3.2/python/pyspark/tests/test_taskcontext.py\n",
      "spark-3.0.0-preview2-bin-hadoop3.2/python/pyspark/tests/test_rdd.py\n",
      "spark-3.0.0-preview2-bin-hadoop3.2/python/pyspark/tests/test_appsubmit.py\n",
      "spark-3.0.0-preview2-bin-hadoop3.2/python/pyspark/tests/test_context.py\n",
      "spark-3.0.0-preview2-bin-hadoop3.2/python/pyspark/tests/test_broadcast.py\n",
      "spark-3.0.0-preview2-bin-hadoop3.2/python/pyspark/tests/test_rddbarrier.py\n",
      "spark-3.0.0-preview2-bin-hadoop3.2/python/pyspark/tests/test_readwrite.py\n",
      "spark-3.0.0-preview2-bin-hadoop3.2/python/pyspark/tests/test_daemon.py\n",
      "spark-3.0.0-preview2-bin-hadoop3.2/python/pyspark/tests/test_worker.py\n",
      "spark-3.0.0-preview2-bin-hadoop3.2/python/pyspark/tests/test_conf.py\n",
      "spark-3.0.0-preview2-bin-hadoop3.2/python/pyspark/tests/test_shuffle.py\n",
      "spark-3.0.0-preview2-bin-hadoop3.2/python/pyspark/_globals.py\n",
      "spark-3.0.0-preview2-bin-hadoop3.2/python/pyspark/resultiterable.py\n",
      "spark-3.0.0-preview2-bin-hadoop3.2/python/pyspark/__init__.py\n",
      "spark-3.0.0-preview2-bin-hadoop3.2/python/pyspark/resourceinformation.py\n",
      "spark-3.0.0-preview2-bin-hadoop3.2/python/pyspark/find_spark_home.py\n",
      "spark-3.0.0-preview2-bin-hadoop3.2/python/pyspark/version.py\n",
      "spark-3.0.0-preview2-bin-hadoop3.2/python/pyspark/profiler.py\n",
      "spark-3.0.0-preview2-bin-hadoop3.2/python/pyspark/cloudpickle.py\n",
      "spark-3.0.0-preview2-bin-hadoop3.2/python/pyspark/statcounter.py\n",
      "spark-3.0.0-preview2-bin-hadoop3.2/python/pyspark/status.py\n",
      "spark-3.0.0-preview2-bin-hadoop3.2/python/pyspark/sql/\n",
      "spark-3.0.0-preview2-bin-hadoop3.2/python/pyspark/sql/context.py\n",
      "spark-3.0.0-preview2-bin-hadoop3.2/python/pyspark/sql/functions.py\n",
      "spark-3.0.0-preview2-bin-hadoop3.2/python/pyspark/sql/tests/\n",
      "spark-3.0.0-preview2-bin-hadoop3.2/python/pyspark/sql/tests/test_udf.py\n",
      "spark-3.0.0-preview2-bin-hadoop3.2/python/pyspark/sql/tests/test_pandas_udf_cogrouped_map.py\n",
      "spark-3.0.0-preview2-bin-hadoop3.2/python/pyspark/sql/tests/test_pandas_udf_window.py\n",
      "spark-3.0.0-preview2-bin-hadoop3.2/python/pyspark/sql/tests/__init__.py\n",
      "spark-3.0.0-preview2-bin-hadoop3.2/python/pyspark/sql/tests/test_arrow.py\n",
      "spark-3.0.0-preview2-bin-hadoop3.2/python/pyspark/sql/tests/test_dataframe.py\n",
      "spark-3.0.0-preview2-bin-hadoop3.2/python/pyspark/sql/tests/test_functions.py\n",
      "spark-3.0.0-preview2-bin-hadoop3.2/python/pyspark/sql/tests/test_pandas_udf.py\n",
      "spark-3.0.0-preview2-bin-hadoop3.2/python/pyspark/sql/tests/test_pandas_udf_iter.py\n",
      "spark-3.0.0-preview2-bin-hadoop3.2/python/pyspark/sql/tests/test_context.py\n",
      "spark-3.0.0-preview2-bin-hadoop3.2/python/pyspark/sql/tests/test_group.py\n",
      "spark-3.0.0-preview2-bin-hadoop3.2/python/pyspark/sql/tests/test_datasources.py\n",
      "spark-3.0.0-preview2-bin-hadoop3.2/python/pyspark/sql/tests/test_catalog.py\n",
      "spark-3.0.0-preview2-bin-hadoop3.2/python/pyspark/sql/tests/test_serde.py\n",
      "spark-3.0.0-preview2-bin-hadoop3.2/python/pyspark/sql/tests/test_readwriter.py\n",
      "spark-3.0.0-preview2-bin-hadoop3.2/python/pyspark/sql/tests/test_pandas_udf_scalar.py\n",
      "spark-3.0.0-preview2-bin-hadoop3.2/python/pyspark/sql/tests/test_types.py\n",
      "spark-3.0.0-preview2-bin-hadoop3.2/python/pyspark/sql/tests/test_streaming.py\n",
      "spark-3.0.0-preview2-bin-hadoop3.2/python/pyspark/sql/tests/test_conf.py\n",
      "spark-3.0.0-preview2-bin-hadoop3.2/python/pyspark/sql/tests/test_utils.py\n",
      "spark-3.0.0-preview2-bin-hadoop3.2/python/pyspark/sql/tests/test_pandas_udf_grouped_agg.py\n",
      "spark-3.0.0-preview2-bin-hadoop3.2/python/pyspark/sql/tests/test_session.py\n",
      "spark-3.0.0-preview2-bin-hadoop3.2/python/pyspark/sql/tests/test_column.py\n",
      "spark-3.0.0-preview2-bin-hadoop3.2/python/pyspark/sql/tests/test_pandas_udf_grouped_map.py\n",
      "spark-3.0.0-preview2-bin-hadoop3.2/python/pyspark/sql/dataframe.py\n",
      "spark-3.0.0-preview2-bin-hadoop3.2/python/pyspark/sql/group.py\n",
      "spark-3.0.0-preview2-bin-hadoop3.2/python/pyspark/sql/utils.py\n",
      "spark-3.0.0-preview2-bin-hadoop3.2/python/pyspark/sql/__init__.py\n",
      "spark-3.0.0-preview2-bin-hadoop3.2/python/pyspark/sql/types.py\n",
      "spark-3.0.0-preview2-bin-hadoop3.2/python/pyspark/sql/catalog.py\n",
      "spark-3.0.0-preview2-bin-hadoop3.2/python/pyspark/sql/streaming.py\n",
      "spark-3.0.0-preview2-bin-hadoop3.2/python/pyspark/sql/window.py\n",
      "spark-3.0.0-preview2-bin-hadoop3.2/python/pyspark/sql/avro/\n",
      "spark-3.0.0-preview2-bin-hadoop3.2/python/pyspark/sql/avro/functions.py\n",
      "spark-3.0.0-preview2-bin-hadoop3.2/python/pyspark/sql/avro/__init__.py\n",
      "spark-3.0.0-preview2-bin-hadoop3.2/python/pyspark/sql/readwriter.py\n",
      "spark-3.0.0-preview2-bin-hadoop3.2/python/pyspark/sql/conf.py\n",
      "spark-3.0.0-preview2-bin-hadoop3.2/python/pyspark/sql/column.py\n",
      "spark-3.0.0-preview2-bin-hadoop3.2/python/pyspark/sql/udf.py\n",
      "spark-3.0.0-preview2-bin-hadoop3.2/python/pyspark/sql/session.py\n",
      "spark-3.0.0-preview2-bin-hadoop3.2/python/pyspark/sql/cogroup.py\n",
      "spark-3.0.0-preview2-bin-hadoop3.2/python/pyspark/mllib/\n",
      "spark-3.0.0-preview2-bin-hadoop3.2/python/pyspark/mllib/clustering.py\n",
      "spark-3.0.0-preview2-bin-hadoop3.2/python/pyspark/mllib/util.py\n",
      "spark-3.0.0-preview2-bin-hadoop3.2/python/pyspark/mllib/tests/\n",
      "spark-3.0.0-preview2-bin-hadoop3.2/python/pyspark/mllib/tests/test_stat.py\n",
      "spark-3.0.0-preview2-bin-hadoop3.2/python/pyspark/mllib/tests/test_util.py\n",
      "spark-3.0.0-preview2-bin-hadoop3.2/python/pyspark/mllib/tests/__init__.py\n",
      "spark-3.0.0-preview2-bin-hadoop3.2/python/pyspark/mllib/tests/test_linalg.py\n",
      "spark-3.0.0-preview2-bin-hadoop3.2/python/pyspark/mllib/tests/test_feature.py\n",
      "spark-3.0.0-preview2-bin-hadoop3.2/python/pyspark/mllib/tests/test_streaming_algorithms.py\n",
      "spark-3.0.0-preview2-bin-hadoop3.2/python/pyspark/mllib/tests/test_algorithms.py\n",
      "spark-3.0.0-preview2-bin-hadoop3.2/python/pyspark/mllib/tree.py\n",
      "spark-3.0.0-preview2-bin-hadoop3.2/python/pyspark/mllib/fpm.py\n",
      "spark-3.0.0-preview2-bin-hadoop3.2/python/pyspark/mllib/__init__.py\n",
      "spark-3.0.0-preview2-bin-hadoop3.2/python/pyspark/mllib/linalg/\n",
      "spark-3.0.0-preview2-bin-hadoop3.2/python/pyspark/mllib/linalg/__init__.py\n",
      "spark-3.0.0-preview2-bin-hadoop3.2/python/pyspark/mllib/linalg/distributed.py\n",
      "spark-3.0.0-preview2-bin-hadoop3.2/python/pyspark/mllib/common.py\n",
      "spark-3.0.0-preview2-bin-hadoop3.2/python/pyspark/mllib/random.py\n",
      "spark-3.0.0-preview2-bin-hadoop3.2/python/pyspark/mllib/evaluation.py\n",
      "spark-3.0.0-preview2-bin-hadoop3.2/python/pyspark/mllib/classification.py\n",
      "spark-3.0.0-preview2-bin-hadoop3.2/python/pyspark/mllib/feature.py\n",
      "spark-3.0.0-preview2-bin-hadoop3.2/python/pyspark/mllib/recommendation.py\n",
      "spark-3.0.0-preview2-bin-hadoop3.2/python/pyspark/mllib/stat/\n",
      "spark-3.0.0-preview2-bin-hadoop3.2/python/pyspark/mllib/stat/KernelDensity.py\n",
      "spark-3.0.0-preview2-bin-hadoop3.2/python/pyspark/mllib/stat/__init__.py\n",
      "spark-3.0.0-preview2-bin-hadoop3.2/python/pyspark/mllib/stat/test.py\n",
      "spark-3.0.0-preview2-bin-hadoop3.2/python/pyspark/mllib/stat/distribution.py\n",
      "spark-3.0.0-preview2-bin-hadoop3.2/python/pyspark/mllib/stat/_statistics.py\n",
      "spark-3.0.0-preview2-bin-hadoop3.2/python/pyspark/mllib/regression.py\n",
      "spark-3.0.0-preview2-bin-hadoop3.2/python/pyspark/taskcontext.py\n",
      "spark-3.0.0-preview2-bin-hadoop3.2/python/pyspark/serializers.py\n",
      "spark-3.0.0-preview2-bin-hadoop3.2/python/pyspark/conf.py\n",
      "spark-3.0.0-preview2-bin-hadoop3.2/python/pyspark/traceback_utils.py\n",
      "spark-3.0.0-preview2-bin-hadoop3.2/python/pyspark/storagelevel.py\n",
      "spark-3.0.0-preview2-bin-hadoop3.2/python/pyspark/worker.py\n",
      "spark-3.0.0-preview2-bin-hadoop3.2/python/pyspark/testing/\n",
      "spark-3.0.0-preview2-bin-hadoop3.2/python/pyspark/testing/sqlutils.py\n",
      "spark-3.0.0-preview2-bin-hadoop3.2/python/pyspark/testing/streamingutils.py\n",
      "spark-3.0.0-preview2-bin-hadoop3.2/python/pyspark/testing/utils.py\n",
      "spark-3.0.0-preview2-bin-hadoop3.2/python/pyspark/testing/__init__.py\n",
      "spark-3.0.0-preview2-bin-hadoop3.2/python/pyspark/testing/mlutils.py\n",
      "spark-3.0.0-preview2-bin-hadoop3.2/python/pyspark/testing/mllibutils.py\n",
      "spark-3.0.0-preview2-bin-hadoop3.2/python/pyspark/java_gateway.py\n",
      "spark-3.0.0-preview2-bin-hadoop3.2/python/pyspark/broadcast.py\n",
      "spark-3.0.0-preview2-bin-hadoop3.2/python/pyspark/join.py\n",
      "spark-3.0.0-preview2-bin-hadoop3.2/python/pyspark/files.py\n",
      "spark-3.0.0-preview2-bin-hadoop3.2/python/pyspark/accumulators.py\n",
      "spark-3.0.0-preview2-bin-hadoop3.2/python/pyspark/daemon.py\n",
      "spark-3.0.0-preview2-bin-hadoop3.2/python/pyspark/shell.py\n",
      "spark-3.0.0-preview2-bin-hadoop3.2/python/lib/\n",
      "spark-3.0.0-preview2-bin-hadoop3.2/python/lib/pyspark.zip\n",
      "spark-3.0.0-preview2-bin-hadoop3.2/python/lib/py4j-0.10.8.1-src.zip\n",
      "spark-3.0.0-preview2-bin-hadoop3.2/python/lib/PY4J_LICENSE.txt\n",
      "spark-3.0.0-preview2-bin-hadoop3.2/python/test_support/\n",
      "spark-3.0.0-preview2-bin-hadoop3.2/python/test_support/hello/\n",
      "spark-3.0.0-preview2-bin-hadoop3.2/python/test_support/hello/hello.txt\n",
      "spark-3.0.0-preview2-bin-hadoop3.2/python/test_support/hello/sub_hello/\n",
      "spark-3.0.0-preview2-bin-hadoop3.2/python/test_support/hello/sub_hello/sub_hello.txt\n",
      "spark-3.0.0-preview2-bin-hadoop3.2/python/test_support/userlib-0.1.zip\n",
      "spark-3.0.0-preview2-bin-hadoop3.2/python/test_support/sql/\n",
      "spark-3.0.0-preview2-bin-hadoop3.2/python/test_support/sql/streaming/\n",
      "spark-3.0.0-preview2-bin-hadoop3.2/python/test_support/sql/streaming/text-test.txt\n",
      "spark-3.0.0-preview2-bin-hadoop3.2/python/test_support/sql/people.json\n",
      "spark-3.0.0-preview2-bin-hadoop3.2/python/test_support/sql/people_array_utf16le.json\n",
      "spark-3.0.0-preview2-bin-hadoop3.2/python/test_support/sql/ages.csv\n",
      "spark-3.0.0-preview2-bin-hadoop3.2/python/test_support/sql/ages_newlines.csv\n",
      "spark-3.0.0-preview2-bin-hadoop3.2/python/test_support/sql/people1.json\n",
      "spark-3.0.0-preview2-bin-hadoop3.2/python/test_support/sql/people_array.json\n",
      "spark-3.0.0-preview2-bin-hadoop3.2/python/test_support/sql/text-test.txt\n",
      "spark-3.0.0-preview2-bin-hadoop3.2/python/test_support/sql/parquet_partitioned/\n",
      "spark-3.0.0-preview2-bin-hadoop3.2/python/test_support/sql/parquet_partitioned/_SUCCESS\n",
      "spark-3.0.0-preview2-bin-hadoop3.2/python/test_support/sql/parquet_partitioned/_metadata\n",
      "spark-3.0.0-preview2-bin-hadoop3.2/python/test_support/sql/parquet_partitioned/year=2014/\n",
      "spark-3.0.0-preview2-bin-hadoop3.2/python/test_support/sql/parquet_partitioned/year=2014/month=9/\n",
      "spark-3.0.0-preview2-bin-hadoop3.2/python/test_support/sql/parquet_partitioned/year=2014/month=9/day=1/\n",
      "spark-3.0.0-preview2-bin-hadoop3.2/python/test_support/sql/parquet_partitioned/year=2014/month=9/day=1/part-r-00008.gz.parquet\n",
      "spark-3.0.0-preview2-bin-hadoop3.2/python/test_support/sql/parquet_partitioned/year=2014/month=9/day=1/.part-r-00008.gz.parquet.crc\n",
      "spark-3.0.0-preview2-bin-hadoop3.2/python/test_support/sql/parquet_partitioned/_common_metadata\n",
      "spark-3.0.0-preview2-bin-hadoop3.2/python/test_support/sql/parquet_partitioned/year=2015/\n",
      "spark-3.0.0-preview2-bin-hadoop3.2/python/test_support/sql/parquet_partitioned/year=2015/month=10/\n",
      "spark-3.0.0-preview2-bin-hadoop3.2/python/test_support/sql/parquet_partitioned/year=2015/month=10/day=25/\n",
      "spark-3.0.0-preview2-bin-hadoop3.2/python/test_support/sql/parquet_partitioned/year=2015/month=10/day=25/part-r-00002.gz.parquet\n",
      "spark-3.0.0-preview2-bin-hadoop3.2/python/test_support/sql/parquet_partitioned/year=2015/month=10/day=25/part-r-00004.gz.parquet\n",
      "spark-3.0.0-preview2-bin-hadoop3.2/python/test_support/sql/parquet_partitioned/year=2015/month=10/day=25/.part-r-00004.gz.parquet.crc\n",
      "spark-3.0.0-preview2-bin-hadoop3.2/python/test_support/sql/parquet_partitioned/year=2015/month=10/day=25/.part-r-00002.gz.parquet.crc\n",
      "spark-3.0.0-preview2-bin-hadoop3.2/python/test_support/sql/parquet_partitioned/year=2015/month=10/day=26/\n",
      "spark-3.0.0-preview2-bin-hadoop3.2/python/test_support/sql/parquet_partitioned/year=2015/month=10/day=26/.part-r-00005.gz.parquet.crc\n",
      "spark-3.0.0-preview2-bin-hadoop3.2/python/test_support/sql/parquet_partitioned/year=2015/month=10/day=26/part-r-00005.gz.parquet\n",
      "spark-3.0.0-preview2-bin-hadoop3.2/python/test_support/sql/parquet_partitioned/year=2015/month=9/\n",
      "spark-3.0.0-preview2-bin-hadoop3.2/python/test_support/sql/parquet_partitioned/year=2015/month=9/day=1/\n",
      "spark-3.0.0-preview2-bin-hadoop3.2/python/test_support/sql/parquet_partitioned/year=2015/month=9/day=1/part-r-00007.gz.parquet\n",
      "spark-3.0.0-preview2-bin-hadoop3.2/python/test_support/sql/parquet_partitioned/year=2015/month=9/day=1/.part-r-00007.gz.parquet.crc\n",
      "spark-3.0.0-preview2-bin-hadoop3.2/python/test_support/sql/orc_partitioned/\n",
      "spark-3.0.0-preview2-bin-hadoop3.2/python/test_support/sql/orc_partitioned/b=1/\n",
      "spark-3.0.0-preview2-bin-hadoop3.2/python/test_support/sql/orc_partitioned/b=1/c=1/\n",
      "spark-3.0.0-preview2-bin-hadoop3.2/python/test_support/sql/orc_partitioned/b=1/c=1/.part-r-00000-829af031-b970-49d6-ad39-30460a0be2c8.orc.crc\n",
      "spark-3.0.0-preview2-bin-hadoop3.2/python/test_support/sql/orc_partitioned/b=1/c=1/part-r-00000-829af031-b970-49d6-ad39-30460a0be2c8.orc\n",
      "spark-3.0.0-preview2-bin-hadoop3.2/python/test_support/sql/orc_partitioned/_SUCCESS\n",
      "spark-3.0.0-preview2-bin-hadoop3.2/python/test_support/sql/orc_partitioned/b=0/\n",
      "spark-3.0.0-preview2-bin-hadoop3.2/python/test_support/sql/orc_partitioned/b=0/c=0/\n",
      "spark-3.0.0-preview2-bin-hadoop3.2/python/test_support/sql/orc_partitioned/b=0/c=0/.part-r-00000-829af031-b970-49d6-ad39-30460a0be2c8.orc.crc\n",
      "spark-3.0.0-preview2-bin-hadoop3.2/python/test_support/sql/orc_partitioned/b=0/c=0/part-r-00000-829af031-b970-49d6-ad39-30460a0be2c8.orc\n",
      "spark-3.0.0-preview2-bin-hadoop3.2/python/test_support/userlibrary.py\n",
      "spark-3.0.0-preview2-bin-hadoop3.2/python/test_support/SimpleHTTPServer.py\n",
      "spark-3.0.0-preview2-bin-hadoop3.2/python/test_coverage/\n",
      "spark-3.0.0-preview2-bin-hadoop3.2/python/test_coverage/conf/\n",
      "spark-3.0.0-preview2-bin-hadoop3.2/python/test_coverage/conf/spark-defaults.conf\n",
      "spark-3.0.0-preview2-bin-hadoop3.2/python/test_coverage/sitecustomize.py\n",
      "spark-3.0.0-preview2-bin-hadoop3.2/python/test_coverage/coverage_daemon.py\n",
      "spark-3.0.0-preview2-bin-hadoop3.2/python/run-tests\n",
      "spark-3.0.0-preview2-bin-hadoop3.2/python/setup.cfg\n",
      "spark-3.0.0-preview2-bin-hadoop3.2/python/run-tests.py\n",
      "spark-3.0.0-preview2-bin-hadoop3.2/python/pylintrc\n",
      "spark-3.0.0-preview2-bin-hadoop3.2/python/run-tests-with-coverage\n",
      "spark-3.0.0-preview2-bin-hadoop3.2/python/README.md\n",
      "spark-3.0.0-preview2-bin-hadoop3.2/python/.coveragerc\n",
      "spark-3.0.0-preview2-bin-hadoop3.2/python/docs/\n",
      "spark-3.0.0-preview2-bin-hadoop3.2/python/docs/_static/\n",
      "spark-3.0.0-preview2-bin-hadoop3.2/python/docs/_static/copybutton.js\n",
      "spark-3.0.0-preview2-bin-hadoop3.2/python/docs/_static/pyspark.js\n",
      "spark-3.0.0-preview2-bin-hadoop3.2/python/docs/_static/pyspark.css\n",
      "spark-3.0.0-preview2-bin-hadoop3.2/python/docs/pyspark.ml.rst\n",
      "spark-3.0.0-preview2-bin-hadoop3.2/python/docs/_templates/\n",
      "spark-3.0.0-preview2-bin-hadoop3.2/python/docs/_templates/layout.html\n",
      "spark-3.0.0-preview2-bin-hadoop3.2/python/docs/pyspark.sql.rst\n",
      "spark-3.0.0-preview2-bin-hadoop3.2/python/docs/make.bat\n",
      "spark-3.0.0-preview2-bin-hadoop3.2/python/docs/Makefile\n",
      "spark-3.0.0-preview2-bin-hadoop3.2/python/docs/conf.py\n",
      "spark-3.0.0-preview2-bin-hadoop3.2/python/docs/make2.bat\n",
      "spark-3.0.0-preview2-bin-hadoop3.2/python/docs/index.rst\n",
      "spark-3.0.0-preview2-bin-hadoop3.2/python/docs/pyspark.mllib.rst\n",
      "spark-3.0.0-preview2-bin-hadoop3.2/python/docs/pyspark.streaming.rst\n",
      "spark-3.0.0-preview2-bin-hadoop3.2/python/docs/pyspark.rst\n",
      "spark-3.0.0-preview2-bin-hadoop3.2/python/MANIFEST.in\n",
      "spark-3.0.0-preview2-bin-hadoop3.2/python/setup.py\n",
      "spark-3.0.0-preview2-bin-hadoop3.2/bin/\n",
      "spark-3.0.0-preview2-bin-hadoop3.2/bin/spark-submit.cmd\n",
      "spark-3.0.0-preview2-bin-hadoop3.2/bin/pyspark.cmd\n",
      "spark-3.0.0-preview2-bin-hadoop3.2/bin/spark-sql\n",
      "spark-3.0.0-preview2-bin-hadoop3.2/bin/beeline\n",
      "spark-3.0.0-preview2-bin-hadoop3.2/bin/pyspark\n",
      "spark-3.0.0-preview2-bin-hadoop3.2/bin/load-spark-env.sh\n",
      "spark-3.0.0-preview2-bin-hadoop3.2/bin/load-spark-env.cmd\n",
      "spark-3.0.0-preview2-bin-hadoop3.2/bin/spark-submit\n",
      "spark-3.0.0-preview2-bin-hadoop3.2/bin/run-example.cmd\n",
      "spark-3.0.0-preview2-bin-hadoop3.2/bin/find-spark-home.cmd\n",
      "spark-3.0.0-preview2-bin-hadoop3.2/bin/spark-shell2.cmd\n",
      "spark-3.0.0-preview2-bin-hadoop3.2/bin/docker-image-tool.sh\n",
      "spark-3.0.0-preview2-bin-hadoop3.2/bin/sparkR2.cmd\n",
      "spark-3.0.0-preview2-bin-hadoop3.2/bin/sparkR\n",
      "spark-3.0.0-preview2-bin-hadoop3.2/bin/find-spark-home\n",
      "spark-3.0.0-preview2-bin-hadoop3.2/bin/spark-shell.cmd\n",
      "spark-3.0.0-preview2-bin-hadoop3.2/bin/spark-submit2.cmd\n",
      "spark-3.0.0-preview2-bin-hadoop3.2/bin/spark-class2.cmd\n",
      "spark-3.0.0-preview2-bin-hadoop3.2/bin/spark-sql2.cmd\n",
      "spark-3.0.0-preview2-bin-hadoop3.2/bin/spark-class\n",
      "spark-3.0.0-preview2-bin-hadoop3.2/bin/spark-sql.cmd\n",
      "spark-3.0.0-preview2-bin-hadoop3.2/bin/pyspark2.cmd\n",
      "spark-3.0.0-preview2-bin-hadoop3.2/bin/beeline.cmd\n",
      "spark-3.0.0-preview2-bin-hadoop3.2/bin/run-example\n",
      "spark-3.0.0-preview2-bin-hadoop3.2/bin/spark-shell\n",
      "spark-3.0.0-preview2-bin-hadoop3.2/bin/spark-class.cmd\n",
      "spark-3.0.0-preview2-bin-hadoop3.2/bin/sparkR.cmd\n",
      "spark-3.0.0-preview2-bin-hadoop3.2/sbin/\n",
      "spark-3.0.0-preview2-bin-hadoop3.2/sbin/stop-slave.sh\n",
      "spark-3.0.0-preview2-bin-hadoop3.2/sbin/start-history-server.sh\n",
      "spark-3.0.0-preview2-bin-hadoop3.2/sbin/stop-slaves.sh\n",
      "spark-3.0.0-preview2-bin-hadoop3.2/sbin/stop-history-server.sh\n",
      "spark-3.0.0-preview2-bin-hadoop3.2/sbin/start-thriftserver.sh\n",
      "spark-3.0.0-preview2-bin-hadoop3.2/sbin/start-mesos-shuffle-service.sh\n",
      "spark-3.0.0-preview2-bin-hadoop3.2/sbin/start-master.sh\n",
      "spark-3.0.0-preview2-bin-hadoop3.2/sbin/stop-master.sh\n",
      "spark-3.0.0-preview2-bin-hadoop3.2/sbin/stop-mesos-dispatcher.sh\n",
      "spark-3.0.0-preview2-bin-hadoop3.2/sbin/start-slave.sh\n",
      "spark-3.0.0-preview2-bin-hadoop3.2/sbin/start-mesos-dispatcher.sh\n",
      "spark-3.0.0-preview2-bin-hadoop3.2/sbin/start-slaves.sh\n",
      "spark-3.0.0-preview2-bin-hadoop3.2/sbin/stop-mesos-shuffle-service.sh\n",
      "spark-3.0.0-preview2-bin-hadoop3.2/sbin/stop-all.sh\n",
      "spark-3.0.0-preview2-bin-hadoop3.2/sbin/slaves.sh\n",
      "spark-3.0.0-preview2-bin-hadoop3.2/sbin/spark-daemons.sh\n",
      "spark-3.0.0-preview2-bin-hadoop3.2/sbin/start-all.sh\n",
      "spark-3.0.0-preview2-bin-hadoop3.2/sbin/spark-daemon.sh\n",
      "spark-3.0.0-preview2-bin-hadoop3.2/sbin/stop-thriftserver.sh\n",
      "spark-3.0.0-preview2-bin-hadoop3.2/sbin/spark-config.sh\n",
      "spark-3.0.0-preview2-bin-hadoop3.2/RELEASE\n",
      "spark-3.0.0-preview2-bin-hadoop3.2/README.md\n",
      "spark-3.0.0-preview2-bin-hadoop3.2/yarn/\n",
      "spark-3.0.0-preview2-bin-hadoop3.2/yarn/spark-3.0.0-preview2-yarn-shuffle.jar\n",
      "spark-3.0.0-preview2-bin-hadoop3.2/LICENSE\n",
      "spark-3.0.0-preview2-bin-hadoop3.2/R/\n",
      "spark-3.0.0-preview2-bin-hadoop3.2/R/lib/\n",
      "spark-3.0.0-preview2-bin-hadoop3.2/R/lib/SparkR/\n",
      "spark-3.0.0-preview2-bin-hadoop3.2/R/lib/SparkR/tests/\n",
      "spark-3.0.0-preview2-bin-hadoop3.2/R/lib/SparkR/tests/testthat/\n",
      "spark-3.0.0-preview2-bin-hadoop3.2/R/lib/SparkR/tests/testthat/test_basic.R\n",
      "spark-3.0.0-preview2-bin-hadoop3.2/R/lib/SparkR/INDEX\n",
      "spark-3.0.0-preview2-bin-hadoop3.2/R/lib/SparkR/help/\n",
      "spark-3.0.0-preview2-bin-hadoop3.2/R/lib/SparkR/help/SparkR.rdb\n",
      "spark-3.0.0-preview2-bin-hadoop3.2/R/lib/SparkR/help/SparkR.rdx\n",
      "spark-3.0.0-preview2-bin-hadoop3.2/R/lib/SparkR/help/paths.rds\n",
      "spark-3.0.0-preview2-bin-hadoop3.2/R/lib/SparkR/help/aliases.rds\n",
      "spark-3.0.0-preview2-bin-hadoop3.2/R/lib/SparkR/help/AnIndex\n",
      "spark-3.0.0-preview2-bin-hadoop3.2/R/lib/SparkR/worker/\n",
      "spark-3.0.0-preview2-bin-hadoop3.2/R/lib/SparkR/worker/daemon.R\n",
      "spark-3.0.0-preview2-bin-hadoop3.2/R/lib/SparkR/worker/worker.R\n",
      "spark-3.0.0-preview2-bin-hadoop3.2/R/lib/SparkR/html/\n",
      "spark-3.0.0-preview2-bin-hadoop3.2/R/lib/SparkR/html/00Index.html\n",
      "spark-3.0.0-preview2-bin-hadoop3.2/R/lib/SparkR/html/R.css\n",
      "spark-3.0.0-preview2-bin-hadoop3.2/R/lib/SparkR/Meta/\n",
      "spark-3.0.0-preview2-bin-hadoop3.2/R/lib/SparkR/Meta/hsearch.rds\n",
      "spark-3.0.0-preview2-bin-hadoop3.2/R/lib/SparkR/Meta/package.rds\n",
      "spark-3.0.0-preview2-bin-hadoop3.2/R/lib/SparkR/Meta/nsInfo.rds\n",
      "spark-3.0.0-preview2-bin-hadoop3.2/R/lib/SparkR/Meta/links.rds\n",
      "spark-3.0.0-preview2-bin-hadoop3.2/R/lib/SparkR/Meta/features.rds\n",
      "spark-3.0.0-preview2-bin-hadoop3.2/R/lib/SparkR/Meta/Rd.rds\n",
      "spark-3.0.0-preview2-bin-hadoop3.2/R/lib/SparkR/NAMESPACE\n",
      "spark-3.0.0-preview2-bin-hadoop3.2/R/lib/SparkR/profile/\n",
      "spark-3.0.0-preview2-bin-hadoop3.2/R/lib/SparkR/profile/general.R\n",
      "spark-3.0.0-preview2-bin-hadoop3.2/R/lib/SparkR/profile/shell.R\n",
      "spark-3.0.0-preview2-bin-hadoop3.2/R/lib/SparkR/DESCRIPTION\n",
      "spark-3.0.0-preview2-bin-hadoop3.2/R/lib/SparkR/R/\n",
      "spark-3.0.0-preview2-bin-hadoop3.2/R/lib/SparkR/R/SparkR.rdb\n",
      "spark-3.0.0-preview2-bin-hadoop3.2/R/lib/SparkR/R/SparkR\n",
      "spark-3.0.0-preview2-bin-hadoop3.2/R/lib/SparkR/R/SparkR.rdx\n",
      "spark-3.0.0-preview2-bin-hadoop3.2/R/lib/sparkr.zip\n",
      "spark-3.0.0-preview2-bin-hadoop3.2/kubernetes/\n",
      "spark-3.0.0-preview2-bin-hadoop3.2/kubernetes/tests/\n",
      "spark-3.0.0-preview2-bin-hadoop3.2/kubernetes/tests/worker_memory_check.py\n",
      "spark-3.0.0-preview2-bin-hadoop3.2/kubernetes/tests/py_container_checks.py\n",
      "spark-3.0.0-preview2-bin-hadoop3.2/kubernetes/tests/pyfiles.py\n",
      "spark-3.0.0-preview2-bin-hadoop3.2/kubernetes/dockerfiles/\n",
      "spark-3.0.0-preview2-bin-hadoop3.2/kubernetes/dockerfiles/spark/\n",
      "spark-3.0.0-preview2-bin-hadoop3.2/kubernetes/dockerfiles/spark/entrypoint.sh\n",
      "spark-3.0.0-preview2-bin-hadoop3.2/kubernetes/dockerfiles/spark/bindings/\n",
      "spark-3.0.0-preview2-bin-hadoop3.2/kubernetes/dockerfiles/spark/bindings/python/\n",
      "spark-3.0.0-preview2-bin-hadoop3.2/kubernetes/dockerfiles/spark/bindings/python/Dockerfile\n",
      "spark-3.0.0-preview2-bin-hadoop3.2/kubernetes/dockerfiles/spark/bindings/R/\n",
      "spark-3.0.0-preview2-bin-hadoop3.2/kubernetes/dockerfiles/spark/bindings/R/Dockerfile\n",
      "spark-3.0.0-preview2-bin-hadoop3.2/kubernetes/dockerfiles/spark/Dockerfile\n"
     ]
    }
   ],
   "source": [
    "!apt-get install openjdk-8-jdk-headless -qq > /dev/null\n",
    "!wget -q https://www-us.apache.org/dist/spark/spark-3.0.0-preview2/spark-3.0.0-preview2-bin-hadoop3.2.tgz\n",
    "!tar -xvf spark-3.0.0-preview2-bin-hadoop3.2.tgz\n",
    "!pip install -q findspark\n",
    "import os\n",
    "os.environ[\"JAVA_HOME\"] = \"/usr/lib/jvm/java-8-openjdk-amd64\"\n",
    "os.environ[\"SPARK_HOME\"] = \"/content/spark-3.0.0-preview2-bin-hadoop3.2\""
   ]
  },
  {
   "cell_type": "code",
   "execution_count": 0,
   "metadata": {
    "colab": {},
    "colab_type": "code",
    "id": "P7pPGMAFM5Ux"
   },
   "outputs": [],
   "source": [
    "\n",
    "import findspark\n",
    "findspark.init()\n",
    "from pyspark.sql import SparkSession\n",
    "spark = SparkSession.builder.master(\"local[*]\").getOrCreate()"
   ]
  },
  {
   "cell_type": "code",
   "execution_count": 41,
   "metadata": {
    "colab": {
     "base_uri": "https://localhost:8080/",
     "height": 77,
     "resources": {
      "http://localhost:8080/nbextensions/google.colab/files.js": {
       "data": "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",
       "headers": [
        [
         "content-type",
         "application/javascript"
        ]
       ],
       "ok": true,
       "status": 200,
       "status_text": "OK"
      }
     }
    },
    "colab_type": "code",
    "id": "LaBt-u6pM-TG",
    "outputId": "845b793d-a0ad-47a6-9a3e-b278a8c0adc5"
   },
   "outputs": [
    {
     "data": {
      "text/html": [
       "\n",
       "     <input type=\"file\" id=\"files-beb26277-fbdd-45c7-aff6-e9764fe28143\" name=\"files[]\" multiple disabled />\n",
       "     <output id=\"result-beb26277-fbdd-45c7-aff6-e9764fe28143\">\n",
       "      Upload widget is only available when the cell has been executed in the\n",
       "      current browser session. Please rerun this cell to enable.\n",
       "      </output>\n",
       "      <script src=\"/nbextensions/google.colab/files.js\"></script> "
      ],
      "text/plain": [
       "<IPython.core.display.HTML object>"
      ]
     },
     "metadata": {
      "tags": []
     },
     "output_type": "display_data"
    },
    {
     "name": "stdout",
     "output_type": "stream",
     "text": [
      "Saving sample_data.csv to sample_data (2).csv\n"
     ]
    }
   ],
   "source": [
    "from google.colab import files\n",
    "uploaded = files.upload()"
   ]
  },
  {
   "cell_type": "code",
   "execution_count": 0,
   "metadata": {
    "colab": {},
    "colab_type": "code",
    "id": "4lNYkQ0fNfnk"
   },
   "outputs": [],
   "source": [
    "from pyspark.sql import SparkSession\n"
   ]
  },
  {
   "cell_type": "code",
   "execution_count": 43,
   "metadata": {
    "colab": {
     "base_uri": "https://localhost:8080/",
     "height": 503
    },
    "colab_type": "code",
    "id": "g8-J7tcPN_ZO",
    "outputId": "c57044b1-d148-45ef-ad9a-da1105eaf1d5"
   },
   "outputs": [
    {
     "name": "stdout",
     "output_type": "stream",
     "text": [
      "+-------+---+----------+------+-------+\n",
      "|ratings|age|experience|family| mobile|\n",
      "+-------+---+----------+------+-------+\n",
      "|      3| 32|       9.0|     3|   Vivo|\n",
      "|      3| 27|      13.0|     3|  Apple|\n",
      "|      4| 22|       2.5|     0|Samsung|\n",
      "|      4| 37|      16.5|     4|  Apple|\n",
      "|      5| 27|       9.0|     1|     MI|\n",
      "|      4| 27|       9.0|     0|   Oppo|\n",
      "|      5| 37|      23.0|     5|   Vivo|\n",
      "|      5| 37|      23.0|     5|Samsung|\n",
      "|      3| 22|       2.5|     0|  Apple|\n",
      "|      3| 27|       6.0|     0|     MI|\n",
      "|      2| 27|       6.0|     2|   Oppo|\n",
      "|      5| 27|       6.0|     2|Samsung|\n",
      "|      3| 37|      16.5|     5|  Apple|\n",
      "|      5| 27|       6.0|     0|     MI|\n",
      "|      4| 22|       6.0|     1|   Oppo|\n",
      "|      4| 37|       9.0|     2|Samsung|\n",
      "|      4| 27|       6.0|     1|  Apple|\n",
      "|      1| 37|      23.0|     5|     MI|\n",
      "|      2| 42|      23.0|     2|   Oppo|\n",
      "|      4| 37|       6.0|     0|   Vivo|\n",
      "+-------+---+----------+------+-------+\n",
      "only showing top 20 rows\n",
      "\n"
     ]
    }
   ],
   "source": [
    "df = spark.read.csv(\"sample_data.csv\",inferSchema = True,header = True)\n",
    "df.show()"
   ]
  },
  {
   "cell_type": "code",
   "execution_count": 44,
   "metadata": {
    "colab": {
     "base_uri": "https://localhost:8080/",
     "height": 36
    },
    "colab_type": "code",
    "id": "f3DtRamoOLp_",
    "outputId": "7a404e79-9604-4e36-c4e4-62d5e19dfe10"
   },
   "outputs": [
    {
     "data": {
      "text/plain": [
       "['ratings', 'age', 'experience', 'family', 'mobile']"
      ]
     },
     "execution_count": 44,
     "metadata": {
      "tags": []
     },
     "output_type": "execute_result"
    }
   ],
   "source": [
    "# colums of dataframe\n",
    "df.columns"
   ]
  },
  {
   "cell_type": "code",
   "execution_count": 45,
   "metadata": {
    "colab": {
     "base_uri": "https://localhost:8080/",
     "height": 36
    },
    "colab_type": "code",
    "id": "RAETiMW4OanS",
    "outputId": "3efa9597-1207-43a4-b3b1-ed742b42752e"
   },
   "outputs": [
    {
     "data": {
      "text/plain": [
       "33"
      ]
     },
     "execution_count": 45,
     "metadata": {
      "tags": []
     },
     "output_type": "execute_result"
    }
   ],
   "source": [
    "# number of records or datapoints\n",
    "df.count()"
   ]
  },
  {
   "cell_type": "code",
   "execution_count": 46,
   "metadata": {
    "colab": {
     "base_uri": "https://localhost:8080/",
     "height": 36
    },
    "colab_type": "code",
    "id": "VyVlggC7Oh6g",
    "outputId": "8a444570-c37e-4487-ba3c-ab621672858b"
   },
   "outputs": [
    {
     "name": "stdout",
     "output_type": "stream",
     "text": [
      "Shape of dataframe is: 33 , 5\n"
     ]
    }
   ],
   "source": [
    "# sgape of dataset\n",
    "print(\"Shape of dataframe is:\",df.count(),\",\",len(df.columns))"
   ]
  },
  {
   "cell_type": "code",
   "execution_count": 47,
   "metadata": {
    "colab": {
     "base_uri": "https://localhost:8080/",
     "height": 148
    },
    "colab_type": "code",
    "id": "7hyBjm5jOuW8",
    "outputId": "f0a0f105-2c9f-41c3-f908-73de98f86340"
   },
   "outputs": [
    {
     "name": "stdout",
     "output_type": "stream",
     "text": [
      "root\n",
      " |-- ratings: integer (nullable = true)\n",
      " |-- age: integer (nullable = true)\n",
      " |-- experience: double (nullable = true)\n",
      " |-- family: integer (nullable = true)\n",
      " |-- mobile: string (nullable = true)\n",
      "\n"
     ]
    }
   ],
   "source": [
    "#print schema\n",
    "\n",
    "\"\"\" The nullable property indicates if the corresponding column can\n",
    "assume null values (true) or not (false). We can also change the datatype of\n",
    "the columns as per the requirement.\"\"\"\n",
    "df.printSchema()"
   ]
  },
  {
   "cell_type": "code",
   "execution_count": 48,
   "metadata": {
    "colab": {
     "base_uri": "https://localhost:8080/",
     "height": 223
    },
    "colab_type": "code",
    "id": "RdUwNLR-PGZa",
    "outputId": "9bd5dc63-3666-4e3e-e644-d1fb775e106c"
   },
   "outputs": [
    {
     "name": "stdout",
     "output_type": "stream",
     "text": [
      "+-------+---+----------+------+-------+\n",
      "|ratings|age|experience|family| mobile|\n",
      "+-------+---+----------+------+-------+\n",
      "|      3| 32|       9.0|     3|   Vivo|\n",
      "|      3| 27|      13.0|     3|  Apple|\n",
      "|      4| 22|       2.5|     0|Samsung|\n",
      "|      4| 37|      16.5|     4|  Apple|\n",
      "|      5| 27|       9.0|     1|     MI|\n",
      "+-------+---+----------+------+-------+\n",
      "only showing top 5 rows\n",
      "\n"
     ]
    }
   ],
   "source": [
    "#fisrt five rows of dataframe\n",
    "df.show(5)"
   ]
  },
  {
   "cell_type": "code",
   "execution_count": 49,
   "metadata": {
    "colab": {
     "base_uri": "https://localhost:8080/",
     "height": 316
    },
    "colab_type": "code",
    "id": "HxBqDSy2PM3q",
    "outputId": "46ddb390-1b0a-4d6f-a5dc-6bfc526ae60e"
   },
   "outputs": [
    {
     "name": "stdout",
     "output_type": "stream",
     "text": [
      "+---+-------+\n",
      "|age| mobile|\n",
      "+---+-------+\n",
      "| 32|   Vivo|\n",
      "| 27|  Apple|\n",
      "| 22|Samsung|\n",
      "| 37|  Apple|\n",
      "| 27|     MI|\n",
      "| 27|   Oppo|\n",
      "| 37|   Vivo|\n",
      "| 37|Samsung|\n",
      "| 22|  Apple|\n",
      "| 27|     MI|\n",
      "+---+-------+\n",
      "only showing top 10 rows\n",
      "\n"
     ]
    }
   ],
   "source": [
    "#select only 2 columns\n",
    "df.select('age','mobile').show(10)"
   ]
  },
  {
   "cell_type": "code",
   "execution_count": 50,
   "metadata": {
    "colab": {
     "base_uri": "https://localhost:8080/",
     "height": 204
    },
    "colab_type": "code",
    "id": "WapzsKUmPxqw",
    "outputId": "7cdebc73-55cb-4c82-ab1d-fa6732ba549f"
   },
   "outputs": [
    {
     "name": "stdout",
     "output_type": "stream",
     "text": [
      "+-------+------------------+------------------+------------------+------------------+------+\n",
      "|summary|           ratings|               age|        experience|            family|mobile|\n",
      "+-------+------------------+------------------+------------------+------------------+------+\n",
      "|  count|                33|                33|                33|                33|    33|\n",
      "|   mean|3.5757575757575757|30.484848484848484|10.303030303030303|1.8181818181818181|  null|\n",
      "| stddev|1.1188806636071336|  6.18527087180309| 6.770731351213326|1.8448330794164254|  null|\n",
      "|    min|                 1|                22|               2.5|                 0| Apple|\n",
      "|    max|                 5|                42|              23.0|                 5|  Vivo|\n",
      "+-------+------------------+------------------+------------------+------------------+------+\n",
      "\n"
     ]
    }
   ],
   "source": [
    "#info about dataframe\n",
    "df.describe().show()"
   ]
  },
  {
   "cell_type": "code",
   "execution_count": 0,
   "metadata": {
    "colab": {},
    "colab_type": "code",
    "id": "KhFUax_WP8nq"
   },
   "outputs": [],
   "source": []
  },
  {
   "cell_type": "markdown",
   "metadata": {
    "colab_type": "text",
    "id": "dfC3L5dHQUkW"
   },
   "source": [
    "### Adding a New Column"
   ]
  },
  {
   "cell_type": "code",
   "execution_count": 0,
   "metadata": {
    "colab": {},
    "colab_type": "code",
    "id": "bFQU_VAvQwrQ"
   },
   "outputs": [],
   "source": [
    "from pyspark.sql.types import StringType,DoubleType,IntegerType"
   ]
  },
  {
   "cell_type": "code",
   "execution_count": 52,
   "metadata": {
    "colab": {
     "base_uri": "https://localhost:8080/",
     "height": 316
    },
    "colab_type": "code",
    "id": "mOyTsbAtQWQl",
    "outputId": "0c398471-e9ac-4b35-8c94-314ee0a456c9"
   },
   "outputs": [
    {
     "name": "stdout",
     "output_type": "stream",
     "text": [
      "+-------+---+----------+------+-------+------------------+\n",
      "|ratings|age|experience|family| mobile|Age_after_10_years|\n",
      "+-------+---+----------+------+-------+------------------+\n",
      "|      3| 32|       9.0|     3|   Vivo|                42|\n",
      "|      3| 27|      13.0|     3|  Apple|                37|\n",
      "|      4| 22|       2.5|     0|Samsung|                32|\n",
      "|      4| 37|      16.5|     4|  Apple|                47|\n",
      "|      5| 27|       9.0|     1|     MI|                37|\n",
      "|      4| 27|       9.0|     0|   Oppo|                37|\n",
      "|      5| 37|      23.0|     5|   Vivo|                47|\n",
      "|      5| 37|      23.0|     5|Samsung|                47|\n",
      "|      3| 22|       2.5|     0|  Apple|                32|\n",
      "|      3| 27|       6.0|     0|     MI|                37|\n",
      "+-------+---+----------+------+-------+------------------+\n",
      "only showing top 10 rows\n",
      "\n"
     ]
    }
   ],
   "source": [
    "df.withColumn('Age_after_10_years',df['age']+10).show(10)"
   ]
  },
  {
   "cell_type": "code",
   "execution_count": 53,
   "metadata": {
    "colab": {
     "base_uri": "https://localhost:8080/",
     "height": 316
    },
    "colab_type": "code",
    "id": "9CkRYCaxQg83",
    "outputId": "2ccb6589-38c0-4746-ee13-c59c8031e6d1"
   },
   "outputs": [
    {
     "name": "stdout",
     "output_type": "stream",
     "text": [
      "+-------+---+----------+------+-------+---------------+\n",
      "|ratings|age|experience|family| mobile|age_type_double|\n",
      "+-------+---+----------+------+-------+---------------+\n",
      "|      3| 32|       9.0|     3|   Vivo|           32.0|\n",
      "|      3| 27|      13.0|     3|  Apple|           27.0|\n",
      "|      4| 22|       2.5|     0|Samsung|           22.0|\n",
      "|      4| 37|      16.5|     4|  Apple|           37.0|\n",
      "|      5| 27|       9.0|     1|     MI|           27.0|\n",
      "|      4| 27|       9.0|     0|   Oppo|           27.0|\n",
      "|      5| 37|      23.0|     5|   Vivo|           37.0|\n",
      "|      5| 37|      23.0|     5|Samsung|           37.0|\n",
      "|      3| 22|       2.5|     0|  Apple|           22.0|\n",
      "|      3| 27|       6.0|     0|     MI|           27.0|\n",
      "+-------+---+----------+------+-------+---------------+\n",
      "only showing top 10 rows\n",
      "\n"
     ]
    }
   ],
   "source": [
    "\n",
    "df.withColumn(\"age_type_double\",df['age'].cast(DoubleType())).show(10)"
   ]
  },
  {
   "cell_type": "code",
   "execution_count": 54,
   "metadata": {
    "colab": {
     "base_uri": "https://localhost:8080/",
     "height": 204
    },
    "colab_type": "code",
    "id": "RpMCKusfROtF",
    "outputId": "10590181-64c8-4c07-8042-43c4937e524e"
   },
   "outputs": [
    {
     "name": "stdout",
     "output_type": "stream",
     "text": [
      "+-------+---+----------+------+------+\n",
      "|ratings|age|experience|family|mobile|\n",
      "+-------+---+----------+------+------+\n",
      "|      3| 32|       9.0|     3|  Vivo|\n",
      "|      5| 37|      23.0|     5|  Vivo|\n",
      "|      4| 37|       6.0|     0|  Vivo|\n",
      "|      5| 37|      13.0|     1|  Vivo|\n",
      "|      4| 37|       6.0|     0|  Vivo|\n",
      "+-------+---+----------+------+------+\n",
      "\n"
     ]
    }
   ],
   "source": [
    "#filter the records\n",
    "df.filter(df['mobile'] == 'Vivo').show()"
   ]
  },
  {
   "cell_type": "code",
   "execution_count": 55,
   "metadata": {
    "colab": {
     "base_uri": "https://localhost:8080/",
     "height": 204
    },
    "colab_type": "code",
    "id": "PnR8YXozRzj8",
    "outputId": "8aaafce8-4276-464a-cdcb-9eefd1a3d87c"
   },
   "outputs": [
    {
     "name": "stdout",
     "output_type": "stream",
     "text": [
      "+-------+---+----------+\n",
      "|ratings|age|experience|\n",
      "+-------+---+----------+\n",
      "|      3| 32|       9.0|\n",
      "|      5| 37|      23.0|\n",
      "|      4| 37|       6.0|\n",
      "|      5| 37|      13.0|\n",
      "|      4| 37|       6.0|\n",
      "+-------+---+----------+\n",
      "\n"
     ]
    }
   ],
   "source": [
    "df.filter(df['mobile']== 'Vivo').select('ratings','age','experience').show()"
   ]
  },
  {
   "cell_type": "code",
   "execution_count": 0,
   "metadata": {
    "colab": {},
    "colab_type": "code",
    "id": "bAtzswPESNJL"
   },
   "outputs": [],
   "source": []
  },
  {
   "cell_type": "markdown",
   "metadata": {
    "colab_type": "text",
    "id": "rC8nQpvyShr3"
   },
   "source": [
    "### Condition 2\n",
    "This involves multiple columns-based filtering and returns records only\n",
    "if all conditions are met. This can be done in multiple ways. Let us say, we\n",
    "want to filter only ‘Vivo’ users and only those with experience of more than\n",
    "10 years."
   ]
  },
  {
   "cell_type": "code",
   "execution_count": 56,
   "metadata": {
    "colab": {
     "base_uri": "https://localhost:8080/",
     "height": 148
    },
    "colab_type": "code",
    "id": "qlcFwW8ISkB6",
    "outputId": "fffc071a-ea3a-4fb5-fce8-df4c924783c9"
   },
   "outputs": [
    {
     "name": "stdout",
     "output_type": "stream",
     "text": [
      "+-------+---+----------+------+------+\n",
      "|ratings|age|experience|family|mobile|\n",
      "+-------+---+----------+------+------+\n",
      "|      5| 37|      23.0|     5|  Vivo|\n",
      "|      5| 37|      13.0|     1|  Vivo|\n",
      "+-------+---+----------+------+------+\n",
      "\n"
     ]
    }
   ],
   "source": [
    "# method 1\n",
    "df.filter(df['mobile'] == 'Vivo').filter(df['experience']>10).show()"
   ]
  },
  {
   "cell_type": "code",
   "execution_count": 57,
   "metadata": {
    "colab": {
     "base_uri": "https://localhost:8080/",
     "height": 148
    },
    "colab_type": "code",
    "id": "kSuSrdpgS17s",
    "outputId": "44b1f6a7-f9b8-4de6-e99d-963b9c914490"
   },
   "outputs": [
    {
     "name": "stdout",
     "output_type": "stream",
     "text": [
      "+-------+---+----------+------+------+\n",
      "|ratings|age|experience|family|mobile|\n",
      "+-------+---+----------+------+------+\n",
      "|      5| 37|      23.0|     5|  Vivo|\n",
      "|      5| 37|      13.0|     1|  Vivo|\n",
      "+-------+---+----------+------+------+\n",
      "\n"
     ]
    }
   ],
   "source": [
    "# method 2\n",
    "#filter the multiple conditions\n",
    "df.filter((df['mobile']=='Vivo')&(df['experience'] >10)).show()"
   ]
  },
  {
   "cell_type": "code",
   "execution_count": 58,
   "metadata": {
    "colab": {
     "base_uri": "https://localhost:8080/",
     "height": 204
    },
    "colab_type": "code",
    "id": "9TTciGADTUaO",
    "outputId": "b912d9b4-1657-4df8-fccc-aa0f68cd6c6f"
   },
   "outputs": [
    {
     "name": "stdout",
     "output_type": "stream",
     "text": [
      "+-------+\n",
      "| mobile|\n",
      "+-------+\n",
      "|   Vivo|\n",
      "|  Apple|\n",
      "|Samsung|\n",
      "|     MI|\n",
      "|   Oppo|\n",
      "+-------+\n",
      "\n"
     ]
    }
   ],
   "source": [
    "# #Distinct Values in a column\n",
    "df.select('mobile').distinct().show()"
   ]
  },
  {
   "cell_type": "code",
   "execution_count": 59,
   "metadata": {
    "colab": {
     "base_uri": "https://localhost:8080/",
     "height": 36
    },
    "colab_type": "code",
    "id": "Q_vDduimTg-P",
    "outputId": "8cf5dab4-79a3-46f8-8e27-7965f2a8f02c"
   },
   "outputs": [
    {
     "data": {
      "text/plain": [
       "5"
      ]
     },
     "execution_count": 59,
     "metadata": {
      "tags": []
     },
     "output_type": "execute_result"
    }
   ],
   "source": [
    "#distinct value count\n",
    "df.select('mobile').distinct().count()"
   ]
  },
  {
   "cell_type": "code",
   "execution_count": 60,
   "metadata": {
    "colab": {
     "base_uri": "https://localhost:8080/",
     "height": 204
    },
    "colab_type": "code",
    "id": "4qmDXj6JTtiT",
    "outputId": "a15aa85b-a4af-4644-a557-c455eb0ca0cb"
   },
   "outputs": [
    {
     "name": "stdout",
     "output_type": "stream",
     "text": [
      "+-------+-----+\n",
      "| mobile|count|\n",
      "+-------+-----+\n",
      "|   Vivo|    5|\n",
      "|  Apple|    7|\n",
      "|Samsung|    6|\n",
      "|     MI|    8|\n",
      "|   Oppo|    7|\n",
      "+-------+-----+\n",
      "\n"
     ]
    }
   ],
   "source": [
    "df.groupBy('mobile').count().show()"
   ]
  },
  {
   "cell_type": "code",
   "execution_count": 61,
   "metadata": {
    "colab": {
     "base_uri": "https://localhost:8080/",
     "height": 204
    },
    "colab_type": "code",
    "id": "2tiR-K04T10E",
    "outputId": "13cb5a3a-671d-4e7f-a237-fbaf80fccae4"
   },
   "outputs": [
    {
     "name": "stdout",
     "output_type": "stream",
     "text": [
      "+-------+-----+\n",
      "| mobile|count|\n",
      "+-------+-----+\n",
      "|     MI|    8|\n",
      "|   Oppo|    7|\n",
      "|  Apple|    7|\n",
      "|Samsung|    6|\n",
      "|   Vivo|    5|\n",
      "+-------+-----+\n",
      "\n"
     ]
    }
   ],
   "source": [
    "df.groupBy('mobile').count().orderBy('count',ascending=False).show()"
   ]
  },
  {
   "cell_type": "code",
   "execution_count": 62,
   "metadata": {
    "colab": {
     "base_uri": "https://localhost:8080/",
     "height": 204
    },
    "colab_type": "code",
    "id": "XAyHv0bMUNv9",
    "outputId": "33662b31-4a17-4dc6-aaaa-04cb16b1f67a"
   },
   "outputs": [
    {
     "name": "stdout",
     "output_type": "stream",
     "text": [
      "+-------+------------------+------------------+------------------+------------------+\n",
      "| mobile|      avg(ratings)|          avg(age)|   avg(experience)|       avg(family)|\n",
      "+-------+------------------+------------------+------------------+------------------+\n",
      "|   Vivo|               4.2|              36.0|              11.4|               1.8|\n",
      "|  Apple|3.4285714285714284|30.571428571428573|              11.0|2.7142857142857144|\n",
      "|Samsung| 4.166666666666667|28.666666666666668| 8.666666666666666|1.8333333333333333|\n",
      "|     MI|               3.5|            30.125|           10.1875|             1.375|\n",
      "|   Oppo| 2.857142857142857|28.428571428571427|10.357142857142858|1.4285714285714286|\n",
      "+-------+------------------+------------------+------------------+------------------+\n",
      "\n"
     ]
    }
   ],
   "source": [
    "\"\"\"\n",
    "We can also apply the groupBy method to calculate statistical measures\n",
    "such as mean value, sum, min, or max value for each category.\n",
    "\"\"\"\n",
    "\n",
    "df.groupBy('mobile').mean().show()"
   ]
  },
  {
   "cell_type": "code",
   "execution_count": 63,
   "metadata": {
    "colab": {
     "base_uri": "https://localhost:8080/",
     "height": 204
    },
    "colab_type": "code",
    "id": "TYlnfCC0UiZv",
    "outputId": "340cfab5-7337-4849-9f99-5cff9a0f9a56"
   },
   "outputs": [
    {
     "name": "stdout",
     "output_type": "stream",
     "text": [
      "+-------+------------+--------+---------------+-----------+\n",
      "| mobile|sum(ratings)|sum(age)|sum(experience)|sum(family)|\n",
      "+-------+------------+--------+---------------+-----------+\n",
      "|   Vivo|          21|     180|           57.0|          9|\n",
      "|  Apple|          24|     214|           77.0|         19|\n",
      "|Samsung|          25|     172|           52.0|         11|\n",
      "|     MI|          28|     241|           81.5|         11|\n",
      "|   Oppo|          20|     199|           72.5|         10|\n",
      "+-------+------------+--------+---------------+-----------+\n",
      "\n"
     ]
    }
   ],
   "source": [
    "df.groupBy('mobile').sum().show()"
   ]
  },
  {
   "cell_type": "code",
   "execution_count": 64,
   "metadata": {
    "colab": {
     "base_uri": "https://localhost:8080/",
     "height": 204
    },
    "colab_type": "code",
    "id": "x9uGVXD0Ux4V",
    "outputId": "5d92b29a-702b-473d-941f-bb50b250ac53"
   },
   "outputs": [
    {
     "name": "stdout",
     "output_type": "stream",
     "text": [
      "+-------+------------+--------+---------------+-----------+\n",
      "| mobile|max(ratings)|max(age)|max(experience)|max(family)|\n",
      "+-------+------------+--------+---------------+-----------+\n",
      "|   Vivo|           5|      37|           23.0|          5|\n",
      "|  Apple|           4|      37|           16.5|          5|\n",
      "|Samsung|           5|      37|           23.0|          5|\n",
      "|     MI|           5|      42|           23.0|          5|\n",
      "|   Oppo|           4|      42|           23.0|          2|\n",
      "+-------+------------+--------+---------------+-----------+\n",
      "\n"
     ]
    }
   ],
   "source": [
    "df.groupBy('mobile').max().show()"
   ]
  },
  {
   "cell_type": "code",
   "execution_count": 65,
   "metadata": {
    "colab": {
     "base_uri": "https://localhost:8080/",
     "height": 204
    },
    "colab_type": "code",
    "id": "ZJoZZL7fU3sD",
    "outputId": "581ad0f7-bf5c-40da-e5d6-615723254cfa"
   },
   "outputs": [
    {
     "name": "stdout",
     "output_type": "stream",
     "text": [
      "+-------+------------+--------+---------------+-----------+\n",
      "| mobile|min(ratings)|min(age)|min(experience)|min(family)|\n",
      "+-------+------------+--------+---------------+-----------+\n",
      "|   Vivo|           3|      32|            6.0|          0|\n",
      "|  Apple|           3|      22|            2.5|          0|\n",
      "|Samsung|           2|      22|            2.5|          0|\n",
      "|     MI|           1|      27|            2.5|          0|\n",
      "|   Oppo|           2|      22|            6.0|          0|\n",
      "+-------+------------+--------+---------------+-----------+\n",
      "\n"
     ]
    }
   ],
   "source": [
    "df.groupBy('mobile').min().show()"
   ]
  },
  {
   "cell_type": "code",
   "execution_count": 0,
   "metadata": {
    "colab": {},
    "colab_type": "code",
    "id": "wb32oCaTU7lB"
   },
   "outputs": [],
   "source": []
  },
  {
   "cell_type": "markdown",
   "metadata": {
    "colab_type": "text",
    "id": "2y0MaVdnVGCv"
   },
   "source": [
    "### Aggregations\n",
    "We can use the agg function as well to achieve the similar kinds of results as above."
   ]
  },
  {
   "cell_type": "code",
   "execution_count": 66,
   "metadata": {
    "colab": {
     "base_uri": "https://localhost:8080/",
     "height": 204
    },
    "colab_type": "code",
    "id": "oVaLvYZHVIiW",
    "outputId": "14e2c4c3-de4d-4a3e-eb40-861a5dae5731"
   },
   "outputs": [
    {
     "name": "stdout",
     "output_type": "stream",
     "text": [
      "+-------+---------------+\n",
      "| mobile|sum(experience)|\n",
      "+-------+---------------+\n",
      "|   Vivo|           57.0|\n",
      "|  Apple|           77.0|\n",
      "|Samsung|           52.0|\n",
      "|     MI|           81.5|\n",
      "|   Oppo|           72.5|\n",
      "+-------+---------------+\n",
      "\n"
     ]
    }
   ],
   "source": [
    "#Aggregation\n",
    "df.groupBy('mobile').agg({\"experience\":\"sum\"}).show()"
   ]
  },
  {
   "cell_type": "code",
   "execution_count": 0,
   "metadata": {
    "colab": {},
    "colab_type": "code",
    "id": "FWKP3gagVXiv"
   },
   "outputs": [],
   "source": []
  },
  {
   "cell_type": "markdown",
   "metadata": {
    "colab_type": "text",
    "id": "YjiQUOy8Vn8B"
   },
   "source": [
    "### User-Defined Functions (UDFs)\n",
    "UDFs are widely used in data processing to apply certain transformations to the dataframe. There are two types of UDFs available in PySpark:\n",
    "\n",
    "Conventional UDF and Pandas UDF. Pandas UDF are much more powerful\n",
    "in terms of speed and processing time."
   ]
  },
  {
   "cell_type": "code",
   "execution_count": 0,
   "metadata": {
    "colab": {},
    "colab_type": "code",
    "id": "iIbt2B5oVrrL"
   },
   "outputs": [],
   "source": [
    "from pyspark.sql.functions import udf\n"
   ]
  },
  {
   "cell_type": "code",
   "execution_count": 0,
   "metadata": {
    "colab": {},
    "colab_type": "code",
    "id": "adax5dwtV9--"
   },
   "outputs": [],
   "source": [
    "#normal function \n",
    "def price_range(brand):\n",
    "    if brand in ['Samsung','Apple']:\n",
    "        return 'High Price'\n",
    "    elif brand =='MI':\n",
    "        return 'Mid Price'\n",
    "    else:\n",
    "        return 'Low Price'"
   ]
  },
  {
   "cell_type": "code",
   "execution_count": 69,
   "metadata": {
    "colab": {
     "base_uri": "https://localhost:8080/",
     "height": 316
    },
    "colab_type": "code",
    "id": "SObCgtfEV_R_",
    "outputId": "5ce576be-3339-4659-8543-937c563444e7"
   },
   "outputs": [
    {
     "name": "stdout",
     "output_type": "stream",
     "text": [
      "+-------+---+----------+------+-------+------------------+\n",
      "|ratings|age|experience|family| mobile|price_range_values|\n",
      "+-------+---+----------+------+-------+------------------+\n",
      "|      3| 32|       9.0|     3|   Vivo|         Low Price|\n",
      "|      3| 27|      13.0|     3|  Apple|        High Price|\n",
      "|      4| 22|       2.5|     0|Samsung|        High Price|\n",
      "|      4| 37|      16.5|     4|  Apple|        High Price|\n",
      "|      5| 27|       9.0|     1|     MI|         Mid Price|\n",
      "|      4| 27|       9.0|     0|   Oppo|         Low Price|\n",
      "|      5| 37|      23.0|     5|   Vivo|         Low Price|\n",
      "|      5| 37|      23.0|     5|Samsung|        High Price|\n",
      "|      3| 22|       2.5|     0|  Apple|        High Price|\n",
      "|      3| 27|       6.0|     0|     MI|         Mid Price|\n",
      "+-------+---+----------+------+-------+------------------+\n",
      "only showing top 10 rows\n",
      "\n"
     ]
    }
   ],
   "source": [
    "\n",
    "\n",
    "#create udf using python function\n",
    "\n",
    "brand_udf = udf(price_range,StringType())\n",
    "df.withColumn('price_range_values',brand_udf(df['mobile'])).show(10)"
   ]
  },
  {
   "cell_type": "code",
   "execution_count": 70,
   "metadata": {
    "colab": {
     "base_uri": "https://localhost:8080/",
     "height": 316
    },
    "colab_type": "code",
    "id": "BvwdCVDNWf15",
    "outputId": "9028c457-9162-4740-8861-fd94b05b8f0e"
   },
   "outputs": [
    {
     "name": "stdout",
     "output_type": "stream",
     "text": [
      "+-------+---+----------+------+-------+---------+\n",
      "|ratings|age|experience|family|mobile |age_group|\n",
      "+-------+---+----------+------+-------+---------+\n",
      "|3      |32 |9.0       |3     |Vivo   |Senior   |\n",
      "|3      |27 |13.0      |3     |Apple  |young    |\n",
      "|4      |22 |2.5       |0     |Samsung|young    |\n",
      "|4      |37 |16.5      |4     |Apple  |Senior   |\n",
      "|5      |27 |9.0       |1     |MI     |young    |\n",
      "|4      |27 |9.0       |0     |Oppo   |young    |\n",
      "|5      |37 |23.0      |5     |Vivo   |Senior   |\n",
      "|5      |37 |23.0      |5     |Samsung|Senior   |\n",
      "|3      |22 |2.5       |0     |Apple  |young    |\n",
      "|3      |27 |6.0       |0     |MI     |young    |\n",
      "+-------+---+----------+------+-------+---------+\n",
      "only showing top 10 rows\n",
      "\n"
     ]
    }
   ],
   "source": [
    "#using lambda function\n",
    "age_udf = udf(lambda age: \"young\" if age<30 else \"Senior\",StringType())\n",
    "#apply udf on dataframe\n",
    "df.withColumn(\"age_group\", age_udf(df.age)).show(10,False)"
   ]
  },
  {
   "cell_type": "code",
   "execution_count": 0,
   "metadata": {
    "colab": {},
    "colab_type": "code",
    "id": "ex1TwBISXJZB"
   },
   "outputs": [],
   "source": []
  },
  {
   "cell_type": "markdown",
   "metadata": {
    "colab_type": "text",
    "id": "3S1m0nGUXTsq"
   },
   "source": [
    "### Pandas UDF (Vectorized UDF)\n",
    "Like mentioned earlier, Pandas UDFs are way faster and efficient\n",
    "compared to their peers. There are two types of Pandas UDFs:\n",
    "- Scalar\n",
    "- GroupedMap"
   ]
  },
  {
   "cell_type": "code",
   "execution_count": 0,
   "metadata": {
    "colab": {},
    "colab_type": "code",
    "id": "m5LO--MmXYvD"
   },
   "outputs": [],
   "source": [
    "#pandas udf\n",
    "from pyspark.sql.functions import pandas_udf, PandasUDFType"
   ]
  },
  {
   "cell_type": "code",
   "execution_count": 0,
   "metadata": {
    "colab": {},
    "colab_type": "code",
    "id": "JvjCmZr1Xb9l"
   },
   "outputs": [],
   "source": [
    "#create python function\n",
    "def remaining_yrs(age):\n",
    "    yrs_left=100-age\n",
    "    return yrs_left"
   ]
  },
  {
   "cell_type": "code",
   "execution_count": 73,
   "metadata": {
    "colab": {
     "base_uri": "https://localhost:8080/",
     "height": 316
    },
    "colab_type": "code",
    "id": "rPKgODBsXjxm",
    "outputId": "0dd10ebb-0e01-48f3-8c96-cc70912bead6"
   },
   "outputs": [
    {
     "name": "stdout",
     "output_type": "stream",
     "text": [
      "+-------+---+----------+------+-------+--------+\n",
      "|ratings|age|experience|family|mobile |yrs_left|\n",
      "+-------+---+----------+------+-------+--------+\n",
      "|3      |32 |9.0       |3     |Vivo   |68      |\n",
      "|3      |27 |13.0      |3     |Apple  |73      |\n",
      "|4      |22 |2.5       |0     |Samsung|78      |\n",
      "|4      |37 |16.5      |4     |Apple  |63      |\n",
      "|5      |27 |9.0       |1     |MI     |73      |\n",
      "|4      |27 |9.0       |0     |Oppo   |73      |\n",
      "|5      |37 |23.0      |5     |Vivo   |63      |\n",
      "|5      |37 |23.0      |5     |Samsung|63      |\n",
      "|3      |22 |2.5       |0     |Apple  |78      |\n",
      "|3      |27 |6.0       |0     |MI     |73      |\n",
      "+-------+---+----------+------+-------+--------+\n",
      "only showing top 10 rows\n",
      "\n"
     ]
    }
   ],
   "source": [
    "#create udf using python function\n",
    "length_udf = pandas_udf(remaining_yrs, IntegerType())\n",
    "#apply pandas udf on dataframe\n",
    "df.withColumn(\"yrs_left\", length_udf(df['age'])).show(10,False)"
   ]
  },
  {
   "cell_type": "code",
   "execution_count": 0,
   "metadata": {
    "colab": {},
    "colab_type": "code",
    "id": "9hLwrKXOXo-x"
   },
   "outputs": [],
   "source": []
  },
  {
   "cell_type": "markdown",
   "metadata": {
    "colab_type": "text",
    "id": "o87B7SSHyfJI"
   },
   "source": [
    "### Pandas UDF (Multiple Columns)\n",
    "We might face a situation where we need multiple columns as input to\n",
    "create a new column. Hence, the below example showcases the method\n",
    "of applying a Pandas UDF on multiple columns of a dataframe."
   ]
  },
  {
   "cell_type": "code",
   "execution_count": 0,
   "metadata": {
    "colab": {},
    "colab_type": "code",
    "id": "g6NB9MQoYBKU"
   },
   "outputs": [],
   "source": [
    "#udf using two columns \n",
    "def prod(rating,exp):\n",
    "    x=rating*exp\n",
    "    return x"
   ]
  },
  {
   "cell_type": "code",
   "execution_count": 75,
   "metadata": {
    "colab": {
     "base_uri": "https://localhost:8080/",
     "height": 316
    },
    "colab_type": "code",
    "id": "wi8GkC_LYWfo",
    "outputId": "32f174ff-f018-4503-ea9f-50eb7eb0074b"
   },
   "outputs": [
    {
     "name": "stdout",
     "output_type": "stream",
     "text": [
      "+-------+---+----------+------+-------+-------+\n",
      "|ratings|age|experience|family|mobile |product|\n",
      "+-------+---+----------+------+-------+-------+\n",
      "|3      |32 |9.0       |3     |Vivo   |27.0   |\n",
      "|3      |27 |13.0      |3     |Apple  |39.0   |\n",
      "|4      |22 |2.5       |0     |Samsung|10.0   |\n",
      "|4      |37 |16.5      |4     |Apple  |66.0   |\n",
      "|5      |27 |9.0       |1     |MI     |45.0   |\n",
      "|4      |27 |9.0       |0     |Oppo   |36.0   |\n",
      "|5      |37 |23.0      |5     |Vivo   |115.0  |\n",
      "|5      |37 |23.0      |5     |Samsung|115.0  |\n",
      "|3      |22 |2.5       |0     |Apple  |7.5    |\n",
      "|3      |27 |6.0       |0     |MI     |18.0   |\n",
      "+-------+---+----------+------+-------+-------+\n",
      "only showing top 10 rows\n",
      "\n"
     ]
    }
   ],
   "source": [
    "#create udf using python function\n",
    "prod_udf = pandas_udf(prod, DoubleType())\n",
    "#apply pandas udf on multiple columns of dataframe\n",
    "df.withColumn(\"product\", prod_udf(df['ratings'],df['experience'])).show(10,False)"
   ]
  },
  {
   "cell_type": "code",
   "execution_count": 0,
   "metadata": {
    "colab": {},
    "colab_type": "code",
    "id": "L3EvEN-py5ap"
   },
   "outputs": [],
   "source": [
    "#drop duplicate values\n",
    "df=df.dropDuplicates()"
   ]
  },
  {
   "cell_type": "code",
   "execution_count": 0,
   "metadata": {
    "colab": {},
    "colab_type": "code",
    "id": "g0Zv43AAy-WE"
   },
   "outputs": [],
   "source": [
    "#drop column of dataframe\n",
    "df_new=df.drop('mobile')"
   ]
  },
  {
   "cell_type": "code",
   "execution_count": 0,
   "metadata": {
    "colab": {},
    "colab_type": "code",
    "id": "K8bD8Tn1zBsr"
   },
   "outputs": [],
   "source": []
  }
 ],
 "metadata": {
  "colab": {
   "collapsed_sections": [],
   "name": "001_data preprocessing.ipynb",
   "provenance": []
  },
  "kernelspec": {
   "display_name": "Python 3",
   "language": "python",
   "name": "python3"
  },
  "language_info": {
   "codemirror_mode": {
    "name": "ipython",
    "version": 3
   },
   "file_extension": ".py",
   "mimetype": "text/x-python",
   "name": "python",
   "nbconvert_exporter": "python",
   "pygments_lexer": "ipython3",
   "version": "3.6.6"
  }
 },
 "nbformat": 4,
 "nbformat_minor": 1
}
