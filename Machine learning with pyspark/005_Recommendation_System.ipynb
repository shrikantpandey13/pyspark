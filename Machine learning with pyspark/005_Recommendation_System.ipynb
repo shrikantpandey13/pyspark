{
 "cells": [
  {
   "cell_type": "markdown",
   "metadata": {},
   "source": [
    "Recommender systems can be used for multiple purposes in the sense of\n",
    "recommending various things to users. For example, some of them might\n",
    "fall in the categories below:\n",
    "1. Retail Products\n",
    "2. Jobs\n",
    "3. Connections/Friends\n",
    "4. Movies/Music/Videos/Books/Articles\n",
    "5. Ads"
   ]
  },
  {
   "cell_type": "markdown",
   "metadata": {},
   "source": [
    "RS = Recommender systems <br>\n",
    "There are mainly five types of RS that can be built:\n",
    "1. Popularity Based RS\n",
    "2. Content Based RS\n",
    "3. Collaborative Filtering based RS\n",
    "4. Hybrid RS\n",
    "5. Association Rule Mining based RS"
   ]
  },
  {
   "cell_type": "markdown",
   "metadata": {
    "ExecuteTime": {
     "end_time": "2020-05-26T07:29:54.479202Z",
     "start_time": "2020-05-26T07:29:54.467328Z"
    }
   },
   "source": [
    "### Popularity Based RS\n",
    "This is the most basic and simplest RS that can be used to recommend\n",
    "products or content to the users. It recommends items/content based\n",
    "on bought/viewed/liked/downloaded by most of the users. While it is easy and simple to implement, it doesn’t produce relevant results as\n",
    "the recommendations stay the same for every user, but it sometimes\n",
    "outperforms some of the more sophisticated RS."
   ]
  },
  {
   "cell_type": "markdown",
   "metadata": {},
   "source": [
    "1. No. of times downloaded\n",
    "2. No. of times bought\n",
    "3. No. of times viewed\n",
    "4. Highest rated\n",
    "5. No. of times shared\n",
    "6. No. of times liked"
   ]
  },
  {
   "cell_type": "markdown",
   "metadata": {},
   "source": [
    "### Content Based RS\n",
    "This type of RS recommends similar items to the users that the user\n",
    "has liked in the past. So, the whole idea is to calculate a similarity score\n",
    "between any two items and recommended to the user based upon the\n",
    "profile of the user’s interests."
   ]
  },
  {
   "cell_type": "code",
   "execution_count": 2,
   "metadata": {
    "ExecuteTime": {
     "end_time": "2020-05-26T12:26:00.923486Z",
     "start_time": "2020-05-26T12:25:48.409570Z"
    }
   },
   "outputs": [],
   "source": [
    "\n",
    "\n",
    "#import and create sparksession object\n",
    "from pyspark.sql import SparkSession \n",
    "spark=SparkSession.builder.appName('rc').getOrCreate()\n",
    "\n"
   ]
  },
  {
   "cell_type": "code",
   "execution_count": 3,
   "metadata": {
    "ExecuteTime": {
     "end_time": "2020-05-26T12:26:00.940935Z",
     "start_time": "2020-05-26T12:26:00.925653Z"
    }
   },
   "outputs": [],
   "source": [
    "#import the required functions and libraries\n",
    "from pyspark.sql.functions import *"
   ]
  },
  {
   "cell_type": "code",
   "execution_count": 4,
   "metadata": {
    "ExecuteTime": {
     "end_time": "2020-05-26T12:26:13.455126Z",
     "start_time": "2020-05-26T12:26:04.067656Z"
    }
   },
   "outputs": [],
   "source": [
    "#load the dataset and create sprk dataframe\n",
    "df=spark.read.csv('movie_ratings_df.csv',inferSchema=True,header=True)"
   ]
  },
  {
   "cell_type": "code",
   "execution_count": 5,
   "metadata": {
    "ExecuteTime": {
     "end_time": "2020-05-26T12:26:17.568809Z",
     "start_time": "2020-05-26T12:26:17.125877Z"
    }
   },
   "outputs": [
    {
     "name": "stdout",
     "output_type": "stream",
     "text": [
      "+------+------------+------+\n",
      "|userId|       title|rating|\n",
      "+------+------------+------+\n",
      "|   196|Kolya (1996)|     3|\n",
      "|    63|Kolya (1996)|     3|\n",
      "|   226|Kolya (1996)|     5|\n",
      "|   154|Kolya (1996)|     3|\n",
      "|   306|Kolya (1996)|     5|\n",
      "|   296|Kolya (1996)|     4|\n",
      "|    34|Kolya (1996)|     5|\n",
      "|   271|Kolya (1996)|     4|\n",
      "|   201|Kolya (1996)|     4|\n",
      "|   209|Kolya (1996)|     4|\n",
      "+------+------------+------+\n",
      "only showing top 10 rows\n",
      "\n"
     ]
    }
   ],
   "source": [
    "df.show(10)"
   ]
  },
  {
   "cell_type": "code",
   "execution_count": 6,
   "metadata": {
    "ExecuteTime": {
     "end_time": "2020-05-26T12:26:33.182498Z",
     "start_time": "2020-05-26T12:26:32.179303Z"
    }
   },
   "outputs": [
    {
     "name": "stdout",
     "output_type": "stream",
     "text": [
      "Shape of dataset is: (100000, 3)\n"
     ]
    }
   ],
   "source": [
    "#validate the shape of the data \n",
    "print(\"Shape of dataset is:\",(df.count(),len(df.columns)))"
   ]
  },
  {
   "cell_type": "code",
   "execution_count": 7,
   "metadata": {
    "ExecuteTime": {
     "end_time": "2020-05-26T12:26:42.033974Z",
     "start_time": "2020-05-26T12:26:42.029457Z"
    }
   },
   "outputs": [
    {
     "name": "stdout",
     "output_type": "stream",
     "text": [
      "root\n",
      " |-- userId: integer (nullable = true)\n",
      " |-- title: string (nullable = true)\n",
      " |-- rating: integer (nullable = true)\n",
      "\n"
     ]
    }
   ],
   "source": [
    "#check columns in dataframe\n",
    "df.printSchema()\n",
    "\n"
   ]
  },
  {
   "cell_type": "code",
   "execution_count": 8,
   "metadata": {
    "ExecuteTime": {
     "end_time": "2020-05-26T12:29:16.285803Z",
     "start_time": "2020-05-26T12:29:11.619039Z"
    }
   },
   "outputs": [
    {
     "name": "stdout",
     "output_type": "stream",
     "text": [
      "+------+-----+\n",
      "|userId|count|\n",
      "+------+-----+\n",
      "|405   |737  |\n",
      "|655   |685  |\n",
      "|13    |636  |\n",
      "|450   |540  |\n",
      "|276   |518  |\n",
      "|416   |493  |\n",
      "|537   |490  |\n",
      "|303   |484  |\n",
      "|234   |480  |\n",
      "|393   |448  |\n",
      "+------+-----+\n",
      "only showing top 10 rows\n",
      "\n"
     ]
    }
   ],
   "source": [
    "#check number of ratings by each user\n",
    "df.groupBy('userId').count().orderBy('count',ascending=False).show(10,False)"
   ]
  },
  {
   "cell_type": "code",
   "execution_count": 9,
   "metadata": {
    "ExecuteTime": {
     "end_time": "2020-05-26T12:29:37.561654Z",
     "start_time": "2020-05-26T12:29:34.930091Z"
    }
   },
   "outputs": [
    {
     "name": "stdout",
     "output_type": "stream",
     "text": [
      "+-----------------------------+-----+\n",
      "|title                        |count|\n",
      "+-----------------------------+-----+\n",
      "|Star Wars (1977)             |583  |\n",
      "|Contact (1997)               |509  |\n",
      "|Fargo (1996)                 |508  |\n",
      "|Return of the Jedi (1983)    |507  |\n",
      "|Liar Liar (1997)             |485  |\n",
      "|English Patient, The (1996)  |481  |\n",
      "|Scream (1996)                |478  |\n",
      "|Toy Story (1995)             |452  |\n",
      "|Air Force One (1997)         |431  |\n",
      "|Independence Day (ID4) (1996)|429  |\n",
      "+-----------------------------+-----+\n",
      "only showing top 10 rows\n",
      "\n"
     ]
    }
   ],
   "source": [
    "#number of times movie been rated \n",
    "df.groupBy('title').count().orderBy('count',ascending=False).show(10,False)"
   ]
  },
  {
   "cell_type": "code",
   "execution_count": 11,
   "metadata": {
    "ExecuteTime": {
     "end_time": "2020-05-26T12:30:08.202029Z",
     "start_time": "2020-05-26T12:30:08.194977Z"
    }
   },
   "outputs": [],
   "source": [
    "#import String indexer to convert string values to numeric values\n",
    "from pyspark.ml.feature import StringIndexer,IndexToString\n",
    "\n"
   ]
  },
  {
   "cell_type": "code",
   "execution_count": 12,
   "metadata": {
    "ExecuteTime": {
     "end_time": "2020-05-26T12:30:22.025001Z",
     "start_time": "2020-05-26T12:30:21.948743Z"
    }
   },
   "outputs": [],
   "source": [
    "#creating string indexer to convert the movie title column values into numerical values\n",
    "stringIndexer = StringIndexer(inputCol=\"title\", outputCol=\"title_new\")"
   ]
  },
  {
   "cell_type": "code",
   "execution_count": 13,
   "metadata": {
    "ExecuteTime": {
     "end_time": "2020-05-26T12:30:35.198902Z",
     "start_time": "2020-05-26T12:30:33.748395Z"
    }
   },
   "outputs": [],
   "source": [
    "#applying stringindexer object on dataframe movie title column\n",
    "model = stringIndexer.fit(df)"
   ]
  },
  {
   "cell_type": "code",
   "execution_count": 14,
   "metadata": {
    "ExecuteTime": {
     "end_time": "2020-05-26T12:30:47.611931Z",
     "start_time": "2020-05-26T12:30:47.475771Z"
    }
   },
   "outputs": [],
   "source": [
    "#creating new dataframe with transformed values\n",
    "indexed = model.transform(df)"
   ]
  },
  {
   "cell_type": "code",
   "execution_count": 15,
   "metadata": {
    "ExecuteTime": {
     "end_time": "2020-05-26T12:31:17.292462Z",
     "start_time": "2020-05-26T12:31:14.679707Z"
    }
   },
   "outputs": [
    {
     "name": "stdout",
     "output_type": "stream",
     "text": [
      "+---------+-----+\n",
      "|title_new|count|\n",
      "+---------+-----+\n",
      "|0.0      |583  |\n",
      "|1.0      |509  |\n",
      "|2.0      |508  |\n",
      "|3.0      |507  |\n",
      "|4.0      |485  |\n",
      "|5.0      |481  |\n",
      "|6.0      |478  |\n",
      "|7.0      |452  |\n",
      "|8.0      |431  |\n",
      "|9.0      |429  |\n",
      "+---------+-----+\n",
      "only showing top 10 rows\n",
      "\n"
     ]
    }
   ],
   "source": [
    "#number of times each numerical movie title has been rated \n",
    "indexed.groupBy('title_new').count().orderBy('count',ascending=False).show(10,False)"
   ]
  },
  {
   "cell_type": "code",
   "execution_count": 16,
   "metadata": {
    "ExecuteTime": {
     "end_time": "2020-05-26T12:31:29.043938Z",
     "start_time": "2020-05-26T12:31:29.009170Z"
    }
   },
   "outputs": [],
   "source": [
    "#split the data into training and test datatset\n",
    "train,test=indexed.randomSplit([0.75,0.25])"
   ]
  },
  {
   "cell_type": "code",
   "execution_count": 17,
   "metadata": {
    "ExecuteTime": {
     "end_time": "2020-05-26T12:31:51.714651Z",
     "start_time": "2020-05-26T12:31:50.635531Z"
    }
   },
   "outputs": [
    {
     "name": "stdout",
     "output_type": "stream",
     "text": [
      "shape of train data 74973\n"
     ]
    }
   ],
   "source": [
    "#count number of records in train set\n",
    "print(\"shape of train data\",train.count())"
   ]
  },
  {
   "cell_type": "code",
   "execution_count": 18,
   "metadata": {
    "ExecuteTime": {
     "end_time": "2020-05-26T12:32:15.924051Z",
     "start_time": "2020-05-26T12:32:15.075060Z"
    }
   },
   "outputs": [
    {
     "name": "stdout",
     "output_type": "stream",
     "text": [
      "shape of test data 25027\n"
     ]
    }
   ],
   "source": [
    "#count number of records in test set\n",
    "print(\"shape of test data\",test.count())"
   ]
  },
  {
   "cell_type": "code",
   "execution_count": 19,
   "metadata": {
    "ExecuteTime": {
     "end_time": "2020-05-26T12:32:24.330020Z",
     "start_time": "2020-05-26T12:32:24.326636Z"
    }
   },
   "outputs": [],
   "source": [
    "#import ALS recommender function from pyspark ml library\n",
    "from pyspark.ml.recommendation import ALS"
   ]
  },
  {
   "cell_type": "code",
   "execution_count": 20,
   "metadata": {
    "ExecuteTime": {
     "end_time": "2020-05-26T12:32:39.425784Z",
     "start_time": "2020-05-26T12:32:39.241084Z"
    }
   },
   "outputs": [],
   "source": [
    "\n",
    "\n",
    "#Training the recommender model using train datatset\n",
    "rec=ALS(maxIter=10,regParam=0.01,userCol='userId',itemCol='title_new',ratingCol='rating',nonnegative=True,coldStartStrategy=\"drop\")\n",
    "\n"
   ]
  },
  {
   "cell_type": "code",
   "execution_count": 21,
   "metadata": {
    "ExecuteTime": {
     "end_time": "2020-05-26T12:32:58.422709Z",
     "start_time": "2020-05-26T12:32:46.680895Z"
    }
   },
   "outputs": [],
   "source": [
    "#fit the model on train set\n",
    "rec_model=rec.fit(train)"
   ]
  },
  {
   "cell_type": "code",
   "execution_count": 22,
   "metadata": {
    "ExecuteTime": {
     "end_time": "2020-05-26T12:32:58.478829Z",
     "start_time": "2020-05-26T12:32:58.424704Z"
    }
   },
   "outputs": [],
   "source": [
    "#making predictions on test set \n",
    "predicted_ratings=rec_model.transform(test)"
   ]
  },
  {
   "cell_type": "code",
   "execution_count": 23,
   "metadata": {
    "ExecuteTime": {
     "end_time": "2020-05-26T12:33:03.759201Z",
     "start_time": "2020-05-26T12:33:03.754211Z"
    }
   },
   "outputs": [
    {
     "name": "stdout",
     "output_type": "stream",
     "text": [
      "root\n",
      " |-- userId: integer (nullable = true)\n",
      " |-- title: string (nullable = true)\n",
      " |-- rating: integer (nullable = true)\n",
      " |-- title_new: double (nullable = false)\n",
      " |-- prediction: float (nullable = false)\n",
      "\n"
     ]
    }
   ],
   "source": [
    "#columns in predicted ratings dataframe\n",
    "predicted_ratings.printSchema()"
   ]
  },
  {
   "cell_type": "code",
   "execution_count": 24,
   "metadata": {
    "ExecuteTime": {
     "end_time": "2020-05-26T12:33:45.511870Z",
     "start_time": "2020-05-26T12:33:15.897310Z"
    }
   },
   "outputs": [
    {
     "name": "stdout",
     "output_type": "stream",
     "text": [
      "+------+--------------------+------+---------+----------+\n",
      "|userId|               title|rating|title_new|prediction|\n",
      "+------+--------------------+------+---------+----------+\n",
      "|   669|Dances with Wolve...|     4|     61.0| 3.6622992|\n",
      "|    13|Wes Craven's New ...|     1|    742.0| 2.7547276|\n",
      "|    58|     Die Hard (1988)|     4|     73.0| 3.9408581|\n",
      "|   559|       Gandhi (1982)|     4|    122.0| 3.1528165|\n",
      "|    24|      Amadeus (1984)|     5|     50.0|  4.792174|\n",
      "|   921| First Knight (1995)|     4|    389.0| 3.1264238|\n",
      "|   850|Dead Poets Societ...|     3|     65.0| 4.8176537|\n",
      "|   533|    Notorious (1946)|     4|    587.0|  2.701545|\n",
      "|   378|Hunchback of Notr...|     5|    253.0| 3.5229619|\n",
      "|    11|       Grease (1978)|     2|    166.0|  3.551807|\n",
      "+------+--------------------+------+---------+----------+\n",
      "only showing top 10 rows\n",
      "\n"
     ]
    }
   ],
   "source": [
    "#predicted vs actual ratings for test set \n",
    "predicted_ratings.orderBy(rand()).show(10)"
   ]
  },
  {
   "cell_type": "code",
   "execution_count": 31,
   "metadata": {
    "ExecuteTime": {
     "end_time": "2020-05-26T12:37:04.322611Z",
     "start_time": "2020-05-26T12:37:04.310701Z"
    }
   },
   "outputs": [],
   "source": [
    "#importing Regression Evaluator to measure RMSE\n",
    "from pyspark.ml.evaluation import RegressionEvaluator\n",
    "\n",
    "#create Regressor evaluator object for measuring accuracy\n",
    "evaluator=RegressionEvaluator(metricName='rmse',predictionCol='predictions',labelCol='rating')\n",
    "#apply the RE on predictions dataframe to calculate RMSE\n"
   ]
  },
  {
   "cell_type": "code",
   "execution_count": 33,
   "metadata": {
    "ExecuteTime": {
     "end_time": "2020-05-26T12:38:21.791927Z",
     "start_time": "2020-05-26T12:38:21.782201Z"
    }
   },
   "outputs": [
    {
     "ename": "NameError",
     "evalue": "name 'prediction' is not defined",
     "output_type": "error",
     "traceback": [
      "\u001b[1;31m---------------------------------------------------------------------------\u001b[0m",
      "\u001b[1;31mNameError\u001b[0m                                 Traceback (most recent call last)",
      "\u001b[1;32m<ipython-input-33-bbb3c0b9f573>\u001b[0m in \u001b[0;36m<module>\u001b[1;34m()\u001b[0m\n\u001b[1;32m----> 1\u001b[1;33m \u001b[0mrmse\u001b[0m\u001b[1;33m=\u001b[0m\u001b[0mevaluator\u001b[0m\u001b[1;33m.\u001b[0m\u001b[0mevaluate\u001b[0m\u001b[1;33m(\u001b[0m\u001b[0mprediction\u001b[0m\u001b[1;33m)\u001b[0m\u001b[1;33m\u001b[0m\u001b[0m\n\u001b[0m\u001b[0;32m      2\u001b[0m \u001b[1;31m#print RMSE error\u001b[0m\u001b[1;33m\u001b[0m\u001b[1;33m\u001b[0m\u001b[0m\n\u001b[0;32m      3\u001b[0m \u001b[0mprint\u001b[0m\u001b[1;33m(\u001b[0m\u001b[0mrmse\u001b[0m\u001b[1;33m)\u001b[0m\u001b[1;33m\u001b[0m\u001b[0m\n",
      "\u001b[1;31mNameError\u001b[0m: name 'prediction' is not defined"
     ]
    }
   ],
   "source": [
    "rmse=evaluator.evaluate(prediction)\n",
    "#print RMSE error\n",
    "print(rmse)"
   ]
  },
  {
   "cell_type": "code",
   "execution_count": null,
   "metadata": {},
   "outputs": [],
   "source": []
  }
 ],
 "metadata": {
  "kernelspec": {
   "display_name": "Python 3",
   "language": "python",
   "name": "python3"
  },
  "language_info": {
   "codemirror_mode": {
    "name": "ipython",
    "version": 3
   },
   "file_extension": ".py",
   "mimetype": "text/x-python",
   "name": "python",
   "nbconvert_exporter": "python",
   "pygments_lexer": "ipython3",
   "version": "3.6.6"
  }
 },
 "nbformat": 4,
 "nbformat_minor": 2
}
