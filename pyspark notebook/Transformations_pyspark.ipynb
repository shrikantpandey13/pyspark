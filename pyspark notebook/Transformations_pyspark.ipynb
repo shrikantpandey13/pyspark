{
  "nbformat": 4,
  "nbformat_minor": 0,
  "metadata": {
    "colab": {
      "name": "Transformations pyspark.ipynb",
      "provenance": []
    },
    "kernelspec": {
      "name": "python3",
      "display_name": "Python 3"
    }
  },
  "cells": [
    {
      "cell_type": "code",
      "metadata": {
        "id": "UukjxortUuhu",
        "colab_type": "code",
        "colab": {
          "base_uri": "https://localhost:8080/",
          "height": 1000
        },
        "outputId": "af05fb21-59ce-4355-9bd1-09d869eb3dd6"
      },
      "source": [
        "!apt-get install openjdk-8-jdk-headless -qq > /dev/null\n",
        "!wget -q https://www-us.apache.org/dist/spark/spark-3.0.0-preview2/spark-3.0.0-preview2-bin-hadoop3.2.tgz\n",
        "!tar -xvf spark-3.0.0-preview2-bin-hadoop3.2.tgz\n",
        "!pip install -q findspark\n",
        "import os\n",
        "os.environ[\"JAVA_HOME\"] = \"/usr/lib/jvm/java-8-openjdk-amd64\"\n",
        "os.environ[\"SPARK_HOME\"] = \"/content/spark-3.0.0-preview2-bin-hadoop3.2\""
      ],
      "execution_count": 1,
      "outputs": [
        {
          "output_type": "stream",
          "text": [
            "spark-3.0.0-preview2-bin-hadoop3.2/\n",
            "spark-3.0.0-preview2-bin-hadoop3.2/data/\n",
            "spark-3.0.0-preview2-bin-hadoop3.2/data/streaming/\n",
            "spark-3.0.0-preview2-bin-hadoop3.2/data/streaming/AFINN-111.txt\n",
            "spark-3.0.0-preview2-bin-hadoop3.2/data/mllib/\n",
            "spark-3.0.0-preview2-bin-hadoop3.2/data/mllib/sample_binary_classification_data.txt\n",
            "spark-3.0.0-preview2-bin-hadoop3.2/data/mllib/sample_kmeans_data.txt\n",
            "spark-3.0.0-preview2-bin-hadoop3.2/data/mllib/sample_multiclass_classification_data.txt\n",
            "spark-3.0.0-preview2-bin-hadoop3.2/data/mllib/sample_lda_libsvm_data.txt\n",
            "spark-3.0.0-preview2-bin-hadoop3.2/data/mllib/iris_libsvm.txt\n",
            "spark-3.0.0-preview2-bin-hadoop3.2/data/mllib/pagerank_data.txt\n",
            "spark-3.0.0-preview2-bin-hadoop3.2/data/mllib/sample_linear_regression_data.txt\n",
            "spark-3.0.0-preview2-bin-hadoop3.2/data/mllib/pic_data.txt\n",
            "spark-3.0.0-preview2-bin-hadoop3.2/data/mllib/als/\n",
            "spark-3.0.0-preview2-bin-hadoop3.2/data/mllib/als/test.data\n",
            "spark-3.0.0-preview2-bin-hadoop3.2/data/mllib/als/sample_movielens_ratings.txt\n",
            "spark-3.0.0-preview2-bin-hadoop3.2/data/mllib/ridge-data/\n",
            "spark-3.0.0-preview2-bin-hadoop3.2/data/mllib/ridge-data/lpsa.data\n",
            "spark-3.0.0-preview2-bin-hadoop3.2/data/mllib/sample_movielens_data.txt\n",
            "spark-3.0.0-preview2-bin-hadoop3.2/data/mllib/sample_isotonic_regression_libsvm_data.txt\n",
            "spark-3.0.0-preview2-bin-hadoop3.2/data/mllib/sample_svm_data.txt\n",
            "spark-3.0.0-preview2-bin-hadoop3.2/data/mllib/kmeans_data.txt\n",
            "spark-3.0.0-preview2-bin-hadoop3.2/data/mllib/sample_libsvm_data.txt\n",
            "spark-3.0.0-preview2-bin-hadoop3.2/data/mllib/images/\n",
            "spark-3.0.0-preview2-bin-hadoop3.2/data/mllib/images/origin/\n",
            "spark-3.0.0-preview2-bin-hadoop3.2/data/mllib/images/origin/multi-channel/\n",
            "spark-3.0.0-preview2-bin-hadoop3.2/data/mllib/images/origin/multi-channel/grayscale.jpg\n",
            "spark-3.0.0-preview2-bin-hadoop3.2/data/mllib/images/origin/multi-channel/BGRA.png\n",
            "spark-3.0.0-preview2-bin-hadoop3.2/data/mllib/images/origin/multi-channel/chr30.4.184.jpg\n",
            "spark-3.0.0-preview2-bin-hadoop3.2/data/mllib/images/origin/multi-channel/BGRA_alpha_60.png\n",
            "spark-3.0.0-preview2-bin-hadoop3.2/data/mllib/images/origin/kittens/\n",
            "spark-3.0.0-preview2-bin-hadoop3.2/data/mllib/images/origin/kittens/not-image.txt\n",
            "spark-3.0.0-preview2-bin-hadoop3.2/data/mllib/images/origin/kittens/54893.jpg\n",
            "spark-3.0.0-preview2-bin-hadoop3.2/data/mllib/images/origin/kittens/DP153539.jpg\n",
            "spark-3.0.0-preview2-bin-hadoop3.2/data/mllib/images/origin/kittens/29.5.a_b_EGDP022204.jpg\n",
            "spark-3.0.0-preview2-bin-hadoop3.2/data/mllib/images/origin/kittens/DP802813.jpg\n",
            "spark-3.0.0-preview2-bin-hadoop3.2/data/mllib/images/origin/license.txt\n",
            "spark-3.0.0-preview2-bin-hadoop3.2/data/mllib/images/partitioned/\n",
            "spark-3.0.0-preview2-bin-hadoop3.2/data/mllib/images/partitioned/cls=multichannel/\n",
            "spark-3.0.0-preview2-bin-hadoop3.2/data/mllib/images/partitioned/cls=multichannel/date=2018-01/\n",
            "spark-3.0.0-preview2-bin-hadoop3.2/data/mllib/images/partitioned/cls=multichannel/date=2018-01/BGRA.png\n",
            "spark-3.0.0-preview2-bin-hadoop3.2/data/mllib/images/partitioned/cls=multichannel/date=2018-01/BGRA_alpha_60.png\n",
            "spark-3.0.0-preview2-bin-hadoop3.2/data/mllib/images/partitioned/cls=multichannel/date=2018-02/\n",
            "spark-3.0.0-preview2-bin-hadoop3.2/data/mllib/images/partitioned/cls=multichannel/date=2018-02/grayscale.jpg\n",
            "spark-3.0.0-preview2-bin-hadoop3.2/data/mllib/images/partitioned/cls=multichannel/date=2018-02/chr30.4.184.jpg\n",
            "spark-3.0.0-preview2-bin-hadoop3.2/data/mllib/images/partitioned/cls=kittens/\n",
            "spark-3.0.0-preview2-bin-hadoop3.2/data/mllib/images/partitioned/cls=kittens/date=2018-01/\n",
            "spark-3.0.0-preview2-bin-hadoop3.2/data/mllib/images/partitioned/cls=kittens/date=2018-01/not-image.txt\n",
            "spark-3.0.0-preview2-bin-hadoop3.2/data/mllib/images/partitioned/cls=kittens/date=2018-01/29.5.a_b_EGDP022204.jpg\n",
            "spark-3.0.0-preview2-bin-hadoop3.2/data/mllib/images/partitioned/cls=kittens/date=2018-02/\n",
            "spark-3.0.0-preview2-bin-hadoop3.2/data/mllib/images/partitioned/cls=kittens/date=2018-02/54893.jpg\n",
            "spark-3.0.0-preview2-bin-hadoop3.2/data/mllib/images/partitioned/cls=kittens/date=2018-02/DP153539.jpg\n",
            "spark-3.0.0-preview2-bin-hadoop3.2/data/mllib/images/partitioned/cls=kittens/date=2018-02/DP802813.jpg\n",
            "spark-3.0.0-preview2-bin-hadoop3.2/data/mllib/images/license.txt\n",
            "spark-3.0.0-preview2-bin-hadoop3.2/data/mllib/streaming_kmeans_data_test.txt\n",
            "spark-3.0.0-preview2-bin-hadoop3.2/data/mllib/sample_lda_data.txt\n",
            "spark-3.0.0-preview2-bin-hadoop3.2/data/mllib/gmm_data.txt\n",
            "spark-3.0.0-preview2-bin-hadoop3.2/data/mllib/sample_fpgrowth.txt\n",
            "spark-3.0.0-preview2-bin-hadoop3.2/data/graphx/\n",
            "spark-3.0.0-preview2-bin-hadoop3.2/data/graphx/followers.txt\n",
            "spark-3.0.0-preview2-bin-hadoop3.2/data/graphx/users.txt\n",
            "spark-3.0.0-preview2-bin-hadoop3.2/licenses/\n",
            "spark-3.0.0-preview2-bin-hadoop3.2/licenses/LICENSE-javassist.html\n",
            "spark-3.0.0-preview2-bin-hadoop3.2/licenses/LICENSE-protobuf.txt\n",
            "spark-3.0.0-preview2-bin-hadoop3.2/licenses/LICENSE-jakarta.xml.bind-api.txt\n",
            "spark-3.0.0-preview2-bin-hadoop3.2/licenses/LICENSE-dnsjava.txt\n",
            "spark-3.0.0-preview2-bin-hadoop3.2/licenses/LICENSE-CC0.txt\n",
            "spark-3.0.0-preview2-bin-hadoop3.2/licenses/LICENSE-leveldbjni.txt\n",
            "spark-3.0.0-preview2-bin-hadoop3.2/licenses/LICENSE-jakarta-ws-rs-api\n",
            "spark-3.0.0-preview2-bin-hadoop3.2/licenses/LICENSE-re2j.txt\n",
            "spark-3.0.0-preview2-bin-hadoop3.2/licenses/LICENSE-vis.txt\n",
            "spark-3.0.0-preview2-bin-hadoop3.2/licenses/LICENSE-d3.min.js.txt\n",
            "spark-3.0.0-preview2-bin-hadoop3.2/licenses/LICENSE-dagre-d3.txt\n",
            "spark-3.0.0-preview2-bin-hadoop3.2/licenses/LICENSE-jaxb-runtime.txt\n",
            "spark-3.0.0-preview2-bin-hadoop3.2/licenses/LICENSE-matchMedia-polyfill.txt\n",
            "spark-3.0.0-preview2-bin-hadoop3.2/licenses/LICENSE-mustache.txt\n",
            "spark-3.0.0-preview2-bin-hadoop3.2/licenses/LICENSE-arpack.txt\n",
            "spark-3.0.0-preview2-bin-hadoop3.2/licenses/LICENSE-pmml-model.txt\n",
            "spark-3.0.0-preview2-bin-hadoop3.2/licenses/LICENSE-sorttable.js.txt\n",
            "spark-3.0.0-preview2-bin-hadoop3.2/licenses/LICENSE-pyrolite.txt\n",
            "spark-3.0.0-preview2-bin-hadoop3.2/licenses/LICENSE-javolution.txt\n",
            "spark-3.0.0-preview2-bin-hadoop3.2/licenses/LICENSE-javax-transaction-transaction-api.txt\n",
            "spark-3.0.0-preview2-bin-hadoop3.2/licenses/LICENSE-JTransforms.txt\n",
            "spark-3.0.0-preview2-bin-hadoop3.2/licenses/LICENSE-join.txt\n",
            "spark-3.0.0-preview2-bin-hadoop3.2/licenses/LICENSE-machinist.txt\n",
            "spark-3.0.0-preview2-bin-hadoop3.2/licenses/LICENSE-py4j.txt\n",
            "spark-3.0.0-preview2-bin-hadoop3.2/licenses/LICENSE-slf4j.txt\n",
            "spark-3.0.0-preview2-bin-hadoop3.2/licenses/LICENSE-AnchorJS.txt\n",
            "spark-3.0.0-preview2-bin-hadoop3.2/licenses/LICENSE-heapq.txt\n",
            "spark-3.0.0-preview2-bin-hadoop3.2/licenses/LICENSE-istack-commons-runtime.txt\n",
            "spark-3.0.0-preview2-bin-hadoop3.2/licenses/LICENSE-scopt.txt\n",
            "spark-3.0.0-preview2-bin-hadoop3.2/licenses/LICENSE-scala.txt\n",
            "spark-3.0.0-preview2-bin-hadoop3.2/licenses/LICENSE-jakarta.activation-api.txt\n",
            "spark-3.0.0-preview2-bin-hadoop3.2/licenses/LICENSE-netlib.txt\n",
            "spark-3.0.0-preview2-bin-hadoop3.2/licenses/LICENSE-json-formatter.txt\n",
            "spark-3.0.0-preview2-bin-hadoop3.2/licenses/LICENSE-jline.txt\n",
            "spark-3.0.0-preview2-bin-hadoop3.2/licenses/LICENSE-jquery.txt\n",
            "spark-3.0.0-preview2-bin-hadoop3.2/licenses/LICENSE-modernizr.txt\n",
            "spark-3.0.0-preview2-bin-hadoop3.2/licenses/LICENSE-jodd.txt\n",
            "spark-3.0.0-preview2-bin-hadoop3.2/licenses/LICENSE-jakarta-annotation-api\n",
            "spark-3.0.0-preview2-bin-hadoop3.2/licenses/LICENSE-automaton.txt\n",
            "spark-3.0.0-preview2-bin-hadoop3.2/licenses/LICENSE-minlog.txt\n",
            "spark-3.0.0-preview2-bin-hadoop3.2/licenses/LICENSE-zstd-jni.txt\n",
            "spark-3.0.0-preview2-bin-hadoop3.2/licenses/LICENSE-antlr.txt\n",
            "spark-3.0.0-preview2-bin-hadoop3.2/licenses/LICENSE-spire.txt\n",
            "spark-3.0.0-preview2-bin-hadoop3.2/licenses/LICENSE-graphlib-dot.txt\n",
            "spark-3.0.0-preview2-bin-hadoop3.2/licenses/LICENSE-f2j.txt\n",
            "spark-3.0.0-preview2-bin-hadoop3.2/licenses/LICENSE-cloudpickle.txt\n",
            "spark-3.0.0-preview2-bin-hadoop3.2/licenses/LICENSE-reflectasm.txt\n",
            "spark-3.0.0-preview2-bin-hadoop3.2/licenses/LICENSE-janino.txt\n",
            "spark-3.0.0-preview2-bin-hadoop3.2/licenses/LICENSE-sbt-launch-lib.txt\n",
            "spark-3.0.0-preview2-bin-hadoop3.2/licenses/LICENSE-zstd.txt\n",
            "spark-3.0.0-preview2-bin-hadoop3.2/licenses/LICENSE-paranamer.txt\n",
            "spark-3.0.0-preview2-bin-hadoop3.2/licenses/LICENSE-datatables.txt\n",
            "spark-3.0.0-preview2-bin-hadoop3.2/licenses/LICENSE-jsp-api.txt\n",
            "spark-3.0.0-preview2-bin-hadoop3.2/licenses/LICENSE-bootstrap.txt\n",
            "spark-3.0.0-preview2-bin-hadoop3.2/licenses/LICENSE-JLargeArrays.txt\n",
            "spark-3.0.0-preview2-bin-hadoop3.2/licenses/LICENSE-kryo.txt\n",
            "spark-3.0.0-preview2-bin-hadoop3.2/licenses/LICENSE-xmlenc.txt\n",
            "spark-3.0.0-preview2-bin-hadoop3.2/licenses/LICENSE-respond.txt\n",
            "spark-3.0.0-preview2-bin-hadoop3.2/examples/\n",
            "spark-3.0.0-preview2-bin-hadoop3.2/examples/jars/\n",
            "spark-3.0.0-preview2-bin-hadoop3.2/examples/jars/spark-examples_2.12-3.0.0-preview2.jar\n",
            "spark-3.0.0-preview2-bin-hadoop3.2/examples/jars/scopt_2.12-3.7.1.jar\n",
            "spark-3.0.0-preview2-bin-hadoop3.2/examples/src/\n",
            "spark-3.0.0-preview2-bin-hadoop3.2/examples/src/main/\n",
            "spark-3.0.0-preview2-bin-hadoop3.2/examples/src/main/resources/\n",
            "spark-3.0.0-preview2-bin-hadoop3.2/examples/src/main/resources/users.orc\n",
            "spark-3.0.0-preview2-bin-hadoop3.2/examples/src/main/resources/people.txt\n",
            "spark-3.0.0-preview2-bin-hadoop3.2/examples/src/main/resources/employees.json\n",
            "spark-3.0.0-preview2-bin-hadoop3.2/examples/src/main/resources/people.json\n",
            "spark-3.0.0-preview2-bin-hadoop3.2/examples/src/main/resources/people.csv\n",
            "spark-3.0.0-preview2-bin-hadoop3.2/examples/src/main/resources/users.parquet\n",
            "spark-3.0.0-preview2-bin-hadoop3.2/examples/src/main/resources/kv1.txt\n",
            "spark-3.0.0-preview2-bin-hadoop3.2/examples/src/main/resources/partitioned_users.orc/\n",
            "spark-3.0.0-preview2-bin-hadoop3.2/examples/src/main/resources/partitioned_users.orc/favorite_color=red/\n",
            "spark-3.0.0-preview2-bin-hadoop3.2/examples/src/main/resources/partitioned_users.orc/favorite_color=red/users.orc\n",
            "spark-3.0.0-preview2-bin-hadoop3.2/examples/src/main/resources/partitioned_users.orc/favorite_color=__HIVE_DEFAULT_PARTITION__/\n",
            "spark-3.0.0-preview2-bin-hadoop3.2/examples/src/main/resources/partitioned_users.orc/favorite_color=__HIVE_DEFAULT_PARTITION__/users.orc\n",
            "spark-3.0.0-preview2-bin-hadoop3.2/examples/src/main/resources/partitioned_users.orc/do_not_read_this.txt\n",
            "spark-3.0.0-preview2-bin-hadoop3.2/examples/src/main/resources/full_user.avsc\n",
            "spark-3.0.0-preview2-bin-hadoop3.2/examples/src/main/resources/user.avsc\n",
            "spark-3.0.0-preview2-bin-hadoop3.2/examples/src/main/resources/users.avro\n",
            "spark-3.0.0-preview2-bin-hadoop3.2/examples/src/main/scripts/\n",
            "spark-3.0.0-preview2-bin-hadoop3.2/examples/src/main/scripts/getGpusResources.sh\n",
            "spark-3.0.0-preview2-bin-hadoop3.2/examples/src/main/java/\n",
            "spark-3.0.0-preview2-bin-hadoop3.2/examples/src/main/java/org/\n",
            "spark-3.0.0-preview2-bin-hadoop3.2/examples/src/main/java/org/apache/\n",
            "spark-3.0.0-preview2-bin-hadoop3.2/examples/src/main/java/org/apache/spark/\n",
            "spark-3.0.0-preview2-bin-hadoop3.2/examples/src/main/java/org/apache/spark/examples/\n",
            "spark-3.0.0-preview2-bin-hadoop3.2/examples/src/main/java/org/apache/spark/examples/ml/\n",
            "spark-3.0.0-preview2-bin-hadoop3.2/examples/src/main/java/org/apache/spark/examples/ml/JavaKMeansExample.java\n",
            "spark-3.0.0-preview2-bin-hadoop3.2/examples/src/main/java/org/apache/spark/examples/ml/JavaCorrelationExample.java\n",
            "spark-3.0.0-preview2-bin-hadoop3.2/examples/src/main/java/org/apache/spark/examples/ml/JavaModelSelectionViaTrainValidationSplitExample.java\n",
            "spark-3.0.0-preview2-bin-hadoop3.2/examples/src/main/java/org/apache/spark/examples/ml/JavaPrefixSpanExample.java\n",
            "spark-3.0.0-preview2-bin-hadoop3.2/examples/src/main/java/org/apache/spark/examples/ml/JavaVectorSizeHintExample.java\n",
            "spark-3.0.0-preview2-bin-hadoop3.2/examples/src/main/java/org/apache/spark/examples/ml/JavaOneHotEncoderExample.java\n",
            "spark-3.0.0-preview2-bin-hadoop3.2/examples/src/main/java/org/apache/spark/examples/ml/JavaQuantileDiscretizerExample.java\n",
            "spark-3.0.0-preview2-bin-hadoop3.2/examples/src/main/java/org/apache/spark/examples/ml/JavaElementwiseProductExample.java\n",
            "spark-3.0.0-preview2-bin-hadoop3.2/examples/src/main/java/org/apache/spark/examples/ml/JavaBucketedRandomProjectionLSHExample.java\n",
            "spark-3.0.0-preview2-bin-hadoop3.2/examples/src/main/java/org/apache/spark/examples/ml/JavaGradientBoostedTreeRegressorExample.java\n",
            "spark-3.0.0-preview2-bin-hadoop3.2/examples/src/main/java/org/apache/spark/examples/ml/JavaCountVectorizerExample.java\n",
            "spark-3.0.0-preview2-bin-hadoop3.2/examples/src/main/java/org/apache/spark/examples/ml/JavaInteractionExample.java\n",
            "spark-3.0.0-preview2-bin-hadoop3.2/examples/src/main/java/org/apache/spark/examples/ml/JavaRandomForestClassifierExample.java\n",
            "spark-3.0.0-preview2-bin-hadoop3.2/examples/src/main/java/org/apache/spark/examples/ml/JavaDocument.java\n",
            "spark-3.0.0-preview2-bin-hadoop3.2/examples/src/main/java/org/apache/spark/examples/ml/JavaOneVsRestExample.java\n",
            "spark-3.0.0-preview2-bin-hadoop3.2/examples/src/main/java/org/apache/spark/examples/ml/JavaBucketizerExample.java\n",
            "spark-3.0.0-preview2-bin-hadoop3.2/examples/src/main/java/org/apache/spark/examples/ml/JavaLogisticRegressionSummaryExample.java\n",
            "spark-3.0.0-preview2-bin-hadoop3.2/examples/src/main/java/org/apache/spark/examples/ml/JavaRandomForestRegressorExample.java\n",
            "spark-3.0.0-preview2-bin-hadoop3.2/examples/src/main/java/org/apache/spark/examples/ml/JavaLinearRegressionWithElasticNetExample.java\n",
            "spark-3.0.0-preview2-bin-hadoop3.2/examples/src/main/java/org/apache/spark/examples/ml/JavaVectorAssemblerExample.java\n",
            "spark-3.0.0-preview2-bin-hadoop3.2/examples/src/main/java/org/apache/spark/examples/ml/JavaDecisionTreeClassificationExample.java\n",
            "spark-3.0.0-preview2-bin-hadoop3.2/examples/src/main/java/org/apache/spark/examples/ml/JavaMinMaxScalerExample.java\n",
            "spark-3.0.0-preview2-bin-hadoop3.2/examples/src/main/java/org/apache/spark/examples/ml/JavaMultilayerPerceptronClassifierExample.java\n",
            "spark-3.0.0-preview2-bin-hadoop3.2/examples/src/main/java/org/apache/spark/examples/ml/JavaMulticlassLogisticRegressionWithElasticNetExample.java\n",
            "spark-3.0.0-preview2-bin-hadoop3.2/examples/src/main/java/org/apache/spark/examples/ml/JavaWord2VecExample.java\n",
            "spark-3.0.0-preview2-bin-hadoop3.2/examples/src/main/java/org/apache/spark/examples/ml/JavaRFormulaExample.java\n",
            "spark-3.0.0-preview2-bin-hadoop3.2/examples/src/main/java/org/apache/spark/examples/ml/JavaGaussianMixtureExample.java\n",
            "spark-3.0.0-preview2-bin-hadoop3.2/examples/src/main/java/org/apache/spark/examples/ml/JavaGeneralizedLinearRegressionExample.java\n",
            "spark-3.0.0-preview2-bin-hadoop3.2/examples/src/main/java/org/apache/spark/examples/ml/JavaChiSquareTestExample.java\n",
            "spark-3.0.0-preview2-bin-hadoop3.2/examples/src/main/java/org/apache/spark/examples/ml/JavaMaxAbsScalerExample.java\n",
            "spark-3.0.0-preview2-bin-hadoop3.2/examples/src/main/java/org/apache/spark/examples/ml/JavaModelSelectionViaCrossValidationExample.java\n",
            "spark-3.0.0-preview2-bin-hadoop3.2/examples/src/main/java/org/apache/spark/examples/ml/JavaRobustScalerExample.java\n",
            "spark-3.0.0-preview2-bin-hadoop3.2/examples/src/main/java/org/apache/spark/examples/ml/JavaSQLTransformerExample.java\n",
            "spark-3.0.0-preview2-bin-hadoop3.2/examples/src/main/java/org/apache/spark/examples/ml/JavaBinarizerExample.java\n",
            "spark-3.0.0-preview2-bin-hadoop3.2/examples/src/main/java/org/apache/spark/examples/ml/JavaLDAExample.java\n",
            "spark-3.0.0-preview2-bin-hadoop3.2/examples/src/main/java/org/apache/spark/examples/ml/JavaTokenizerExample.java\n",
            "spark-3.0.0-preview2-bin-hadoop3.2/examples/src/main/java/org/apache/spark/examples/ml/JavaFPGrowthExample.java\n",
            "spark-3.0.0-preview2-bin-hadoop3.2/examples/src/main/java/org/apache/spark/examples/ml/JavaChiSqSelectorExample.java\n",
            "spark-3.0.0-preview2-bin-hadoop3.2/examples/src/main/java/org/apache/spark/examples/ml/JavaTfIdfExample.java\n",
            "spark-3.0.0-preview2-bin-hadoop3.2/examples/src/main/java/org/apache/spark/examples/ml/JavaPolynomialExpansionExample.java\n",
            "spark-3.0.0-preview2-bin-hadoop3.2/examples/src/main/java/org/apache/spark/examples/ml/JavaALSExample.java\n",
            "spark-3.0.0-preview2-bin-hadoop3.2/examples/src/main/java/org/apache/spark/examples/ml/JavaStandardScalerExample.java\n",
            "spark-3.0.0-preview2-bin-hadoop3.2/examples/src/main/java/org/apache/spark/examples/ml/JavaPipelineExample.java\n",
            "spark-3.0.0-preview2-bin-hadoop3.2/examples/src/main/java/org/apache/spark/examples/ml/JavaPCAExample.java\n",
            "spark-3.0.0-preview2-bin-hadoop3.2/examples/src/main/java/org/apache/spark/examples/ml/JavaDecisionTreeRegressionExample.java\n",
            "spark-3.0.0-preview2-bin-hadoop3.2/examples/src/main/java/org/apache/spark/examples/ml/JavaLabeledDocument.java\n",
            "spark-3.0.0-preview2-bin-hadoop3.2/examples/src/main/java/org/apache/spark/examples/ml/JavaNaiveBayesExample.java\n",
            "spark-3.0.0-preview2-bin-hadoop3.2/examples/src/main/java/org/apache/spark/examples/ml/JavaBisectingKMeansExample.java\n",
            "spark-3.0.0-preview2-bin-hadoop3.2/examples/src/main/java/org/apache/spark/examples/ml/JavaMinHashLSHExample.java\n",
            "spark-3.0.0-preview2-bin-hadoop3.2/examples/src/main/java/org/apache/spark/examples/ml/JavaSummarizerExample.java\n",
            "spark-3.0.0-preview2-bin-hadoop3.2/examples/src/main/java/org/apache/spark/examples/ml/JavaNormalizerExample.java\n",
            "spark-3.0.0-preview2-bin-hadoop3.2/examples/src/main/java/org/apache/spark/examples/ml/JavaLinearSVCExample.java\n",
            "spark-3.0.0-preview2-bin-hadoop3.2/examples/src/main/java/org/apache/spark/examples/ml/JavaStringIndexerExample.java\n",
            "spark-3.0.0-preview2-bin-hadoop3.2/examples/src/main/java/org/apache/spark/examples/ml/JavaImputerExample.java\n",
            "spark-3.0.0-preview2-bin-hadoop3.2/examples/src/main/java/org/apache/spark/examples/ml/JavaVectorSlicerExample.java\n",
            "spark-3.0.0-preview2-bin-hadoop3.2/examples/src/main/java/org/apache/spark/examples/ml/JavaFeatureHasherExample.java\n",
            "spark-3.0.0-preview2-bin-hadoop3.2/examples/src/main/java/org/apache/spark/examples/ml/JavaVectorIndexerExample.java\n",
            "spark-3.0.0-preview2-bin-hadoop3.2/examples/src/main/java/org/apache/spark/examples/ml/JavaIsotonicRegressionExample.java\n",
            "spark-3.0.0-preview2-bin-hadoop3.2/examples/src/main/java/org/apache/spark/examples/ml/JavaPowerIterationClusteringExample.java\n",
            "spark-3.0.0-preview2-bin-hadoop3.2/examples/src/main/java/org/apache/spark/examples/ml/JavaLogisticRegressionWithElasticNetExample.java\n",
            "spark-3.0.0-preview2-bin-hadoop3.2/examples/src/main/java/org/apache/spark/examples/ml/JavaGradientBoostedTreeClassifierExample.java\n",
            "spark-3.0.0-preview2-bin-hadoop3.2/examples/src/main/java/org/apache/spark/examples/ml/JavaIndexToStringExample.java\n",
            "spark-3.0.0-preview2-bin-hadoop3.2/examples/src/main/java/org/apache/spark/examples/ml/JavaEstimatorTransformerParamExample.java\n",
            "spark-3.0.0-preview2-bin-hadoop3.2/examples/src/main/java/org/apache/spark/examples/ml/JavaNGramExample.java\n",
            "spark-3.0.0-preview2-bin-hadoop3.2/examples/src/main/java/org/apache/spark/examples/ml/JavaStopWordsRemoverExample.java\n",
            "spark-3.0.0-preview2-bin-hadoop3.2/examples/src/main/java/org/apache/spark/examples/ml/JavaDCTExample.java\n",
            "spark-3.0.0-preview2-bin-hadoop3.2/examples/src/main/java/org/apache/spark/examples/ml/JavaAFTSurvivalRegressionExample.java\n",
            "spark-3.0.0-preview2-bin-hadoop3.2/examples/src/main/java/org/apache/spark/examples/JavaLogQuery.java\n",
            "spark-3.0.0-preview2-bin-hadoop3.2/examples/src/main/java/org/apache/spark/examples/streaming/\n",
            "spark-3.0.0-preview2-bin-hadoop3.2/examples/src/main/java/org/apache/spark/examples/streaming/JavaNetworkWordCount.java\n",
            "spark-3.0.0-preview2-bin-hadoop3.2/examples/src/main/java/org/apache/spark/examples/streaming/JavaRecoverableNetworkWordCount.java\n",
            "spark-3.0.0-preview2-bin-hadoop3.2/examples/src/main/java/org/apache/spark/examples/streaming/JavaDirectKerberizedKafkaWordCount.java\n",
            "spark-3.0.0-preview2-bin-hadoop3.2/examples/src/main/java/org/apache/spark/examples/streaming/JavaRecord.java\n",
            "spark-3.0.0-preview2-bin-hadoop3.2/examples/src/main/java/org/apache/spark/examples/streaming/JavaDirectKafkaWordCount.java\n",
            "spark-3.0.0-preview2-bin-hadoop3.2/examples/src/main/java/org/apache/spark/examples/streaming/JavaStatefulNetworkWordCount.java\n",
            "spark-3.0.0-preview2-bin-hadoop3.2/examples/src/main/java/org/apache/spark/examples/streaming/JavaCustomReceiver.java\n",
            "spark-3.0.0-preview2-bin-hadoop3.2/examples/src/main/java/org/apache/spark/examples/streaming/JavaSqlNetworkWordCount.java\n",
            "spark-3.0.0-preview2-bin-hadoop3.2/examples/src/main/java/org/apache/spark/examples/streaming/JavaQueueStream.java\n",
            "spark-3.0.0-preview2-bin-hadoop3.2/examples/src/main/java/org/apache/spark/examples/JavaHdfsLR.java\n",
            "spark-3.0.0-preview2-bin-hadoop3.2/examples/src/main/java/org/apache/spark/examples/JavaStatusTrackerDemo.java\n",
            "spark-3.0.0-preview2-bin-hadoop3.2/examples/src/main/java/org/apache/spark/examples/JavaPageRank.java\n",
            "spark-3.0.0-preview2-bin-hadoop3.2/examples/src/main/java/org/apache/spark/examples/JavaSparkPi.java\n",
            "spark-3.0.0-preview2-bin-hadoop3.2/examples/src/main/java/org/apache/spark/examples/sql/\n",
            "spark-3.0.0-preview2-bin-hadoop3.2/examples/src/main/java/org/apache/spark/examples/sql/JavaSQLDataSourceExample.java\n",
            "spark-3.0.0-preview2-bin-hadoop3.2/examples/src/main/java/org/apache/spark/examples/sql/streaming/\n",
            "spark-3.0.0-preview2-bin-hadoop3.2/examples/src/main/java/org/apache/spark/examples/sql/streaming/JavaStructuredKerberizedKafkaWordCount.java\n",
            "spark-3.0.0-preview2-bin-hadoop3.2/examples/src/main/java/org/apache/spark/examples/sql/streaming/JavaStructuredSessionization.java\n",
            "spark-3.0.0-preview2-bin-hadoop3.2/examples/src/main/java/org/apache/spark/examples/sql/streaming/JavaStructuredNetworkWordCountWindowed.java\n",
            "spark-3.0.0-preview2-bin-hadoop3.2/examples/src/main/java/org/apache/spark/examples/sql/streaming/JavaStructuredNetworkWordCount.java\n",
            "spark-3.0.0-preview2-bin-hadoop3.2/examples/src/main/java/org/apache/spark/examples/sql/streaming/JavaStructuredKafkaWordCount.java\n",
            "spark-3.0.0-preview2-bin-hadoop3.2/examples/src/main/java/org/apache/spark/examples/sql/JavaUserDefinedTypedAggregation.java\n",
            "spark-3.0.0-preview2-bin-hadoop3.2/examples/src/main/java/org/apache/spark/examples/sql/JavaUserDefinedUntypedAggregation.java\n",
            "spark-3.0.0-preview2-bin-hadoop3.2/examples/src/main/java/org/apache/spark/examples/sql/hive/\n",
            "spark-3.0.0-preview2-bin-hadoop3.2/examples/src/main/java/org/apache/spark/examples/sql/hive/JavaSparkHiveExample.java\n",
            "spark-3.0.0-preview2-bin-hadoop3.2/examples/src/main/java/org/apache/spark/examples/sql/JavaSparkSQLExample.java\n",
            "spark-3.0.0-preview2-bin-hadoop3.2/examples/src/main/java/org/apache/spark/examples/JavaWordCount.java\n",
            "spark-3.0.0-preview2-bin-hadoop3.2/examples/src/main/java/org/apache/spark/examples/mllib/\n",
            "spark-3.0.0-preview2-bin-hadoop3.2/examples/src/main/java/org/apache/spark/examples/mllib/JavaKMeansExample.java\n",
            "spark-3.0.0-preview2-bin-hadoop3.2/examples/src/main/java/org/apache/spark/examples/mllib/JavaPrefixSpanExample.java\n",
            "spark-3.0.0-preview2-bin-hadoop3.2/examples/src/main/java/org/apache/spark/examples/mllib/JavaGradientBoostingRegressionExample.java\n",
            "spark-3.0.0-preview2-bin-hadoop3.2/examples/src/main/java/org/apache/spark/examples/mllib/JavaElementwiseProductExample.java\n",
            "spark-3.0.0-preview2-bin-hadoop3.2/examples/src/main/java/org/apache/spark/examples/mllib/JavaKernelDensityEstimationExample.java\n",
            "spark-3.0.0-preview2-bin-hadoop3.2/examples/src/main/java/org/apache/spark/examples/mllib/JavaRankingMetricsExample.java\n",
            "spark-3.0.0-preview2-bin-hadoop3.2/examples/src/main/java/org/apache/spark/examples/mllib/JavaALS.java\n",
            "spark-3.0.0-preview2-bin-hadoop3.2/examples/src/main/java/org/apache/spark/examples/mllib/JavaHypothesisTestingExample.java\n",
            "spark-3.0.0-preview2-bin-hadoop3.2/examples/src/main/java/org/apache/spark/examples/mllib/JavaSummaryStatisticsExample.java\n",
            "spark-3.0.0-preview2-bin-hadoop3.2/examples/src/main/java/org/apache/spark/examples/mllib/JavaStratifiedSamplingExample.java\n",
            "spark-3.0.0-preview2-bin-hadoop3.2/examples/src/main/java/org/apache/spark/examples/mllib/JavaDecisionTreeClassificationExample.java\n",
            "spark-3.0.0-preview2-bin-hadoop3.2/examples/src/main/java/org/apache/spark/examples/mllib/JavaRandomForestRegressionExample.java\n",
            "spark-3.0.0-preview2-bin-hadoop3.2/examples/src/main/java/org/apache/spark/examples/mllib/JavaLogisticRegressionWithLBFGSExample.java\n",
            "spark-3.0.0-preview2-bin-hadoop3.2/examples/src/main/java/org/apache/spark/examples/mllib/JavaMulticlassClassificationMetricsExample.java\n",
            "spark-3.0.0-preview2-bin-hadoop3.2/examples/src/main/java/org/apache/spark/examples/mllib/JavaSVMWithSGDExample.java\n",
            "spark-3.0.0-preview2-bin-hadoop3.2/examples/src/main/java/org/apache/spark/examples/mllib/JavaLBFGSExample.java\n",
            "spark-3.0.0-preview2-bin-hadoop3.2/examples/src/main/java/org/apache/spark/examples/mllib/JavaStreamingTestExample.java\n",
            "spark-3.0.0-preview2-bin-hadoop3.2/examples/src/main/java/org/apache/spark/examples/mllib/JavaGaussianMixtureExample.java\n",
            "spark-3.0.0-preview2-bin-hadoop3.2/examples/src/main/java/org/apache/spark/examples/mllib/JavaAssociationRulesExample.java\n",
            "spark-3.0.0-preview2-bin-hadoop3.2/examples/src/main/java/org/apache/spark/examples/mllib/JavaRecommendationExample.java\n",
            "spark-3.0.0-preview2-bin-hadoop3.2/examples/src/main/java/org/apache/spark/examples/mllib/JavaMultiLabelClassificationMetricsExample.java\n",
            "spark-3.0.0-preview2-bin-hadoop3.2/examples/src/main/java/org/apache/spark/examples/mllib/JavaChiSqSelectorExample.java\n",
            "spark-3.0.0-preview2-bin-hadoop3.2/examples/src/main/java/org/apache/spark/examples/mllib/JavaPCAExample.java\n",
            "spark-3.0.0-preview2-bin-hadoop3.2/examples/src/main/java/org/apache/spark/examples/mllib/JavaDecisionTreeRegressionExample.java\n",
            "spark-3.0.0-preview2-bin-hadoop3.2/examples/src/main/java/org/apache/spark/examples/mllib/JavaSVDExample.java\n",
            "spark-3.0.0-preview2-bin-hadoop3.2/examples/src/main/java/org/apache/spark/examples/mllib/JavaLatentDirichletAllocationExample.java\n",
            "spark-3.0.0-preview2-bin-hadoop3.2/examples/src/main/java/org/apache/spark/examples/mllib/JavaNaiveBayesExample.java\n",
            "spark-3.0.0-preview2-bin-hadoop3.2/examples/src/main/java/org/apache/spark/examples/mllib/JavaBisectingKMeansExample.java\n",
            "spark-3.0.0-preview2-bin-hadoop3.2/examples/src/main/java/org/apache/spark/examples/mllib/JavaHypothesisTestingKolmogorovSmirnovTestExample.java\n",
            "spark-3.0.0-preview2-bin-hadoop3.2/examples/src/main/java/org/apache/spark/examples/mllib/JavaRandomForestClassificationExample.java\n",
            "spark-3.0.0-preview2-bin-hadoop3.2/examples/src/main/java/org/apache/spark/examples/mllib/JavaSimpleFPGrowth.java\n",
            "spark-3.0.0-preview2-bin-hadoop3.2/examples/src/main/java/org/apache/spark/examples/mllib/JavaBinaryClassificationMetricsExample.java\n",
            "spark-3.0.0-preview2-bin-hadoop3.2/examples/src/main/java/org/apache/spark/examples/mllib/JavaGradientBoostingClassificationExample.java\n",
            "spark-3.0.0-preview2-bin-hadoop3.2/examples/src/main/java/org/apache/spark/examples/mllib/JavaIsotonicRegressionExample.java\n",
            "spark-3.0.0-preview2-bin-hadoop3.2/examples/src/main/java/org/apache/spark/examples/mllib/JavaCorrelationsExample.java\n",
            "spark-3.0.0-preview2-bin-hadoop3.2/examples/src/main/java/org/apache/spark/examples/mllib/JavaPowerIterationClusteringExample.java\n",
            "spark-3.0.0-preview2-bin-hadoop3.2/examples/src/main/java/org/apache/spark/examples/JavaTC.java\n",
            "spark-3.0.0-preview2-bin-hadoop3.2/examples/src/main/python/\n",
            "spark-3.0.0-preview2-bin-hadoop3.2/examples/src/main/python/ml/\n",
            "spark-3.0.0-preview2-bin-hadoop3.2/examples/src/main/python/ml/correlation_example.py\n",
            "spark-3.0.0-preview2-bin-hadoop3.2/examples/src/main/python/ml/word2vec_example.py\n",
            "spark-3.0.0-preview2-bin-hadoop3.2/examples/src/main/python/ml/gaussian_mixture_example.py\n",
            "spark-3.0.0-preview2-bin-hadoop3.2/examples/src/main/python/ml/multiclass_logistic_regression_with_elastic_net.py\n",
            "spark-3.0.0-preview2-bin-hadoop3.2/examples/src/main/python/ml/bisecting_k_means_example.py\n",
            "spark-3.0.0-preview2-bin-hadoop3.2/examples/src/main/python/ml/max_abs_scaler_example.py\n",
            "spark-3.0.0-preview2-bin-hadoop3.2/examples/src/main/python/ml/tf_idf_example.py\n",
            "spark-3.0.0-preview2-bin-hadoop3.2/examples/src/main/python/ml/index_to_string_example.py\n",
            "spark-3.0.0-preview2-bin-hadoop3.2/examples/src/main/python/ml/linearsvc.py\n",
            "spark-3.0.0-preview2-bin-hadoop3.2/examples/src/main/python/ml/random_forest_classifier_example.py\n",
            "spark-3.0.0-preview2-bin-hadoop3.2/examples/src/main/python/ml/train_validation_split.py\n",
            "spark-3.0.0-preview2-bin-hadoop3.2/examples/src/main/python/ml/chi_square_test_example.py\n",
            "spark-3.0.0-preview2-bin-hadoop3.2/examples/src/main/python/ml/vector_size_hint_example.py\n",
            "spark-3.0.0-preview2-bin-hadoop3.2/examples/src/main/python/ml/aft_survival_regression.py\n",
            "spark-3.0.0-preview2-bin-hadoop3.2/examples/src/main/python/ml/string_indexer_example.py\n",
            "spark-3.0.0-preview2-bin-hadoop3.2/examples/src/main/python/ml/estimator_transformer_param_example.py\n",
            "spark-3.0.0-preview2-bin-hadoop3.2/examples/src/main/python/ml/binarizer_example.py\n",
            "spark-3.0.0-preview2-bin-hadoop3.2/examples/src/main/python/ml/bucketed_random_projection_lsh_example.py\n",
            "spark-3.0.0-preview2-bin-hadoop3.2/examples/src/main/python/ml/multilayer_perceptron_classification.py\n",
            "spark-3.0.0-preview2-bin-hadoop3.2/examples/src/main/python/ml/stopwords_remover_example.py\n",
            "spark-3.0.0-preview2-bin-hadoop3.2/examples/src/main/python/ml/vector_indexer_example.py\n",
            "spark-3.0.0-preview2-bin-hadoop3.2/examples/src/main/python/ml/normalizer_example.py\n",
            "spark-3.0.0-preview2-bin-hadoop3.2/examples/src/main/python/ml/cross_validator.py\n",
            "spark-3.0.0-preview2-bin-hadoop3.2/examples/src/main/python/ml/logistic_regression_summary_example.py\n",
            "spark-3.0.0-preview2-bin-hadoop3.2/examples/src/main/python/ml/decision_tree_regression_example.py\n",
            "spark-3.0.0-preview2-bin-hadoop3.2/examples/src/main/python/ml/generalized_linear_regression_example.py\n",
            "spark-3.0.0-preview2-bin-hadoop3.2/examples/src/main/python/ml/random_forest_regressor_example.py\n",
            "spark-3.0.0-preview2-bin-hadoop3.2/examples/src/main/python/ml/dct_example.py\n",
            "spark-3.0.0-preview2-bin-hadoop3.2/examples/src/main/python/ml/vector_assembler_example.py\n",
            "spark-3.0.0-preview2-bin-hadoop3.2/examples/src/main/python/ml/elementwise_product_example.py\n",
            "spark-3.0.0-preview2-bin-hadoop3.2/examples/src/main/python/ml/lda_example.py\n",
            "spark-3.0.0-preview2-bin-hadoop3.2/examples/src/main/python/ml/linear_regression_with_elastic_net.py\n",
            "spark-3.0.0-preview2-bin-hadoop3.2/examples/src/main/python/ml/standard_scaler_example.py\n",
            "spark-3.0.0-preview2-bin-hadoop3.2/examples/src/main/python/ml/polynomial_expansion_example.py\n",
            "spark-3.0.0-preview2-bin-hadoop3.2/examples/src/main/python/ml/n_gram_example.py\n",
            "spark-3.0.0-preview2-bin-hadoop3.2/examples/src/main/python/ml/one_vs_rest_example.py\n",
            "spark-3.0.0-preview2-bin-hadoop3.2/examples/src/main/python/ml/bucketizer_example.py\n",
            "spark-3.0.0-preview2-bin-hadoop3.2/examples/src/main/python/ml/als_example.py\n",
            "spark-3.0.0-preview2-bin-hadoop3.2/examples/src/main/python/ml/isotonic_regression_example.py\n",
            "spark-3.0.0-preview2-bin-hadoop3.2/examples/src/main/python/ml/chisq_selector_example.py\n",
            "spark-3.0.0-preview2-bin-hadoop3.2/examples/src/main/python/ml/sql_transformer.py\n",
            "spark-3.0.0-preview2-bin-hadoop3.2/examples/src/main/python/ml/dataframe_example.py\n",
            "spark-3.0.0-preview2-bin-hadoop3.2/examples/src/main/python/ml/feature_hasher_example.py\n",
            "spark-3.0.0-preview2-bin-hadoop3.2/examples/src/main/python/ml/imputer_example.py\n",
            "spark-3.0.0-preview2-bin-hadoop3.2/examples/src/main/python/ml/tokenizer_example.py\n",
            "spark-3.0.0-preview2-bin-hadoop3.2/examples/src/main/python/ml/logistic_regression_with_elastic_net.py\n",
            "spark-3.0.0-preview2-bin-hadoop3.2/examples/src/main/python/ml/pipeline_example.py\n",
            "spark-3.0.0-preview2-bin-hadoop3.2/examples/src/main/python/ml/gradient_boosted_tree_regressor_example.py\n",
            "spark-3.0.0-preview2-bin-hadoop3.2/examples/src/main/python/ml/summarizer_example.py\n",
            "spark-3.0.0-preview2-bin-hadoop3.2/examples/src/main/python/ml/min_max_scaler_example.py\n",
            "spark-3.0.0-preview2-bin-hadoop3.2/examples/src/main/python/ml/gradient_boosted_tree_classifier_example.py\n",
            "spark-3.0.0-preview2-bin-hadoop3.2/examples/src/main/python/ml/quantile_discretizer_example.py\n",
            "spark-3.0.0-preview2-bin-hadoop3.2/examples/src/main/python/ml/power_iteration_clustering_example.py\n",
            "spark-3.0.0-preview2-bin-hadoop3.2/examples/src/main/python/ml/onehot_encoder_example.py\n",
            "spark-3.0.0-preview2-bin-hadoop3.2/examples/src/main/python/ml/rformula_example.py\n",
            "spark-3.0.0-preview2-bin-hadoop3.2/examples/src/main/python/ml/vector_slicer_example.py\n",
            "spark-3.0.0-preview2-bin-hadoop3.2/examples/src/main/python/ml/interaction_example.py\n",
            "spark-3.0.0-preview2-bin-hadoop3.2/examples/src/main/python/ml/pca_example.py\n",
            "spark-3.0.0-preview2-bin-hadoop3.2/examples/src/main/python/ml/count_vectorizer_example.py\n",
            "spark-3.0.0-preview2-bin-hadoop3.2/examples/src/main/python/ml/decision_tree_classification_example.py\n",
            "spark-3.0.0-preview2-bin-hadoop3.2/examples/src/main/python/ml/kmeans_example.py\n",
            "spark-3.0.0-preview2-bin-hadoop3.2/examples/src/main/python/ml/naive_bayes_example.py\n",
            "spark-3.0.0-preview2-bin-hadoop3.2/examples/src/main/python/ml/min_hash_lsh_example.py\n",
            "spark-3.0.0-preview2-bin-hadoop3.2/examples/src/main/python/ml/robust_scaler_example.py\n",
            "spark-3.0.0-preview2-bin-hadoop3.2/examples/src/main/python/ml/prefixspan_example.py\n",
            "spark-3.0.0-preview2-bin-hadoop3.2/examples/src/main/python/ml/fpgrowth_example.py\n",
            "spark-3.0.0-preview2-bin-hadoop3.2/examples/src/main/python/streaming/\n",
            "spark-3.0.0-preview2-bin-hadoop3.2/examples/src/main/python/streaming/queue_stream.py\n",
            "spark-3.0.0-preview2-bin-hadoop3.2/examples/src/main/python/streaming/network_wordjoinsentiments.py\n",
            "spark-3.0.0-preview2-bin-hadoop3.2/examples/src/main/python/streaming/hdfs_wordcount.py\n",
            "spark-3.0.0-preview2-bin-hadoop3.2/examples/src/main/python/streaming/network_wordcount.py\n",
            "spark-3.0.0-preview2-bin-hadoop3.2/examples/src/main/python/streaming/sql_network_wordcount.py\n",
            "spark-3.0.0-preview2-bin-hadoop3.2/examples/src/main/python/streaming/recoverable_network_wordcount.py\n",
            "spark-3.0.0-preview2-bin-hadoop3.2/examples/src/main/python/streaming/stateful_network_wordcount.py\n",
            "spark-3.0.0-preview2-bin-hadoop3.2/examples/src/main/python/wordcount.py\n",
            "spark-3.0.0-preview2-bin-hadoop3.2/examples/src/main/python/transitive_closure.py\n",
            "spark-3.0.0-preview2-bin-hadoop3.2/examples/src/main/python/status_api_demo.py\n",
            "spark-3.0.0-preview2-bin-hadoop3.2/examples/src/main/python/kmeans.py\n",
            "spark-3.0.0-preview2-bin-hadoop3.2/examples/src/main/python/pi.py\n",
            "spark-3.0.0-preview2-bin-hadoop3.2/examples/src/main/python/sql/\n",
            "spark-3.0.0-preview2-bin-hadoop3.2/examples/src/main/python/sql/streaming/\n",
            "spark-3.0.0-preview2-bin-hadoop3.2/examples/src/main/python/sql/streaming/structured_network_wordcount.py\n",
            "spark-3.0.0-preview2-bin-hadoop3.2/examples/src/main/python/sql/streaming/structured_network_wordcount_windowed.py\n",
            "spark-3.0.0-preview2-bin-hadoop3.2/examples/src/main/python/sql/streaming/structured_kafka_wordcount.py\n",
            "spark-3.0.0-preview2-bin-hadoop3.2/examples/src/main/python/sql/hive.py\n",
            "spark-3.0.0-preview2-bin-hadoop3.2/examples/src/main/python/sql/basic.py\n",
            "spark-3.0.0-preview2-bin-hadoop3.2/examples/src/main/python/sql/arrow.py\n",
            "spark-3.0.0-preview2-bin-hadoop3.2/examples/src/main/python/sql/datasource.py\n",
            "spark-3.0.0-preview2-bin-hadoop3.2/examples/src/main/python/avro_inputformat.py\n",
            "spark-3.0.0-preview2-bin-hadoop3.2/examples/src/main/python/sort.py\n",
            "spark-3.0.0-preview2-bin-hadoop3.2/examples/src/main/python/pagerank.py\n",
            "spark-3.0.0-preview2-bin-hadoop3.2/examples/src/main/python/mllib/\n",
            "spark-3.0.0-preview2-bin-hadoop3.2/examples/src/main/python/mllib/word2vec_example.py\n",
            "spark-3.0.0-preview2-bin-hadoop3.2/examples/src/main/python/mllib/multi_label_metrics_example.py\n",
            "spark-3.0.0-preview2-bin-hadoop3.2/examples/src/main/python/mllib/gaussian_mixture_example.py\n",
            "spark-3.0.0-preview2-bin-hadoop3.2/examples/src/main/python/mllib/bisecting_k_means_example.py\n",
            "spark-3.0.0-preview2-bin-hadoop3.2/examples/src/main/python/mllib/tf_idf_example.py\n",
            "spark-3.0.0-preview2-bin-hadoop3.2/examples/src/main/python/mllib/logistic_regression_with_lbfgs_example.py\n",
            "spark-3.0.0-preview2-bin-hadoop3.2/examples/src/main/python/mllib/hypothesis_testing_example.py\n",
            "spark-3.0.0-preview2-bin-hadoop3.2/examples/src/main/python/mllib/gradient_boosting_classification_example.py\n",
            "spark-3.0.0-preview2-bin-hadoop3.2/examples/src/main/python/mllib/regression_metrics_example.py\n",
            "spark-3.0.0-preview2-bin-hadoop3.2/examples/src/main/python/mllib/normalizer_example.py\n",
            "spark-3.0.0-preview2-bin-hadoop3.2/examples/src/main/python/mllib/decision_tree_regression_example.py\n",
            "spark-3.0.0-preview2-bin-hadoop3.2/examples/src/main/python/mllib/kmeans.py\n",
            "spark-3.0.0-preview2-bin-hadoop3.2/examples/src/main/python/mllib/hypothesis_testing_kolmogorov_smirnov_test_example.py\n",
            "spark-3.0.0-preview2-bin-hadoop3.2/examples/src/main/python/mllib/elementwise_product_example.py\n",
            "spark-3.0.0-preview2-bin-hadoop3.2/examples/src/main/python/mllib/random_rdd_generation.py\n",
            "spark-3.0.0-preview2-bin-hadoop3.2/examples/src/main/python/mllib/latent_dirichlet_allocation_example.py\n",
            "spark-3.0.0-preview2-bin-hadoop3.2/examples/src/main/python/mllib/word2vec.py\n",
            "spark-3.0.0-preview2-bin-hadoop3.2/examples/src/main/python/mllib/binary_classification_metrics_example.py\n",
            "spark-3.0.0-preview2-bin-hadoop3.2/examples/src/main/python/mllib/stratified_sampling_example.py\n",
            "spark-3.0.0-preview2-bin-hadoop3.2/examples/src/main/python/mllib/random_forest_regression_example.py\n",
            "spark-3.0.0-preview2-bin-hadoop3.2/examples/src/main/python/mllib/correlations.py\n",
            "spark-3.0.0-preview2-bin-hadoop3.2/examples/src/main/python/mllib/standard_scaler_example.py\n",
            "spark-3.0.0-preview2-bin-hadoop3.2/examples/src/main/python/mllib/correlations_example.py\n",
            "spark-3.0.0-preview2-bin-hadoop3.2/examples/src/main/python/mllib/svm_with_sgd_example.py\n",
            "spark-3.0.0-preview2-bin-hadoop3.2/examples/src/main/python/mllib/k_means_example.py\n",
            "spark-3.0.0-preview2-bin-hadoop3.2/examples/src/main/python/mllib/isotonic_regression_example.py\n",
            "spark-3.0.0-preview2-bin-hadoop3.2/examples/src/main/python/mllib/summary_statistics_example.py\n",
            "spark-3.0.0-preview2-bin-hadoop3.2/examples/src/main/python/mllib/streaming_linear_regression_example.py\n",
            "spark-3.0.0-preview2-bin-hadoop3.2/examples/src/main/python/mllib/recommendation_example.py\n",
            "spark-3.0.0-preview2-bin-hadoop3.2/examples/src/main/python/mllib/multi_class_metrics_example.py\n",
            "spark-3.0.0-preview2-bin-hadoop3.2/examples/src/main/python/mllib/streaming_k_means_example.py\n",
            "spark-3.0.0-preview2-bin-hadoop3.2/examples/src/main/python/mllib/gradient_boosting_regression_example.py\n",
            "spark-3.0.0-preview2-bin-hadoop3.2/examples/src/main/python/mllib/logistic_regression.py\n",
            "spark-3.0.0-preview2-bin-hadoop3.2/examples/src/main/python/mllib/pca_rowmatrix_example.py\n",
            "spark-3.0.0-preview2-bin-hadoop3.2/examples/src/main/python/mllib/power_iteration_clustering_example.py\n",
            "spark-3.0.0-preview2-bin-hadoop3.2/examples/src/main/python/mllib/linear_regression_with_sgd_example.py\n",
            "spark-3.0.0-preview2-bin-hadoop3.2/examples/src/main/python/mllib/sampled_rdds.py\n",
            "spark-3.0.0-preview2-bin-hadoop3.2/examples/src/main/python/mllib/random_forest_classification_example.py\n",
            "spark-3.0.0-preview2-bin-hadoop3.2/examples/src/main/python/mllib/svd_example.py\n",
            "spark-3.0.0-preview2-bin-hadoop3.2/examples/src/main/python/mllib/decision_tree_classification_example.py\n",
            "spark-3.0.0-preview2-bin-hadoop3.2/examples/src/main/python/mllib/naive_bayes_example.py\n",
            "spark-3.0.0-preview2-bin-hadoop3.2/examples/src/main/python/mllib/kernel_density_estimation_example.py\n",
            "spark-3.0.0-preview2-bin-hadoop3.2/examples/src/main/python/mllib/fpgrowth_example.py\n",
            "spark-3.0.0-preview2-bin-hadoop3.2/examples/src/main/python/mllib/gaussian_mixture_model.py\n",
            "spark-3.0.0-preview2-bin-hadoop3.2/examples/src/main/python/mllib/ranking_metrics_example.py\n",
            "spark-3.0.0-preview2-bin-hadoop3.2/examples/src/main/python/logistic_regression.py\n",
            "spark-3.0.0-preview2-bin-hadoop3.2/examples/src/main/python/parquet_inputformat.py\n",
            "spark-3.0.0-preview2-bin-hadoop3.2/examples/src/main/python/als.py\n",
            "spark-3.0.0-preview2-bin-hadoop3.2/examples/src/main/scala/\n",
            "spark-3.0.0-preview2-bin-hadoop3.2/examples/src/main/scala/org/\n",
            "spark-3.0.0-preview2-bin-hadoop3.2/examples/src/main/scala/org/apache/\n",
            "spark-3.0.0-preview2-bin-hadoop3.2/examples/src/main/scala/org/apache/spark/\n",
            "spark-3.0.0-preview2-bin-hadoop3.2/examples/src/main/scala/org/apache/spark/examples/\n",
            "spark-3.0.0-preview2-bin-hadoop3.2/examples/src/main/scala/org/apache/spark/examples/SparkRemoteFileTest.scala\n",
            "spark-3.0.0-preview2-bin-hadoop3.2/examples/src/main/scala/org/apache/spark/examples/ml/\n",
            "spark-3.0.0-preview2-bin-hadoop3.2/examples/src/main/scala/org/apache/spark/examples/ml/PolynomialExpansionExample.scala\n",
            "spark-3.0.0-preview2-bin-hadoop3.2/examples/src/main/scala/org/apache/spark/examples/ml/LDAExample.scala\n",
            "spark-3.0.0-preview2-bin-hadoop3.2/examples/src/main/scala/org/apache/spark/examples/ml/BisectingKMeansExample.scala\n",
            "spark-3.0.0-preview2-bin-hadoop3.2/examples/src/main/scala/org/apache/spark/examples/ml/GBTExample.scala\n",
            "spark-3.0.0-preview2-bin-hadoop3.2/examples/src/main/scala/org/apache/spark/examples/ml/FeatureHasherExample.scala\n",
            "spark-3.0.0-preview2-bin-hadoop3.2/examples/src/main/scala/org/apache/spark/examples/ml/BucketizerExample.scala\n",
            "spark-3.0.0-preview2-bin-hadoop3.2/examples/src/main/scala/org/apache/spark/examples/ml/NormalizerExample.scala\n",
            "spark-3.0.0-preview2-bin-hadoop3.2/examples/src/main/scala/org/apache/spark/examples/ml/PCAExample.scala\n",
            "spark-3.0.0-preview2-bin-hadoop3.2/examples/src/main/scala/org/apache/spark/examples/ml/PowerIterationClusteringExample.scala\n",
            "spark-3.0.0-preview2-bin-hadoop3.2/examples/src/main/scala/org/apache/spark/examples/ml/StringIndexerExample.scala\n",
            "spark-3.0.0-preview2-bin-hadoop3.2/examples/src/main/scala/org/apache/spark/examples/ml/SummarizerExample.scala\n",
            "spark-3.0.0-preview2-bin-hadoop3.2/examples/src/main/scala/org/apache/spark/examples/ml/RFormulaExample.scala\n",
            "spark-3.0.0-preview2-bin-hadoop3.2/examples/src/main/scala/org/apache/spark/examples/ml/VectorAssemblerExample.scala\n",
            "spark-3.0.0-preview2-bin-hadoop3.2/examples/src/main/scala/org/apache/spark/examples/ml/ImputerExample.scala\n",
            "spark-3.0.0-preview2-bin-hadoop3.2/examples/src/main/scala/org/apache/spark/examples/ml/CountVectorizerExample.scala\n",
            "spark-3.0.0-preview2-bin-hadoop3.2/examples/src/main/scala/org/apache/spark/examples/ml/MinHashLSHExample.scala\n",
            "spark-3.0.0-preview2-bin-hadoop3.2/examples/src/main/scala/org/apache/spark/examples/ml/DCTExample.scala\n",
            "spark-3.0.0-preview2-bin-hadoop3.2/examples/src/main/scala/org/apache/spark/examples/ml/RandomForestRegressorExample.scala\n",
            "spark-3.0.0-preview2-bin-hadoop3.2/examples/src/main/scala/org/apache/spark/examples/ml/StopWordsRemoverExample.scala\n",
            "spark-3.0.0-preview2-bin-hadoop3.2/examples/src/main/scala/org/apache/spark/examples/ml/ModelSelectionViaCrossValidationExample.scala\n",
            "spark-3.0.0-preview2-bin-hadoop3.2/examples/src/main/scala/org/apache/spark/examples/ml/PrefixSpanExample.scala\n",
            "spark-3.0.0-preview2-bin-hadoop3.2/examples/src/main/scala/org/apache/spark/examples/ml/ChiSquareTestExample.scala\n",
            "spark-3.0.0-preview2-bin-hadoop3.2/examples/src/main/scala/org/apache/spark/examples/ml/LogisticRegressionSummaryExample.scala\n",
            "spark-3.0.0-preview2-bin-hadoop3.2/examples/src/main/scala/org/apache/spark/examples/ml/MultilayerPerceptronClassifierExample.scala\n",
            "spark-3.0.0-preview2-bin-hadoop3.2/examples/src/main/scala/org/apache/spark/examples/ml/Word2VecExample.scala\n",
            "spark-3.0.0-preview2-bin-hadoop3.2/examples/src/main/scala/org/apache/spark/examples/ml/StandardScalerExample.scala\n",
            "spark-3.0.0-preview2-bin-hadoop3.2/examples/src/main/scala/org/apache/spark/examples/ml/BucketedRandomProjectionLSHExample.scala\n",
            "spark-3.0.0-preview2-bin-hadoop3.2/examples/src/main/scala/org/apache/spark/examples/ml/GradientBoostedTreeClassifierExample.scala\n",
            "spark-3.0.0-preview2-bin-hadoop3.2/examples/src/main/scala/org/apache/spark/examples/ml/VectorSlicerExample.scala\n",
            "spark-3.0.0-preview2-bin-hadoop3.2/examples/src/main/scala/org/apache/spark/examples/ml/BinarizerExample.scala\n",
            "spark-3.0.0-preview2-bin-hadoop3.2/examples/src/main/scala/org/apache/spark/examples/ml/OneHotEncoderExample.scala\n",
            "spark-3.0.0-preview2-bin-hadoop3.2/examples/src/main/scala/org/apache/spark/examples/ml/InteractionExample.scala\n",
            "spark-3.0.0-preview2-bin-hadoop3.2/examples/src/main/scala/org/apache/spark/examples/ml/IsotonicRegressionExample.scala\n",
            "spark-3.0.0-preview2-bin-hadoop3.2/examples/src/main/scala/org/apache/spark/examples/ml/SQLTransformerExample.scala\n",
            "spark-3.0.0-preview2-bin-hadoop3.2/examples/src/main/scala/org/apache/spark/examples/ml/NaiveBayesExample.scala\n",
            "spark-3.0.0-preview2-bin-hadoop3.2/examples/src/main/scala/org/apache/spark/examples/ml/PipelineExample.scala\n",
            "spark-3.0.0-preview2-bin-hadoop3.2/examples/src/main/scala/org/apache/spark/examples/ml/TokenizerExample.scala\n",
            "spark-3.0.0-preview2-bin-hadoop3.2/examples/src/main/scala/org/apache/spark/examples/ml/ALSExample.scala\n",
            "spark-3.0.0-preview2-bin-hadoop3.2/examples/src/main/scala/org/apache/spark/examples/ml/KMeansExample.scala\n",
            "spark-3.0.0-preview2-bin-hadoop3.2/examples/src/main/scala/org/apache/spark/examples/ml/MulticlassLogisticRegressionWithElasticNetExample.scala\n",
            "spark-3.0.0-preview2-bin-hadoop3.2/examples/src/main/scala/org/apache/spark/examples/ml/OneVsRestExample.scala\n",
            "spark-3.0.0-preview2-bin-hadoop3.2/examples/src/main/scala/org/apache/spark/examples/ml/DataFrameExample.scala\n",
            "spark-3.0.0-preview2-bin-hadoop3.2/examples/src/main/scala/org/apache/spark/examples/ml/AFTSurvivalRegressionExample.scala\n",
            "spark-3.0.0-preview2-bin-hadoop3.2/examples/src/main/scala/org/apache/spark/examples/ml/RandomForestClassifierExample.scala\n",
            "spark-3.0.0-preview2-bin-hadoop3.2/examples/src/main/scala/org/apache/spark/examples/ml/VectorIndexerExample.scala\n",
            "spark-3.0.0-preview2-bin-hadoop3.2/examples/src/main/scala/org/apache/spark/examples/ml/EstimatorTransformerParamExample.scala\n",
            "spark-3.0.0-preview2-bin-hadoop3.2/examples/src/main/scala/org/apache/spark/examples/ml/ElementwiseProductExample.scala\n",
            "spark-3.0.0-preview2-bin-hadoop3.2/examples/src/main/scala/org/apache/spark/examples/ml/DecisionTreeClassificationExample.scala\n",
            "spark-3.0.0-preview2-bin-hadoop3.2/examples/src/main/scala/org/apache/spark/examples/ml/FPGrowthExample.scala\n",
            "spark-3.0.0-preview2-bin-hadoop3.2/examples/src/main/scala/org/apache/spark/examples/ml/RandomForestExample.scala\n",
            "spark-3.0.0-preview2-bin-hadoop3.2/examples/src/main/scala/org/apache/spark/examples/ml/GaussianMixtureExample.scala\n",
            "spark-3.0.0-preview2-bin-hadoop3.2/examples/src/main/scala/org/apache/spark/examples/ml/LogisticRegressionExample.scala\n",
            "spark-3.0.0-preview2-bin-hadoop3.2/examples/src/main/scala/org/apache/spark/examples/ml/LinearSVCExample.scala\n",
            "spark-3.0.0-preview2-bin-hadoop3.2/examples/src/main/scala/org/apache/spark/examples/ml/NGramExample.scala\n",
            "spark-3.0.0-preview2-bin-hadoop3.2/examples/src/main/scala/org/apache/spark/examples/ml/VectorSizeHintExample.scala\n",
            "spark-3.0.0-preview2-bin-hadoop3.2/examples/src/main/scala/org/apache/spark/examples/ml/LogisticRegressionWithElasticNetExample.scala\n",
            "spark-3.0.0-preview2-bin-hadoop3.2/examples/src/main/scala/org/apache/spark/examples/ml/UnaryTransformerExample.scala\n",
            "spark-3.0.0-preview2-bin-hadoop3.2/examples/src/main/scala/org/apache/spark/examples/ml/DeveloperApiExample.scala\n",
            "spark-3.0.0-preview2-bin-hadoop3.2/examples/src/main/scala/org/apache/spark/examples/ml/QuantileDiscretizerExample.scala\n",
            "spark-3.0.0-preview2-bin-hadoop3.2/examples/src/main/scala/org/apache/spark/examples/ml/LinearRegressionExample.scala\n",
            "spark-3.0.0-preview2-bin-hadoop3.2/examples/src/main/scala/org/apache/spark/examples/ml/RobustScalerExample.scala\n",
            "spark-3.0.0-preview2-bin-hadoop3.2/examples/src/main/scala/org/apache/spark/examples/ml/ChiSqSelectorExample.scala\n",
            "spark-3.0.0-preview2-bin-hadoop3.2/examples/src/main/scala/org/apache/spark/examples/ml/MinMaxScalerExample.scala\n",
            "spark-3.0.0-preview2-bin-hadoop3.2/examples/src/main/scala/org/apache/spark/examples/ml/MaxAbsScalerExample.scala\n",
            "spark-3.0.0-preview2-bin-hadoop3.2/examples/src/main/scala/org/apache/spark/examples/ml/TfIdfExample.scala\n",
            "spark-3.0.0-preview2-bin-hadoop3.2/examples/src/main/scala/org/apache/spark/examples/ml/GradientBoostedTreeRegressorExample.scala\n",
            "spark-3.0.0-preview2-bin-hadoop3.2/examples/src/main/scala/org/apache/spark/examples/ml/GeneralizedLinearRegressionExample.scala\n",
            "spark-3.0.0-preview2-bin-hadoop3.2/examples/src/main/scala/org/apache/spark/examples/ml/ModelSelectionViaTrainValidationSplitExample.scala\n",
            "spark-3.0.0-preview2-bin-hadoop3.2/examples/src/main/scala/org/apache/spark/examples/ml/CorrelationExample.scala\n",
            "spark-3.0.0-preview2-bin-hadoop3.2/examples/src/main/scala/org/apache/spark/examples/ml/DecisionTreeRegressionExample.scala\n",
            "spark-3.0.0-preview2-bin-hadoop3.2/examples/src/main/scala/org/apache/spark/examples/ml/IndexToStringExample.scala\n",
            "spark-3.0.0-preview2-bin-hadoop3.2/examples/src/main/scala/org/apache/spark/examples/ml/LinearRegressionWithElasticNetExample.scala\n",
            "spark-3.0.0-preview2-bin-hadoop3.2/examples/src/main/scala/org/apache/spark/examples/ml/DecisionTreeExample.scala\n",
            "spark-3.0.0-preview2-bin-hadoop3.2/examples/src/main/scala/org/apache/spark/examples/streaming/\n",
            "spark-3.0.0-preview2-bin-hadoop3.2/examples/src/main/scala/org/apache/spark/examples/streaming/SqlNetworkWordCount.scala\n",
            "spark-3.0.0-preview2-bin-hadoop3.2/examples/src/main/scala/org/apache/spark/examples/streaming/StreamingExamples.scala\n",
            "spark-3.0.0-preview2-bin-hadoop3.2/examples/src/main/scala/org/apache/spark/examples/streaming/QueueStream.scala\n",
            "spark-3.0.0-preview2-bin-hadoop3.2/examples/src/main/scala/org/apache/spark/examples/streaming/HdfsWordCount.scala\n",
            "spark-3.0.0-preview2-bin-hadoop3.2/examples/src/main/scala/org/apache/spark/examples/streaming/clickstream/\n",
            "spark-3.0.0-preview2-bin-hadoop3.2/examples/src/main/scala/org/apache/spark/examples/streaming/clickstream/PageViewStream.scala\n",
            "spark-3.0.0-preview2-bin-hadoop3.2/examples/src/main/scala/org/apache/spark/examples/streaming/clickstream/PageViewGenerator.scala\n",
            "spark-3.0.0-preview2-bin-hadoop3.2/examples/src/main/scala/org/apache/spark/examples/streaming/RecoverableNetworkWordCount.scala\n",
            "spark-3.0.0-preview2-bin-hadoop3.2/examples/src/main/scala/org/apache/spark/examples/streaming/CustomReceiver.scala\n",
            "spark-3.0.0-preview2-bin-hadoop3.2/examples/src/main/scala/org/apache/spark/examples/streaming/RawNetworkGrep.scala\n",
            "spark-3.0.0-preview2-bin-hadoop3.2/examples/src/main/scala/org/apache/spark/examples/streaming/DirectKafkaWordCount.scala\n",
            "spark-3.0.0-preview2-bin-hadoop3.2/examples/src/main/scala/org/apache/spark/examples/streaming/StatefulNetworkWordCount.scala\n",
            "spark-3.0.0-preview2-bin-hadoop3.2/examples/src/main/scala/org/apache/spark/examples/streaming/NetworkWordCount.scala\n",
            "spark-3.0.0-preview2-bin-hadoop3.2/examples/src/main/scala/org/apache/spark/examples/streaming/DirectKerberizedKafkaWordCount.scala\n",
            "spark-3.0.0-preview2-bin-hadoop3.2/examples/src/main/scala/org/apache/spark/examples/DriverSubmissionTest.scala\n",
            "spark-3.0.0-preview2-bin-hadoop3.2/examples/src/main/scala/org/apache/spark/examples/DFSReadWriteTest.scala\n",
            "spark-3.0.0-preview2-bin-hadoop3.2/examples/src/main/scala/org/apache/spark/examples/LocalFileLR.scala\n",
            "spark-3.0.0-preview2-bin-hadoop3.2/examples/src/main/scala/org/apache/spark/examples/MultiBroadcastTest.scala\n",
            "spark-3.0.0-preview2-bin-hadoop3.2/examples/src/main/scala/org/apache/spark/examples/SkewedGroupByTest.scala\n",
            "spark-3.0.0-preview2-bin-hadoop3.2/examples/src/main/scala/org/apache/spark/examples/AccumulatorMetricsTest.scala\n",
            "spark-3.0.0-preview2-bin-hadoop3.2/examples/src/main/scala/org/apache/spark/examples/SparkTC.scala\n",
            "spark-3.0.0-preview2-bin-hadoop3.2/examples/src/main/scala/org/apache/spark/examples/LogQuery.scala\n",
            "spark-3.0.0-preview2-bin-hadoop3.2/examples/src/main/scala/org/apache/spark/examples/SparkPageRank.scala\n",
            "spark-3.0.0-preview2-bin-hadoop3.2/examples/src/main/scala/org/apache/spark/examples/SparkPi.scala\n",
            "spark-3.0.0-preview2-bin-hadoop3.2/examples/src/main/scala/org/apache/spark/examples/LocalKMeans.scala\n",
            "spark-3.0.0-preview2-bin-hadoop3.2/examples/src/main/scala/org/apache/spark/examples/BroadcastTest.scala\n",
            "spark-3.0.0-preview2-bin-hadoop3.2/examples/src/main/scala/org/apache/spark/examples/LocalLR.scala\n",
            "spark-3.0.0-preview2-bin-hadoop3.2/examples/src/main/scala/org/apache/spark/examples/LocalPi.scala\n",
            "spark-3.0.0-preview2-bin-hadoop3.2/examples/src/main/scala/org/apache/spark/examples/sql/\n",
            "spark-3.0.0-preview2-bin-hadoop3.2/examples/src/main/scala/org/apache/spark/examples/sql/streaming/\n",
            "spark-3.0.0-preview2-bin-hadoop3.2/examples/src/main/scala/org/apache/spark/examples/sql/streaming/StructuredKafkaWordCount.scala\n",
            "spark-3.0.0-preview2-bin-hadoop3.2/examples/src/main/scala/org/apache/spark/examples/sql/streaming/StructuredSessionization.scala\n",
            "spark-3.0.0-preview2-bin-hadoop3.2/examples/src/main/scala/org/apache/spark/examples/sql/streaming/StructuredNetworkWordCount.scala\n",
            "spark-3.0.0-preview2-bin-hadoop3.2/examples/src/main/scala/org/apache/spark/examples/sql/streaming/StructuredNetworkWordCountWindowed.scala\n",
            "spark-3.0.0-preview2-bin-hadoop3.2/examples/src/main/scala/org/apache/spark/examples/sql/streaming/StructuredKerberizedKafkaWordCount.scala\n",
            "spark-3.0.0-preview2-bin-hadoop3.2/examples/src/main/scala/org/apache/spark/examples/sql/UserDefinedTypedAggregation.scala\n",
            "spark-3.0.0-preview2-bin-hadoop3.2/examples/src/main/scala/org/apache/spark/examples/sql/RDDRelation.scala\n",
            "spark-3.0.0-preview2-bin-hadoop3.2/examples/src/main/scala/org/apache/spark/examples/sql/SparkSQLExample.scala\n",
            "spark-3.0.0-preview2-bin-hadoop3.2/examples/src/main/scala/org/apache/spark/examples/sql/SQLDataSourceExample.scala\n",
            "spark-3.0.0-preview2-bin-hadoop3.2/examples/src/main/scala/org/apache/spark/examples/sql/hive/\n",
            "spark-3.0.0-preview2-bin-hadoop3.2/examples/src/main/scala/org/apache/spark/examples/sql/hive/SparkHiveExample.scala\n",
            "spark-3.0.0-preview2-bin-hadoop3.2/examples/src/main/scala/org/apache/spark/examples/sql/UserDefinedUntypedAggregation.scala\n",
            "spark-3.0.0-preview2-bin-hadoop3.2/examples/src/main/scala/org/apache/spark/examples/sql/SimpleTypedAggregator.scala\n",
            "spark-3.0.0-preview2-bin-hadoop3.2/examples/src/main/scala/org/apache/spark/examples/SparkHdfsLR.scala\n",
            "spark-3.0.0-preview2-bin-hadoop3.2/examples/src/main/scala/org/apache/spark/examples/mllib/\n",
            "spark-3.0.0-preview2-bin-hadoop3.2/examples/src/main/scala/org/apache/spark/examples/mllib/LDAExample.scala\n",
            "spark-3.0.0-preview2-bin-hadoop3.2/examples/src/main/scala/org/apache/spark/examples/mllib/BisectingKMeansExample.scala\n",
            "spark-3.0.0-preview2-bin-hadoop3.2/examples/src/main/scala/org/apache/spark/examples/mllib/TallSkinnySVD.scala\n",
            "spark-3.0.0-preview2-bin-hadoop3.2/examples/src/main/scala/org/apache/spark/examples/mllib/SampledRDDs.scala\n",
            "spark-3.0.0-preview2-bin-hadoop3.2/examples/src/main/scala/org/apache/spark/examples/mllib/RandomRDDGeneration.scala\n",
            "spark-3.0.0-preview2-bin-hadoop3.2/examples/src/main/scala/org/apache/spark/examples/mllib/NormalizerExample.scala\n",
            "spark-3.0.0-preview2-bin-hadoop3.2/examples/src/main/scala/org/apache/spark/examples/mllib/GradientBoostingClassificationExample.scala\n",
            "spark-3.0.0-preview2-bin-hadoop3.2/examples/src/main/scala/org/apache/spark/examples/mllib/PowerIterationClusteringExample.scala\n",
            "spark-3.0.0-preview2-bin-hadoop3.2/examples/src/main/scala/org/apache/spark/examples/mllib/StreamingTestExample.scala\n",
            "spark-3.0.0-preview2-bin-hadoop3.2/examples/src/main/scala/org/apache/spark/examples/mllib/MultiLabelMetricsExample.scala\n",
            "spark-3.0.0-preview2-bin-hadoop3.2/examples/src/main/scala/org/apache/spark/examples/mllib/LogisticRegressionWithLBFGSExample.scala\n",
            "spark-3.0.0-preview2-bin-hadoop3.2/examples/src/main/scala/org/apache/spark/examples/mllib/MultivariateSummarizer.scala\n",
            "spark-3.0.0-preview2-bin-hadoop3.2/examples/src/main/scala/org/apache/spark/examples/mllib/LBFGSExample.scala\n",
            "spark-3.0.0-preview2-bin-hadoop3.2/examples/src/main/scala/org/apache/spark/examples/mllib/TFIDFExample.scala\n",
            "spark-3.0.0-preview2-bin-hadoop3.2/examples/src/main/scala/org/apache/spark/examples/mllib/RandomForestRegressionExample.scala\n",
            "spark-3.0.0-preview2-bin-hadoop3.2/examples/src/main/scala/org/apache/spark/examples/mllib/PCAOnSourceVectorExample.scala\n",
            "spark-3.0.0-preview2-bin-hadoop3.2/examples/src/main/scala/org/apache/spark/examples/mllib/SVDExample.scala\n",
            "spark-3.0.0-preview2-bin-hadoop3.2/examples/src/main/scala/org/apache/spark/examples/mllib/PrefixSpanExample.scala\n",
            "spark-3.0.0-preview2-bin-hadoop3.2/examples/src/main/scala/org/apache/spark/examples/mllib/RandomForestClassificationExample.scala\n",
            "spark-3.0.0-preview2-bin-hadoop3.2/examples/src/main/scala/org/apache/spark/examples/mllib/Word2VecExample.scala\n",
            "spark-3.0.0-preview2-bin-hadoop3.2/examples/src/main/scala/org/apache/spark/examples/mllib/StandardScalerExample.scala\n",
            "spark-3.0.0-preview2-bin-hadoop3.2/examples/src/main/scala/org/apache/spark/examples/mllib/MulticlassMetricsExample.scala\n",
            "spark-3.0.0-preview2-bin-hadoop3.2/examples/src/main/scala/org/apache/spark/examples/mllib/GradientBoostingRegressionExample.scala\n",
            "spark-3.0.0-preview2-bin-hadoop3.2/examples/src/main/scala/org/apache/spark/examples/mllib/BinaryClassification.scala\n",
            "spark-3.0.0-preview2-bin-hadoop3.2/examples/src/main/scala/org/apache/spark/examples/mllib/BinaryClassificationMetricsExample.scala\n",
            "spark-3.0.0-preview2-bin-hadoop3.2/examples/src/main/scala/org/apache/spark/examples/mllib/IsotonicRegressionExample.scala\n",
            "spark-3.0.0-preview2-bin-hadoop3.2/examples/src/main/scala/org/apache/spark/examples/mllib/PMMLModelExportExample.scala\n",
            "spark-3.0.0-preview2-bin-hadoop3.2/examples/src/main/scala/org/apache/spark/examples/mllib/CosineSimilarity.scala\n",
            "spark-3.0.0-preview2-bin-hadoop3.2/examples/src/main/scala/org/apache/spark/examples/mllib/DenseKMeans.scala\n",
            "spark-3.0.0-preview2-bin-hadoop3.2/examples/src/main/scala/org/apache/spark/examples/mllib/NaiveBayesExample.scala\n",
            "spark-3.0.0-preview2-bin-hadoop3.2/examples/src/main/scala/org/apache/spark/examples/mllib/TallSkinnyPCA.scala\n",
            "spark-3.0.0-preview2-bin-hadoop3.2/examples/src/main/scala/org/apache/spark/examples/mllib/KMeansExample.scala\n",
            "spark-3.0.0-preview2-bin-hadoop3.2/examples/src/main/scala/org/apache/spark/examples/mllib/StreamingLinearRegressionExample.scala\n",
            "spark-3.0.0-preview2-bin-hadoop3.2/examples/src/main/scala/org/apache/spark/examples/mllib/RankingMetricsExample.scala\n",
            "spark-3.0.0-preview2-bin-hadoop3.2/examples/src/main/scala/org/apache/spark/examples/mllib/HypothesisTestingExample.scala\n",
            "spark-3.0.0-preview2-bin-hadoop3.2/examples/src/main/scala/org/apache/spark/examples/mllib/GradientBoostedTreesRunner.scala\n",
            "spark-3.0.0-preview2-bin-hadoop3.2/examples/src/main/scala/org/apache/spark/examples/mllib/HypothesisTestingKolmogorovSmirnovTestExample.scala\n",
            "spark-3.0.0-preview2-bin-hadoop3.2/examples/src/main/scala/org/apache/spark/examples/mllib/SimpleFPGrowth.scala\n",
            "spark-3.0.0-preview2-bin-hadoop3.2/examples/src/main/scala/org/apache/spark/examples/mllib/AbstractParams.scala\n",
            "spark-3.0.0-preview2-bin-hadoop3.2/examples/src/main/scala/org/apache/spark/examples/mllib/SVMWithSGDExample.scala\n",
            "spark-3.0.0-preview2-bin-hadoop3.2/examples/src/main/scala/org/apache/spark/examples/mllib/ElementwiseProductExample.scala\n",
            "spark-3.0.0-preview2-bin-hadoop3.2/examples/src/main/scala/org/apache/spark/examples/mllib/DecisionTreeClassificationExample.scala\n",
            "spark-3.0.0-preview2-bin-hadoop3.2/examples/src/main/scala/org/apache/spark/examples/mllib/FPGrowthExample.scala\n",
            "spark-3.0.0-preview2-bin-hadoop3.2/examples/src/main/scala/org/apache/spark/examples/mllib/GaussianMixtureExample.scala\n",
            "spark-3.0.0-preview2-bin-hadoop3.2/examples/src/main/scala/org/apache/spark/examples/mllib/StreamingLogisticRegression.scala\n",
            "spark-3.0.0-preview2-bin-hadoop3.2/examples/src/main/scala/org/apache/spark/examples/mllib/RecommendationExample.scala\n",
            "spark-3.0.0-preview2-bin-hadoop3.2/examples/src/main/scala/org/apache/spark/examples/mllib/ChiSqSelectorExample.scala\n",
            "spark-3.0.0-preview2-bin-hadoop3.2/examples/src/main/scala/org/apache/spark/examples/mllib/SummaryStatisticsExample.scala\n",
            "spark-3.0.0-preview2-bin-hadoop3.2/examples/src/main/scala/org/apache/spark/examples/mllib/SparseNaiveBayes.scala\n",
            "spark-3.0.0-preview2-bin-hadoop3.2/examples/src/main/scala/org/apache/spark/examples/mllib/MovieLensALS.scala\n",
            "spark-3.0.0-preview2-bin-hadoop3.2/examples/src/main/scala/org/apache/spark/examples/mllib/PCAOnRowMatrixExample.scala\n",
            "spark-3.0.0-preview2-bin-hadoop3.2/examples/src/main/scala/org/apache/spark/examples/mllib/Correlations.scala\n",
            "spark-3.0.0-preview2-bin-hadoop3.2/examples/src/main/scala/org/apache/spark/examples/mllib/CorrelationsExample.scala\n",
            "spark-3.0.0-preview2-bin-hadoop3.2/examples/src/main/scala/org/apache/spark/examples/mllib/StreamingKMeansExample.scala\n",
            "spark-3.0.0-preview2-bin-hadoop3.2/examples/src/main/scala/org/apache/spark/examples/mllib/AssociationRulesExample.scala\n",
            "spark-3.0.0-preview2-bin-hadoop3.2/examples/src/main/scala/org/apache/spark/examples/mllib/StratifiedSamplingExample.scala\n",
            "spark-3.0.0-preview2-bin-hadoop3.2/examples/src/main/scala/org/apache/spark/examples/mllib/KernelDensityEstimationExample.scala\n",
            "spark-3.0.0-preview2-bin-hadoop3.2/examples/src/main/scala/org/apache/spark/examples/mllib/DecisionTreeRunner.scala\n",
            "spark-3.0.0-preview2-bin-hadoop3.2/examples/src/main/scala/org/apache/spark/examples/mllib/DecisionTreeRegressionExample.scala\n",
            "spark-3.0.0-preview2-bin-hadoop3.2/examples/src/main/scala/org/apache/spark/examples/mllib/LatentDirichletAllocationExample.scala\n",
            "spark-3.0.0-preview2-bin-hadoop3.2/examples/src/main/scala/org/apache/spark/examples/GroupByTest.scala\n",
            "spark-3.0.0-preview2-bin-hadoop3.2/examples/src/main/scala/org/apache/spark/examples/pythonconverters/\n",
            "spark-3.0.0-preview2-bin-hadoop3.2/examples/src/main/scala/org/apache/spark/examples/pythonconverters/AvroConverters.scala\n",
            "spark-3.0.0-preview2-bin-hadoop3.2/examples/src/main/scala/org/apache/spark/examples/graphx/\n",
            "spark-3.0.0-preview2-bin-hadoop3.2/examples/src/main/scala/org/apache/spark/examples/graphx/LiveJournalPageRank.scala\n",
            "spark-3.0.0-preview2-bin-hadoop3.2/examples/src/main/scala/org/apache/spark/examples/graphx/Analytics.scala\n",
            "spark-3.0.0-preview2-bin-hadoop3.2/examples/src/main/scala/org/apache/spark/examples/graphx/ConnectedComponentsExample.scala\n",
            "spark-3.0.0-preview2-bin-hadoop3.2/examples/src/main/scala/org/apache/spark/examples/graphx/AggregateMessagesExample.scala\n",
            "spark-3.0.0-preview2-bin-hadoop3.2/examples/src/main/scala/org/apache/spark/examples/graphx/SynthBenchmark.scala\n",
            "spark-3.0.0-preview2-bin-hadoop3.2/examples/src/main/scala/org/apache/spark/examples/graphx/PageRankExample.scala\n",
            "spark-3.0.0-preview2-bin-hadoop3.2/examples/src/main/scala/org/apache/spark/examples/graphx/SSSPExample.scala\n",
            "spark-3.0.0-preview2-bin-hadoop3.2/examples/src/main/scala/org/apache/spark/examples/graphx/TriangleCountingExample.scala\n",
            "spark-3.0.0-preview2-bin-hadoop3.2/examples/src/main/scala/org/apache/spark/examples/graphx/ComprehensiveExample.scala\n",
            "spark-3.0.0-preview2-bin-hadoop3.2/examples/src/main/scala/org/apache/spark/examples/SparkKMeans.scala\n",
            "spark-3.0.0-preview2-bin-hadoop3.2/examples/src/main/scala/org/apache/spark/examples/LocalALS.scala\n",
            "spark-3.0.0-preview2-bin-hadoop3.2/examples/src/main/scala/org/apache/spark/examples/SparkALS.scala\n",
            "spark-3.0.0-preview2-bin-hadoop3.2/examples/src/main/scala/org/apache/spark/examples/SimpleSkewedGroupByTest.scala\n",
            "spark-3.0.0-preview2-bin-hadoop3.2/examples/src/main/scala/org/apache/spark/examples/ExceptionHandlingTest.scala\n",
            "spark-3.0.0-preview2-bin-hadoop3.2/examples/src/main/scala/org/apache/spark/examples/HdfsTest.scala\n",
            "spark-3.0.0-preview2-bin-hadoop3.2/examples/src/main/scala/org/apache/spark/examples/SparkLR.scala\n",
            "spark-3.0.0-preview2-bin-hadoop3.2/examples/src/main/r/\n",
            "spark-3.0.0-preview2-bin-hadoop3.2/examples/src/main/r/ml/\n",
            "spark-3.0.0-preview2-bin-hadoop3.2/examples/src/main/r/ml/bisectingKmeans.R\n",
            "spark-3.0.0-preview2-bin-hadoop3.2/examples/src/main/r/ml/fpm.R\n",
            "spark-3.0.0-preview2-bin-hadoop3.2/examples/src/main/r/ml/isoreg.R\n",
            "spark-3.0.0-preview2-bin-hadoop3.2/examples/src/main/r/ml/decisionTree.R\n",
            "spark-3.0.0-preview2-bin-hadoop3.2/examples/src/main/r/ml/powerIterationClustering.R\n",
            "spark-3.0.0-preview2-bin-hadoop3.2/examples/src/main/r/ml/naiveBayes.R\n",
            "spark-3.0.0-preview2-bin-hadoop3.2/examples/src/main/r/ml/prefixSpan.R\n",
            "spark-3.0.0-preview2-bin-hadoop3.2/examples/src/main/r/ml/gaussianMixture.R\n",
            "spark-3.0.0-preview2-bin-hadoop3.2/examples/src/main/r/ml/kmeans.R\n",
            "spark-3.0.0-preview2-bin-hadoop3.2/examples/src/main/r/ml/glm.R\n",
            "spark-3.0.0-preview2-bin-hadoop3.2/examples/src/main/r/ml/mlp.R\n",
            "spark-3.0.0-preview2-bin-hadoop3.2/examples/src/main/r/ml/lda.R\n",
            "spark-3.0.0-preview2-bin-hadoop3.2/examples/src/main/r/ml/survreg.R\n",
            "spark-3.0.0-preview2-bin-hadoop3.2/examples/src/main/r/ml/ml.R\n",
            "spark-3.0.0-preview2-bin-hadoop3.2/examples/src/main/r/ml/gbt.R\n",
            "spark-3.0.0-preview2-bin-hadoop3.2/examples/src/main/r/ml/svmLinear.R\n",
            "spark-3.0.0-preview2-bin-hadoop3.2/examples/src/main/r/ml/als.R\n",
            "spark-3.0.0-preview2-bin-hadoop3.2/examples/src/main/r/ml/logit.R\n",
            "spark-3.0.0-preview2-bin-hadoop3.2/examples/src/main/r/ml/kstest.R\n",
            "spark-3.0.0-preview2-bin-hadoop3.2/examples/src/main/r/ml/randomForest.R\n",
            "spark-3.0.0-preview2-bin-hadoop3.2/examples/src/main/r/streaming/\n",
            "spark-3.0.0-preview2-bin-hadoop3.2/examples/src/main/r/streaming/structured_network_wordcount.R\n",
            "spark-3.0.0-preview2-bin-hadoop3.2/examples/src/main/r/data-manipulation.R\n",
            "spark-3.0.0-preview2-bin-hadoop3.2/examples/src/main/r/dataframe.R\n",
            "spark-3.0.0-preview2-bin-hadoop3.2/examples/src/main/r/RSparkSQLExample.R\n",
            "spark-3.0.0-preview2-bin-hadoop3.2/conf/\n",
            "spark-3.0.0-preview2-bin-hadoop3.2/conf/slaves.template\n",
            "spark-3.0.0-preview2-bin-hadoop3.2/conf/spark-env.sh.template\n",
            "spark-3.0.0-preview2-bin-hadoop3.2/conf/log4j.properties.template\n",
            "spark-3.0.0-preview2-bin-hadoop3.2/conf/spark-defaults.conf.template\n",
            "spark-3.0.0-preview2-bin-hadoop3.2/conf/fairscheduler.xml.template\n",
            "spark-3.0.0-preview2-bin-hadoop3.2/conf/metrics.properties.template\n",
            "spark-3.0.0-preview2-bin-hadoop3.2/jars/\n",
            "spark-3.0.0-preview2-bin-hadoop3.2/jars/kerb-core-1.0.1.jar\n",
            "spark-3.0.0-preview2-bin-hadoop3.2/jars/token-provider-1.0.1.jar\n",
            "spark-3.0.0-preview2-bin-hadoop3.2/jars/kerby-config-1.0.1.jar\n",
            "spark-3.0.0-preview2-bin-hadoop3.2/jars/datanucleus-core-4.1.17.jar\n",
            "spark-3.0.0-preview2-bin-hadoop3.2/jars/jpam-1.1.jar\n",
            "spark-3.0.0-preview2-bin-hadoop3.2/jars/hive-shims-0.23-2.3.6.jar\n",
            "spark-3.0.0-preview2-bin-hadoop3.2/jars/okapi-shade-0.4.2.jar\n",
            "spark-3.0.0-preview2-bin-hadoop3.2/jars/commons-configuration2-2.1.1.jar\n",
            "spark-3.0.0-preview2-bin-hadoop3.2/jars/httpclient-4.5.6.jar\n",
            "spark-3.0.0-preview2-bin-hadoop3.2/jars/avro-1.8.2.jar\n",
            "spark-3.0.0-preview2-bin-hadoop3.2/jars/jsr305-3.0.0.jar\n",
            "spark-3.0.0-preview2-bin-hadoop3.2/jars/slf4j-api-1.7.16.jar\n",
            "spark-3.0.0-preview2-bin-hadoop3.2/jars/kerb-simplekdc-1.0.1.jar\n",
            "spark-3.0.0-preview2-bin-hadoop3.2/jars/JTransforms-3.1.jar\n",
            "spark-3.0.0-preview2-bin-hadoop3.2/jars/hadoop-yarn-client-3.2.0.jar\n",
            "spark-3.0.0-preview2-bin-hadoop3.2/jars/orc-core-1.5.8.jar\n",
            "spark-3.0.0-preview2-bin-hadoop3.2/jars/spark-mllib-local_2.12-3.0.0-preview2.jar\n",
            "spark-3.0.0-preview2-bin-hadoop3.2/jars/jersey-server-2.29.1.jar\n",
            "spark-3.0.0-preview2-bin-hadoop3.2/jars/hadoop-yarn-server-common-3.2.0.jar\n",
            "spark-3.0.0-preview2-bin-hadoop3.2/jars/scala-library-2.12.10.jar\n",
            "spark-3.0.0-preview2-bin-hadoop3.2/jars/jackson-dataformat-yaml-2.10.0.jar\n",
            "spark-3.0.0-preview2-bin-hadoop3.2/jars/parquet-common-1.10.1.jar\n",
            "spark-3.0.0-preview2-bin-hadoop3.2/jars/zstd-jni-1.4.4-3.jar\n",
            "spark-3.0.0-preview2-bin-hadoop3.2/jars/hive-serde-2.3.6.jar\n",
            "spark-3.0.0-preview2-bin-hadoop3.2/jars/ST4-4.0.4.jar\n",
            "spark-3.0.0-preview2-bin-hadoop3.2/jars/libthrift-0.12.0.jar\n",
            "spark-3.0.0-preview2-bin-hadoop3.2/jars/spark-hive-thriftserver_2.12-3.0.0-preview2.jar\n",
            "spark-3.0.0-preview2-bin-hadoop3.2/jars/dnsjava-2.1.7.jar\n",
            "spark-3.0.0-preview2-bin-hadoop3.2/jars/commons-daemon-1.0.13.jar\n",
            "spark-3.0.0-preview2-bin-hadoop3.2/jars/hive-shims-scheduler-2.3.6.jar\n",
            "spark-3.0.0-preview2-bin-hadoop3.2/jars/javassist-3.22.0-CR2.jar\n",
            "spark-3.0.0-preview2-bin-hadoop3.2/jars/stax-api-1.0.1.jar\n",
            "spark-3.0.0-preview2-bin-hadoop3.2/jars/json4s-ast_2.12-3.6.6.jar\n",
            "spark-3.0.0-preview2-bin-hadoop3.2/jars/kerby-pkix-1.0.1.jar\n",
            "spark-3.0.0-preview2-bin-hadoop3.2/jars/snappy-java-1.1.7.3.jar\n",
            "spark-3.0.0-preview2-bin-hadoop3.2/jars/spark-graph_2.12-3.0.0-preview2.jar\n",
            "spark-3.0.0-preview2-bin-hadoop3.2/jars/hive-common-2.3.6.jar\n",
            "spark-3.0.0-preview2-bin-hadoop3.2/jars/pyrolite-4.30.jar\n",
            "spark-3.0.0-preview2-bin-hadoop3.2/jars/metrics-json-4.1.1.jar\n",
            "spark-3.0.0-preview2-bin-hadoop3.2/jars/hive-exec-2.3.6-core.jar\n",
            "spark-3.0.0-preview2-bin-hadoop3.2/jars/super-csv-2.2.0.jar\n",
            "spark-3.0.0-preview2-bin-hadoop3.2/jars/kerb-common-1.0.1.jar\n",
            "spark-3.0.0-preview2-bin-hadoop3.2/jars/json4s-scalap_2.12-3.6.6.jar\n",
            "spark-3.0.0-preview2-bin-hadoop3.2/jars/jackson-databind-2.10.0.jar\n",
            "spark-3.0.0-preview2-bin-hadoop3.2/jars/log4j-1.2.17.jar\n",
            "spark-3.0.0-preview2-bin-hadoop3.2/jars/javolution-5.5.1.jar\n",
            "spark-3.0.0-preview2-bin-hadoop3.2/jars/spire_2.12-0.17.0-M1.jar\n",
            "spark-3.0.0-preview2-bin-hadoop3.2/jars/spark-graphx_2.12-3.0.0-preview2.jar\n",
            "spark-3.0.0-preview2-bin-hadoop3.2/jars/zookeeper-3.4.14.jar\n",
            "spark-3.0.0-preview2-bin-hadoop3.2/jars/velocity-1.5.jar\n",
            "spark-3.0.0-preview2-bin-hadoop3.2/jars/spark-tags_2.12-3.0.0-preview2-tests.jar\n",
            "spark-3.0.0-preview2-bin-hadoop3.2/jars/jakarta.activation-api-1.2.1.jar\n",
            "spark-3.0.0-preview2-bin-hadoop3.2/jars/spark-core_2.12-3.0.0-preview2.jar\n",
            "spark-3.0.0-preview2-bin-hadoop3.2/jars/kerby-util-1.0.1.jar\n",
            "spark-3.0.0-preview2-bin-hadoop3.2/jars/scala-parser-combinators_2.12-1.1.2.jar\n",
            "spark-3.0.0-preview2-bin-hadoop3.2/jars/paranamer-2.8.jar\n",
            "spark-3.0.0-preview2-bin-hadoop3.2/jars/spark-unsafe_2.12-3.0.0-preview2.jar\n",
            "spark-3.0.0-preview2-bin-hadoop3.2/jars/commons-lang-2.6.jar\n",
            "spark-3.0.0-preview2-bin-hadoop3.2/jars/spark-kubernetes_2.12-3.0.0-preview2.jar\n",
            "spark-3.0.0-preview2-bin-hadoop3.2/jars/joda-time-2.10.5.jar\n",
            "spark-3.0.0-preview2-bin-hadoop3.2/jars/jackson-module-paranamer-2.10.0.jar\n",
            "spark-3.0.0-preview2-bin-hadoop3.2/jars/mesos-1.4.0-shaded-protobuf.jar\n",
            "spark-3.0.0-preview2-bin-hadoop3.2/jars/breeze_2.12-1.0.jar\n",
            "spark-3.0.0-preview2-bin-hadoop3.2/jars/spark-sql_2.12-3.0.0-preview2.jar\n",
            "spark-3.0.0-preview2-bin-hadoop3.2/jars/metrics-jvm-4.1.1.jar\n",
            "spark-3.0.0-preview2-bin-hadoop3.2/jars/hadoop-auth-3.2.0.jar\n",
            "spark-3.0.0-preview2-bin-hadoop3.2/jars/kerb-server-1.0.1.jar\n",
            "spark-3.0.0-preview2-bin-hadoop3.2/jars/jersey-media-jaxb-2.29.1.jar\n",
            "spark-3.0.0-preview2-bin-hadoop3.2/jars/activation-1.1.1.jar\n",
            "spark-3.0.0-preview2-bin-hadoop3.2/jars/spark-hive_2.12-3.0.0-preview2.jar\n",
            "spark-3.0.0-preview2-bin-hadoop3.2/jars/jersey-hk2-2.29.1.jar\n",
            "spark-3.0.0-preview2-bin-hadoop3.2/jars/commons-net-3.1.jar\n",
            "spark-3.0.0-preview2-bin-hadoop3.2/jars/woodstox-core-5.0.3.jar\n",
            "spark-3.0.0-preview2-bin-hadoop3.2/jars/re2j-1.1.jar\n",
            "spark-3.0.0-preview2-bin-hadoop3.2/jars/spark-mesos_2.12-3.0.0-preview2.jar\n",
            "spark-3.0.0-preview2-bin-hadoop3.2/jars/avro-mapred-1.8.2-hadoop2.jar\n",
            "spark-3.0.0-preview2-bin-hadoop3.2/jars/transaction-api-1.1.jar\n",
            "spark-3.0.0-preview2-bin-hadoop3.2/jars/spark-yarn_2.12-3.0.0-preview2.jar\n",
            "spark-3.0.0-preview2-bin-hadoop3.2/jars/scala-collection-compat_2.12-2.1.1.jar\n",
            "spark-3.0.0-preview2-bin-hadoop3.2/jars/guice-servlet-4.0.jar\n",
            "spark-3.0.0-preview2-bin-hadoop3.2/jars/metrics-core-4.1.1.jar\n",
            "spark-3.0.0-preview2-bin-hadoop3.2/jars/protobuf-java-2.5.0.jar\n",
            "spark-3.0.0-preview2-bin-hadoop3.2/jars/py4j-0.10.8.1.jar\n",
            "spark-3.0.0-preview2-bin-hadoop3.2/jars/commons-compress-1.8.1.jar\n",
            "spark-3.0.0-preview2-bin-hadoop3.2/jars/kubernetes-client-4.6.4.jar\n",
            "spark-3.0.0-preview2-bin-hadoop3.2/jars/nimbus-jose-jwt-4.41.1.jar\n",
            "spark-3.0.0-preview2-bin-hadoop3.2/jars/spark-sketch_2.12-3.0.0-preview2.jar\n",
            "spark-3.0.0-preview2-bin-hadoop3.2/jars/zjsonpatch-0.3.0.jar\n",
            "spark-3.0.0-preview2-bin-hadoop3.2/jars/kubernetes-model-common-4.6.4.jar\n",
            "spark-3.0.0-preview2-bin-hadoop3.2/jars/spire-macros_2.12-0.17.0-M1.jar\n",
            "spark-3.0.0-preview2-bin-hadoop3.2/jars/spark-mllib_2.12-3.0.0-preview2.jar\n",
            "spark-3.0.0-preview2-bin-hadoop3.2/jars/commons-compiler-3.0.15.jar\n",
            "spark-3.0.0-preview2-bin-hadoop3.2/jars/univocity-parsers-2.8.3.jar\n",
            "spark-3.0.0-preview2-bin-hadoop3.2/jars/json4s-jackson_2.12-3.6.6.jar\n",
            "spark-3.0.0-preview2-bin-hadoop3.2/jars/arrow-vector-0.15.1.jar\n",
            "spark-3.0.0-preview2-bin-hadoop3.2/jars/spark-catalyst_2.12-3.0.0-preview2.jar\n",
            "spark-3.0.0-preview2-bin-hadoop3.2/jars/okhttp-3.12.6.jar\n",
            "spark-3.0.0-preview2-bin-hadoop3.2/jars/jersey-container-servlet-2.29.1.jar\n",
            "spark-3.0.0-preview2-bin-hadoop3.2/jars/curator-framework-2.13.0.jar\n",
            "spark-3.0.0-preview2-bin-hadoop3.2/jars/htrace-core4-4.1.0-incubating.jar\n",
            "spark-3.0.0-preview2-bin-hadoop3.2/jars/curator-client-2.13.0.jar\n",
            "spark-3.0.0-preview2-bin-hadoop3.2/jars/aopalliance-1.0.jar\n",
            "spark-3.0.0-preview2-bin-hadoop3.2/jars/hk2-locator-2.6.1.jar\n",
            "spark-3.0.0-preview2-bin-hadoop3.2/jars/jta-1.1.jar\n",
            "spark-3.0.0-preview2-bin-hadoop3.2/jars/commons-crypto-1.0.0.jar\n",
            "spark-3.0.0-preview2-bin-hadoop3.2/jars/hadoop-yarn-server-web-proxy-3.2.0.jar\n",
            "spark-3.0.0-preview2-bin-hadoop3.2/jars/kerb-util-1.0.1.jar\n",
            "spark-3.0.0-preview2-bin-hadoop3.2/jars/cats-kernel_2.12-2.0.0-M4.jar\n",
            "spark-3.0.0-preview2-bin-hadoop3.2/jars/guice-4.0.jar\n",
            "spark-3.0.0-preview2-bin-hadoop3.2/jars/spire-platform_2.12-0.17.0-M1.jar\n",
            "spark-3.0.0-preview2-bin-hadoop3.2/jars/jcl-over-slf4j-1.7.16.jar\n",
            "spark-3.0.0-preview2-bin-hadoop3.2/jars/jaxb-runtime-2.3.2.jar\n",
            "spark-3.0.0-preview2-bin-hadoop3.2/jars/json-1.8.jar\n",
            "spark-3.0.0-preview2-bin-hadoop3.2/jars/dropwizard-metrics-hadoop-metrics2-reporter-0.1.2.jar\n",
            "spark-3.0.0-preview2-bin-hadoop3.2/jars/kerb-client-1.0.1.jar\n",
            "spark-3.0.0-preview2-bin-hadoop3.2/jars/hadoop-common-3.2.0.jar\n",
            "spark-3.0.0-preview2-bin-hadoop3.2/jars/osgi-resource-locator-1.0.3.jar\n",
            "spark-3.0.0-preview2-bin-hadoop3.2/jars/hk2-utils-2.6.1.jar\n",
            "spark-3.0.0-preview2-bin-hadoop3.2/jars/ehcache-3.3.1.jar\n",
            "spark-3.0.0-preview2-bin-hadoop3.2/jars/accessors-smart-1.2.jar\n",
            "spark-3.0.0-preview2-bin-hadoop3.2/jars/algebra_2.12-2.0.0-M2.jar\n",
            "spark-3.0.0-preview2-bin-hadoop3.2/jars/jackson-core-asl-1.9.13.jar\n",
            "spark-3.0.0-preview2-bin-hadoop3.2/jars/json4s-core_2.12-3.6.6.jar\n",
            "spark-3.0.0-preview2-bin-hadoop3.2/jars/parquet-hadoop-1.10.1.jar\n",
            "spark-3.0.0-preview2-bin-hadoop3.2/jars/jersey-common-2.29.1.jar\n",
            "spark-3.0.0-preview2-bin-hadoop3.2/jars/stax2-api-3.1.4.jar\n",
            "spark-3.0.0-preview2-bin-hadoop3.2/jars/chill-java-0.9.3.jar\n",
            "spark-3.0.0-preview2-bin-hadoop3.2/jars/jackson-jaxrs-base-2.9.5.jar\n",
            "spark-3.0.0-preview2-bin-hadoop3.2/jars/hadoop-mapreduce-client-core-3.2.0.jar\n",
            "spark-3.0.0-preview2-bin-hadoop3.2/jars/minlog-1.3.0.jar\n",
            "spark-3.0.0-preview2-bin-hadoop3.2/jars/shims-0.7.45.jar\n",
            "spark-3.0.0-preview2-bin-hadoop3.2/jars/mssql-jdbc-6.2.1.jre7.jar\n",
            "spark-3.0.0-preview2-bin-hadoop3.2/jars/commons-cli-1.2.jar\n",
            "spark-3.0.0-preview2-bin-hadoop3.2/jars/jackson-module-jaxb-annotations-2.10.0.jar\n",
            "spark-3.0.0-preview2-bin-hadoop3.2/jars/logging-interceptor-3.12.6.jar\n",
            "spark-3.0.0-preview2-bin-hadoop3.2/jars/scala-reflect-2.12.10.jar\n",
            "spark-3.0.0-preview2-bin-hadoop3.2/jars/scala-xml_2.12-1.2.0.jar\n",
            "spark-3.0.0-preview2-bin-hadoop3.2/jars/flatbuffers-java-1.9.0.jar\n",
            "spark-3.0.0-preview2-bin-hadoop3.2/jars/jackson-core-2.10.0.jar\n",
            "spark-3.0.0-preview2-bin-hadoop3.2/jars/HikariCP-2.5.1.jar\n",
            "spark-3.0.0-preview2-bin-hadoop3.2/jars/libfb303-0.9.3.jar\n",
            "spark-3.0.0-preview2-bin-hadoop3.2/jars/audience-annotations-0.5.0.jar\n",
            "spark-3.0.0-preview2-bin-hadoop3.2/jars/objenesis-2.5.1.jar\n",
            "spark-3.0.0-preview2-bin-hadoop3.2/jars/arrow-memory-0.15.1.jar\n",
            "spark-3.0.0-preview2-bin-hadoop3.2/jars/jakarta.validation-api-2.0.2.jar\n",
            "spark-3.0.0-preview2-bin-hadoop3.2/jars/spark-network-common_2.12-3.0.0-preview2.jar\n",
            "spark-3.0.0-preview2-bin-hadoop3.2/jars/commons-io-2.4.jar\n",
            "spark-3.0.0-preview2-bin-hadoop3.2/jars/hk2-api-2.6.1.jar\n",
            "spark-3.0.0-preview2-bin-hadoop3.2/jars/breeze-macros_2.12-1.0.jar\n",
            "spark-3.0.0-preview2-bin-hadoop3.2/jars/kerby-asn1-1.0.1.jar\n",
            "spark-3.0.0-preview2-bin-hadoop3.2/jars/hive-vector-code-gen-2.3.6.jar\n",
            "spark-3.0.0-preview2-bin-hadoop3.2/jars/kerby-xdr-1.0.1.jar\n",
            "spark-3.0.0-preview2-bin-hadoop3.2/jars/hive-cli-2.3.6.jar\n",
            "spark-3.0.0-preview2-bin-hadoop3.2/jars/aopalliance-repackaged-2.6.1.jar\n",
            "spark-3.0.0-preview2-bin-hadoop3.2/jars/kerb-crypto-1.0.1.jar\n",
            "spark-3.0.0-preview2-bin-hadoop3.2/jars/jackson-mapper-asl-1.9.13.jar\n",
            "spark-3.0.0-preview2-bin-hadoop3.2/jars/commons-collections-3.2.2.jar\n",
            "spark-3.0.0-preview2-bin-hadoop3.2/jars/hive-service-rpc-2.3.6.jar\n",
            "spark-3.0.0-preview2-bin-hadoop3.2/jars/ivy-2.4.0.jar\n",
            "spark-3.0.0-preview2-bin-hadoop3.2/jars/istack-commons-runtime-3.0.8.jar\n",
            "spark-3.0.0-preview2-bin-hadoop3.2/jars/hadoop-mapreduce-client-jobclient-3.2.0.jar\n",
            "spark-3.0.0-preview2-bin-hadoop3.2/jars/netty-all-4.1.42.Final.jar\n",
            "spark-3.0.0-preview2-bin-hadoop3.2/jars/spire-util_2.12-0.17.0-M1.jar\n",
            "spark-3.0.0-preview2-bin-hadoop3.2/jars/compress-lzf-1.0.3.jar\n",
            "spark-3.0.0-preview2-bin-hadoop3.2/jars/RoaringBitmap-0.7.45.jar\n",
            "spark-3.0.0-preview2-bin-hadoop3.2/jars/javax.jdo-3.2.0-m3.jar\n",
            "spark-3.0.0-preview2-bin-hadoop3.2/jars/jcip-annotations-1.0-1.jar\n",
            "spark-3.0.0-preview2-bin-hadoop3.2/jars/hive-metastore-2.3.6.jar\n",
            "spark-3.0.0-preview2-bin-hadoop3.2/jars/jul-to-slf4j-1.7.16.jar\n",
            "spark-3.0.0-preview2-bin-hadoop3.2/jars/spark-tags_2.12-3.0.0-preview2.jar\n",
            "spark-3.0.0-preview2-bin-hadoop3.2/jars/spark-graph-api_2.12-3.0.0-preview2.jar\n",
            "spark-3.0.0-preview2-bin-hadoop3.2/jars/hadoop-client-3.2.0.jar\n",
            "spark-3.0.0-preview2-bin-hadoop3.2/jars/hadoop-annotations-3.2.0.jar\n",
            "spark-3.0.0-preview2-bin-hadoop3.2/jars/parquet-format-2.4.0.jar\n",
            "spark-3.0.0-preview2-bin-hadoop3.2/jars/httpcore-4.4.12.jar\n",
            "spark-3.0.0-preview2-bin-hadoop3.2/jars/parquet-column-1.10.1.jar\n",
            "spark-3.0.0-preview2-bin-hadoop3.2/jars/hadoop-hdfs-client-3.2.0.jar\n",
            "spark-3.0.0-preview2-bin-hadoop3.2/jars/kubernetes-model-4.6.4.jar\n",
            "spark-3.0.0-preview2-bin-hadoop3.2/jars/slf4j-log4j12-1.7.16.jar\n",
            "spark-3.0.0-preview2-bin-hadoop3.2/jars/kryo-shaded-4.0.2.jar\n",
            "spark-3.0.0-preview2-bin-hadoop3.2/jars/antlr-runtime-3.5.2.jar\n",
            "spark-3.0.0-preview2-bin-hadoop3.2/jars/metrics-jmx-4.1.1.jar\n",
            "spark-3.0.0-preview2-bin-hadoop3.2/jars/machinist_2.12-0.6.8.jar\n",
            "spark-3.0.0-preview2-bin-hadoop3.2/jars/json-smart-2.3.jar\n",
            "spark-3.0.0-preview2-bin-hadoop3.2/jars/hive-llap-common-2.3.6.jar\n",
            "spark-3.0.0-preview2-bin-hadoop3.2/jars/okio-1.15.0.jar\n",
            "spark-3.0.0-preview2-bin-hadoop3.2/jars/derby-10.12.1.1.jar\n",
            "spark-3.0.0-preview2-bin-hadoop3.2/jars/jakarta.xml.bind-api-2.3.2.jar\n",
            "spark-3.0.0-preview2-bin-hadoop3.2/jars/spark-repl_2.12-3.0.0-preview2.jar\n",
            "spark-3.0.0-preview2-bin-hadoop3.2/jars/hadoop-yarn-common-3.2.0.jar\n",
            "spark-3.0.0-preview2-bin-hadoop3.2/jars/jackson-module-scala_2.12-2.10.0.jar\n",
            "spark-3.0.0-preview2-bin-hadoop3.2/jars/bonecp-0.8.0.RELEASE.jar\n",
            "spark-3.0.0-preview2-bin-hadoop3.2/jars/snakeyaml-1.24.jar\n",
            "spark-3.0.0-preview2-bin-hadoop3.2/jars/jersey-container-servlet-core-2.29.1.jar\n",
            "spark-3.0.0-preview2-bin-hadoop3.2/jars/macro-compat_2.12-1.1.1.jar\n",
            "spark-3.0.0-preview2-bin-hadoop3.2/jars/commons-math3-3.4.1.jar\n",
            "spark-3.0.0-preview2-bin-hadoop3.2/jars/oro-2.0.8.jar\n",
            "spark-3.0.0-preview2-bin-hadoop3.2/jars/lz4-java-1.7.0.jar\n",
            "spark-3.0.0-preview2-bin-hadoop3.2/jars/orc-mapreduce-1.5.8.jar\n",
            "spark-3.0.0-preview2-bin-hadoop3.2/jars/jackson-jaxrs-json-provider-2.9.5.jar\n",
            "spark-3.0.0-preview2-bin-hadoop3.2/jars/kerb-identity-1.0.1.jar\n",
            "spark-3.0.0-preview2-bin-hadoop3.2/jars/jackson-annotations-2.10.0.jar\n",
            "spark-3.0.0-preview2-bin-hadoop3.2/jars/chill_2.12-0.9.3.jar\n",
            "spark-3.0.0-preview2-bin-hadoop3.2/jars/jersey-client-2.29.1.jar\n",
            "spark-3.0.0-preview2-bin-hadoop3.2/jars/opencsv-2.3.jar\n",
            "spark-3.0.0-preview2-bin-hadoop3.2/jars/geronimo-jcache_1.0_spec-1.0-alpha-1.jar\n",
            "spark-3.0.0-preview2-bin-hadoop3.2/jars/spark-kvstore_2.12-3.0.0-preview2.jar\n",
            "spark-3.0.0-preview2-bin-hadoop3.2/jars/scala-compiler-2.12.10.jar\n",
            "spark-3.0.0-preview2-bin-hadoop3.2/jars/metrics-graphite-4.1.1.jar\n",
            "spark-3.0.0-preview2-bin-hadoop3.2/jars/hadoop-yarn-api-3.2.0.jar\n",
            "spark-3.0.0-preview2-bin-hadoop3.2/jars/arrow-format-0.15.1.jar\n",
            "spark-3.0.0-preview2-bin-hadoop3.2/jars/parquet-jackson-1.10.1.jar\n",
            "spark-3.0.0-preview2-bin-hadoop3.2/jars/generex-1.0.2.jar\n",
            "spark-3.0.0-preview2-bin-hadoop3.2/jars/spark-streaming_2.12-3.0.0-preview2.jar\n",
            "spark-3.0.0-preview2-bin-hadoop3.2/jars/parquet-encoding-1.10.1.jar\n",
            "spark-3.0.0-preview2-bin-hadoop3.2/jars/commons-pool-1.5.4.jar\n",
            "spark-3.0.0-preview2-bin-hadoop3.2/jars/javax.servlet-api-3.1.0.jar\n",
            "spark-3.0.0-preview2-bin-hadoop3.2/jars/avro-ipc-1.8.2.jar\n",
            "spark-3.0.0-preview2-bin-hadoop3.2/jars/jakarta.ws.rs-api-2.1.6.jar\n",
            "spark-3.0.0-preview2-bin-hadoop3.2/jars/jsp-api-2.1.jar\n",
            "spark-3.0.0-preview2-bin-hadoop3.2/jars/jakarta.annotation-api-1.3.5.jar\n",
            "spark-3.0.0-preview2-bin-hadoop3.2/jars/stream-2.9.6.jar\n",
            "spark-3.0.0-preview2-bin-hadoop3.2/jars/javax.inject-1.jar\n",
            "spark-3.0.0-preview2-bin-hadoop3.2/jars/JLargeArrays-1.5.jar\n",
            "spark-3.0.0-preview2-bin-hadoop3.2/jars/xz-1.5.jar\n",
            "spark-3.0.0-preview2-bin-hadoop3.2/jars/datanucleus-api-jdo-4.2.4.jar\n",
            "spark-3.0.0-preview2-bin-hadoop3.2/jars/jaxb-api-2.2.11.jar\n",
            "spark-3.0.0-preview2-bin-hadoop3.2/jars/orc-shims-1.5.8.jar\n",
            "spark-3.0.0-preview2-bin-hadoop3.2/jars/hadoop-mapreduce-client-common-3.2.0.jar\n",
            "spark-3.0.0-preview2-bin-hadoop3.2/jars/core-1.1.2.jar\n",
            "spark-3.0.0-preview2-bin-hadoop3.2/jars/commons-codec-1.10.jar\n",
            "spark-3.0.0-preview2-bin-hadoop3.2/jars/commons-logging-1.1.3.jar\n",
            "spark-3.0.0-preview2-bin-hadoop3.2/jars/aircompressor-0.10.jar\n",
            "spark-3.0.0-preview2-bin-hadoop3.2/jars/shapeless_2.12-2.3.3.jar\n",
            "spark-3.0.0-preview2-bin-hadoop3.2/jars/curator-recipes-2.13.0.jar\n",
            "spark-3.0.0-preview2-bin-hadoop3.2/jars/jline-2.14.6.jar\n",
            "spark-3.0.0-preview2-bin-hadoop3.2/jars/leveldbjni-all-1.8.jar\n",
            "spark-3.0.0-preview2-bin-hadoop3.2/jars/hive-shims-2.3.6.jar\n",
            "spark-3.0.0-preview2-bin-hadoop3.2/jars/commons-lang3-3.9.jar\n",
            "spark-3.0.0-preview2-bin-hadoop3.2/jars/spark-network-shuffle_2.12-3.0.0-preview2.jar\n",
            "spark-3.0.0-preview2-bin-hadoop3.2/jars/xbean-asm7-shaded-4.15.jar\n",
            "spark-3.0.0-preview2-bin-hadoop3.2/jars/okhttp-2.7.5.jar\n",
            "spark-3.0.0-preview2-bin-hadoop3.2/jars/jdo-api-3.0.1.jar\n",
            "spark-3.0.0-preview2-bin-hadoop3.2/jars/spark-cypher_2.12-3.0.0-preview2.jar\n",
            "spark-3.0.0-preview2-bin-hadoop3.2/jars/hive-jdbc-2.3.6.jar\n",
            "spark-3.0.0-preview2-bin-hadoop3.2/jars/commons-dbcp-1.4.jar\n",
            "spark-3.0.0-preview2-bin-hadoop3.2/jars/gson-2.2.4.jar\n",
            "spark-3.0.0-preview2-bin-hadoop3.2/jars/arpack_combined_all-0.1.jar\n",
            "spark-3.0.0-preview2-bin-hadoop3.2/jars/hadoop-yarn-registry-3.2.0.jar\n",
            "spark-3.0.0-preview2-bin-hadoop3.2/jars/janino-3.0.15.jar\n",
            "spark-3.0.0-preview2-bin-hadoop3.2/jars/hive-shims-common-2.3.6.jar\n",
            "spark-3.0.0-preview2-bin-hadoop3.2/jars/jodd-core-3.5.2.jar\n",
            "spark-3.0.0-preview2-bin-hadoop3.2/jars/antlr4-runtime-4.7.1.jar\n",
            "spark-3.0.0-preview2-bin-hadoop3.2/jars/datanucleus-rdbms-4.1.19.jar\n",
            "spark-3.0.0-preview2-bin-hadoop3.2/jars/kerb-admin-1.0.1.jar\n",
            "spark-3.0.0-preview2-bin-hadoop3.2/jars/hive-beeline-2.3.6.jar\n",
            "spark-3.0.0-preview2-bin-hadoop3.2/jars/jakarta.inject-2.6.1.jar\n",
            "spark-3.0.0-preview2-bin-hadoop3.2/jars/automaton-1.11-8.jar\n",
            "spark-3.0.0-preview2-bin-hadoop3.2/jars/spark-launcher_2.12-3.0.0-preview2.jar\n",
            "spark-3.0.0-preview2-bin-hadoop3.2/jars/guava-14.0.1.jar\n",
            "spark-3.0.0-preview2-bin-hadoop3.2/jars/commons-text-1.6.jar\n",
            "spark-3.0.0-preview2-bin-hadoop3.2/jars/hive-storage-api-2.6.0.jar\n",
            "spark-3.0.0-preview2-bin-hadoop3.2/jars/commons-beanutils-1.9.4.jar\n",
            "spark-3.0.0-preview2-bin-hadoop3.2/jars/commons-httpclient-3.1.jar\n",
            "spark-3.0.0-preview2-bin-hadoop3.2/NOTICE\n",
            "spark-3.0.0-preview2-bin-hadoop3.2/python/\n",
            "spark-3.0.0-preview2-bin-hadoop3.2/python/.gitignore\n",
            "spark-3.0.0-preview2-bin-hadoop3.2/python/pyspark/\n",
            "spark-3.0.0-preview2-bin-hadoop3.2/python/pyspark/heapq3.py\n",
            "spark-3.0.0-preview2-bin-hadoop3.2/python/pyspark/ml/\n",
            "spark-3.0.0-preview2-bin-hadoop3.2/python/pyspark/ml/tuning.py\n",
            "spark-3.0.0-preview2-bin-hadoop3.2/python/pyspark/ml/clustering.py\n",
            "spark-3.0.0-preview2-bin-hadoop3.2/python/pyspark/ml/wrapper.py\n",
            "spark-3.0.0-preview2-bin-hadoop3.2/python/pyspark/ml/util.py\n",
            "spark-3.0.0-preview2-bin-hadoop3.2/python/pyspark/ml/tests/\n",
            "spark-3.0.0-preview2-bin-hadoop3.2/python/pyspark/ml/tests/test_stat.py\n",
            "spark-3.0.0-preview2-bin-hadoop3.2/python/pyspark/ml/tests/test_persistence.py\n",
            "spark-3.0.0-preview2-bin-hadoop3.2/python/pyspark/ml/tests/__init__.py\n",
            "spark-3.0.0-preview2-bin-hadoop3.2/python/pyspark/ml/tests/test_linalg.py\n",
            "spark-3.0.0-preview2-bin-hadoop3.2/python/pyspark/ml/tests/test_training_summary.py\n",
            "spark-3.0.0-preview2-bin-hadoop3.2/python/pyspark/ml/tests/test_param.py\n",
            "spark-3.0.0-preview2-bin-hadoop3.2/python/pyspark/ml/tests/test_feature.py\n",
            "spark-3.0.0-preview2-bin-hadoop3.2/python/pyspark/ml/tests/test_image.py\n",
            "spark-3.0.0-preview2-bin-hadoop3.2/python/pyspark/ml/tests/test_evaluation.py\n",
            "spark-3.0.0-preview2-bin-hadoop3.2/python/pyspark/ml/tests/test_wrapper.py\n",
            "spark-3.0.0-preview2-bin-hadoop3.2/python/pyspark/ml/tests/test_pipeline.py\n",
            "spark-3.0.0-preview2-bin-hadoop3.2/python/pyspark/ml/tests/test_base.py\n",
            "spark-3.0.0-preview2-bin-hadoop3.2/python/pyspark/ml/tests/test_algorithms.py\n",
            "spark-3.0.0-preview2-bin-hadoop3.2/python/pyspark/ml/tests/test_tuning.py\n",
            "spark-3.0.0-preview2-bin-hadoop3.2/python/pyspark/ml/tree.py\n",
            "spark-3.0.0-preview2-bin-hadoop3.2/python/pyspark/ml/fpm.py\n",
            "spark-3.0.0-preview2-bin-hadoop3.2/python/pyspark/ml/__init__.py\n",
            "spark-3.0.0-preview2-bin-hadoop3.2/python/pyspark/ml/linalg/\n",
            "spark-3.0.0-preview2-bin-hadoop3.2/python/pyspark/ml/linalg/__init__.py\n",
            "spark-3.0.0-preview2-bin-hadoop3.2/python/pyspark/ml/base.py\n",
            "spark-3.0.0-preview2-bin-hadoop3.2/python/pyspark/ml/common.py\n",
            "spark-3.0.0-preview2-bin-hadoop3.2/python/pyspark/ml/evaluation.py\n",
            "spark-3.0.0-preview2-bin-hadoop3.2/python/pyspark/ml/classification.py\n",
            "spark-3.0.0-preview2-bin-hadoop3.2/python/pyspark/ml/param/\n",
            "spark-3.0.0-preview2-bin-hadoop3.2/python/pyspark/ml/param/shared.py\n",
            "spark-3.0.0-preview2-bin-hadoop3.2/python/pyspark/ml/param/__init__.py\n",
            "spark-3.0.0-preview2-bin-hadoop3.2/python/pyspark/ml/param/_shared_params_code_gen.py\n",
            "spark-3.0.0-preview2-bin-hadoop3.2/python/pyspark/ml/feature.py\n",
            "spark-3.0.0-preview2-bin-hadoop3.2/python/pyspark/ml/image.py\n",
            "spark-3.0.0-preview2-bin-hadoop3.2/python/pyspark/ml/pipeline.py\n",
            "spark-3.0.0-preview2-bin-hadoop3.2/python/pyspark/ml/recommendation.py\n",
            "spark-3.0.0-preview2-bin-hadoop3.2/python/pyspark/ml/stat.py\n",
            "spark-3.0.0-preview2-bin-hadoop3.2/python/pyspark/ml/regression.py\n",
            "spark-3.0.0-preview2-bin-hadoop3.2/python/pyspark/shuffle.py\n",
            "spark-3.0.0-preview2-bin-hadoop3.2/python/pyspark/streaming/\n",
            "spark-3.0.0-preview2-bin-hadoop3.2/python/pyspark/streaming/util.py\n",
            "spark-3.0.0-preview2-bin-hadoop3.2/python/pyspark/streaming/context.py\n",
            "spark-3.0.0-preview2-bin-hadoop3.2/python/pyspark/streaming/tests/\n",
            "spark-3.0.0-preview2-bin-hadoop3.2/python/pyspark/streaming/tests/test_dstream.py\n",
            "spark-3.0.0-preview2-bin-hadoop3.2/python/pyspark/streaming/tests/__init__.py\n",
            "spark-3.0.0-preview2-bin-hadoop3.2/python/pyspark/streaming/tests/test_context.py\n",
            "spark-3.0.0-preview2-bin-hadoop3.2/python/pyspark/streaming/tests/test_kinesis.py\n",
            "spark-3.0.0-preview2-bin-hadoop3.2/python/pyspark/streaming/tests/test_listener.py\n",
            "spark-3.0.0-preview2-bin-hadoop3.2/python/pyspark/streaming/kinesis.py\n",
            "spark-3.0.0-preview2-bin-hadoop3.2/python/pyspark/streaming/dstream.py\n",
            "spark-3.0.0-preview2-bin-hadoop3.2/python/pyspark/streaming/__init__.py\n",
            "spark-3.0.0-preview2-bin-hadoop3.2/python/pyspark/streaming/listener.py\n",
            "spark-3.0.0-preview2-bin-hadoop3.2/python/pyspark/util.py\n",
            "spark-3.0.0-preview2-bin-hadoop3.2/python/pyspark/rddsampler.py\n",
            "spark-3.0.0-preview2-bin-hadoop3.2/python/pyspark/context.py\n",
            "spark-3.0.0-preview2-bin-hadoop3.2/python/pyspark/rdd.py\n",
            "spark-3.0.0-preview2-bin-hadoop3.2/python/pyspark/tests/\n",
            "spark-3.0.0-preview2-bin-hadoop3.2/python/pyspark/tests/test_serializers.py\n",
            "spark-3.0.0-preview2-bin-hadoop3.2/python/pyspark/tests/test_profiler.py\n",
            "spark-3.0.0-preview2-bin-hadoop3.2/python/pyspark/tests/test_pin_thread.py\n",
            "spark-3.0.0-preview2-bin-hadoop3.2/python/pyspark/tests/test_util.py\n",
            "spark-3.0.0-preview2-bin-hadoop3.2/python/pyspark/tests/__init__.py\n",
            "spark-3.0.0-preview2-bin-hadoop3.2/python/pyspark/tests/test_join.py\n",
            "spark-3.0.0-preview2-bin-hadoop3.2/python/pyspark/tests/test_taskcontext.py\n",
            "spark-3.0.0-preview2-bin-hadoop3.2/python/pyspark/tests/test_rdd.py\n",
            "spark-3.0.0-preview2-bin-hadoop3.2/python/pyspark/tests/test_appsubmit.py\n",
            "spark-3.0.0-preview2-bin-hadoop3.2/python/pyspark/tests/test_context.py\n",
            "spark-3.0.0-preview2-bin-hadoop3.2/python/pyspark/tests/test_broadcast.py\n",
            "spark-3.0.0-preview2-bin-hadoop3.2/python/pyspark/tests/test_rddbarrier.py\n",
            "spark-3.0.0-preview2-bin-hadoop3.2/python/pyspark/tests/test_readwrite.py\n",
            "spark-3.0.0-preview2-bin-hadoop3.2/python/pyspark/tests/test_daemon.py\n",
            "spark-3.0.0-preview2-bin-hadoop3.2/python/pyspark/tests/test_worker.py\n",
            "spark-3.0.0-preview2-bin-hadoop3.2/python/pyspark/tests/test_conf.py\n",
            "spark-3.0.0-preview2-bin-hadoop3.2/python/pyspark/tests/test_shuffle.py\n",
            "spark-3.0.0-preview2-bin-hadoop3.2/python/pyspark/_globals.py\n",
            "spark-3.0.0-preview2-bin-hadoop3.2/python/pyspark/resultiterable.py\n",
            "spark-3.0.0-preview2-bin-hadoop3.2/python/pyspark/__init__.py\n",
            "spark-3.0.0-preview2-bin-hadoop3.2/python/pyspark/resourceinformation.py\n",
            "spark-3.0.0-preview2-bin-hadoop3.2/python/pyspark/find_spark_home.py\n",
            "spark-3.0.0-preview2-bin-hadoop3.2/python/pyspark/version.py\n",
            "spark-3.0.0-preview2-bin-hadoop3.2/python/pyspark/profiler.py\n",
            "spark-3.0.0-preview2-bin-hadoop3.2/python/pyspark/cloudpickle.py\n",
            "spark-3.0.0-preview2-bin-hadoop3.2/python/pyspark/statcounter.py\n",
            "spark-3.0.0-preview2-bin-hadoop3.2/python/pyspark/status.py\n",
            "spark-3.0.0-preview2-bin-hadoop3.2/python/pyspark/sql/\n",
            "spark-3.0.0-preview2-bin-hadoop3.2/python/pyspark/sql/context.py\n",
            "spark-3.0.0-preview2-bin-hadoop3.2/python/pyspark/sql/functions.py\n",
            "spark-3.0.0-preview2-bin-hadoop3.2/python/pyspark/sql/tests/\n",
            "spark-3.0.0-preview2-bin-hadoop3.2/python/pyspark/sql/tests/test_udf.py\n",
            "spark-3.0.0-preview2-bin-hadoop3.2/python/pyspark/sql/tests/test_pandas_udf_cogrouped_map.py\n",
            "spark-3.0.0-preview2-bin-hadoop3.2/python/pyspark/sql/tests/test_pandas_udf_window.py\n",
            "spark-3.0.0-preview2-bin-hadoop3.2/python/pyspark/sql/tests/__init__.py\n",
            "spark-3.0.0-preview2-bin-hadoop3.2/python/pyspark/sql/tests/test_arrow.py\n",
            "spark-3.0.0-preview2-bin-hadoop3.2/python/pyspark/sql/tests/test_dataframe.py\n",
            "spark-3.0.0-preview2-bin-hadoop3.2/python/pyspark/sql/tests/test_functions.py\n",
            "spark-3.0.0-preview2-bin-hadoop3.2/python/pyspark/sql/tests/test_pandas_udf.py\n",
            "spark-3.0.0-preview2-bin-hadoop3.2/python/pyspark/sql/tests/test_pandas_udf_iter.py\n",
            "spark-3.0.0-preview2-bin-hadoop3.2/python/pyspark/sql/tests/test_context.py\n",
            "spark-3.0.0-preview2-bin-hadoop3.2/python/pyspark/sql/tests/test_group.py\n",
            "spark-3.0.0-preview2-bin-hadoop3.2/python/pyspark/sql/tests/test_datasources.py\n",
            "spark-3.0.0-preview2-bin-hadoop3.2/python/pyspark/sql/tests/test_catalog.py\n",
            "spark-3.0.0-preview2-bin-hadoop3.2/python/pyspark/sql/tests/test_serde.py\n",
            "spark-3.0.0-preview2-bin-hadoop3.2/python/pyspark/sql/tests/test_readwriter.py\n",
            "spark-3.0.0-preview2-bin-hadoop3.2/python/pyspark/sql/tests/test_pandas_udf_scalar.py\n",
            "spark-3.0.0-preview2-bin-hadoop3.2/python/pyspark/sql/tests/test_types.py\n",
            "spark-3.0.0-preview2-bin-hadoop3.2/python/pyspark/sql/tests/test_streaming.py\n",
            "spark-3.0.0-preview2-bin-hadoop3.2/python/pyspark/sql/tests/test_conf.py\n",
            "spark-3.0.0-preview2-bin-hadoop3.2/python/pyspark/sql/tests/test_utils.py\n",
            "spark-3.0.0-preview2-bin-hadoop3.2/python/pyspark/sql/tests/test_pandas_udf_grouped_agg.py\n",
            "spark-3.0.0-preview2-bin-hadoop3.2/python/pyspark/sql/tests/test_session.py\n",
            "spark-3.0.0-preview2-bin-hadoop3.2/python/pyspark/sql/tests/test_column.py\n",
            "spark-3.0.0-preview2-bin-hadoop3.2/python/pyspark/sql/tests/test_pandas_udf_grouped_map.py\n",
            "spark-3.0.0-preview2-bin-hadoop3.2/python/pyspark/sql/dataframe.py\n",
            "spark-3.0.0-preview2-bin-hadoop3.2/python/pyspark/sql/group.py\n",
            "spark-3.0.0-preview2-bin-hadoop3.2/python/pyspark/sql/utils.py\n",
            "spark-3.0.0-preview2-bin-hadoop3.2/python/pyspark/sql/__init__.py\n",
            "spark-3.0.0-preview2-bin-hadoop3.2/python/pyspark/sql/types.py\n",
            "spark-3.0.0-preview2-bin-hadoop3.2/python/pyspark/sql/catalog.py\n",
            "spark-3.0.0-preview2-bin-hadoop3.2/python/pyspark/sql/streaming.py\n",
            "spark-3.0.0-preview2-bin-hadoop3.2/python/pyspark/sql/window.py\n",
            "spark-3.0.0-preview2-bin-hadoop3.2/python/pyspark/sql/avro/\n",
            "spark-3.0.0-preview2-bin-hadoop3.2/python/pyspark/sql/avro/functions.py\n",
            "spark-3.0.0-preview2-bin-hadoop3.2/python/pyspark/sql/avro/__init__.py\n",
            "spark-3.0.0-preview2-bin-hadoop3.2/python/pyspark/sql/readwriter.py\n",
            "spark-3.0.0-preview2-bin-hadoop3.2/python/pyspark/sql/conf.py\n",
            "spark-3.0.0-preview2-bin-hadoop3.2/python/pyspark/sql/column.py\n",
            "spark-3.0.0-preview2-bin-hadoop3.2/python/pyspark/sql/udf.py\n",
            "spark-3.0.0-preview2-bin-hadoop3.2/python/pyspark/sql/session.py\n",
            "spark-3.0.0-preview2-bin-hadoop3.2/python/pyspark/sql/cogroup.py\n",
            "spark-3.0.0-preview2-bin-hadoop3.2/python/pyspark/mllib/\n",
            "spark-3.0.0-preview2-bin-hadoop3.2/python/pyspark/mllib/clustering.py\n",
            "spark-3.0.0-preview2-bin-hadoop3.2/python/pyspark/mllib/util.py\n",
            "spark-3.0.0-preview2-bin-hadoop3.2/python/pyspark/mllib/tests/\n",
            "spark-3.0.0-preview2-bin-hadoop3.2/python/pyspark/mllib/tests/test_stat.py\n",
            "spark-3.0.0-preview2-bin-hadoop3.2/python/pyspark/mllib/tests/test_util.py\n",
            "spark-3.0.0-preview2-bin-hadoop3.2/python/pyspark/mllib/tests/__init__.py\n",
            "spark-3.0.0-preview2-bin-hadoop3.2/python/pyspark/mllib/tests/test_linalg.py\n",
            "spark-3.0.0-preview2-bin-hadoop3.2/python/pyspark/mllib/tests/test_feature.py\n",
            "spark-3.0.0-preview2-bin-hadoop3.2/python/pyspark/mllib/tests/test_streaming_algorithms.py\n",
            "spark-3.0.0-preview2-bin-hadoop3.2/python/pyspark/mllib/tests/test_algorithms.py\n",
            "spark-3.0.0-preview2-bin-hadoop3.2/python/pyspark/mllib/tree.py\n",
            "spark-3.0.0-preview2-bin-hadoop3.2/python/pyspark/mllib/fpm.py\n",
            "spark-3.0.0-preview2-bin-hadoop3.2/python/pyspark/mllib/__init__.py\n",
            "spark-3.0.0-preview2-bin-hadoop3.2/python/pyspark/mllib/linalg/\n",
            "spark-3.0.0-preview2-bin-hadoop3.2/python/pyspark/mllib/linalg/__init__.py\n",
            "spark-3.0.0-preview2-bin-hadoop3.2/python/pyspark/mllib/linalg/distributed.py\n",
            "spark-3.0.0-preview2-bin-hadoop3.2/python/pyspark/mllib/common.py\n",
            "spark-3.0.0-preview2-bin-hadoop3.2/python/pyspark/mllib/random.py\n",
            "spark-3.0.0-preview2-bin-hadoop3.2/python/pyspark/mllib/evaluation.py\n",
            "spark-3.0.0-preview2-bin-hadoop3.2/python/pyspark/mllib/classification.py\n",
            "spark-3.0.0-preview2-bin-hadoop3.2/python/pyspark/mllib/feature.py\n",
            "spark-3.0.0-preview2-bin-hadoop3.2/python/pyspark/mllib/recommendation.py\n",
            "spark-3.0.0-preview2-bin-hadoop3.2/python/pyspark/mllib/stat/\n",
            "spark-3.0.0-preview2-bin-hadoop3.2/python/pyspark/mllib/stat/KernelDensity.py\n",
            "spark-3.0.0-preview2-bin-hadoop3.2/python/pyspark/mllib/stat/__init__.py\n",
            "spark-3.0.0-preview2-bin-hadoop3.2/python/pyspark/mllib/stat/test.py\n",
            "spark-3.0.0-preview2-bin-hadoop3.2/python/pyspark/mllib/stat/distribution.py\n",
            "spark-3.0.0-preview2-bin-hadoop3.2/python/pyspark/mllib/stat/_statistics.py\n",
            "spark-3.0.0-preview2-bin-hadoop3.2/python/pyspark/mllib/regression.py\n",
            "spark-3.0.0-preview2-bin-hadoop3.2/python/pyspark/taskcontext.py\n",
            "spark-3.0.0-preview2-bin-hadoop3.2/python/pyspark/serializers.py\n",
            "spark-3.0.0-preview2-bin-hadoop3.2/python/pyspark/conf.py\n",
            "spark-3.0.0-preview2-bin-hadoop3.2/python/pyspark/traceback_utils.py\n",
            "spark-3.0.0-preview2-bin-hadoop3.2/python/pyspark/storagelevel.py\n",
            "spark-3.0.0-preview2-bin-hadoop3.2/python/pyspark/worker.py\n",
            "spark-3.0.0-preview2-bin-hadoop3.2/python/pyspark/testing/\n",
            "spark-3.0.0-preview2-bin-hadoop3.2/python/pyspark/testing/sqlutils.py\n",
            "spark-3.0.0-preview2-bin-hadoop3.2/python/pyspark/testing/streamingutils.py\n",
            "spark-3.0.0-preview2-bin-hadoop3.2/python/pyspark/testing/utils.py\n",
            "spark-3.0.0-preview2-bin-hadoop3.2/python/pyspark/testing/__init__.py\n",
            "spark-3.0.0-preview2-bin-hadoop3.2/python/pyspark/testing/mlutils.py\n",
            "spark-3.0.0-preview2-bin-hadoop3.2/python/pyspark/testing/mllibutils.py\n",
            "spark-3.0.0-preview2-bin-hadoop3.2/python/pyspark/java_gateway.py\n",
            "spark-3.0.0-preview2-bin-hadoop3.2/python/pyspark/broadcast.py\n",
            "spark-3.0.0-preview2-bin-hadoop3.2/python/pyspark/join.py\n",
            "spark-3.0.0-preview2-bin-hadoop3.2/python/pyspark/files.py\n",
            "spark-3.0.0-preview2-bin-hadoop3.2/python/pyspark/accumulators.py\n",
            "spark-3.0.0-preview2-bin-hadoop3.2/python/pyspark/daemon.py\n",
            "spark-3.0.0-preview2-bin-hadoop3.2/python/pyspark/shell.py\n",
            "spark-3.0.0-preview2-bin-hadoop3.2/python/lib/\n",
            "spark-3.0.0-preview2-bin-hadoop3.2/python/lib/pyspark.zip\n",
            "spark-3.0.0-preview2-bin-hadoop3.2/python/lib/py4j-0.10.8.1-src.zip\n",
            "spark-3.0.0-preview2-bin-hadoop3.2/python/lib/PY4J_LICENSE.txt\n",
            "spark-3.0.0-preview2-bin-hadoop3.2/python/test_support/\n",
            "spark-3.0.0-preview2-bin-hadoop3.2/python/test_support/hello/\n",
            "spark-3.0.0-preview2-bin-hadoop3.2/python/test_support/hello/hello.txt\n",
            "spark-3.0.0-preview2-bin-hadoop3.2/python/test_support/hello/sub_hello/\n",
            "spark-3.0.0-preview2-bin-hadoop3.2/python/test_support/hello/sub_hello/sub_hello.txt\n",
            "spark-3.0.0-preview2-bin-hadoop3.2/python/test_support/userlib-0.1.zip\n",
            "spark-3.0.0-preview2-bin-hadoop3.2/python/test_support/sql/\n",
            "spark-3.0.0-preview2-bin-hadoop3.2/python/test_support/sql/streaming/\n",
            "spark-3.0.0-preview2-bin-hadoop3.2/python/test_support/sql/streaming/text-test.txt\n",
            "spark-3.0.0-preview2-bin-hadoop3.2/python/test_support/sql/people.json\n",
            "spark-3.0.0-preview2-bin-hadoop3.2/python/test_support/sql/people_array_utf16le.json\n",
            "spark-3.0.0-preview2-bin-hadoop3.2/python/test_support/sql/ages.csv\n",
            "spark-3.0.0-preview2-bin-hadoop3.2/python/test_support/sql/ages_newlines.csv\n",
            "spark-3.0.0-preview2-bin-hadoop3.2/python/test_support/sql/people1.json\n",
            "spark-3.0.0-preview2-bin-hadoop3.2/python/test_support/sql/people_array.json\n",
            "spark-3.0.0-preview2-bin-hadoop3.2/python/test_support/sql/text-test.txt\n",
            "spark-3.0.0-preview2-bin-hadoop3.2/python/test_support/sql/parquet_partitioned/\n",
            "spark-3.0.0-preview2-bin-hadoop3.2/python/test_support/sql/parquet_partitioned/_SUCCESS\n",
            "spark-3.0.0-preview2-bin-hadoop3.2/python/test_support/sql/parquet_partitioned/_metadata\n",
            "spark-3.0.0-preview2-bin-hadoop3.2/python/test_support/sql/parquet_partitioned/year=2014/\n",
            "spark-3.0.0-preview2-bin-hadoop3.2/python/test_support/sql/parquet_partitioned/year=2014/month=9/\n",
            "spark-3.0.0-preview2-bin-hadoop3.2/python/test_support/sql/parquet_partitioned/year=2014/month=9/day=1/\n",
            "spark-3.0.0-preview2-bin-hadoop3.2/python/test_support/sql/parquet_partitioned/year=2014/month=9/day=1/part-r-00008.gz.parquet\n",
            "spark-3.0.0-preview2-bin-hadoop3.2/python/test_support/sql/parquet_partitioned/year=2014/month=9/day=1/.part-r-00008.gz.parquet.crc\n",
            "spark-3.0.0-preview2-bin-hadoop3.2/python/test_support/sql/parquet_partitioned/_common_metadata\n",
            "spark-3.0.0-preview2-bin-hadoop3.2/python/test_support/sql/parquet_partitioned/year=2015/\n",
            "spark-3.0.0-preview2-bin-hadoop3.2/python/test_support/sql/parquet_partitioned/year=2015/month=10/\n",
            "spark-3.0.0-preview2-bin-hadoop3.2/python/test_support/sql/parquet_partitioned/year=2015/month=10/day=25/\n",
            "spark-3.0.0-preview2-bin-hadoop3.2/python/test_support/sql/parquet_partitioned/year=2015/month=10/day=25/part-r-00002.gz.parquet\n",
            "spark-3.0.0-preview2-bin-hadoop3.2/python/test_support/sql/parquet_partitioned/year=2015/month=10/day=25/part-r-00004.gz.parquet\n",
            "spark-3.0.0-preview2-bin-hadoop3.2/python/test_support/sql/parquet_partitioned/year=2015/month=10/day=25/.part-r-00004.gz.parquet.crc\n",
            "spark-3.0.0-preview2-bin-hadoop3.2/python/test_support/sql/parquet_partitioned/year=2015/month=10/day=25/.part-r-00002.gz.parquet.crc\n",
            "spark-3.0.0-preview2-bin-hadoop3.2/python/test_support/sql/parquet_partitioned/year=2015/month=10/day=26/\n",
            "spark-3.0.0-preview2-bin-hadoop3.2/python/test_support/sql/parquet_partitioned/year=2015/month=10/day=26/.part-r-00005.gz.parquet.crc\n",
            "spark-3.0.0-preview2-bin-hadoop3.2/python/test_support/sql/parquet_partitioned/year=2015/month=10/day=26/part-r-00005.gz.parquet\n",
            "spark-3.0.0-preview2-bin-hadoop3.2/python/test_support/sql/parquet_partitioned/year=2015/month=9/\n",
            "spark-3.0.0-preview2-bin-hadoop3.2/python/test_support/sql/parquet_partitioned/year=2015/month=9/day=1/\n",
            "spark-3.0.0-preview2-bin-hadoop3.2/python/test_support/sql/parquet_partitioned/year=2015/month=9/day=1/part-r-00007.gz.parquet\n",
            "spark-3.0.0-preview2-bin-hadoop3.2/python/test_support/sql/parquet_partitioned/year=2015/month=9/day=1/.part-r-00007.gz.parquet.crc\n",
            "spark-3.0.0-preview2-bin-hadoop3.2/python/test_support/sql/orc_partitioned/\n",
            "spark-3.0.0-preview2-bin-hadoop3.2/python/test_support/sql/orc_partitioned/b=1/\n",
            "spark-3.0.0-preview2-bin-hadoop3.2/python/test_support/sql/orc_partitioned/b=1/c=1/\n",
            "spark-3.0.0-preview2-bin-hadoop3.2/python/test_support/sql/orc_partitioned/b=1/c=1/.part-r-00000-829af031-b970-49d6-ad39-30460a0be2c8.orc.crc\n",
            "spark-3.0.0-preview2-bin-hadoop3.2/python/test_support/sql/orc_partitioned/b=1/c=1/part-r-00000-829af031-b970-49d6-ad39-30460a0be2c8.orc\n",
            "spark-3.0.0-preview2-bin-hadoop3.2/python/test_support/sql/orc_partitioned/_SUCCESS\n",
            "spark-3.0.0-preview2-bin-hadoop3.2/python/test_support/sql/orc_partitioned/b=0/\n",
            "spark-3.0.0-preview2-bin-hadoop3.2/python/test_support/sql/orc_partitioned/b=0/c=0/\n",
            "spark-3.0.0-preview2-bin-hadoop3.2/python/test_support/sql/orc_partitioned/b=0/c=0/.part-r-00000-829af031-b970-49d6-ad39-30460a0be2c8.orc.crc\n",
            "spark-3.0.0-preview2-bin-hadoop3.2/python/test_support/sql/orc_partitioned/b=0/c=0/part-r-00000-829af031-b970-49d6-ad39-30460a0be2c8.orc\n",
            "spark-3.0.0-preview2-bin-hadoop3.2/python/test_support/userlibrary.py\n",
            "spark-3.0.0-preview2-bin-hadoop3.2/python/test_support/SimpleHTTPServer.py\n",
            "spark-3.0.0-preview2-bin-hadoop3.2/python/test_coverage/\n",
            "spark-3.0.0-preview2-bin-hadoop3.2/python/test_coverage/conf/\n",
            "spark-3.0.0-preview2-bin-hadoop3.2/python/test_coverage/conf/spark-defaults.conf\n",
            "spark-3.0.0-preview2-bin-hadoop3.2/python/test_coverage/sitecustomize.py\n",
            "spark-3.0.0-preview2-bin-hadoop3.2/python/test_coverage/coverage_daemon.py\n",
            "spark-3.0.0-preview2-bin-hadoop3.2/python/run-tests\n",
            "spark-3.0.0-preview2-bin-hadoop3.2/python/setup.cfg\n",
            "spark-3.0.0-preview2-bin-hadoop3.2/python/run-tests.py\n",
            "spark-3.0.0-preview2-bin-hadoop3.2/python/pylintrc\n",
            "spark-3.0.0-preview2-bin-hadoop3.2/python/run-tests-with-coverage\n",
            "spark-3.0.0-preview2-bin-hadoop3.2/python/README.md\n",
            "spark-3.0.0-preview2-bin-hadoop3.2/python/.coveragerc\n",
            "spark-3.0.0-preview2-bin-hadoop3.2/python/docs/\n",
            "spark-3.0.0-preview2-bin-hadoop3.2/python/docs/_static/\n",
            "spark-3.0.0-preview2-bin-hadoop3.2/python/docs/_static/copybutton.js\n",
            "spark-3.0.0-preview2-bin-hadoop3.2/python/docs/_static/pyspark.js\n",
            "spark-3.0.0-preview2-bin-hadoop3.2/python/docs/_static/pyspark.css\n",
            "spark-3.0.0-preview2-bin-hadoop3.2/python/docs/pyspark.ml.rst\n",
            "spark-3.0.0-preview2-bin-hadoop3.2/python/docs/_templates/\n",
            "spark-3.0.0-preview2-bin-hadoop3.2/python/docs/_templates/layout.html\n",
            "spark-3.0.0-preview2-bin-hadoop3.2/python/docs/pyspark.sql.rst\n",
            "spark-3.0.0-preview2-bin-hadoop3.2/python/docs/make.bat\n",
            "spark-3.0.0-preview2-bin-hadoop3.2/python/docs/Makefile\n",
            "spark-3.0.0-preview2-bin-hadoop3.2/python/docs/conf.py\n",
            "spark-3.0.0-preview2-bin-hadoop3.2/python/docs/make2.bat\n",
            "spark-3.0.0-preview2-bin-hadoop3.2/python/docs/index.rst\n",
            "spark-3.0.0-preview2-bin-hadoop3.2/python/docs/pyspark.mllib.rst\n",
            "spark-3.0.0-preview2-bin-hadoop3.2/python/docs/pyspark.streaming.rst\n",
            "spark-3.0.0-preview2-bin-hadoop3.2/python/docs/pyspark.rst\n",
            "spark-3.0.0-preview2-bin-hadoop3.2/python/MANIFEST.in\n",
            "spark-3.0.0-preview2-bin-hadoop3.2/python/setup.py\n",
            "spark-3.0.0-preview2-bin-hadoop3.2/bin/\n",
            "spark-3.0.0-preview2-bin-hadoop3.2/bin/spark-submit.cmd\n",
            "spark-3.0.0-preview2-bin-hadoop3.2/bin/pyspark.cmd\n",
            "spark-3.0.0-preview2-bin-hadoop3.2/bin/spark-sql\n",
            "spark-3.0.0-preview2-bin-hadoop3.2/bin/beeline\n",
            "spark-3.0.0-preview2-bin-hadoop3.2/bin/pyspark\n",
            "spark-3.0.0-preview2-bin-hadoop3.2/bin/load-spark-env.sh\n",
            "spark-3.0.0-preview2-bin-hadoop3.2/bin/load-spark-env.cmd\n",
            "spark-3.0.0-preview2-bin-hadoop3.2/bin/spark-submit\n",
            "spark-3.0.0-preview2-bin-hadoop3.2/bin/run-example.cmd\n",
            "spark-3.0.0-preview2-bin-hadoop3.2/bin/find-spark-home.cmd\n",
            "spark-3.0.0-preview2-bin-hadoop3.2/bin/spark-shell2.cmd\n",
            "spark-3.0.0-preview2-bin-hadoop3.2/bin/docker-image-tool.sh\n",
            "spark-3.0.0-preview2-bin-hadoop3.2/bin/sparkR2.cmd\n",
            "spark-3.0.0-preview2-bin-hadoop3.2/bin/sparkR\n",
            "spark-3.0.0-preview2-bin-hadoop3.2/bin/find-spark-home\n",
            "spark-3.0.0-preview2-bin-hadoop3.2/bin/spark-shell.cmd\n",
            "spark-3.0.0-preview2-bin-hadoop3.2/bin/spark-submit2.cmd\n",
            "spark-3.0.0-preview2-bin-hadoop3.2/bin/spark-class2.cmd\n",
            "spark-3.0.0-preview2-bin-hadoop3.2/bin/spark-sql2.cmd\n",
            "spark-3.0.0-preview2-bin-hadoop3.2/bin/spark-class\n",
            "spark-3.0.0-preview2-bin-hadoop3.2/bin/spark-sql.cmd\n",
            "spark-3.0.0-preview2-bin-hadoop3.2/bin/pyspark2.cmd\n",
            "spark-3.0.0-preview2-bin-hadoop3.2/bin/beeline.cmd\n",
            "spark-3.0.0-preview2-bin-hadoop3.2/bin/run-example\n",
            "spark-3.0.0-preview2-bin-hadoop3.2/bin/spark-shell\n",
            "spark-3.0.0-preview2-bin-hadoop3.2/bin/spark-class.cmd\n",
            "spark-3.0.0-preview2-bin-hadoop3.2/bin/sparkR.cmd\n",
            "spark-3.0.0-preview2-bin-hadoop3.2/sbin/\n",
            "spark-3.0.0-preview2-bin-hadoop3.2/sbin/stop-slave.sh\n",
            "spark-3.0.0-preview2-bin-hadoop3.2/sbin/start-history-server.sh\n",
            "spark-3.0.0-preview2-bin-hadoop3.2/sbin/stop-slaves.sh\n",
            "spark-3.0.0-preview2-bin-hadoop3.2/sbin/stop-history-server.sh\n",
            "spark-3.0.0-preview2-bin-hadoop3.2/sbin/start-thriftserver.sh\n",
            "spark-3.0.0-preview2-bin-hadoop3.2/sbin/start-mesos-shuffle-service.sh\n",
            "spark-3.0.0-preview2-bin-hadoop3.2/sbin/start-master.sh\n",
            "spark-3.0.0-preview2-bin-hadoop3.2/sbin/stop-master.sh\n",
            "spark-3.0.0-preview2-bin-hadoop3.2/sbin/stop-mesos-dispatcher.sh\n",
            "spark-3.0.0-preview2-bin-hadoop3.2/sbin/start-slave.sh\n",
            "spark-3.0.0-preview2-bin-hadoop3.2/sbin/start-mesos-dispatcher.sh\n",
            "spark-3.0.0-preview2-bin-hadoop3.2/sbin/start-slaves.sh\n",
            "spark-3.0.0-preview2-bin-hadoop3.2/sbin/stop-mesos-shuffle-service.sh\n",
            "spark-3.0.0-preview2-bin-hadoop3.2/sbin/stop-all.sh\n",
            "spark-3.0.0-preview2-bin-hadoop3.2/sbin/slaves.sh\n",
            "spark-3.0.0-preview2-bin-hadoop3.2/sbin/spark-daemons.sh\n",
            "spark-3.0.0-preview2-bin-hadoop3.2/sbin/start-all.sh\n",
            "spark-3.0.0-preview2-bin-hadoop3.2/sbin/spark-daemon.sh\n",
            "spark-3.0.0-preview2-bin-hadoop3.2/sbin/stop-thriftserver.sh\n",
            "spark-3.0.0-preview2-bin-hadoop3.2/sbin/spark-config.sh\n",
            "spark-3.0.0-preview2-bin-hadoop3.2/RELEASE\n",
            "spark-3.0.0-preview2-bin-hadoop3.2/README.md\n",
            "spark-3.0.0-preview2-bin-hadoop3.2/yarn/\n",
            "spark-3.0.0-preview2-bin-hadoop3.2/yarn/spark-3.0.0-preview2-yarn-shuffle.jar\n",
            "spark-3.0.0-preview2-bin-hadoop3.2/LICENSE\n",
            "spark-3.0.0-preview2-bin-hadoop3.2/R/\n",
            "spark-3.0.0-preview2-bin-hadoop3.2/R/lib/\n",
            "spark-3.0.0-preview2-bin-hadoop3.2/R/lib/SparkR/\n",
            "spark-3.0.0-preview2-bin-hadoop3.2/R/lib/SparkR/tests/\n",
            "spark-3.0.0-preview2-bin-hadoop3.2/R/lib/SparkR/tests/testthat/\n",
            "spark-3.0.0-preview2-bin-hadoop3.2/R/lib/SparkR/tests/testthat/test_basic.R\n",
            "spark-3.0.0-preview2-bin-hadoop3.2/R/lib/SparkR/INDEX\n",
            "spark-3.0.0-preview2-bin-hadoop3.2/R/lib/SparkR/help/\n",
            "spark-3.0.0-preview2-bin-hadoop3.2/R/lib/SparkR/help/SparkR.rdb\n",
            "spark-3.0.0-preview2-bin-hadoop3.2/R/lib/SparkR/help/SparkR.rdx\n",
            "spark-3.0.0-preview2-bin-hadoop3.2/R/lib/SparkR/help/paths.rds\n",
            "spark-3.0.0-preview2-bin-hadoop3.2/R/lib/SparkR/help/aliases.rds\n",
            "spark-3.0.0-preview2-bin-hadoop3.2/R/lib/SparkR/help/AnIndex\n",
            "spark-3.0.0-preview2-bin-hadoop3.2/R/lib/SparkR/worker/\n",
            "spark-3.0.0-preview2-bin-hadoop3.2/R/lib/SparkR/worker/daemon.R\n",
            "spark-3.0.0-preview2-bin-hadoop3.2/R/lib/SparkR/worker/worker.R\n",
            "spark-3.0.0-preview2-bin-hadoop3.2/R/lib/SparkR/html/\n",
            "spark-3.0.0-preview2-bin-hadoop3.2/R/lib/SparkR/html/00Index.html\n",
            "spark-3.0.0-preview2-bin-hadoop3.2/R/lib/SparkR/html/R.css\n",
            "spark-3.0.0-preview2-bin-hadoop3.2/R/lib/SparkR/Meta/\n",
            "spark-3.0.0-preview2-bin-hadoop3.2/R/lib/SparkR/Meta/hsearch.rds\n",
            "spark-3.0.0-preview2-bin-hadoop3.2/R/lib/SparkR/Meta/package.rds\n",
            "spark-3.0.0-preview2-bin-hadoop3.2/R/lib/SparkR/Meta/nsInfo.rds\n",
            "spark-3.0.0-preview2-bin-hadoop3.2/R/lib/SparkR/Meta/links.rds\n",
            "spark-3.0.0-preview2-bin-hadoop3.2/R/lib/SparkR/Meta/features.rds\n",
            "spark-3.0.0-preview2-bin-hadoop3.2/R/lib/SparkR/Meta/Rd.rds\n",
            "spark-3.0.0-preview2-bin-hadoop3.2/R/lib/SparkR/NAMESPACE\n",
            "spark-3.0.0-preview2-bin-hadoop3.2/R/lib/SparkR/profile/\n",
            "spark-3.0.0-preview2-bin-hadoop3.2/R/lib/SparkR/profile/general.R\n",
            "spark-3.0.0-preview2-bin-hadoop3.2/R/lib/SparkR/profile/shell.R\n",
            "spark-3.0.0-preview2-bin-hadoop3.2/R/lib/SparkR/DESCRIPTION\n",
            "spark-3.0.0-preview2-bin-hadoop3.2/R/lib/SparkR/R/\n",
            "spark-3.0.0-preview2-bin-hadoop3.2/R/lib/SparkR/R/SparkR.rdb\n",
            "spark-3.0.0-preview2-bin-hadoop3.2/R/lib/SparkR/R/SparkR\n",
            "spark-3.0.0-preview2-bin-hadoop3.2/R/lib/SparkR/R/SparkR.rdx\n",
            "spark-3.0.0-preview2-bin-hadoop3.2/R/lib/sparkr.zip\n",
            "spark-3.0.0-preview2-bin-hadoop3.2/kubernetes/\n",
            "spark-3.0.0-preview2-bin-hadoop3.2/kubernetes/tests/\n",
            "spark-3.0.0-preview2-bin-hadoop3.2/kubernetes/tests/worker_memory_check.py\n",
            "spark-3.0.0-preview2-bin-hadoop3.2/kubernetes/tests/py_container_checks.py\n",
            "spark-3.0.0-preview2-bin-hadoop3.2/kubernetes/tests/pyfiles.py\n",
            "spark-3.0.0-preview2-bin-hadoop3.2/kubernetes/dockerfiles/\n",
            "spark-3.0.0-preview2-bin-hadoop3.2/kubernetes/dockerfiles/spark/\n",
            "spark-3.0.0-preview2-bin-hadoop3.2/kubernetes/dockerfiles/spark/entrypoint.sh\n",
            "spark-3.0.0-preview2-bin-hadoop3.2/kubernetes/dockerfiles/spark/bindings/\n",
            "spark-3.0.0-preview2-bin-hadoop3.2/kubernetes/dockerfiles/spark/bindings/python/\n",
            "spark-3.0.0-preview2-bin-hadoop3.2/kubernetes/dockerfiles/spark/bindings/python/Dockerfile\n",
            "spark-3.0.0-preview2-bin-hadoop3.2/kubernetes/dockerfiles/spark/bindings/R/\n",
            "spark-3.0.0-preview2-bin-hadoop3.2/kubernetes/dockerfiles/spark/bindings/R/Dockerfile\n",
            "spark-3.0.0-preview2-bin-hadoop3.2/kubernetes/dockerfiles/spark/Dockerfile\n"
          ],
          "name": "stdout"
        }
      ]
    },
    {
      "cell_type": "code",
      "metadata": {
        "id": "2BF00CPCVQx_",
        "colab_type": "code",
        "colab": {
          "base_uri": "https://localhost:8080/",
          "height": 54
        },
        "outputId": "20cf8981-429e-40f0-f1c8-4e3f7ce0fab5"
      },
      "source": [
        "!ls /usr/lib/jvm/"
      ],
      "execution_count": 3,
      "outputs": [
        {
          "output_type": "stream",
          "text": [
            "default-java\t\t   java-11-openjdk-amd64     java-8-openjdk-amd64\n",
            "java-1.11.0-openjdk-amd64  java-1.8.0-openjdk-amd64\n"
          ],
          "name": "stdout"
        }
      ]
    },
    {
      "cell_type": "code",
      "metadata": {
        "id": "TdSPizSDVBKd",
        "colab_type": "code",
        "colab": {}
      },
      "source": [
        "# 3. Start Spark Session\n",
        "import findspark\n",
        "findspark.init()\n",
        "from pyspark.sql import SparkSession\n",
        "spark = SparkSession.builder.master(\"local[*]\").getOrCreate()"
      ],
      "execution_count": 0,
      "outputs": []
    },
    {
      "cell_type": "code",
      "metadata": {
        "id": "etWvT8BVVS2v",
        "colab_type": "code",
        "colab": {}
      },
      "source": [
        "import sys,tempfile, urllib\n",
        "from pyspark.sql.functions import *"
      ],
      "execution_count": 0,
      "outputs": []
    },
    {
      "cell_type": "code",
      "metadata": {
        "id": "cVGIjGnmVajy",
        "colab_type": "code",
        "colab": {
          "base_uri": "https://localhost:8080/",
          "height": 54
        },
        "outputId": "10361271-7590-406b-9600-4977ad40ad02"
      },
      "source": [
        "!ls"
      ],
      "execution_count": 5,
      "outputs": [
        {
          "output_type": "stream",
          "text": [
            "sample_data\t\t\t    spark-3.0.0-preview2-bin-hadoop3.2.tgz\n",
            "spark-3.0.0-preview2-bin-hadoop3.2\n"
          ],
          "name": "stdout"
        }
      ]
    },
    {
      "cell_type": "code",
      "metadata": {
        "id": "xycuXrAYVkhH",
        "colab_type": "code",
        "colab": {}
      },
      "source": [
        "\n",
        "\n",
        "BASE_DIR = '/tmp'\n",
        "CORONA_DATA_FILE = os.path.join(BASE_DIR, 'corona_data.csv')\n",
        "\n"
      ],
      "execution_count": 0,
      "outputs": []
    },
    {
      "cell_type": "code",
      "metadata": {
        "id": "5zZuS70MW3gf",
        "colab_type": "code",
        "colab": {}
      },
      "source": [
        "corona_data=urllib.request.urlretrieve('https://raw.githubusercontent.com/srivatsan88/YouTubeLI/master/dataset/coronavirus/corona_dataset_latest.csv', \n",
        "                                       CORONA_DATA_FILE)"
      ],
      "execution_count": 0,
      "outputs": []
    },
    {
      "cell_type": "code",
      "metadata": {
        "id": "_7iwblGnW5vz",
        "colab_type": "code",
        "colab": {}
      },
      "source": [
        "BASE_DIR = '/tmp'\n",
        "TWITTER_DATA_FILE = os.path.join(BASE_DIR, 'twitter_data.csv')"
      ],
      "execution_count": 0,
      "outputs": []
    },
    {
      "cell_type": "code",
      "metadata": {
        "id": "u2WlvQeFW9uz",
        "colab_type": "code",
        "colab": {}
      },
      "source": [
        "tweet_data=urllib.request.urlretrieve('https://raw.githubusercontent.com/srivatsan88/YouTubeLI/master/dataset/coronavirus/tweets.csv', \n",
        "                                      TWITTER_DATA_FILE)"
      ],
      "execution_count": 0,
      "outputs": []
    },
    {
      "cell_type": "code",
      "metadata": {
        "id": "degUWVpfXAhE",
        "colab_type": "code",
        "colab": {
          "base_uri": "https://localhost:8080/",
          "height": 129
        },
        "outputId": "0235d165-9df2-4804-ff85-b79a8be88213"
      },
      "source": [
        "!ls /tmp"
      ],
      "execution_count": 10,
      "outputs": [
        {
          "output_type": "stream",
          "text": [
            "blockmgr-93e78f5d-efb4-4c11-8a53-f929856b5146\n",
            "corona_data.csv\n",
            "hsperfdata_root\n",
            "spark-274b8fbb-c175-4862-a624-4a9619170b4b\n",
            "spark-b9e93b8c-08cc-4fde-9be3-913be590fe70\n",
            "twitter_data.csv\n"
          ],
          "name": "stdout"
        }
      ]
    },
    {
      "cell_type": "code",
      "metadata": {
        "id": "mGImmICeXC87",
        "colab_type": "code",
        "colab": {}
      },
      "source": [
        "corona_df = spark.read.option(\"inferSchema\", \"true\").csv(\"/tmp/corona_data.csv\", header=True)"
      ],
      "execution_count": 0,
      "outputs": []
    },
    {
      "cell_type": "code",
      "metadata": {
        "id": "su5eC2rrYgWr",
        "colab_type": "code",
        "colab": {
          "base_uri": "https://localhost:8080/",
          "height": 503
        },
        "outputId": "d72f2c6c-19f8-46e1-8e8e-b3482f784c9c"
      },
      "source": [
        "corona_df.show()"
      ],
      "execution_count": 13,
      "outputs": [
        {
          "output_type": "stream",
          "text": [
            "+---+----------------+--------------------+--------+---------+----------+---------+-----+---------+--------------------+----+\n",
            "|_c0|           State|             Country|     Lat|     Long|      Date|Confirmed|Death|Recovered|       state_cleaned|City|\n",
            "+---+----------------+--------------------+--------+---------+----------+---------+-----+---------+--------------------+----+\n",
            "|  0|            null|            Thailand|    15.0|    101.0|2020-01-22|        2|    0|        0|             Bangkok|null|\n",
            "|  1|            null|               Japan|    36.0|    138.0|2020-01-22|        2|    0|        0|             Hiraide|null|\n",
            "|  2|            null|           Singapore|  1.2833| 103.8333|2020-01-22|        0|    0|        0|           Singapore|null|\n",
            "|  3|            null|               Nepal| 28.1667|    84.25|2020-01-22|        0|    0|        0|           Kathmandu|null|\n",
            "|  4|            null|            Malaysia|     2.5|    112.5|2020-01-22|        0|    0|        0|             Sarawak|null|\n",
            "|  5|British Columbia|              Canada| 49.2827|-123.1207|2020-01-22|        0|    0|        0|    British Columbia|null|\n",
            "|  6| New South Wales|           Australia|-33.8688| 151.2093|2020-01-22|        0|    0|        0|     New South Wales|null|\n",
            "|  7|        Victoria|           Australia|-37.8136| 144.9631|2020-01-22|        0|    0|        0|            Victoria|null|\n",
            "|  8|      Queensland|           Australia|-28.0167|    153.4|2020-01-22|        0|    0|        0|          Queensland|null|\n",
            "|  9|            null|            Cambodia|   11.55| 104.9167|2020-01-22|        0|    0|        0|          Phnom Penh|null|\n",
            "| 10|            null|           Sri Lanka|     7.0|     81.0|2020-01-22|        0|    0|        0|Sri Jayawardenapu...|null|\n",
            "| 11|            null|             Germany|    51.0|      9.0|2020-01-22|        0|    0|        0|              Berlin|null|\n",
            "| 12|            null|             Finland|    64.0|     26.0|2020-01-22|        0|    0|        0|            Helsinki|null|\n",
            "| 13|            null|United Arab Emirates|    24.0|     54.0|2020-01-22|        0|    0|        0|           Abu Dhabi|null|\n",
            "| 14|            null|         Philippines|    13.0|    122.0|2020-01-22|        0|    0|        0|              Manila|null|\n",
            "| 15|            null|               India|    21.0|     78.0|2020-01-22|        0|    0|        0|           New Delhi|null|\n",
            "| 16|            null|               Italy|    43.0|     12.0|2020-01-22|        0|    0|        0|                Rome|null|\n",
            "| 17|            null|              Sweden|    63.0|     16.0|2020-01-22|        0|    0|        0|           Stockholm|null|\n",
            "| 18|            null|               Spain|    40.0|     -4.0|2020-01-22|        0|    0|        0|              Toledo|null|\n",
            "| 19| South Australia|           Australia|-34.9285| 138.6007|2020-01-22|        0|    0|        0|     South Australia|null|\n",
            "+---+----------------+--------------------+--------+---------+----------+---------+-----+---------+--------------------+----+\n",
            "only showing top 20 rows\n",
            "\n"
          ],
          "name": "stdout"
        }
      ]
    },
    {
      "cell_type": "code",
      "metadata": {
        "id": "_2mfXzrCYoF0",
        "colab_type": "code",
        "colab": {
          "base_uri": "https://localhost:8080/",
          "height": 36
        },
        "outputId": "1b9d540d-bd2d-492c-b6e1-cb055a2c01ce"
      },
      "source": [
        "corona_df.count() # nos of datapoints"
      ],
      "execution_count": 14,
      "outputs": [
        {
          "output_type": "execute_result",
          "data": {
            "text/plain": [
              "28143"
            ]
          },
          "metadata": {
            "tags": []
          },
          "execution_count": 14
        }
      ]
    },
    {
      "cell_type": "code",
      "metadata": {
        "id": "_FekKhn9ZUZP",
        "colab_type": "code",
        "colab": {}
      },
      "source": [
        "twitter_df = spark.read.option(\"inferSchema\", \"true\").csv(\"/tmp/twitter_data.csv\", header=True)"
      ],
      "execution_count": 0,
      "outputs": []
    },
    {
      "cell_type": "code",
      "metadata": {
        "id": "PNh3YLnVZaPx",
        "colab_type": "code",
        "colab": {
          "base_uri": "https://localhost:8080/",
          "height": 36
        },
        "outputId": "1abce92a-4bdd-4014-fc9a-70d5786f20b6"
      },
      "source": [
        "twitter_df.count() # nos of datapoints"
      ],
      "execution_count": 16,
      "outputs": [
        {
          "output_type": "execute_result",
          "data": {
            "text/plain": [
              "1000"
            ]
          },
          "metadata": {
            "tags": []
          },
          "execution_count": 16
        }
      ]
    },
    {
      "cell_type": "code",
      "metadata": {
        "id": "2f_3fX3-Zd6j",
        "colab_type": "code",
        "colab": {
          "base_uri": "https://localhost:8080/",
          "height": 503
        },
        "outputId": "2b6284e9-f031-4604-a25f-f09adae8b653"
      },
      "source": [
        "twitter_df.show()"
      ],
      "execution_count": 17,
      "outputs": [
        {
          "output_type": "stream",
          "text": [
            "+---+----+--------------------+--------------------+--------------------+--------------------+--------------------+--------------------+\n",
            "|_c0| geo|                text|                user|            location|            entities|           sentiment|             country|\n",
            "+---+----+--------------------+--------------------+--------------------+--------------------+--------------------+--------------------+\n",
            "|  0|null|What is God sayin...|          petodinice|               Lagos|[('about #', 'CAR...|{'neg': 0.0, 'neu...|             Nigeria|\n",
            "|  1|null|\"BREAKING: \"\"this...| but i took the t...|                -… \"|     JerryfranksonJF|      Abuja, Nigeria|\"[(\"\"Arsenal's Mi...|\n",
            "|  2|null| #Coronavirus tes...|              cek422|   Pennsylvania, USA|                  []|{'neg': 0.173, 'n...|                 USA|\n",
            "|  3|null| Get ready for ma...|        InfectiousDz|                 NYC|[('World', 'ORG')...|{'neg': 0.085, 'n...|                 USA|\n",
            "|  4|null| The #coronavirus...|          vic_gibson|                null|                ['']|{'neg': 0.0, 'neu...|                null|\n",
            "|  5|null| COVID-19 update ...|      StewartNgilana|Durban | Port Eli...|[('Italy', 'GPE')...|{'neg': 0.178, 'n...|                 USA|\n",
            "|  6|null| It’s painful to ...|           BWheatnyc|             Florida|                  []|{'neg': 0.098, 'n...|                 USA|\n",
            "|  7|null| 📽️Friends, I wi...|             LorseaR|New South Wales, ...|[('Twitter', 'GPE...|{'neg': 0.123, 'n...|           Australia|\n",
            "|  8|null| Questions about ...|         straightj23|        Columbus, OH|[('NAfME', 'CARDI...|{'neg': 0.0, 'neu...|                 USA|\n",
            "|  9|null|How they’re deali...|       _______coolio| South East, England|['', ('Portsmouth...|{'neg': 0.126, 'n...|                  UK|\n",
            "| 10|null| BREAKING: Democr...|      champagneaylin|                null|[('Democrats', 'N...|{'neg': 0.221, 'n...|                null|\n",
            "| 11|null| “If we close dow...|       YorkLawLondon|                  UK|                  []|{'neg': 0.0, 'neu...|      United Kingdom|\n",
            "| 12|null| I pity the poor ...|      BeesonMargaret|                null|                ['']|{'neg': 0.227, 'n...|                null|\n",
            "| 13|null| We’re the heck w...|      harrytiffanyiv| Fort Washington, PA|[('the last 6 wee...|{'neg': 0.0, 'neu...|                 USA|\n",
            "| 14|null| I don't think sh...|         grammyheath|                null|[('Joy', 'PERSON'...|{'neg': 0.0, 'neu...|                null|\n",
            "| 15|null| Well written, so...|      barbara_ellena|Christchurch City...|                  []|{'neg': 0.0, 'neu...|         New Zealand|\n",
            "| 16|null| 1/2 CDC Director...|               fatal|                 USA|[('1/2', 'CARDINA...|{'neg': 0.139, 'n...|       United States|\n",
            "| 17|null| In all seriousne...|          pwjkmiller|                null|                ['']|{'neg': 0.218, 'n...|                null|\n",
            "| 18|null| Wash your hands....|        Mrrandy123RP|          Texas, USA|            ['', '']|{'neg': 0.0, 'neu...|                 USA|\n",
            "| 19|null| #CoronaVirusCana...|           aliensky0|           Worldwide|['', ('CoronaViru...|{'neg': 0.0, 'neu...|                 USA|\n",
            "+---+----+--------------------+--------------------+--------------------+--------------------+--------------------+--------------------+\n",
            "only showing top 20 rows\n",
            "\n"
          ],
          "name": "stdout"
        }
      ]
    },
    {
      "cell_type": "code",
      "metadata": {
        "id": "TypGhvbTZhsT",
        "colab_type": "code",
        "colab": {}
      },
      "source": [
        ""
      ],
      "execution_count": 0,
      "outputs": []
    },
    {
      "cell_type": "markdown",
      "metadata": {
        "id": "M42S0zTlZpaZ",
        "colab_type": "text"
      },
      "source": [
        "### Filtering and Transformations"
      ]
    },
    {
      "cell_type": "code",
      "metadata": {
        "id": "Tnh9SfEQZslF",
        "colab_type": "code",
        "colab": {
          "base_uri": "https://localhost:8080/",
          "height": 36
        },
        "outputId": "fded72b3-5797-4e96-fccf-0b6c969983a5"
      },
      "source": [
        "twitter_df.filter(\"country='USA'\")\n"
      ],
      "execution_count": 19,
      "outputs": [
        {
          "output_type": "execute_result",
          "data": {
            "text/plain": [
              "DataFrame[_c0: int, geo: string, text: string, user: string, location: string, entities: string, sentiment: string, country: string]"
            ]
          },
          "metadata": {
            "tags": []
          },
          "execution_count": 19
        }
      ]
    },
    {
      "cell_type": "code",
      "metadata": {
        "id": "qBbWPs1aZ2T4",
        "colab_type": "code",
        "colab": {
          "base_uri": "https://localhost:8080/",
          "height": 316
        },
        "outputId": "b6d06d05-0bad-4f64-cbc0-6f7994b351d4"
      },
      "source": [
        "twitter_df.filter(\"country='USA'\").show(10) # \n"
      ],
      "execution_count": 20,
      "outputs": [
        {
          "output_type": "stream",
          "text": [
            "+---+----+--------------------+---------------+--------------------+--------------------+--------------------+-------+\n",
            "|_c0| geo|                text|           user|            location|            entities|           sentiment|country|\n",
            "+---+----+--------------------+---------------+--------------------+--------------------+--------------------+-------+\n",
            "|  2|null| #Coronavirus tes...|         cek422|   Pennsylvania, USA|                  []|{'neg': 0.173, 'n...|    USA|\n",
            "|  3|null| Get ready for ma...|   InfectiousDz|                 NYC|[('World', 'ORG')...|{'neg': 0.085, 'n...|    USA|\n",
            "|  5|null| COVID-19 update ...| StewartNgilana|Durban | Port Eli...|[('Italy', 'GPE')...|{'neg': 0.178, 'n...|    USA|\n",
            "|  6|null| It’s painful to ...|      BWheatnyc|             Florida|                  []|{'neg': 0.098, 'n...|    USA|\n",
            "|  8|null| Questions about ...|    straightj23|        Columbus, OH|[('NAfME', 'CARDI...|{'neg': 0.0, 'neu...|    USA|\n",
            "| 13|null| We’re the heck w...| harrytiffanyiv| Fort Washington, PA|[('the last 6 wee...|{'neg': 0.0, 'neu...|    USA|\n",
            "| 18|null| Wash your hands....|   Mrrandy123RP|          Texas, USA|            ['', '']|{'neg': 0.0, 'neu...|    USA|\n",
            "| 19|null| #CoronaVirusCana...|      aliensky0|           Worldwide|['', ('CoronaViru...|{'neg': 0.0, 'neu...|    USA|\n",
            "| 24|null| Dr. Dena Grayson...|billymocolorad2|         Denver area|[('Dena Grayson',...|{'neg': 0.0, 'neu...|    USA|\n",
            "| 29|null| #BREAKING Univer...|  _pulido_nenaa|         Fontana, CA|['', ('BREAKING U...|{'neg': 0.0, 'neu...|    USA|\n",
            "+---+----+--------------------+---------------+--------------------+--------------------+--------------------+-------+\n",
            "only showing top 10 rows\n",
            "\n"
          ],
          "name": "stdout"
        }
      ]
    },
    {
      "cell_type": "code",
      "metadata": {
        "id": "6Cb6dTHCaGzO",
        "colab_type": "code",
        "colab": {
          "base_uri": "https://localhost:8080/",
          "height": 316
        },
        "outputId": "e7617fa2-a107-4bbb-c976-0c64c5e73b49"
      },
      "source": [
        "twitter_df.filter(\"country='USA' and location like 'New%' \").show(10)"
      ],
      "execution_count": 21,
      "outputs": [
        {
          "output_type": "stream",
          "text": [
            "+---+----+--------------------+---------------+------------------+--------------------+--------------------+-------+\n",
            "|_c0| geo|                text|           user|          location|            entities|           sentiment|country|\n",
            "+---+----+--------------------+---------------+------------------+--------------------+--------------------+-------+\n",
            "| 31|null| I ordered Alex J...|       rcgillan|     New York, USA|[('Alex Jones', '...|{'neg': 0.109, 'n...|    USA|\n",
            "| 49|null| This week we are...|  JamesWithers3|New York, New York|[('This week', 'D...|{'neg': 0.0, 'neu...|    USA|\n",
            "|228|null|This is a very co...|baskingntheGlow|     New York City|[('hourly', 'TIME')]|{'neg': 0.12, 'ne...|    USA|\n",
            "|238|null|I’m reposting thi...|   Veronicaromm|   New Jersey, USA|[('English', 'LAN...|{'neg': 0.0, 'neu...|    USA|\n",
            "|261|null|Too early ...?  #...|      HJeppesen|      New York, NY|                ['']|{'neg': 0.0, 'neu...|    USA|\n",
            "|275|null|  The Republican ...|  GenetBataiile|New Hampshire, USA|[('Republican', '...|{'neg': 0.0, 'neu...|    USA|\n",
            "|369|null| I still look to ...|   SusanSeaside|       New England|[('SouthKorea', '...|{'neg': 0.0, 'neu...|    USA|\n",
            "|438|null|Can we call the #...|       nilchaks|   New Jersey, USA|                ['']|{'neg': 0.194, 'n...|    USA|\n",
            "|458|null| New deadly #coro...| ssummersabrina|   New Jersey, USA|                ['']|{'neg': 0.236, 'n...|    USA|\n",
            "|471|null|What the Caged Bi...|    AaronNetsky|      New York, NY|                  []|{'neg': 0.0, 'neu...|    USA|\n",
            "+---+----+--------------------+---------------+------------------+--------------------+--------------------+-------+\n",
            "only showing top 10 rows\n",
            "\n"
          ],
          "name": "stdout"
        }
      ]
    },
    {
      "cell_type": "code",
      "metadata": {
        "id": "j8B0fn7Oaihl",
        "colab_type": "code",
        "colab": {}
      },
      "source": [
        "# location column which value start with N. eg: New, Newyork, New York\n",
        "tw_filter_df = twitter_df.filter(col(\"location\").startswith(\"N\")) \n",
        "\n"
      ],
      "execution_count": 0,
      "outputs": []
    },
    {
      "cell_type": "code",
      "metadata": {
        "id": "19h94JkSkrJ-",
        "colab_type": "code",
        "colab": {
          "base_uri": "https://localhost:8080/",
          "height": 223
        },
        "outputId": "48d345a0-99bb-4a57-d54f-beb2a4aeda33"
      },
      "source": [
        "tw_filter_df.show(5)"
      ],
      "execution_count": 29,
      "outputs": [
        {
          "output_type": "stream",
          "text": [
            "+---+----+--------------------+-------------+--------------------+--------------------+--------------------+---------+\n",
            "|_c0| geo|                text|         user|            location|            entities|           sentiment|  country|\n",
            "+---+----+--------------------+-------------+--------------------+--------------------+--------------------+---------+\n",
            "|  3|null| Get ready for ma...| InfectiousDz|                 NYC|[('World', 'ORG')...|{'neg': 0.085, 'n...|      USA|\n",
            "|  7|null| 📽️Friends, I wi...|      LorseaR|New South Wales, ...|[('Twitter', 'GPE...|{'neg': 0.123, 'n...|Australia|\n",
            "| 31|null| I ordered Alex J...|     rcgillan|       New York, USA|[('Alex Jones', '...|{'neg': 0.109, 'n...|      USA|\n",
            "| 36|null| Before #coronavi...| Frankapistan|       Nashville, TN|[('China', 'GPE')...|{'neg': 0.144, 'n...|      USA|\n",
            "| 49|null| This week we are...|JamesWithers3|  New York, New York|[('This week', 'D...|{'neg': 0.0, 'neu...|      USA|\n",
            "+---+----+--------------------+-------------+--------------------+--------------------+--------------------+---------+\n",
            "only showing top 5 rows\n",
            "\n"
          ],
          "name": "stdout"
        }
      ]
    },
    {
      "cell_type": "code",
      "metadata": {
        "id": "TdflGdoMlIE9",
        "colab_type": "code",
        "colab": {}
      },
      "source": [
        ""
      ],
      "execution_count": 0,
      "outputs": []
    },
    {
      "cell_type": "markdown",
      "metadata": {
        "id": "seqVPRkylgOC",
        "colab_type": "text"
      },
      "source": [
        "### Transformation"
      ]
    },
    {
      "cell_type": "code",
      "metadata": {
        "id": "Sqi-jPuBljEp",
        "colab_type": "code",
        "colab": {
          "base_uri": "https://localhost:8080/",
          "height": 54
        },
        "outputId": "151e3105-d11e-415c-cb2f-640db9cdbb4e"
      },
      "source": [
        "x = spark.sparkContext.parallelize([1,4,8])\n",
        "y = x.flatMap(lambda x: (x,x*x))\n",
        "print(\"X values are:\",x.collect())\n",
        "print(\"Y vallues are:\",y.collect())"
      ],
      "execution_count": 33,
      "outputs": [
        {
          "output_type": "stream",
          "text": [
            "X values are: [1, 4, 8]\n",
            "Y vallues are: [1, 1, 4, 16, 8, 64]\n"
          ],
          "name": "stdout"
        }
      ]
    },
    {
      "cell_type": "code",
      "metadata": {
        "id": "lIpcjL-1qFz-",
        "colab_type": "code",
        "colab": {
          "base_uri": "https://localhost:8080/",
          "height": 54
        },
        "outputId": "0c662618-15e9-458f-d0b2-562c15717ca3"
      },
      "source": [
        "x = spark.sparkContext.parallelize([1,4,8])\n",
        "y = x.map(lambda x: (x,x*x))\n",
        "print(\"X values are:\",x.collect())\n",
        "print(\"Y vallues are:\",y.collect())"
      ],
      "execution_count": 35,
      "outputs": [
        {
          "output_type": "stream",
          "text": [
            "X values are: [1, 4, 8]\n",
            "Y vallues are: [(1, 1), (4, 16), (8, 64)]\n"
          ],
          "name": "stdout"
        }
      ]
    },
    {
      "cell_type": "code",
      "metadata": {
        "id": "P9AhZyMOrCH2",
        "colab_type": "code",
        "colab": {
          "base_uri": "https://localhost:8080/",
          "height": 503
        },
        "outputId": "05c00b0e-5b12-459d-a86f-276d6a5e1225"
      },
      "source": [
        "twitter_df.select('text').show()"
      ],
      "execution_count": 36,
      "outputs": [
        {
          "output_type": "stream",
          "text": [
            "+--------------------+\n",
            "|                text|\n",
            "+--------------------+\n",
            "|What is God sayin...|\n",
            "|\"BREAKING: \"\"this...|\n",
            "| #Coronavirus tes...|\n",
            "| Get ready for ma...|\n",
            "| The #coronavirus...|\n",
            "| COVID-19 update ...|\n",
            "| It’s painful to ...|\n",
            "| 📽️Friends, I wi...|\n",
            "| Questions about ...|\n",
            "|How they’re deali...|\n",
            "| BREAKING: Democr...|\n",
            "| “If we close dow...|\n",
            "| I pity the poor ...|\n",
            "| We’re the heck w...|\n",
            "| I don't think sh...|\n",
            "| Well written, so...|\n",
            "| 1/2 CDC Director...|\n",
            "| In all seriousne...|\n",
            "| Wash your hands....|\n",
            "| #CoronaVirusCana...|\n",
            "+--------------------+\n",
            "only showing top 20 rows\n",
            "\n"
          ],
          "name": "stdout"
        }
      ]
    },
    {
      "cell_type": "code",
      "metadata": {
        "id": "SAtS7NInrSZm",
        "colab_type": "code",
        "colab": {
          "base_uri": "https://localhost:8080/",
          "height": 316
        },
        "outputId": "2d39d179-b673-4737-d570-d248d2e5b63e"
      },
      "source": [
        "twitter_df.select('text','user').show(10)"
      ],
      "execution_count": 37,
      "outputs": [
        {
          "output_type": "stream",
          "text": [
            "+--------------------+--------------------+\n",
            "|                text|                user|\n",
            "+--------------------+--------------------+\n",
            "|What is God sayin...|          petodinice|\n",
            "|\"BREAKING: \"\"this...| but i took the t...|\n",
            "| #Coronavirus tes...|              cek422|\n",
            "| Get ready for ma...|        InfectiousDz|\n",
            "| The #coronavirus...|          vic_gibson|\n",
            "| COVID-19 update ...|      StewartNgilana|\n",
            "| It’s painful to ...|           BWheatnyc|\n",
            "| 📽️Friends, I wi...|             LorseaR|\n",
            "| Questions about ...|         straightj23|\n",
            "|How they’re deali...|       _______coolio|\n",
            "+--------------------+--------------------+\n",
            "only showing top 10 rows\n",
            "\n"
          ],
          "name": "stdout"
        }
      ]
    },
    {
      "cell_type": "code",
      "metadata": {
        "id": "NLNx3ajLrX_g",
        "colab_type": "code",
        "colab": {
          "base_uri": "https://localhost:8080/",
          "height": 1000
        },
        "outputId": "8adc525c-fdfd-4bba-92c6-26d4efa82f7c"
      },
      "source": [
        "# toknize the each text columns\n",
        "twitter_df.rdd.map(lambda line: line.text.split(\" \")).take(5) "
      ],
      "execution_count": 38,
      "outputs": [
        {
          "output_type": "execute_result",
          "data": {
            "text/plain": [
              "[['What', 'is', 'God', 'saying', 'to', 'us', 'about', '#coronavirus', '?'],\n",
              " ['\"BREAKING:', '\"\"this', 'is', 'disappointing'],\n",
              " ['',\n",
              "  '#Coronavirus',\n",
              "  'testing',\n",
              "  'must',\n",
              "  'be',\n",
              "  'made',\n",
              "  'free',\n",
              "  'to',\n",
              "  'the',\n",
              "  'public',\n",
              "  'if',\n",
              "  'we',\n",
              "  'are',\n",
              "  'going',\n",
              "  'to',\n",
              "  'understand',\n",
              "  'the',\n",
              "  'scope',\n",
              "  'of',\n",
              "  'this',\n",
              "  'crisis.',\n",
              "  'Anything',\n",
              "  'le…'],\n",
              " ['',\n",
              "  'Get',\n",
              "  'ready',\n",
              "  'for',\n",
              "  'mass',\n",
              "  'event',\n",
              "  'crowd',\n",
              "  'cancellations',\n",
              "  'across',\n",
              "  'the',\n",
              "  'World',\n",
              "  'starting',\n",
              "  'this',\n",
              "  'weekend:',\n",
              "  'cricket',\n",
              "  'in',\n",
              "  '#Australia',\n",
              "  'in',\n",
              "  'empty',\n",
              "  'st…'],\n",
              " ['',\n",
              "  'The',\n",
              "  '#coronavirus',\n",
              "  'pandemic',\n",
              "  'is',\n",
              "  'revealing',\n",
              "  'just',\n",
              "  'how',\n",
              "  'closely',\n",
              "  'we',\n",
              "  'are',\n",
              "  'all',\n",
              "  'bound',\n",
              "  'together...[A',\n",
              "  'thread]',\n",
              "  '']]"
            ]
          },
          "metadata": {
            "tags": []
          },
          "execution_count": 38
        }
      ]
    },
    {
      "cell_type": "code",
      "metadata": {
        "id": "He-X1L-BsB3Y",
        "colab_type": "code",
        "colab": {
          "base_uri": "https://localhost:8080/",
          "height": 952
        },
        "outputId": "12b2b4b9-585f-4898-9ffd-b51346b9bb18"
      },
      "source": [
        "# toknize the each text columns and flatten it\n",
        "twitter_df.rdd.flatMap(lambda line: line.text.split(\" \")).take(50) "
      ],
      "execution_count": 40,
      "outputs": [
        {
          "output_type": "execute_result",
          "data": {
            "text/plain": [
              "['What',\n",
              " 'is',\n",
              " 'God',\n",
              " 'saying',\n",
              " 'to',\n",
              " 'us',\n",
              " 'about',\n",
              " '#coronavirus',\n",
              " '?',\n",
              " '\"BREAKING:',\n",
              " '\"\"this',\n",
              " 'is',\n",
              " 'disappointing',\n",
              " '',\n",
              " '#Coronavirus',\n",
              " 'testing',\n",
              " 'must',\n",
              " 'be',\n",
              " 'made',\n",
              " 'free',\n",
              " 'to',\n",
              " 'the',\n",
              " 'public',\n",
              " 'if',\n",
              " 'we',\n",
              " 'are',\n",
              " 'going',\n",
              " 'to',\n",
              " 'understand',\n",
              " 'the',\n",
              " 'scope',\n",
              " 'of',\n",
              " 'this',\n",
              " 'crisis.',\n",
              " 'Anything',\n",
              " 'le…',\n",
              " '',\n",
              " 'Get',\n",
              " 'ready',\n",
              " 'for',\n",
              " 'mass',\n",
              " 'event',\n",
              " 'crowd',\n",
              " 'cancellations',\n",
              " 'across',\n",
              " 'the',\n",
              " 'World',\n",
              " 'starting',\n",
              " 'this',\n",
              " 'weekend:']"
            ]
          },
          "metadata": {
            "tags": []
          },
          "execution_count": 40
        }
      ]
    },
    {
      "cell_type": "code",
      "metadata": {
        "id": "C12lfi82sTYh",
        "colab_type": "code",
        "colab": {
          "base_uri": "https://localhost:8080/",
          "height": 503
        },
        "outputId": "380dcf96-3464-456d-b6f4-773b2313a942"
      },
      "source": [
        "corona_df.show()"
      ],
      "execution_count": 41,
      "outputs": [
        {
          "output_type": "stream",
          "text": [
            "+---+----------------+--------------------+--------+---------+----------+---------+-----+---------+--------------------+----+\n",
            "|_c0|           State|             Country|     Lat|     Long|      Date|Confirmed|Death|Recovered|       state_cleaned|City|\n",
            "+---+----------------+--------------------+--------+---------+----------+---------+-----+---------+--------------------+----+\n",
            "|  0|            null|            Thailand|    15.0|    101.0|2020-01-22|        2|    0|        0|             Bangkok|null|\n",
            "|  1|            null|               Japan|    36.0|    138.0|2020-01-22|        2|    0|        0|             Hiraide|null|\n",
            "|  2|            null|           Singapore|  1.2833| 103.8333|2020-01-22|        0|    0|        0|           Singapore|null|\n",
            "|  3|            null|               Nepal| 28.1667|    84.25|2020-01-22|        0|    0|        0|           Kathmandu|null|\n",
            "|  4|            null|            Malaysia|     2.5|    112.5|2020-01-22|        0|    0|        0|             Sarawak|null|\n",
            "|  5|British Columbia|              Canada| 49.2827|-123.1207|2020-01-22|        0|    0|        0|    British Columbia|null|\n",
            "|  6| New South Wales|           Australia|-33.8688| 151.2093|2020-01-22|        0|    0|        0|     New South Wales|null|\n",
            "|  7|        Victoria|           Australia|-37.8136| 144.9631|2020-01-22|        0|    0|        0|            Victoria|null|\n",
            "|  8|      Queensland|           Australia|-28.0167|    153.4|2020-01-22|        0|    0|        0|          Queensland|null|\n",
            "|  9|            null|            Cambodia|   11.55| 104.9167|2020-01-22|        0|    0|        0|          Phnom Penh|null|\n",
            "| 10|            null|           Sri Lanka|     7.0|     81.0|2020-01-22|        0|    0|        0|Sri Jayawardenapu...|null|\n",
            "| 11|            null|             Germany|    51.0|      9.0|2020-01-22|        0|    0|        0|              Berlin|null|\n",
            "| 12|            null|             Finland|    64.0|     26.0|2020-01-22|        0|    0|        0|            Helsinki|null|\n",
            "| 13|            null|United Arab Emirates|    24.0|     54.0|2020-01-22|        0|    0|        0|           Abu Dhabi|null|\n",
            "| 14|            null|         Philippines|    13.0|    122.0|2020-01-22|        0|    0|        0|              Manila|null|\n",
            "| 15|            null|               India|    21.0|     78.0|2020-01-22|        0|    0|        0|           New Delhi|null|\n",
            "| 16|            null|               Italy|    43.0|     12.0|2020-01-22|        0|    0|        0|                Rome|null|\n",
            "| 17|            null|              Sweden|    63.0|     16.0|2020-01-22|        0|    0|        0|           Stockholm|null|\n",
            "| 18|            null|               Spain|    40.0|     -4.0|2020-01-22|        0|    0|        0|              Toledo|null|\n",
            "| 19| South Australia|           Australia|-34.9285| 138.6007|2020-01-22|        0|    0|        0|     South Australia|null|\n",
            "+---+----------------+--------------------+--------+---------+----------+---------+-----+---------+--------------------+----+\n",
            "only showing top 20 rows\n",
            "\n"
          ],
          "name": "stdout"
        }
      ]
    },
    {
      "cell_type": "code",
      "metadata": {
        "id": "_yBo69QzspM6",
        "colab_type": "code",
        "colab": {
          "base_uri": "https://localhost:8080/",
          "height": 503
        },
        "outputId": "2d67e212-ee2d-4bb4-be49-efcb76357630"
      },
      "source": [
        "corona_df.filter(\"Country='US'\").show()"
      ],
      "execution_count": 42,
      "outputs": [
        {
          "output_type": "stream",
          "text": [
            "+---+----------------+-------+------------------+---------+----------+---------+-----+---------+----------------+----------------+\n",
            "|_c0|           State|Country|               Lat|     Long|      Date|Confirmed|Death|Recovered|   state_cleaned|            City|\n",
            "+---+----------------+-------+------------------+---------+----------+---------+-----+---------+----------------+----------------+\n",
            "| 98|      Washington|     US|           47.4009|-121.4905|2020-01-22|        0|    0|        0|      Washington|      Washington|\n",
            "| 99|        New York|     US|           42.1657| -74.9481|2020-01-22|        0|    0|        0|        New York|        New York|\n",
            "|100|      California|     US|           36.1162|-119.6816|2020-01-22|        0|    0|        0|      California|      California|\n",
            "|101|   Massachusetts|     US|           42.2302| -71.5301|2020-01-22|        0|    0|        0|   Massachusetts|   Massachusetts|\n",
            "|102|Diamond Princess|     US|           35.4437|  139.638|2020-01-22|        0|    0|        0|Diamond Princess|Diamond Princess|\n",
            "|103|  Grand Princess|     US|           37.6489|-122.6655|2020-01-22|        0|    0|        0|  Grand Princess|  Grand Princess|\n",
            "|104|         Georgia|     US|           33.0406| -83.6431|2020-01-22|        0|    0|        0|         Georgia|         Georgia|\n",
            "|105|        Colorado|     US|           39.0598|-105.3111|2020-01-22|        0|    0|        0|        Colorado|        Colorado|\n",
            "|106|         Florida|     US|           27.7663| -81.6868|2020-01-22|        0|    0|        0|         Florida|         Florida|\n",
            "|107|      New Jersey|     US|           40.2989|  -74.521|2020-01-22|        0|    0|        0|      New Jersey|      New Jersey|\n",
            "|108|          Oregon|     US|44.571999999999996|-122.0709|2020-01-22|        0|    0|        0|          Oregon|          Oregon|\n",
            "|109|           Texas|     US|           31.0545| -97.5635|2020-01-22|        0|    0|        0|           Texas|           Texas|\n",
            "|110|        Illinois|     US|           40.3495| -88.9861|2020-01-22|        0|    0|        0|        Illinois|        Illinois|\n",
            "|111|    Pennsylvania|     US|           40.5908| -77.2098|2020-01-22|        0|    0|        0|    Pennsylvania|    Pennsylvania|\n",
            "|112|            Iowa|     US|           42.0115| -93.2105|2020-01-22|        0|    0|        0|            Iowa|            Iowa|\n",
            "|113|        Maryland|     US|           39.0639| -76.8021|2020-01-22|        0|    0|        0|        Maryland|        Maryland|\n",
            "|114|  North Carolina|     US|           35.6301| -79.8064|2020-01-22|        0|    0|        0|  North Carolina|  North Carolina|\n",
            "|115|  South Carolina|     US|           33.8569|  -80.945|2020-01-22|        0|    0|        0|  South Carolina|  South Carolina|\n",
            "|116|       Tennessee|     US|           35.7478| -86.6923|2020-01-22|        0|    0|        0|       Tennessee|       Tennessee|\n",
            "|117|        Virginia|     US|           37.7693|   -78.17|2020-01-22|        0|    0|        0|        Virginia|        Virginia|\n",
            "+---+----------------+-------+------------------+---------+----------+---------+-----+---------+----------------+----------------+\n",
            "only showing top 20 rows\n",
            "\n"
          ],
          "name": "stdout"
        }
      ]
    },
    {
      "cell_type": "code",
      "metadata": {
        "id": "_vQI18Tbsr4q",
        "colab_type": "code",
        "colab": {
          "base_uri": "https://localhost:8080/",
          "height": 316
        },
        "outputId": "1d4f526b-16cd-4db2-edb8-a42b5bb6ef6b"
      },
      "source": [
        "# filter the US country accroding Date i ascending order\n",
        "corona_df.filter(\"Country='US'\").sort(col('Date'),ascending=False).show(10)"
      ],
      "execution_count": 43,
      "outputs": [
        {
          "output_type": "stream",
          "text": [
            "+-----+----------------+-------+------------------+---------+----------+---------+-----+---------+----------------+----------------+\n",
            "|  _c0|           State|Country|               Lat|     Long|      Date|Confirmed|Death|Recovered|   state_cleaned|            City|\n",
            "+-----+----------------+-------+------------------+---------+----------+---------+-----+---------+----------------+----------------+\n",
            "|27764|      Washington|     US|           47.4009|-121.4905|2020-03-20|     1524|   83|        0|      Washington|      Washington|\n",
            "|27774|          Oregon|     US|44.571999999999996|-122.0709|2020-03-20|      114|    3|        0|          Oregon|          Oregon|\n",
            "|27765|        New York|     US|           42.1657| -74.9481|2020-03-20|     8310|   42|        0|        New York|        New York|\n",
            "|27766|      California|     US|           36.1162|-119.6816|2020-03-20|     1177|   23|        0|      California|      California|\n",
            "|27767|   Massachusetts|     US|           42.2302| -71.5301|2020-03-20|      413|    1|        0|   Massachusetts|   Massachusetts|\n",
            "|27768|Diamond Princess|     US|           35.4437|  139.638|2020-03-20|       49|    0|        0|Diamond Princess|Diamond Princess|\n",
            "|27769|  Grand Princess|     US|           37.6489|-122.6655|2020-03-20|       23|    0|        0|  Grand Princess|  Grand Princess|\n",
            "|27770|         Georgia|     US|           33.0406| -83.6431|2020-03-20|      420|   13|        0|         Georgia|         Georgia|\n",
            "|27771|        Colorado|     US|           39.0598|-105.3111|2020-03-20|      363|    4|        0|        Colorado|        Colorado|\n",
            "|27772|         Florida|     US|           27.7663| -81.6868|2020-03-20|      563|   10|        0|         Florida|         Florida|\n",
            "+-----+----------------+-------+------------------+---------+----------+---------+-----+---------+----------------+----------------+\n",
            "only showing top 10 rows\n",
            "\n"
          ],
          "name": "stdout"
        }
      ]
    },
    {
      "cell_type": "code",
      "metadata": {
        "id": "R04HKZ5_s6Ym",
        "colab_type": "code",
        "colab": {
          "base_uri": "https://localhost:8080/",
          "height": 316
        },
        "outputId": "34ca8e6e-d954-40d3-dd1d-9f147d2986e2"
      },
      "source": [
        "# filter the US country accroding Date i ascending order\n",
        "corona_df.filter(\"Country='US'\").orderBy(col('Date'),ascending=False).show(10)"
      ],
      "execution_count": 44,
      "outputs": [
        {
          "output_type": "stream",
          "text": [
            "+-----+----------------+-------+------------------+---------+----------+---------+-----+---------+----------------+----------------+\n",
            "|  _c0|           State|Country|               Lat|     Long|      Date|Confirmed|Death|Recovered|   state_cleaned|            City|\n",
            "+-----+----------------+-------+------------------+---------+----------+---------+-----+---------+----------------+----------------+\n",
            "|27764|      Washington|     US|           47.4009|-121.4905|2020-03-20|     1524|   83|        0|      Washington|      Washington|\n",
            "|27774|          Oregon|     US|44.571999999999996|-122.0709|2020-03-20|      114|    3|        0|          Oregon|          Oregon|\n",
            "|27765|        New York|     US|           42.1657| -74.9481|2020-03-20|     8310|   42|        0|        New York|        New York|\n",
            "|27766|      California|     US|           36.1162|-119.6816|2020-03-20|     1177|   23|        0|      California|      California|\n",
            "|27767|   Massachusetts|     US|           42.2302| -71.5301|2020-03-20|      413|    1|        0|   Massachusetts|   Massachusetts|\n",
            "|27768|Diamond Princess|     US|           35.4437|  139.638|2020-03-20|       49|    0|        0|Diamond Princess|Diamond Princess|\n",
            "|27769|  Grand Princess|     US|           37.6489|-122.6655|2020-03-20|       23|    0|        0|  Grand Princess|  Grand Princess|\n",
            "|27770|         Georgia|     US|           33.0406| -83.6431|2020-03-20|      420|   13|        0|         Georgia|         Georgia|\n",
            "|27771|        Colorado|     US|           39.0598|-105.3111|2020-03-20|      363|    4|        0|        Colorado|        Colorado|\n",
            "|27772|         Florida|     US|           27.7663| -81.6868|2020-03-20|      563|   10|        0|         Florida|         Florida|\n",
            "+-----+----------------+-------+------------------+---------+----------+---------+-----+---------+----------------+----------------+\n",
            "only showing top 10 rows\n",
            "\n"
          ],
          "name": "stdout"
        }
      ]
    },
    {
      "cell_type": "code",
      "metadata": {
        "id": "2TD22bq4tUDY",
        "colab_type": "code",
        "colab": {
          "base_uri": "https://localhost:8080/",
          "height": 503
        },
        "outputId": "1e7b85ed-888c-494a-cc69-300dce34d97e"
      },
      "source": [
        "# sort Date and Confirmed columns where country = 'US'\n",
        "corona_df.filter(\"Country='US'\").sortWithinPartitions([col('Date'),col('Confirmed')],ascending=False).show()"
      ],
      "execution_count": 45,
      "outputs": [
        {
          "output_type": "stream",
          "text": [
            "+-----+--------------+-------+-------+---------+----------+---------+-----+---------+--------------+--------------+\n",
            "|  _c0|         State|Country|    Lat|     Long|      Date|Confirmed|Death|Recovered| state_cleaned|          City|\n",
            "+-----+--------------+-------+-------+---------+----------+---------+-----+---------+--------------+--------------+\n",
            "|27765|      New York|     US|42.1657| -74.9481|2020-03-20|     8310|   42|        0|      New York|      New York|\n",
            "|27764|    Washington|     US|47.4009|-121.4905|2020-03-20|     1524|   83|        0|    Washington|    Washington|\n",
            "|27766|    California|     US|36.1162|-119.6816|2020-03-20|     1177|   23|        0|    California|    California|\n",
            "|27773|    New Jersey|     US|40.2989|  -74.521|2020-03-20|      890|   11|        0|    New Jersey|    New Jersey|\n",
            "|27776|      Illinois|     US|40.3495| -88.9861|2020-03-20|      585|    5|        0|      Illinois|      Illinois|\n",
            "|27772|       Florida|     US|27.7663| -81.6868|2020-03-20|      563|   10|        0|       Florida|       Florida|\n",
            "|27812|      Michigan|     US|43.3266| -84.5361|2020-03-20|      552|    3|        0|      Michigan|      Michigan|\n",
            "|27804|     Louisiana|     US|31.1695| -91.8678|2020-03-20|      538|   14|        0|     Louisiana|     Louisiana|\n",
            "|27770|       Georgia|     US|33.0406| -83.6431|2020-03-20|      420|   13|        0|       Georgia|       Georgia|\n",
            "|27767| Massachusetts|     US|42.2302| -71.5301|2020-03-20|      413|    1|        0| Massachusetts| Massachusetts|\n",
            "|27775|         Texas|     US|31.0545| -97.5635|2020-03-20|      394|    5|        0|         Texas|         Texas|\n",
            "|27771|      Colorado|     US|39.0598|-105.3111|2020-03-20|      363|    4|        0|      Colorado|      Colorado|\n",
            "|27777|  Pennsylvania|     US|40.5908| -77.2098|2020-03-20|      303|    1|        0|  Pennsylvania|  Pennsylvania|\n",
            "|27782|     Tennessee|     US|35.7478| -86.6923|2020-03-20|      233|    0|        0|     Tennessee|     Tennessee|\n",
            "|27794|     Wisconsin|     US|44.2685| -89.6165|2020-03-20|      207|    3|        0|     Wisconsin|     Wisconsin|\n",
            "|27795|   Connecticut|     US|41.5978| -72.7554|2020-03-20|      194|    3|        0|   Connecticut|   Connecticut|\n",
            "|27792|          Ohio|     US|40.3888| -82.7649|2020-03-20|      173|    2|        0|          Ohio|          Ohio|\n",
            "|27780|North Carolina|     US|35.6301| -79.8064|2020-03-20|      172|    0|        0|North Carolina|North Carolina|\n",
            "|27779|      Maryland|     US|39.0639| -76.8021|2020-03-20|      149|    1|        0|      Maryland|      Maryland|\n",
            "|27781|South Carolina|     US|33.8569|  -80.945|2020-03-20|      126|    1|        0|South Carolina|South Carolina|\n",
            "+-----+--------------+-------+-------+---------+----------+---------+-----+---------+--------------+--------------+\n",
            "only showing top 20 rows\n",
            "\n"
          ],
          "name": "stdout"
        }
      ]
    },
    {
      "cell_type": "code",
      "metadata": {
        "id": "88Q8UEJfuP9h",
        "colab_type": "code",
        "colab": {
          "base_uri": "https://localhost:8080/",
          "height": 224
        },
        "outputId": "feedda40-0be9-42d0-c8ab-7e38369d55b4"
      },
      "source": [
        "corona_df.describe().show()"
      ],
      "execution_count": 46,
      "outputs": [
        {
          "output_type": "stream",
          "text": [
            "+-------+-----------------+---------+-----------+------------------+------------------+----------+------------------+------------------+------------------+-------------+-----------+\n",
            "|summary|              _c0|    State|    Country|               Lat|              Long|      Date|         Confirmed|             Death|         Recovered|state_cleaned|       City|\n",
            "+-------+-----------------+---------+-----------+------------------+------------------+----------+------------------+------------------+------------------+-------------+-----------+\n",
            "|  count|            28143|    19116|      28143|             28143|             28143|     28143|             28143|             28143|             28143|        28143|      14573|\n",
            "|   mean|          14071.0|     null|       null|30.965553459118834|-34.57031257861667|      null|161.88245744945456| 5.494368048893153| 60.17290267562094|         null|       null|\n",
            "| stddev|8124.328649186959|     null|       null|19.365472826597646| 80.78375872452575|      null| 2519.847217725942|109.29475709869875|1346.6597829124426|         null|       null|\n",
            "|    min|                0|Adams, IN|Afghanistan|          -41.4545|         -157.8584|2020-01-22|                 0|                 0|                 0|    Abu Dhabi|      Adams|\n",
            "|    max|            28142| Zhejiang|   Zimbabwe|           71.7069|           178.065|2020-03-20|             67800|              4032|             58382|     erdészet|Yolo County|\n",
            "+-------+-----------------+---------+-----------+------------------+------------------+----------+------------------+------------------+------------------+-------------+-----------+\n",
            "\n"
          ],
          "name": "stdout"
        }
      ]
    },
    {
      "cell_type": "code",
      "metadata": {
        "id": "yulyvbpvuY9Q",
        "colab_type": "code",
        "colab": {
          "base_uri": "https://localhost:8080/",
          "height": 260
        },
        "outputId": "571bbbf5-068c-495c-ebc6-51e7c59000db"
      },
      "source": [
        "# print the types of columns in dataframe\n",
        "corona_df.printSchema()"
      ],
      "execution_count": 48,
      "outputs": [
        {
          "output_type": "stream",
          "text": [
            "root\n",
            " |-- _c0: integer (nullable = true)\n",
            " |-- State: string (nullable = true)\n",
            " |-- Country: string (nullable = true)\n",
            " |-- Lat: double (nullable = true)\n",
            " |-- Long: double (nullable = true)\n",
            " |-- Date: string (nullable = true)\n",
            " |-- Confirmed: integer (nullable = true)\n",
            " |-- Death: integer (nullable = true)\n",
            " |-- Recovered: integer (nullable = true)\n",
            " |-- state_cleaned: string (nullable = true)\n",
            " |-- City: string (nullable = true)\n",
            "\n"
          ],
          "name": "stdout"
        }
      ]
    },
    {
      "cell_type": "code",
      "metadata": {
        "id": "721z7aKcuilf",
        "colab_type": "code",
        "colab": {
          "base_uri": "https://localhost:8080/",
          "height": 503
        },
        "outputId": "a794f36f-9b92-4465-bd41-4b02732c6f7f"
      },
      "source": [
        "corona_df.filter(corona_df.Confirmed>10000).sort(col('Confirmed')).show()"
      ],
      "execution_count": 49,
      "outputs": [
        {
          "output_type": "stream",
          "text": [
            "+-----+------+-------+-------+--------+----------+---------+-----+---------+-------------+----+\n",
            "|  _c0| State|Country|    Lat|    Long|      Date|Confirmed|Death|Recovered|state_cleaned|City|\n",
            "+-----+------+-------+-------+--------+----------+---------+-----+---------+-------------+----+\n",
            "|24005|  null|   Iran|   32.0|    53.0|2020-03-12|    10075|  429|     2959|       Tehran|null|\n",
            "|22912|  null|  Italy|   43.0|    12.0|2020-03-10|    10149|  631|      724|         Rome|null|\n",
            "|27346|France| France|46.2276|  2.2137|2020-03-19|    10871|  243|       12|       France|null|\n",
            "| 5401| Hubei|  China|30.9756|112.2707|2020-02-02|    11177|  350|      295|        Hubei|null|\n",
            "|24482|  null|   Iran|   32.0|    53.0|2020-03-13|    11364|  514|     2959|       Tehran|null|\n",
            "|26253|  null|  Spain|   40.0|    -4.0|2020-03-17|    11748|  533|     1028|       Toledo|null|\n",
            "|26723|  null|Germany|   51.0|     9.0|2020-03-18|    12327|   28|      105|       Berlin|null|\n",
            "|23866|  null|  Italy|   43.0|    12.0|2020-03-12|    12462|  827|     1045|         Rome|null|\n",
            "|23389|  null|  Italy|   43.0|    12.0|2020-03-11|    12462|  827|     1045|         Rome|null|\n",
            "|27823|France| France|46.2276|  2.2137|2020-03-20|    12612|  450|       12|       France|null|\n",
            "|24959|  null|   Iran|   32.0|    53.0|2020-03-14|    12729|  611|     2959|       Tehran|null|\n",
            "| 5878| Hubei|  China|30.9756|112.2707|2020-02-03|    13522|  414|      386|        Hubei|null|\n",
            "|26730|  null|  Spain|   40.0|    -4.0|2020-03-18|    13910|  623|     1081|       Toledo|null|\n",
            "|25436|  null|   Iran|   32.0|    53.0|2020-03-15|    13938|  724|     4590|       Tehran|null|\n",
            "|25913|  null|   Iran|   32.0|    53.0|2020-03-16|    14991|  853|     4590|       Tehran|null|\n",
            "|27200|  null|Germany|   51.0|     9.0|2020-03-19|    15320|   44|      113|       Berlin|null|\n",
            "|26390|  null|   Iran|   32.0|    53.0|2020-03-17|    16169|  988|     5389|       Tehran|null|\n",
            "| 6355| Hubei|  China|30.9756|112.2707|2020-02-04|    16678|  479|      522|        Hubei|null|\n",
            "|26867|  null|   Iran|   32.0|    53.0|2020-03-18|    17361| 1135|     5389|       Tehran|null|\n",
            "|24343|  null|  Italy|   43.0|    12.0|2020-03-13|    17660| 1266|     1439|         Rome|null|\n",
            "+-----+------+-------+-------+--------+----------+---------+-----+---------+-------------+----+\n",
            "only showing top 20 rows\n",
            "\n"
          ],
          "name": "stdout"
        }
      ]
    },
    {
      "cell_type": "code",
      "metadata": {
        "id": "Dg5Np9HPvlJx",
        "colab_type": "code",
        "colab": {
          "base_uri": "https://localhost:8080/",
          "height": 36
        },
        "outputId": "97cf4b5e-98bd-4212-cd8d-0e3036392852"
      },
      "source": [
        "corona_df.filter('Confirmed>10000').approxQuantile('Confirmed',[0.25, 0.5, 0.75, 0.9, 0.95],0.9)"
      ],
      "execution_count": 50,
      "outputs": [
        {
          "output_type": "execute_result",
          "data": {
            "text/plain": [
              "[10075.0, 10075.0, 10075.0, 10075.0, 67800.0]"
            ]
          },
          "metadata": {
            "tags": []
          },
          "execution_count": 50
        }
      ]
    },
    {
      "cell_type": "code",
      "metadata": {
        "id": "ZNLgIXQLv4W5",
        "colab_type": "code",
        "colab": {
          "base_uri": "https://localhost:8080/",
          "height": 36
        },
        "outputId": "38a67073-9f4f-4394-e844-0c422926f763"
      },
      "source": [
        "corona_df.agg({'Date':\"max\"}).collect()"
      ],
      "execution_count": 52,
      "outputs": [
        {
          "output_type": "execute_result",
          "data": {
            "text/plain": [
              "[Row(max(Date)='2020-03-20')]"
            ]
          },
          "metadata": {
            "tags": []
          },
          "execution_count": 52
        }
      ]
    },
    {
      "cell_type": "code",
      "metadata": {
        "id": "xB3OWRHUwOU-",
        "colab_type": "code",
        "colab": {
          "base_uri": "https://localhost:8080/",
          "height": 36
        },
        "outputId": "f19b7c88-343f-41e7-8dcf-062add8ce217"
      },
      "source": [
        "# maximum data and maximum confirmed\n",
        "corona_df.agg({\"Date\":\"max\",\"Confirmed\":\"max\"}).collect()"
      ],
      "execution_count": 53,
      "outputs": [
        {
          "output_type": "execute_result",
          "data": {
            "text/plain": [
              "[Row(max(Confirmed)=67800, max(Date)='2020-03-20')]"
            ]
          },
          "metadata": {
            "tags": []
          },
          "execution_count": 53
        }
      ]
    },
    {
      "cell_type": "code",
      "metadata": {
        "id": "9vlyyF-nwi0J",
        "colab_type": "code",
        "colab": {
          "base_uri": "https://localhost:8080/",
          "height": 129
        },
        "outputId": "224b7c78-2f2d-46c5-fb91-da515ec11992"
      },
      "source": [
        "max_date=corona_df.agg({\"Date\":\"max\"})\n",
        "max_date.show()"
      ],
      "execution_count": 54,
      "outputs": [
        {
          "output_type": "stream",
          "text": [
            "+----------+\n",
            "| max(Date)|\n",
            "+----------+\n",
            "|2020-03-20|\n",
            "+----------+\n",
            "\n"
          ],
          "name": "stdout"
        }
      ]
    },
    {
      "cell_type": "code",
      "metadata": {
        "id": "TRACeefNwzW1",
        "colab_type": "code",
        "colab": {}
      },
      "source": [
        "import pyspark.sql.functions as F"
      ],
      "execution_count": 0,
      "outputs": []
    },
    {
      "cell_type": "code",
      "metadata": {
        "id": "LIZHdWtFxQEJ",
        "colab_type": "code",
        "colab": {
          "base_uri": "https://localhost:8080/",
          "height": 503
        },
        "outputId": "a071ab4e-85b0-4862-bef4-12b11a15cf59"
      },
      "source": [
        "# gropu the country and state_cleaned find the maxiumn date\n",
        "corona_df.groupBy(\"Country\",\"State_cleaned\").agg(F.max('Date')).show()"
      ],
      "execution_count": 57,
      "outputs": [
        {
          "output_type": "stream",
          "text": [
            "+-------------------+--------------------+----------+\n",
            "|            Country|       State_cleaned| max(Date)|\n",
            "+-------------------+--------------------+----------+\n",
            "|        Afghanistan|             Baghran|2020-03-20|\n",
            "|            Albania|                E852|2020-03-20|\n",
            "|            Algeria|            Timokten|2020-03-20|\n",
            "|            Andorra|    Andorra la Vella|2020-03-20|\n",
            "|             Angola|             Sautari|2020-03-20|\n",
            "|Antigua and Barbuda|          St. John's|2020-03-20|\n",
            "|          Argentina|        Buenos Aires|2020-03-20|\n",
            "|            Armenia|             Yerevan|2020-03-20|\n",
            "|          Australia|Australian Capita...|2020-03-20|\n",
            "|          Australia|From Diamond Prin...|2020-03-20|\n",
            "|          Australia|     New South Wales|2020-03-20|\n",
            "|          Australia|  Northern Territory|2020-03-20|\n",
            "|          Australia|          Queensland|2020-03-20|\n",
            "|          Australia|     South Australia|2020-03-20|\n",
            "|          Australia|            Tasmania|2020-03-20|\n",
            "|          Australia|            Victoria|2020-03-20|\n",
            "|          Australia|   Western Australia|2020-03-20|\n",
            "|            Austria|              Vienna|2020-03-20|\n",
            "|         Azerbaijan|            Agjabadi|2020-03-20|\n",
            "|       Bahamas, The|              Nassau|2020-03-20|\n",
            "+-------------------+--------------------+----------+\n",
            "only showing top 20 rows\n",
            "\n"
          ],
          "name": "stdout"
        }
      ]
    },
    {
      "cell_type": "code",
      "metadata": {
        "id": "4vOMfSjCxhHB",
        "colab_type": "code",
        "colab": {}
      },
      "source": [
        ""
      ],
      "execution_count": 0,
      "outputs": []
    },
    {
      "cell_type": "markdown",
      "metadata": {
        "id": "ovqKLiscxtKh",
        "colab_type": "text"
      },
      "source": [
        "### Join opeartion"
      ]
    },
    {
      "cell_type": "code",
      "metadata": {
        "id": "NBPe6muixvjy",
        "colab_type": "code",
        "colab": {
          "base_uri": "https://localhost:8080/",
          "height": 503
        },
        "outputId": "ea00884f-7ed0-4b0c-ac04-6b7ff01a3e99"
      },
      "source": [
        "corona_df.join(corona_df.groupBy(\"Country\",\"State_cleaned\").agg(F.max(\"Date\").alias(\"Date\")),\n",
        "               on=['Country', 'State_cleaned','Date'],how=\"inner\").show()"
      ],
      "execution_count": 58,
      "outputs": [
        {
          "output_type": "stream",
          "text": [
            "+--------------------+--------------------+----------+-----+----------------+--------+---------+---------+-----+---------+----+\n",
            "|             Country|       state_cleaned|      Date|  _c0|           State|     Lat|     Long|Confirmed|Death|Recovered|City|\n",
            "+--------------------+--------------------+----------+-----+----------------+--------+---------+---------+-----+---------+----+\n",
            "|            Thailand|             Bangkok|2020-03-20|27666|            null|    15.0|    101.0|      322|    1|       42|null|\n",
            "|               Japan|             Hiraide|2020-03-20|27667|            null|    36.0|    138.0|      963|   33|      191|null|\n",
            "|           Singapore|           Singapore|2020-03-20|27668|            null|  1.2833| 103.8333|      385|    0|      124|null|\n",
            "|               Nepal|           Kathmandu|2020-03-20|27669|            null| 28.1667|    84.25|        1|    0|        1|null|\n",
            "|            Malaysia|             Sarawak|2020-03-20|27670|            null|     2.5|    112.5|     1030|    3|       87|null|\n",
            "|              Canada|    British Columbia|2020-03-20|27671|British Columbia| 49.2827|-123.1207|      271|    8|        4|null|\n",
            "|           Australia|     New South Wales|2020-03-20|27672| New South Wales|-33.8688| 151.2093|      353|    6|        4|null|\n",
            "|           Australia|            Victoria|2020-03-20|27673|        Victoria|-37.8136| 144.9631|      121|    0|        8|null|\n",
            "|           Australia|          Queensland|2020-03-20|27674|      Queensland|-28.0167|    153.4|      184|    0|        8|null|\n",
            "|            Cambodia|          Phnom Penh|2020-03-20|27675|            null|   11.55| 104.9167|       51|    0|        1|null|\n",
            "|           Sri Lanka|Sri Jayawardenapu...|2020-03-20|27676|            null|     7.0|     81.0|       73|    0|        3|null|\n",
            "|             Germany|              Berlin|2020-03-20|27677|            null|    51.0|      9.0|    19848|   67|      180|null|\n",
            "|             Finland|            Helsinki|2020-03-20|27678|            null|    64.0|     26.0|      450|    0|       10|null|\n",
            "|United Arab Emirates|           Abu Dhabi|2020-03-20|27679|            null|    24.0|     54.0|      140|    2|       31|null|\n",
            "|         Philippines|              Manila|2020-03-20|27680|            null|    13.0|    122.0|      230|   18|        8|null|\n",
            "|               India|           New Delhi|2020-03-20|27681|            null|    21.0|     78.0|      244|    5|       20|null|\n",
            "|               Italy|                Rome|2020-03-20|27682|            null|    43.0|     12.0|    47021| 4032|     4440|null|\n",
            "|              Sweden|           Stockholm|2020-03-20|27683|            null|    63.0|     16.0|     1639|   16|       16|null|\n",
            "|               Spain|              Toledo|2020-03-20|27684|            null|    40.0|     -4.0|    20410| 1043|     1588|null|\n",
            "|           Australia|     South Australia|2020-03-20|27685| South Australia|-34.9285| 138.6007|       50|    0|        3|null|\n",
            "+--------------------+--------------------+----------+-----+----------------+--------+---------+---------+-----+---------+----+\n",
            "only showing top 20 rows\n",
            "\n"
          ],
          "name": "stdout"
        }
      ]
    },
    {
      "cell_type": "code",
      "metadata": {
        "id": "Q88_kc7vyTXP",
        "colab_type": "code",
        "colab": {
          "base_uri": "https://localhost:8080/",
          "height": 316
        },
        "outputId": "bbaa01a4-bee0-4954-974d-4d90078cf843"
      },
      "source": [
        "corona_df.join(corona_df.groupBy(\"Country\",\"State_cleaned\").agg(F.max(\"Date\").alias(\"Date\")),on=['Country', 'State_cleaned','Date'],\n",
        "               how=\"inner\").sort(\"Confirmed\",ascending=False).show(10)\n",
        "\n"
      ],
      "execution_count": 59,
      "outputs": [
        {
          "output_type": "stream",
          "text": [
            "+--------------+----------------+----------+-----+--------------+-------+-------------------+---------+-----+---------+--------+\n",
            "|       Country|   state_cleaned|      Date|  _c0|         State|    Lat|               Long|Confirmed|Death|Recovered|    City|\n",
            "+--------------+----------------+----------+-----+--------------+-------+-------------------+---------+-----+---------+--------+\n",
            "|         China|           Hubei|2020-03-20|27820|         Hubei|30.9756|           112.2707|    67800| 3133|    58382|    null|\n",
            "|         Italy|            Rome|2020-03-20|27682|          null|   43.0|               12.0|    47021| 4032|     4440|    null|\n",
            "|         Spain|          Toledo|2020-03-20|27684|          null|   40.0|               -4.0|    20410| 1043|     1588|    null|\n",
            "|       Germany|          Berlin|2020-03-20|27677|          null|   51.0|                9.0|    19848|   67|      180|    null|\n",
            "|          Iran|          Tehran|2020-03-20|27821|          null|   32.0|               53.0|    19644| 1433|     6745|    null|\n",
            "|        France|          France|2020-03-20|27823|        France|46.2276|             2.2137|    12612|  450|       12|    null|\n",
            "|  Korea, South|Gyeongsangbuk-do|2020-03-20|27822|          null|   36.0|              128.0|     8652|   94|     1540|    null|\n",
            "|            US|        New York|2020-03-20|27765|      New York|42.1657|           -74.9481|     8310|   42|        0|New York|\n",
            "|   Switzerland|            Bern|2020-03-20|27697|          null|46.8182|             8.2275|     5294|   54|       15|    null|\n",
            "|United Kingdom|  United Kingdom|2020-03-20|28069|United Kingdom|55.3781|-3.4360000000000004|     3983|  177|       65|    null|\n",
            "+--------------+----------------+----------+-----+--------------+-------+-------------------+---------+-----+---------+--------+\n",
            "only showing top 10 rows\n",
            "\n"
          ],
          "name": "stdout"
        }
      ]
    },
    {
      "cell_type": "code",
      "metadata": {
        "id": "3YcxAYcNygSF",
        "colab_type": "code",
        "colab": {}
      },
      "source": [
        "from pyspark.sql.functions import row_number\n",
        "from pyspark.sql.window import Window"
      ],
      "execution_count": 0,
      "outputs": []
    },
    {
      "cell_type": "code",
      "metadata": {
        "id": "or5oECBDyr96",
        "colab_type": "code",
        "colab": {
          "base_uri": "https://localhost:8080/",
          "height": 503
        },
        "outputId": "f6ce012f-4360-43f5-f5f8-7060922dd7af"
      },
      "source": [
        "ws=Window().partitionBy(\"Country\",\"State_cleaned\").orderBy(col(\"Date\").desc())\n",
        "\n",
        "corona_df.withColumn(\"row_num\", row_number().over(ws)).show()"
      ],
      "execution_count": 61,
      "outputs": [
        {
          "output_type": "stream",
          "text": [
            "+-----+-----+-----------+----+----+----------+---------+-----+---------+-------------+----+-------+\n",
            "|  _c0|State|    Country| Lat|Long|      Date|Confirmed|Death|Recovered|state_cleaned|City|row_num|\n",
            "+-----+-----+-----------+----+----+----------+---------+-----+---------+-------------+----+-------+\n",
            "|27692| null|Afghanistan|33.0|65.0|2020-03-20|       24|    0|        1|      Baghran|null|      1|\n",
            "|27215| null|Afghanistan|33.0|65.0|2020-03-19|       22|    0|        1|      Baghran|null|      2|\n",
            "|26738| null|Afghanistan|33.0|65.0|2020-03-18|       22|    0|        1|      Baghran|null|      3|\n",
            "|26261| null|Afghanistan|33.0|65.0|2020-03-17|       22|    0|        1|      Baghran|null|      4|\n",
            "|25784| null|Afghanistan|33.0|65.0|2020-03-16|       21|    0|        1|      Baghran|null|      5|\n",
            "|25307| null|Afghanistan|33.0|65.0|2020-03-15|       16|    0|        0|      Baghran|null|      6|\n",
            "|24830| null|Afghanistan|33.0|65.0|2020-03-14|       11|    0|        0|      Baghran|null|      7|\n",
            "|24353| null|Afghanistan|33.0|65.0|2020-03-13|        7|    0|        0|      Baghran|null|      8|\n",
            "|23876| null|Afghanistan|33.0|65.0|2020-03-12|        7|    0|        0|      Baghran|null|      9|\n",
            "|23399| null|Afghanistan|33.0|65.0|2020-03-11|        7|    0|        0|      Baghran|null|     10|\n",
            "|22922| null|Afghanistan|33.0|65.0|2020-03-10|        5|    0|        0|      Baghran|null|     11|\n",
            "|22445| null|Afghanistan|33.0|65.0|2020-03-09|        4|    0|        0|      Baghran|null|     12|\n",
            "|21968| null|Afghanistan|33.0|65.0|2020-03-08|        4|    0|        0|      Baghran|null|     13|\n",
            "|21491| null|Afghanistan|33.0|65.0|2020-03-07|        1|    0|        0|      Baghran|null|     14|\n",
            "|21014| null|Afghanistan|33.0|65.0|2020-03-06|        1|    0|        0|      Baghran|null|     15|\n",
            "|20537| null|Afghanistan|33.0|65.0|2020-03-05|        1|    0|        0|      Baghran|null|     16|\n",
            "|20060| null|Afghanistan|33.0|65.0|2020-03-04|        1|    0|        0|      Baghran|null|     17|\n",
            "|19583| null|Afghanistan|33.0|65.0|2020-03-03|        1|    0|        0|      Baghran|null|     18|\n",
            "|19106| null|Afghanistan|33.0|65.0|2020-03-02|        1|    0|        0|      Baghran|null|     19|\n",
            "|18629| null|Afghanistan|33.0|65.0|2020-03-01|        1|    0|        0|      Baghran|null|     20|\n",
            "+-----+-----+-----------+----+----+----------+---------+-----+---------+-------------+----+-------+\n",
            "only showing top 20 rows\n",
            "\n"
          ],
          "name": "stdout"
        }
      ]
    },
    {
      "cell_type": "code",
      "metadata": {
        "id": "tMoBMGOuzKmx",
        "colab_type": "code",
        "colab": {
          "base_uri": "https://localhost:8080/",
          "height": 503
        },
        "outputId": "ccdccadb-fce6-412e-d8a5-62334751c583"
      },
      "source": [
        "corona_df.withColumn(\"row_num\", row_number().over(ws)).where(col(\"row_num\")==1).show()"
      ],
      "execution_count": 62,
      "outputs": [
        {
          "output_type": "stream",
          "text": [
            "+-----+--------------------+-------------------+--------+--------+----------+---------+-----+---------+--------------------+----+-------+\n",
            "|  _c0|               State|            Country|     Lat|    Long|      Date|Confirmed|Death|Recovered|       state_cleaned|City|row_num|\n",
            "+-----+--------------------+-------------------+--------+--------+----------+---------+-----+---------+--------------------+----+-------+\n",
            "|27692|                null|        Afghanistan|    33.0|    65.0|2020-03-20|       24|    0|        1|             Baghran|null|      1|\n",
            "|27761|                null|            Albania| 41.1533| 20.1683|2020-03-20|       70|    2|        0|                E852|null|      1|\n",
            "|27695|                null|            Algeria| 28.0339|  1.6596|2020-03-20|       90|   11|       32|            Timokten|null|      1|\n",
            "|27726|                null|            Andorra| 42.5063|  1.5218|2020-03-20|       75|    0|        1|    Andorra la Vella|null|      1|\n",
            "|28136|                null|             Angola|-11.2027| 17.8739|2020-03-20|        1|    0|        0|             Sautari|null|      1|\n",
            "|28079|                null|Antigua and Barbuda| 17.0608|-61.7964|2020-03-20|        1|    0|        0|          St. John's|null|      1|\n",
            "|27732|                null|          Argentina|-38.4161|-63.6167|2020-03-20|      128|    3|        3|        Buenos Aires|null|      1|\n",
            "|27722|                null|            Armenia| 40.0691| 45.0382|2020-03-20|      136|    0|        1|             Yerevan|null|      1|\n",
            "|28068|Australian Capita...|          Australia|-35.4735|149.0124|2020-03-20|        6|    0|        0|Australian Capita...|null|      1|\n",
            "|27688|From Diamond Prin...|          Australia| 35.4437| 139.638|2020-03-20|        0|    0|        0|From Diamond Prin...|null|      1|\n",
            "|27672|     New South Wales|          Australia|-33.8688|151.2093|2020-03-20|      353|    6|        4|     New South Wales|null|      1|\n",
            "|27737|  Northern Territory|          Australia|-12.4634|130.8456|2020-03-20|        3|    0|        0|  Northern Territory|null|      1|\n",
            "|27674|          Queensland|          Australia|-28.0167|   153.4|2020-03-20|      184|    0|        8|          Queensland|null|      1|\n",
            "|27685|     South Australia|          Australia|-34.9285|138.6007|2020-03-20|       50|    0|        3|     South Australia|null|      1|\n",
            "|27727|            Tasmania|          Australia|-41.4545|145.9707|2020-03-20|       10|    0|        3|            Tasmania|null|      1|\n",
            "|27673|            Victoria|          Australia|-37.8136|144.9631|2020-03-20|      121|    0|        8|            Victoria|null|      1|\n",
            "|27715|   Western Australia|          Australia|-31.9505|115.8605|2020-03-20|       64|    1|        0|   Western Australia|null|      1|\n",
            "|27698|                null|            Austria| 47.5162| 14.5501|2020-03-20|     2388|    6|        9|              Vienna|null|      1|\n",
            "|27721|                null|         Azerbaijan| 40.1431| 47.5769|2020-03-20|       44|    1|        6|            Agjabadi|null|      1|\n",
            "|28126|                null|       Bahamas, The| 25.0343|-77.3963|2020-03-20|        3|    0|        0|              Nassau|null|      1|\n",
            "+-----+--------------------+-------------------+--------+--------+----------+---------+-----+---------+--------------------+----+-------+\n",
            "only showing top 20 rows\n",
            "\n"
          ],
          "name": "stdout"
        }
      ]
    },
    {
      "cell_type": "code",
      "metadata": {
        "id": "pQUtEywkzbJa",
        "colab_type": "code",
        "colab": {}
      },
      "source": [
        "corona_max_df=corona_df.join(corona_df.groupBy(\"Country\",\"State_cleaned\").agg(F.max(\"Date\").alias(\"Date\")),\n",
        "                             on=['Country', 'State_cleaned','Date'],how=\"inner\")"
      ],
      "execution_count": 0,
      "outputs": []
    },
    {
      "cell_type": "code",
      "metadata": {
        "id": "ZlNc-i_FzmyT",
        "colab_type": "code",
        "colab": {
          "base_uri": "https://localhost:8080/",
          "height": 503
        },
        "outputId": "bb2d23e1-d1ff-477b-edfa-3d3efe0e44a3"
      },
      "source": [
        "corona_max_df.show()"
      ],
      "execution_count": 64,
      "outputs": [
        {
          "output_type": "stream",
          "text": [
            "+--------------------+--------------------+----------+-----+----------------+--------+---------+---------+-----+---------+----+\n",
            "|             Country|       state_cleaned|      Date|  _c0|           State|     Lat|     Long|Confirmed|Death|Recovered|City|\n",
            "+--------------------+--------------------+----------+-----+----------------+--------+---------+---------+-----+---------+----+\n",
            "|            Thailand|             Bangkok|2020-03-20|27666|            null|    15.0|    101.0|      322|    1|       42|null|\n",
            "|               Japan|             Hiraide|2020-03-20|27667|            null|    36.0|    138.0|      963|   33|      191|null|\n",
            "|           Singapore|           Singapore|2020-03-20|27668|            null|  1.2833| 103.8333|      385|    0|      124|null|\n",
            "|               Nepal|           Kathmandu|2020-03-20|27669|            null| 28.1667|    84.25|        1|    0|        1|null|\n",
            "|            Malaysia|             Sarawak|2020-03-20|27670|            null|     2.5|    112.5|     1030|    3|       87|null|\n",
            "|              Canada|    British Columbia|2020-03-20|27671|British Columbia| 49.2827|-123.1207|      271|    8|        4|null|\n",
            "|           Australia|     New South Wales|2020-03-20|27672| New South Wales|-33.8688| 151.2093|      353|    6|        4|null|\n",
            "|           Australia|            Victoria|2020-03-20|27673|        Victoria|-37.8136| 144.9631|      121|    0|        8|null|\n",
            "|           Australia|          Queensland|2020-03-20|27674|      Queensland|-28.0167|    153.4|      184|    0|        8|null|\n",
            "|            Cambodia|          Phnom Penh|2020-03-20|27675|            null|   11.55| 104.9167|       51|    0|        1|null|\n",
            "|           Sri Lanka|Sri Jayawardenapu...|2020-03-20|27676|            null|     7.0|     81.0|       73|    0|        3|null|\n",
            "|             Germany|              Berlin|2020-03-20|27677|            null|    51.0|      9.0|    19848|   67|      180|null|\n",
            "|             Finland|            Helsinki|2020-03-20|27678|            null|    64.0|     26.0|      450|    0|       10|null|\n",
            "|United Arab Emirates|           Abu Dhabi|2020-03-20|27679|            null|    24.0|     54.0|      140|    2|       31|null|\n",
            "|         Philippines|              Manila|2020-03-20|27680|            null|    13.0|    122.0|      230|   18|        8|null|\n",
            "|               India|           New Delhi|2020-03-20|27681|            null|    21.0|     78.0|      244|    5|       20|null|\n",
            "|               Italy|                Rome|2020-03-20|27682|            null|    43.0|     12.0|    47021| 4032|     4440|null|\n",
            "|              Sweden|           Stockholm|2020-03-20|27683|            null|    63.0|     16.0|     1639|   16|       16|null|\n",
            "|               Spain|              Toledo|2020-03-20|27684|            null|    40.0|     -4.0|    20410| 1043|     1588|null|\n",
            "|           Australia|     South Australia|2020-03-20|27685| South Australia|-34.9285| 138.6007|       50|    0|        3|null|\n",
            "+--------------------+--------------------+----------+-----+----------------+--------+---------+---------+-----+---------+----+\n",
            "only showing top 20 rows\n",
            "\n"
          ],
          "name": "stdout"
        }
      ]
    },
    {
      "cell_type": "code",
      "metadata": {
        "id": "fLWPZo7CzsAg",
        "colab_type": "code",
        "colab": {
          "base_uri": "https://localhost:8080/",
          "height": 523
        },
        "outputId": "2897ebd1-a442-43f9-d1df-a469151bd2e7"
      },
      "source": [
        "corona_df.groupby(\"Country\").pivot(\"Date\").agg(F.sum(\"Confirmed\")).show()"
      ],
      "execution_count": 65,
      "outputs": [
        {
          "output_type": "stream",
          "text": [
            "+--------------------+----------+----------+----------+----------+----------+----------+----------+----------+----------+----------+----------+----------+----------+----------+----------+----------+----------+----------+----------+----------+----------+----------+----------+----------+----------+----------+----------+----------+----------+----------+----------+----------+----------+----------+----------+----------+----------+----------+----------+----------+----------+----------+----------+----------+----------+----------+----------+----------+----------+----------+----------+----------+----------+----------+----------+----------+----------+----------+----------+\n",
            "|             Country|2020-01-22|2020-01-23|2020-01-24|2020-01-25|2020-01-26|2020-01-27|2020-01-28|2020-01-29|2020-01-30|2020-01-31|2020-02-01|2020-02-02|2020-02-03|2020-02-04|2020-02-05|2020-02-06|2020-02-07|2020-02-08|2020-02-09|2020-02-10|2020-02-11|2020-02-12|2020-02-13|2020-02-14|2020-02-15|2020-02-16|2020-02-17|2020-02-18|2020-02-19|2020-02-20|2020-02-21|2020-02-22|2020-02-23|2020-02-24|2020-02-25|2020-02-26|2020-02-27|2020-02-28|2020-02-29|2020-03-01|2020-03-02|2020-03-03|2020-03-04|2020-03-05|2020-03-06|2020-03-07|2020-03-08|2020-03-09|2020-03-10|2020-03-11|2020-03-12|2020-03-13|2020-03-14|2020-03-15|2020-03-16|2020-03-17|2020-03-18|2020-03-19|2020-03-20|\n",
            "+--------------------+----------+----------+----------+----------+----------+----------+----------+----------+----------+----------+----------+----------+----------+----------+----------+----------+----------+----------+----------+----------+----------+----------+----------+----------+----------+----------+----------+----------+----------+----------+----------+----------+----------+----------+----------+----------+----------+----------+----------+----------+----------+----------+----------+----------+----------+----------+----------+----------+----------+----------+----------+----------+----------+----------+----------+----------+----------+----------+----------+\n",
            "|            Thailand|         2|         3|         5|         7|         8|         8|        14|        14|        14|        19|        19|        19|        19|        25|        25|        25|        25|        32|        32|        32|        33|        33|        33|        33|        33|        34|        35|        35|        35|        35|        35|        35|        35|        35|        37|        40|        40|        41|        42|        42|        43|        43|        43|        47|        48|        50|        50|        50|        53|        59|        70|        75|        82|       114|       147|       177|       212|       272|       322|\n",
            "|               Japan|         2|         1|         2|         2|         4|         4|         7|         7|        11|        15|        20|        20|        20|        22|        22|        45|        25|        25|        26|        26|        26|        28|        28|        29|        43|        59|        66|        74|        84|        94|       105|       122|       147|       159|       170|       189|       214|       228|       241|       256|       274|       293|       331|       360|       420|       461|       502|       511|       581|       639|       639|       701|       773|       839|       825|       878|       889|       924|       963|\n",
            "|           Singapore|         0|         1|         3|         3|         4|         5|         7|         7|        10|        13|        16|        18|        18|        24|        28|        28|        30|        33|        40|        45|        47|        50|        58|        67|        72|        75|        77|        81|        84|        84|        85|        85|        89|        89|        91|        93|        93|        93|       102|       106|       108|       110|       110|       117|       130|       138|       150|       150|       160|       178|       178|       200|       212|       226|       243|       266|       313|       345|       385|\n",
            "|               Nepal|         0|         0|         0|         1|         1|         1|         1|         1|         1|         1|         1|         1|         1|         1|         1|         1|         1|         1|         1|         1|         1|         1|         1|         1|         1|         1|         1|         1|         1|         1|         1|         1|         1|         1|         1|         1|         1|         1|         1|         1|         1|         1|         1|         1|         1|         1|         1|         1|         1|         1|         1|         1|         1|         1|         1|         1|         1|         1|         1|\n",
            "|            Malaysia|         0|         0|         0|         3|         4|         4|         4|         7|         8|         8|         8|         8|         8|        10|        12|        12|        12|        16|        16|        18|        18|        18|        19|        19|        22|        22|        22|        22|        22|        22|        22|        22|        22|        22|        22|        22|        23|        23|        25|        29|        29|        36|        50|        50|        83|        93|        99|       117|       129|       149|       149|       197|       238|       428|       566|       673|       790|       900|      1030|\n",
            "|              Canada|         0|         0|         0|         0|         1|         1|         2|         2|         2|         4|         4|         4|         4|         4|         5|         5|         7|         7|         7|         7|         7|         7|         7|         7|         7|         7|         8|         8|         8|         8|         9|         9|         9|        10|        11|        11|        13|        14|        20|        24|        27|        30|        33|        37|        49|        54|        64|        77|        79|       108|       117|       193|       198|       252|       415|       478|       657|       800|       943|\n",
            "|           Australia|         0|         0|         0|         0|         4|         5|         5|         6|         9|         9|        12|        12|        12|        13|        13|        14|        15|        15|        15|        15|        15|        15|        15|        15|        15|        15|        15|        15|        15|        15|        19|        22|        22|        22|        22|        22|        23|        23|        25|        27|        30|        39|        52|        55|        60|        63|        76|        91|       107|       128|       128|       200|       250|       297|       377|       452|       568|       681|       791|\n",
            "|            Cambodia|         0|         0|         0|         0|         0|         1|         1|         1|         1|         1|         1|         1|         1|         1|         1|         1|         1|         1|         1|         1|         1|         1|         1|         1|         1|         1|         1|         1|         1|         1|         1|         1|         1|         1|         1|         1|         1|         1|         1|         1|         1|         1|         1|         1|         1|         1|         2|         2|         2|         3|         3|         5|         7|         7|         7|        33|        35|        37|        51|\n",
            "|           Sri Lanka|         0|         0|         0|         0|         0|         1|         1|         1|         1|         1|         1|         1|         1|         1|         1|         1|         1|         1|         1|         1|         1|         1|         1|         1|         1|         1|         1|         1|         1|         1|         1|         1|         1|         1|         1|         1|         1|         1|         1|         1|         1|         1|         1|         1|         1|         1|         1|         1|         1|         2|         2|         6|        10|        18|        28|        44|        51|        60|        73|\n",
            "|             Germany|         0|         0|         0|         0|         0|         1|         4|         4|         4|         5|         8|        10|        12|        12|        12|        12|        13|        13|        14|        14|        16|        16|        16|        16|        16|        16|        16|        16|        16|        16|        16|        16|        16|        16|        17|        27|        46|        48|        79|       130|       159|       196|       262|       482|       670|       799|      1040|      1176|      1457|      1908|      2078|      3675|      4585|      5795|      7272|      9257|     12327|     15320|     19848|\n",
            "|             Finland|         0|         0|         0|         0|         0|         0|         0|         1|         1|         1|         1|         1|         1|         1|         1|         1|         1|         1|         1|         1|         1|         1|         1|         1|         1|         1|         1|         1|         1|         1|         1|         1|         1|         1|         1|         2|         2|         2|         3|         6|         6|         6|         6|        12|        15|        15|        23|        30|        40|        59|        59|       155|       225|       244|       277|       321|       336|       400|       450|\n",
            "|United Arab Emirates|         0|         0|         0|         0|         0|         0|         0|         4|         4|         4|         4|         5|         5|         5|         5|         5|         5|         7|         7|         8|         8|         8|         8|         8|         8|         9|         9|         9|         9|         9|         9|        13|        13|        13|        13|        13|        13|        19|        21|        21|        21|        27|        27|        29|        29|        45|        45|        45|        74|        74|        85|        85|        85|        98|        98|        98|       113|       140|       140|\n",
            "|         Philippines|         0|         0|         0|         0|         0|         0|         0|         0|         1|         1|         1|         2|         2|         2|         2|         2|         3|         3|         3|         3|         3|         3|         3|         3|         3|         3|         3|         3|         3|         3|         3|         3|         3|         3|         3|         3|         3|         3|         3|         3|         3|         3|         3|         3|         5|         6|        10|        20|        33|        49|        52|        64|       111|       140|       142|       187|       202|       217|       230|\n",
            "|               India|         0|         0|         0|         0|         0|         0|         0|         0|         1|         1|         1|         2|         3|         3|         3|         3|         3|         3|         3|         3|         3|         3|         3|         3|         3|         3|         3|         3|         3|         3|         3|         3|         3|         3|         3|         3|         3|         3|         3|         3|         5|         5|        28|        30|        31|        34|        39|        43|        56|        62|        73|        82|       102|       113|       119|       142|       156|       194|       244|\n",
            "|               Italy|         0|         0|         0|         0|         0|         0|         0|         0|         0|         2|         2|         2|         2|         2|         2|         2|         3|         3|         3|         3|         3|         3|         3|         3|         3|         3|         3|         3|         3|         3|        20|        62|       155|       229|       322|       453|       655|       888|      1128|      1694|      2036|      2502|      3089|      3858|      4636|      5883|      7375|      9172|     10149|     12462|     12462|     17660|     21157|     24747|     27980|     31506|     35713|     41035|     47021|\n",
            "|              Sweden|         0|         0|         0|         0|         0|         0|         0|         0|         0|         1|         1|         1|         1|         1|         1|         1|         1|         1|         1|         1|         1|         1|         1|         1|         1|         1|         1|         1|         1|         1|         1|         1|         1|         1|         1|         2|         7|         7|        12|        14|        15|        21|        35|        94|       101|       161|       203|       248|       355|       500|       599|       814|       961|      1022|      1103|      1190|      1279|      1439|      1639|\n",
            "|               Spain|         0|         0|         0|         0|         0|         0|         0|         0|         0|         0|         1|         1|         1|         1|         1|         1|         1|         1|         2|         2|         2|         2|         2|         2|         2|         2|         2|         2|         2|         2|         2|         2|         2|         2|         6|        13|        15|        32|        45|        84|       120|       165|       222|       259|       400|       500|       673|      1073|      1695|      2277|      2277|      5232|      6391|      7798|      9942|     11748|     13910|     17963|     20410|\n",
            "|             Belgium|         0|         0|         0|         0|         0|         0|         0|         0|         0|         0|         0|         0|         0|         1|         1|         1|         1|         1|         1|         1|         1|         1|         1|         1|         1|         1|         1|         1|         1|         1|         1|         1|         1|         1|         1|         1|         1|         1|         1|         2|         8|        13|        23|        50|       109|       169|       200|       239|       267|       314|       314|       559|       689|       886|      1058|      1243|      1486|      1795|      2257|\n",
            "|               Egypt|         0|         0|         0|         0|         0|         0|         0|         0|         0|         0|         0|         0|         0|         0|         0|         0|         0|         0|         0|         0|         0|         0|         0|         1|         1|         1|         1|         1|         1|         1|         1|         1|         1|         1|         1|         1|         1|         1|         1|         2|         2|         2|         2|         3|        15|        15|        49|        55|        59|        60|        67|        80|       109|       110|       150|       196|       196|       256|       285|\n",
            "|             Lebanon|         0|         0|         0|         0|         0|         0|         0|         0|         0|         0|         0|         0|         0|         0|         0|         0|         0|         0|         0|         0|         0|         0|         0|         0|         0|         0|         0|         0|         0|         0|         1|         1|         1|         1|         1|         2|         2|         2|         4|        10|        13|        13|        13|        16|        22|        22|        32|        32|        41|        61|        61|        77|        93|       110|        99|       120|       133|       157|       163|\n",
            "+--------------------+----------+----------+----------+----------+----------+----------+----------+----------+----------+----------+----------+----------+----------+----------+----------+----------+----------+----------+----------+----------+----------+----------+----------+----------+----------+----------+----------+----------+----------+----------+----------+----------+----------+----------+----------+----------+----------+----------+----------+----------+----------+----------+----------+----------+----------+----------+----------+----------+----------+----------+----------+----------+----------+----------+----------+----------+----------+----------+----------+\n",
            "only showing top 20 rows\n",
            "\n"
          ],
          "name": "stdout"
        }
      ]
    },
    {
      "cell_type": "code",
      "metadata": {
        "id": "I6rYm2izzzAg",
        "colab_type": "code",
        "colab": {
          "base_uri": "https://localhost:8080/",
          "height": 523
        },
        "outputId": "c2fca21b-ea31-4bb4-c6ce-1b6fcb2d7416"
      },
      "source": [
        "corona_df.filter(\"Country=='US'\").crosstab(\"State\",\"Date\").show()"
      ],
      "execution_count": 66,
      "outputs": [
        {
          "output_type": "stream",
          "text": [
            "+-------------------+----------+----------+----------+----------+----------+----------+----------+----------+----------+----------+----------+----------+----------+----------+----------+----------+----------+----------+----------+----------+----------+----------+----------+----------+----------+----------+----------+----------+----------+----------+----------+----------+----------+----------+----------+----------+----------+----------+----------+----------+----------+----------+----------+----------+----------+----------+----------+----------+----------+----------+----------+----------+----------+----------+----------+----------+----------+----------+----------+\n",
            "|         State_Date|2020-01-22|2020-01-23|2020-01-24|2020-01-25|2020-01-26|2020-01-27|2020-01-28|2020-01-29|2020-01-30|2020-01-31|2020-02-01|2020-02-02|2020-02-03|2020-02-04|2020-02-05|2020-02-06|2020-02-07|2020-02-08|2020-02-09|2020-02-10|2020-02-11|2020-02-12|2020-02-13|2020-02-14|2020-02-15|2020-02-16|2020-02-17|2020-02-18|2020-02-19|2020-02-20|2020-02-21|2020-02-22|2020-02-23|2020-02-24|2020-02-25|2020-02-26|2020-02-27|2020-02-28|2020-02-29|2020-03-01|2020-03-02|2020-03-03|2020-03-04|2020-03-05|2020-03-06|2020-03-07|2020-03-08|2020-03-09|2020-03-10|2020-03-11|2020-03-12|2020-03-13|2020-03-14|2020-03-15|2020-03-16|2020-03-17|2020-03-18|2020-03-19|2020-03-20|\n",
            "+-------------------+----------+----------+----------+----------+----------+----------+----------+----------+----------+----------+----------+----------+----------+----------+----------+----------+----------+----------+----------+----------+----------+----------+----------+----------+----------+----------+----------+----------+----------+----------+----------+----------+----------+----------+----------+----------+----------+----------+----------+----------+----------+----------+----------+----------+----------+----------+----------+----------+----------+----------+----------+----------+----------+----------+----------+----------+----------+----------+----------+\n",
            "|         New Mexico|         1|         1|         1|         1|         1|         1|         1|         1|         1|         1|         1|         1|         1|         1|         1|         1|         1|         1|         1|         1|         1|         1|         1|         1|         1|         1|         1|         1|         1|         1|         1|         1|         1|         1|         1|         1|         1|         1|         1|         1|         1|         1|         1|         1|         1|         1|         1|         1|         1|         1|         1|         1|         1|         1|         1|         1|         1|         1|         1|\n",
            "|   Clark County, NV|         1|         1|         1|         1|         1|         1|         1|         1|         1|         1|         1|         1|         1|         1|         1|         1|         1|         1|         1|         1|         1|         1|         1|         1|         1|         1|         1|         1|         1|         1|         1|         1|         1|         1|         1|         1|         1|         1|         1|         1|         1|         1|         1|         1|         1|         1|         1|         1|         1|         1|         1|         1|         1|         1|         1|         1|         1|         1|         1|\n",
            "|         Summit, UT|         1|         1|         1|         1|         1|         1|         1|         1|         1|         1|         1|         1|         1|         1|         1|         1|         1|         1|         1|         1|         1|         1|         1|         1|         1|         1|         1|         1|         1|         1|         1|         1|         1|         1|         1|         1|         1|         1|         1|         1|         1|         1|         1|         1|         1|         1|         1|         1|         1|         1|         1|         1|         1|         1|         1|         1|         1|         1|         1|\n",
            "|     Montgomery, TX|         1|         1|         1|         1|         1|         1|         1|         1|         1|         1|         1|         1|         1|         1|         1|         1|         1|         1|         1|         1|         1|         1|         1|         1|         1|         1|         1|         1|         1|         1|         1|         1|         1|         1|         1|         1|         1|         1|         1|         1|         1|         1|         1|         1|         1|         1|         1|         1|         1|         1|         1|         1|         1|         1|         1|         1|         1|         1|         1|\n",
            "|           Dane, WI|         1|         1|         1|         1|         1|         1|         1|         1|         1|         1|         1|         1|         1|         1|         1|         1|         1|         1|         1|         1|         1|         1|         1|         1|         1|         1|         1|         1|         1|         1|         1|         1|         1|         1|         1|         1|         1|         1|         1|         1|         1|         1|         1|         1|         1|         1|         1|         1|         1|         1|         1|         1|         1|         1|         1|         1|         1|         1|         1|\n",
            "|Prince George's, MD|         1|         1|         1|         1|         1|         1|         1|         1|         1|         1|         1|         1|         1|         1|         1|         1|         1|         1|         1|         1|         1|         1|         1|         1|         1|         1|         1|         1|         1|         1|         1|         1|         1|         1|         1|         1|         1|         1|         1|         1|         1|         1|         1|         1|         1|         1|         1|         1|         1|         1|         1|         1|         1|         1|         1|         1|         1|         1|         1|\n",
            "|Maricopa County, AZ|         1|         1|         1|         1|         1|         1|         1|         1|         1|         1|         1|         1|         1|         1|         1|         1|         1|         1|         1|         1|         1|         1|         1|         1|         1|         1|         1|         1|         1|         1|         1|         1|         1|         1|         1|         1|         1|         1|         1|         1|         1|         1|         1|         1|         1|         1|         1|         1|         1|         1|         1|         1|         1|         1|         1|         1|         1|         1|         1|\n",
            "|  Harris County, TX|         1|         1|         1|         1|         1|         1|         1|         1|         1|         1|         1|         1|         1|         1|         1|         1|         1|         1|         1|         1|         1|         1|         1|         1|         1|         1|         1|         1|         1|         1|         1|         1|         1|         1|         1|         1|         1|         1|         1|         1|         1|         1|         1|         1|         1|         1|         1|         1|         1|         1|         1|         1|         1|         1|         1|         1|         1|         1|         1|\n",
            "|     New Castle, DE|         1|         1|         1|         1|         1|         1|         1|         1|         1|         1|         1|         1|         1|         1|         1|         1|         1|         1|         1|         1|         1|         1|         1|         1|         1|         1|         1|         1|         1|         1|         1|         1|         1|         1|         1|         1|         1|         1|         1|         1|         1|         1|         1|         1|         1|         1|         1|         1|         1|         1|         1|         1|         1|         1|         1|         1|         1|         1|         1|\n",
            "|      Deschutes, OR|         1|         1|         1|         1|         1|         1|         1|         1|         1|         1|         1|         1|         1|         1|         1|         1|         1|         1|         1|         1|         1|         1|         1|         1|         1|         1|         1|         1|         1|         1|         1|         1|         1|         1|         1|         1|         1|         1|         1|         1|         1|         1|         1|         1|         1|         1|         1|         1|         1|         1|         1|         1|         1|         1|         1|         1|         1|         1|         1|\n",
            "|        Connecticut|         1|         1|         1|         1|         1|         1|         1|         1|         1|         1|         1|         1|         1|         1|         1|         1|         1|         1|         1|         1|         1|         1|         1|         1|         1|         1|         1|         1|         1|         1|         1|         1|         1|         1|         1|         1|         1|         1|         1|         1|         1|         1|         1|         1|         1|         1|         1|         1|         1|         1|         1|         1|         1|         1|         1|         1|         1|         1|         1|\n",
            "|          Gregg, TX|         1|         1|         1|         1|         1|         1|         1|         1|         1|         1|         1|         1|         1|         1|         1|         1|         1|         1|         1|         1|         1|         1|         1|         1|         1|         1|         1|         1|         1|         1|         1|         1|         1|         1|         1|         1|         1|         1|         1|         1|         1|         1|         1|         1|         1|         1|         1|         1|         1|         1|         1|         1|         1|         1|         1|         1|         1|         1|         1|\n",
            "|    Wake County, NC|         1|         1|         1|         1|         1|         1|         1|         1|         1|         1|         1|         1|         1|         1|         1|         1|         1|         1|         1|         1|         1|         1|         1|         1|         1|         1|         1|         1|         1|         1|         1|         1|         1|         1|         1|         1|         1|         1|         1|         1|         1|         1|         1|         1|         1|         1|         1|         1|         1|         1|         1|         1|         1|         1|         1|         1|         1|         1|         1|\n",
            "|          Boone, IN|         1|         1|         1|         1|         1|         1|         1|         1|         1|         1|         1|         1|         1|         1|         1|         1|         1|         1|         1|         1|         1|         1|         1|         1|         1|         1|         1|         1|         1|         1|         1|         1|         1|         1|         1|         1|         1|         1|         1|         1|         1|         1|         1|         1|         1|         1|         1|         1|         1|         1|         1|         1|         1|         1|         1|         1|         1|         1|         1|\n",
            "|         Beadle, SD|         1|         1|         1|         1|         1|         1|         1|         1|         1|         1|         1|         1|         1|         1|         1|         1|         1|         1|         1|         1|         1|         1|         1|         1|         1|         1|         1|         1|         1|         1|         1|         1|         1|         1|         1|         1|         1|         1|         1|         1|         1|         1|         1|         1|         1|         1|         1|         1|         1|         1|         1|         1|         1|         1|         1|         1|         1|         1|         1|\n",
            "| Johnson County, IA|         1|         1|         1|         1|         1|         1|         1|         1|         1|         1|         1|         1|         1|         1|         1|         1|         1|         1|         1|         1|         1|         1|         1|         1|         1|         1|         1|         1|         1|         1|         1|         1|         1|         1|         1|         1|         1|         1|         1|         1|         1|         1|         1|         1|         1|         1|         1|         1|         1|         1|         1|         1|         1|         1|         1|         1|         1|         1|         1|\n",
            "|   Tulsa County, OK|         1|         1|         1|         1|         1|         1|         1|         1|         1|         1|         1|         1|         1|         1|         1|         1|         1|         1|         1|         1|         1|         1|         1|         1|         1|         1|         1|         1|         1|         1|         1|         1|         1|         1|         1|         1|         1|         1|         1|         1|         1|         1|         1|         1|         1|         1|         1|         1|         1|         1|         1|         1|         1|         1|         1|         1|         1|         1|         1|\n",
            "|         California|         1|         1|         1|         1|         1|         1|         1|         1|         1|         1|         1|         1|         1|         1|         1|         1|         1|         1|         1|         1|         1|         1|         1|         1|         1|         1|         1|         1|         1|         1|         1|         1|         1|         1|         1|         1|         1|         1|         1|         1|         1|         1|         1|         1|         1|         1|         1|         1|         1|         1|         1|         1|         1|         1|         1|         1|         1|         1|         1|\n",
            "|  Collin County, TX|         1|         1|         1|         1|         1|         1|         1|         1|         1|         1|         1|         1|         1|         1|         1|         1|         1|         1|         1|         1|         1|         1|         1|         1|         1|         1|         1|         1|         1|         1|         1|         1|         1|         1|         1|         1|         1|         1|         1|         1|         1|         1|         1|         1|         1|         1|         1|         1|         1|         1|         1|         1|         1|         1|         1|         1|         1|         1|         1|\n",
            "|       Charlton, GA|         1|         1|         1|         1|         1|         1|         1|         1|         1|         1|         1|         1|         1|         1|         1|         1|         1|         1|         1|         1|         1|         1|         1|         1|         1|         1|         1|         1|         1|         1|         1|         1|         1|         1|         1|         1|         1|         1|         1|         1|         1|         1|         1|         1|         1|         1|         1|         1|         1|         1|         1|         1|         1|         1|         1|         1|         1|         1|         1|\n",
            "+-------------------+----------+----------+----------+----------+----------+----------+----------+----------+----------+----------+----------+----------+----------+----------+----------+----------+----------+----------+----------+----------+----------+----------+----------+----------+----------+----------+----------+----------+----------+----------+----------+----------+----------+----------+----------+----------+----------+----------+----------+----------+----------+----------+----------+----------+----------+----------+----------+----------+----------+----------+----------+----------+----------+----------+----------+----------+----------+----------+----------+\n",
            "only showing top 20 rows\n",
            "\n"
          ],
          "name": "stdout"
        }
      ]
    },
    {
      "cell_type": "code",
      "metadata": {
        "id": "FJIH4hmxz-oj",
        "colab_type": "code",
        "colab": {
          "base_uri": "https://localhost:8080/",
          "height": 503
        },
        "outputId": "55752a28-b01d-4b8a-a43a-689f06d94074"
      },
      "source": [
        "corona_max_df.groupBy(\"Country\").agg({'Confirmed':'sum'}).show()"
      ],
      "execution_count": 67,
      "outputs": [
        {
          "output_type": "stream",
          "text": [
            "+--------------------+--------------+\n",
            "|             Country|sum(Confirmed)|\n",
            "+--------------------+--------------+\n",
            "|            Thailand|           322|\n",
            "|               Japan|           963|\n",
            "|           Singapore|           385|\n",
            "|               Nepal|             1|\n",
            "|            Malaysia|          1030|\n",
            "|              Canada|           943|\n",
            "|           Australia|           791|\n",
            "|            Cambodia|            51|\n",
            "|           Sri Lanka|            73|\n",
            "|             Germany|         19848|\n",
            "|             Finland|           450|\n",
            "|United Arab Emirates|           140|\n",
            "|         Philippines|           230|\n",
            "|               India|           244|\n",
            "|               Italy|         47021|\n",
            "|              Sweden|          1639|\n",
            "|               Spain|         20410|\n",
            "|             Belgium|          2257|\n",
            "|               Egypt|           285|\n",
            "|             Lebanon|           163|\n",
            "+--------------------+--------------+\n",
            "only showing top 20 rows\n",
            "\n"
          ],
          "name": "stdout"
        }
      ]
    },
    {
      "cell_type": "code",
      "metadata": {
        "id": "T97HH9NS0HMh",
        "colab_type": "code",
        "colab": {
          "base_uri": "https://localhost:8080/",
          "height": 503
        },
        "outputId": "b50e90b6-0b9f-407b-8e1e-696a749cfdb4"
      },
      "source": [
        "corona_max_df.groupBy(\"Country\").agg({'Confirmed':'sum','Recovered':'sum','Death':'sum'}).orderBy(\"sum(Confirmed)\",\n",
        "                                                                                                  ascending=False).show()"
      ],
      "execution_count": 68,
      "outputs": [
        {
          "output_type": "stream",
          "text": [
            "+--------------+--------------+----------+--------------+\n",
            "|       Country|sum(Recovered)|sum(Death)|sum(Confirmed)|\n",
            "+--------------+--------------+----------+--------------+\n",
            "|         China|         71266|      3253|         81250|\n",
            "|         Italy|          4440|      4032|         47021|\n",
            "|         Spain|          1588|      1043|         20410|\n",
            "|       Germany|           180|        67|         19848|\n",
            "|          Iran|          6745|      1433|         19644|\n",
            "|            US|             0|       244|         19100|\n",
            "|        France|            12|       450|         12726|\n",
            "|  Korea, South|          1540|        94|          8652|\n",
            "|   Switzerland|            15|        54|          5294|\n",
            "|United Kingdom|            67|       178|          4014|\n",
            "|   Netherlands|             2|       107|          3003|\n",
            "|       Austria|             9|         6|          2388|\n",
            "|       Belgium|             1|        37|          2257|\n",
            "|        Norway|             1|         7|          1914|\n",
            "|        Sweden|            16|        16|          1639|\n",
            "|       Denmark|             1|         9|          1337|\n",
            "|      Malaysia|            87|         3|          1030|\n",
            "|      Portugal|             5|         6|          1020|\n",
            "|         Japan|           191|        33|           963|\n",
            "|        Canada|             9|        12|           943|\n",
            "+--------------+--------------+----------+--------------+\n",
            "only showing top 20 rows\n",
            "\n"
          ],
          "name": "stdout"
        }
      ]
    },
    {
      "cell_type": "code",
      "metadata": {
        "id": "1OqQ3qq-0ZBU",
        "colab_type": "code",
        "colab": {
          "base_uri": "https://localhost:8080/",
          "height": 503
        },
        "outputId": "8ca2f079-bbc4-4f9f-fedc-2af7ab90fc14"
      },
      "source": [
        "corona_df.filter(\"Country=='Italy'\").sort(\"Date\",ascending=False).show()"
      ],
      "execution_count": 69,
      "outputs": [
        {
          "output_type": "stream",
          "text": [
            "+-----+-----+-------+----+----+----------+---------+-----+---------+-------------+----+\n",
            "|  _c0|State|Country| Lat|Long|      Date|Confirmed|Death|Recovered|state_cleaned|City|\n",
            "+-----+-----+-------+----+----+----------+---------+-----+---------+-------------+----+\n",
            "|27682| null|  Italy|43.0|12.0|2020-03-20|    47021| 4032|     4440|         Rome|null|\n",
            "|27205| null|  Italy|43.0|12.0|2020-03-19|    41035| 3405|     4440|         Rome|null|\n",
            "|26728| null|  Italy|43.0|12.0|2020-03-18|    35713| 2978|     4025|         Rome|null|\n",
            "|26251| null|  Italy|43.0|12.0|2020-03-17|    31506| 2503|     2941|         Rome|null|\n",
            "|25774| null|  Italy|43.0|12.0|2020-03-16|    27980| 2158|     2749|         Rome|null|\n",
            "|25297| null|  Italy|43.0|12.0|2020-03-15|    24747| 1809|     2335|         Rome|null|\n",
            "|24820| null|  Italy|43.0|12.0|2020-03-14|    21157| 1441|     1966|         Rome|null|\n",
            "|24343| null|  Italy|43.0|12.0|2020-03-13|    17660| 1266|     1439|         Rome|null|\n",
            "|23866| null|  Italy|43.0|12.0|2020-03-12|    12462|  827|     1045|         Rome|null|\n",
            "|23389| null|  Italy|43.0|12.0|2020-03-11|    12462|  827|     1045|         Rome|null|\n",
            "|22912| null|  Italy|43.0|12.0|2020-03-10|    10149|  631|      724|         Rome|null|\n",
            "|22435| null|  Italy|43.0|12.0|2020-03-09|     9172|  463|      724|         Rome|null|\n",
            "|21958| null|  Italy|43.0|12.0|2020-03-08|     7375|  366|      622|         Rome|null|\n",
            "|21481| null|  Italy|43.0|12.0|2020-03-07|     5883|  233|      589|         Rome|null|\n",
            "|21004| null|  Italy|43.0|12.0|2020-03-06|     4636|  197|      523|         Rome|null|\n",
            "|20527| null|  Italy|43.0|12.0|2020-03-05|     3858|  148|      414|         Rome|null|\n",
            "|20050| null|  Italy|43.0|12.0|2020-03-04|     3089|  107|      276|         Rome|null|\n",
            "|19573| null|  Italy|43.0|12.0|2020-03-03|     2502|   79|      160|         Rome|null|\n",
            "|19096| null|  Italy|43.0|12.0|2020-03-02|     2036|   52|      149|         Rome|null|\n",
            "|18619| null|  Italy|43.0|12.0|2020-03-01|     1694|   34|       83|         Rome|null|\n",
            "+-----+-----+-------+----+----+----------+---------+-----+---------+-------------+----+\n",
            "only showing top 20 rows\n",
            "\n"
          ],
          "name": "stdout"
        }
      ]
    },
    {
      "cell_type": "code",
      "metadata": {
        "id": "sI8PryTU0frQ",
        "colab_type": "code",
        "colab": {
          "base_uri": "https://localhost:8080/",
          "height": 503
        },
        "outputId": "752a6020-761f-4205-a2d0-149fe5f9151f"
      },
      "source": [
        "corona_max_df.withColumn(\"Active\",corona_max_df.Confirmed - corona_max_df.Recovered - corona_max_df.Death).sort(\"Active\",\n",
        "                                                                                                                ascending=False).show()"
      ],
      "execution_count": 70,
      "outputs": [
        {
          "output_type": "stream",
          "text": [
            "+--------------+----------------+----------+-----+--------------+-------+-------------------+---------+-----+---------+----------+------+\n",
            "|       Country|   state_cleaned|      Date|  _c0|         State|    Lat|               Long|Confirmed|Death|Recovered|      City|Active|\n",
            "+--------------+----------------+----------+-----+--------------+-------+-------------------+---------+-----+---------+----------+------+\n",
            "|         Italy|            Rome|2020-03-20|27682|          null|   43.0|               12.0|    47021| 4032|     4440|      null| 38549|\n",
            "|       Germany|          Berlin|2020-03-20|27677|          null|   51.0|                9.0|    19848|   67|      180|      null| 19601|\n",
            "|         Spain|          Toledo|2020-03-20|27684|          null|   40.0|               -4.0|    20410| 1043|     1588|      null| 17779|\n",
            "|        France|          France|2020-03-20|27823|        France|46.2276|             2.2137|    12612|  450|       12|      null| 12150|\n",
            "|          Iran|          Tehran|2020-03-20|27821|          null|   32.0|               53.0|    19644| 1433|     6745|      null| 11466|\n",
            "|            US|        New York|2020-03-20|27765|      New York|42.1657|           -74.9481|     8310|   42|        0|  New York|  8268|\n",
            "|  Korea, South|Gyeongsangbuk-do|2020-03-20|27822|          null|   36.0|              128.0|     8652|   94|     1540|      null|  7018|\n",
            "|         China|           Hubei|2020-03-20|27820|         Hubei|30.9756|           112.2707|    67800| 3133|    58382|      null|  6285|\n",
            "|   Switzerland|            Bern|2020-03-20|27697|          null|46.8182|             8.2275|     5294|   54|       15|      null|  5225|\n",
            "|United Kingdom|  United Kingdom|2020-03-20|28069|United Kingdom|55.3781|-3.4360000000000004|     3983|  177|       65|      null|  3741|\n",
            "|   Netherlands|     Netherlands|2020-03-20|28106|   Netherlands|52.1326|             5.2913|     2994|  106|        2|      null|  2886|\n",
            "|       Austria|          Vienna|2020-03-20|27698|          null|47.5162|            14.5501|     2388|    6|        9|      null|  2373|\n",
            "|       Belgium|        Brussels|2020-03-20|27686|          null|50.8333|                4.0|     2257|   37|        1|      null|  2219|\n",
            "|        Norway|             Hol|2020-03-20|27705|          null| 60.472|             8.4689|     1914|    7|        1|      null|  1906|\n",
            "|        Sweden|       Stockholm|2020-03-20|27683|          null|   63.0|               16.0|     1639|   16|       16|      null|  1607|\n",
            "|            US|      Washington|2020-03-20|27764|    Washington|47.4009|          -121.4905|     1524|   83|        0|Washington|  1441|\n",
            "|       Denmark|         Denmark|2020-03-20|27836|       Denmark|56.2639|             9.5018|     1255|    9|        1|      null|  1245|\n",
            "|            US|      California|2020-03-20|27766|    California|36.1162|          -119.6816|     1177|   23|        0|California|  1154|\n",
            "|      Portugal|          Lisbon|2020-03-20|27725|          null|39.3999|            -8.2245|     1020|    6|        5|      null|  1009|\n",
            "|      Malaysia|         Sarawak|2020-03-20|27670|          null|    2.5|              112.5|     1030|    3|       87|      null|   940|\n",
            "+--------------+----------------+----------+-----+--------------+-------+-------------------+---------+-----+---------+----------+------+\n",
            "only showing top 20 rows\n",
            "\n"
          ],
          "name": "stdout"
        }
      ]
    },
    {
      "cell_type": "code",
      "metadata": {
        "id": "G1ROajss0uwZ",
        "colab_type": "code",
        "colab": {}
      },
      "source": [
        "corona_max_df=corona_max_df.withColumn(\"Active\",corona_max_df.Confirmed - corona_max_df.Recovered - corona_max_df.Death)"
      ],
      "execution_count": 0,
      "outputs": []
    },
    {
      "cell_type": "code",
      "metadata": {
        "id": "XrMajDe806GQ",
        "colab_type": "code",
        "colab": {
          "base_uri": "https://localhost:8080/",
          "height": 316
        },
        "outputId": "c3003422-6299-4a84-f8bd-1dfbc17f4b30"
      },
      "source": [
        "corona_max_df.show(10)"
      ],
      "execution_count": 72,
      "outputs": [
        {
          "output_type": "stream",
          "text": [
            "+---------+----------------+----------+-----+----------------+--------+---------+---------+-----+---------+----+------+\n",
            "|  Country|   state_cleaned|      Date|  _c0|           State|     Lat|     Long|Confirmed|Death|Recovered|City|Active|\n",
            "+---------+----------------+----------+-----+----------------+--------+---------+---------+-----+---------+----+------+\n",
            "| Thailand|         Bangkok|2020-03-20|27666|            null|    15.0|    101.0|      322|    1|       42|null|   279|\n",
            "|    Japan|         Hiraide|2020-03-20|27667|            null|    36.0|    138.0|      963|   33|      191|null|   739|\n",
            "|Singapore|       Singapore|2020-03-20|27668|            null|  1.2833| 103.8333|      385|    0|      124|null|   261|\n",
            "|    Nepal|       Kathmandu|2020-03-20|27669|            null| 28.1667|    84.25|        1|    0|        1|null|     0|\n",
            "| Malaysia|         Sarawak|2020-03-20|27670|            null|     2.5|    112.5|     1030|    3|       87|null|   940|\n",
            "|   Canada|British Columbia|2020-03-20|27671|British Columbia| 49.2827|-123.1207|      271|    8|        4|null|   259|\n",
            "|Australia| New South Wales|2020-03-20|27672| New South Wales|-33.8688| 151.2093|      353|    6|        4|null|   343|\n",
            "|Australia|        Victoria|2020-03-20|27673|        Victoria|-37.8136| 144.9631|      121|    0|        8|null|   113|\n",
            "|Australia|      Queensland|2020-03-20|27674|      Queensland|-28.0167|    153.4|      184|    0|        8|null|   176|\n",
            "| Cambodia|      Phnom Penh|2020-03-20|27675|            null|   11.55| 104.9167|       51|    0|        1|null|    50|\n",
            "+---------+----------------+----------+-----+----------------+--------+---------+---------+-----+---------+----+------+\n",
            "only showing top 10 rows\n",
            "\n"
          ],
          "name": "stdout"
        }
      ]
    },
    {
      "cell_type": "code",
      "metadata": {
        "id": "yhbjNn7M08j6",
        "colab_type": "code",
        "colab": {
          "base_uri": "https://localhost:8080/",
          "height": 503
        },
        "outputId": "d5b88356-855f-41a8-98d5-360255f7702e"
      },
      "source": [
        "corona_max_df.groupBy(\"Country\").sum(\"Active\").orderBy(\"sum(Active)\",ascending=False).show()"
      ],
      "execution_count": 73,
      "outputs": [
        {
          "output_type": "stream",
          "text": [
            "+--------------+-----------+\n",
            "|       Country|sum(Active)|\n",
            "+--------------+-----------+\n",
            "|         Italy|      38549|\n",
            "|       Germany|      19601|\n",
            "|            US|      18856|\n",
            "|         Spain|      17779|\n",
            "|        France|      12264|\n",
            "|          Iran|      11466|\n",
            "|  Korea, South|       7018|\n",
            "|         China|       6731|\n",
            "|   Switzerland|       5225|\n",
            "|United Kingdom|       3769|\n",
            "|   Netherlands|       2894|\n",
            "|       Austria|       2373|\n",
            "|       Belgium|       2219|\n",
            "|        Norway|       1906|\n",
            "|        Sweden|       1607|\n",
            "|       Denmark|       1327|\n",
            "|      Portugal|       1009|\n",
            "|      Malaysia|        940|\n",
            "|        Canada|        922|\n",
            "|       Czechia|        829|\n",
            "+--------------+-----------+\n",
            "only showing top 20 rows\n",
            "\n"
          ],
          "name": "stdout"
        }
      ]
    },
    {
      "cell_type": "code",
      "metadata": {
        "id": "Ql2n6cFB1A0A",
        "colab_type": "code",
        "colab": {
          "base_uri": "https://localhost:8080/",
          "height": 148
        },
        "outputId": "70884f2f-8fb1-4dc6-b43b-a3beb9d29405"
      },
      "source": [
        "corona_max_df.select(\"Country\",\"State_cleaned\",\"Confirmed\",\"Recovered\").filter(col(\"Country\").isin('Australia','China')).groupBy(\"Country\").sum().show(100)\n",
        "\n"
      ],
      "execution_count": 77,
      "outputs": [
        {
          "output_type": "stream",
          "text": [
            "+---------+--------------+--------------+\n",
            "|  Country|sum(Confirmed)|sum(Recovered)|\n",
            "+---------+--------------+--------------+\n",
            "|Australia|           791|            26|\n",
            "|    China|         81250|         71266|\n",
            "+---------+--------------+--------------+\n",
            "\n"
          ],
          "name": "stdout"
        }
      ]
    },
    {
      "cell_type": "code",
      "metadata": {
        "id": "nlu5fh1N2EZF",
        "colab_type": "code",
        "colab": {
          "base_uri": "https://localhost:8080/",
          "height": 167
        },
        "outputId": "77dc7432-e87b-4ab9-f4ed-5b7ead8a4cdf"
      },
      "source": [
        "\n",
        "\n",
        "corona_max_df.select(\"Country\",\"State_cleaned\",\"Confirmed\",\"Recovered\").filter(col(\"Country\").isin('Australia','China')).cube(\"Country\").sum().sort(asc(\"Country\")).show(100)\n",
        "\n"
      ],
      "execution_count": 78,
      "outputs": [
        {
          "output_type": "stream",
          "text": [
            "+---------+--------------+--------------+\n",
            "|  Country|sum(Confirmed)|sum(Recovered)|\n",
            "+---------+--------------+--------------+\n",
            "|     null|         82041|         71292|\n",
            "|Australia|           791|            26|\n",
            "|    China|         81250|         71266|\n",
            "+---------+--------------+--------------+\n",
            "\n"
          ],
          "name": "stdout"
        }
      ]
    },
    {
      "cell_type": "code",
      "metadata": {
        "id": "3EfYBcRM2uNx",
        "colab_type": "code",
        "colab": {
          "base_uri": "https://localhost:8080/",
          "height": 915
        },
        "outputId": "06c8674d-01bc-48a9-82e2-4cfc98024276"
      },
      "source": [
        "corona_max_df.select(\"Country\",\"State_cleaned\",\"Confirmed\",\"Recovered\").filter(col(\"Country\").isin('Australia','Canada')).cube(\"Country\",\"State_cleaned\").sum().sort(asc(\"Country\")).show(100)"
      ],
      "execution_count": 79,
      "outputs": [
        {
          "output_type": "stream",
          "text": [
            "+---------+--------------------+--------------+--------------+\n",
            "|  Country|       State_cleaned|sum(Confirmed)|sum(Recovered)|\n",
            "+---------+--------------------+--------------+--------------+\n",
            "|     null|  Northern Territory|             3|             0|\n",
            "|     null|                null|          1734|            35|\n",
            "|     null|      Grand Princess|            10|             0|\n",
            "|     null|            Tasmania|            10|             3|\n",
            "|     null|        Saskatchewan|            20|             0|\n",
            "|     null|   Western Australia|            64|             0|\n",
            "|     null|From Diamond Prin...|             0|             0|\n",
            "|     null|    British Columbia|           271|             4|\n",
            "|     null|         Nova Scotia|            15|             0|\n",
            "|     null|Newfoundland and ...|             4|             0|\n",
            "|     null|             Ontario|           308|             5|\n",
            "|     null|            Manitoba|            17|             0|\n",
            "|     null|Australian Capita...|             6|             0|\n",
            "|     null|             Alberta|           146|             0|\n",
            "|     null|     South Australia|            50|             3|\n",
            "|     null|     New South Wales|           353|             4|\n",
            "|     null|       New Brunswick|            11|             0|\n",
            "|     null|          Queensland|           184|             8|\n",
            "|     null|            Victoria|           121|             8|\n",
            "|     null|              Quebec|           139|             0|\n",
            "|     null|Prince Edward Island|             2|             0|\n",
            "|Australia|Australian Capita...|             6|             0|\n",
            "|Australia|   Western Australia|            64|             0|\n",
            "|Australia|            Tasmania|            10|             3|\n",
            "|Australia|From Diamond Prin...|             0|             0|\n",
            "|Australia|            Victoria|           121|             8|\n",
            "|Australia|     New South Wales|           353|             4|\n",
            "|Australia|          Queensland|           184|             8|\n",
            "|Australia|  Northern Territory|             3|             0|\n",
            "|Australia|                null|           791|            26|\n",
            "|Australia|     South Australia|            50|             3|\n",
            "|   Canada|        Saskatchewan|            20|             0|\n",
            "|   Canada|       New Brunswick|            11|             0|\n",
            "|   Canada|             Alberta|           146|             0|\n",
            "|   Canada|             Ontario|           308|             5|\n",
            "|   Canada|Newfoundland and ...|             4|             0|\n",
            "|   Canada|    British Columbia|           271|             4|\n",
            "|   Canada|      Grand Princess|            10|             0|\n",
            "|   Canada|         Nova Scotia|            15|             0|\n",
            "|   Canada|              Quebec|           139|             0|\n",
            "|   Canada|            Manitoba|            17|             0|\n",
            "|   Canada|Prince Edward Island|             2|             0|\n",
            "|   Canada|                null|           943|             9|\n",
            "+---------+--------------------+--------------+--------------+\n",
            "\n"
          ],
          "name": "stdout"
        }
      ]
    },
    {
      "cell_type": "code",
      "metadata": {
        "id": "6QEqfv0w4Ai4",
        "colab_type": "code",
        "colab": {
          "base_uri": "https://localhost:8080/",
          "height": 541
        },
        "outputId": "2b94ac6a-1004-4dde-8039-b31ffb4351b1"
      },
      "source": [
        "corona_max_df.select(\"Country\",\"State_cleaned\",\"Confirmed\",\"Recovered\").filter(col(\"Country\").isin('Australia','Canada')).rollup(\"Country\",\"State_cleaned\").sum().sort(asc(\"Country\")).show(100)"
      ],
      "execution_count": 80,
      "outputs": [
        {
          "output_type": "stream",
          "text": [
            "+---------+--------------------+--------------+--------------+\n",
            "|  Country|       State_cleaned|sum(Confirmed)|sum(Recovered)|\n",
            "+---------+--------------------+--------------+--------------+\n",
            "|     null|                null|          1734|            35|\n",
            "|Australia|     New South Wales|           353|             4|\n",
            "|Australia|            Tasmania|            10|             3|\n",
            "|Australia|Australian Capita...|             6|             0|\n",
            "|Australia|   Western Australia|            64|             0|\n",
            "|Australia|  Northern Territory|             3|             0|\n",
            "|Australia|                null|           791|            26|\n",
            "|Australia|From Diamond Prin...|             0|             0|\n",
            "|Australia|            Victoria|           121|             8|\n",
            "|Australia|     South Australia|            50|             3|\n",
            "|Australia|          Queensland|           184|             8|\n",
            "|   Canada|       New Brunswick|            11|             0|\n",
            "|   Canada|        Saskatchewan|            20|             0|\n",
            "|   Canada|      Grand Princess|            10|             0|\n",
            "|   Canada|             Alberta|           146|             0|\n",
            "|   Canada|Newfoundland and ...|             4|             0|\n",
            "|   Canada|    British Columbia|           271|             4|\n",
            "|   Canada|             Ontario|           308|             5|\n",
            "|   Canada|              Quebec|           139|             0|\n",
            "|   Canada|            Manitoba|            17|             0|\n",
            "|   Canada|Prince Edward Island|             2|             0|\n",
            "|   Canada|         Nova Scotia|            15|             0|\n",
            "|   Canada|                null|           943|             9|\n",
            "+---------+--------------------+--------------+--------------+\n",
            "\n"
          ],
          "name": "stdout"
        }
      ]
    },
    {
      "cell_type": "code",
      "metadata": {
        "id": "iTZ22Vt_4Efw",
        "colab_type": "code",
        "colab": {
          "base_uri": "https://localhost:8080/",
          "height": 56
        },
        "outputId": "8bcbb571-0d5a-409f-9a46-b725ea788aa9"
      },
      "source": [
        "\n",
        "\n",
        "corona_max_df.cache()\n",
        "\n"
      ],
      "execution_count": 81,
      "outputs": [
        {
          "output_type": "execute_result",
          "data": {
            "text/plain": [
              "DataFrame[Country: string, state_cleaned: string, Date: string, _c0: int, State: string, Lat: double, Long: double, Confirmed: int, Death: int, Recovered: int, City: string, Active: int]"
            ]
          },
          "metadata": {
            "tags": []
          },
          "execution_count": 81
        }
      ]
    },
    {
      "cell_type": "code",
      "metadata": {
        "id": "vYAivIN14Mlx",
        "colab_type": "code",
        "colab": {
          "base_uri": "https://localhost:8080/",
          "height": 56
        },
        "outputId": "fe311999-763b-4eb9-9d19-5348f29f43ff"
      },
      "source": [
        "from pyspark import StorageLevel\n",
        "corona_max_df.persist(StorageLevel.MEMORY_AND_DISK)"
      ],
      "execution_count": 82,
      "outputs": [
        {
          "output_type": "execute_result",
          "data": {
            "text/plain": [
              "DataFrame[Country: string, state_cleaned: string, Date: string, _c0: int, State: string, Lat: double, Long: double, Confirmed: int, Death: int, Recovered: int, City: string, Active: int]"
            ]
          },
          "metadata": {
            "tags": []
          },
          "execution_count": 82
        }
      ]
    },
    {
      "cell_type": "code",
      "metadata": {
        "id": "gIUjum6c4SND",
        "colab_type": "code",
        "colab": {}
      },
      "source": [
        "pd=corona_df.toPandas()"
      ],
      "execution_count": 0,
      "outputs": []
    },
    {
      "cell_type": "code",
      "metadata": {
        "id": "M2UGCi1O4Y8-",
        "colab_type": "code",
        "colab": {}
      },
      "source": [
        "corona_max_df.createOrReplaceTempView(\"corona\")"
      ],
      "execution_count": 0,
      "outputs": []
    },
    {
      "cell_type": "code",
      "metadata": {
        "id": "EcOtWWGQ4ffF",
        "colab_type": "code",
        "colab": {
          "base_uri": "https://localhost:8080/",
          "height": 503
        },
        "outputId": "5fbf0997-c208-4600-fed5-95fda1b4da7f"
      },
      "source": [
        "spark.sql(\"select * from corona\").show()"
      ],
      "execution_count": 85,
      "outputs": [
        {
          "output_type": "stream",
          "text": [
            "+--------------------+--------------------+----------+-----+----------------+--------+---------+---------+-----+---------+----+------+\n",
            "|             Country|       state_cleaned|      Date|  _c0|           State|     Lat|     Long|Confirmed|Death|Recovered|City|Active|\n",
            "+--------------------+--------------------+----------+-----+----------------+--------+---------+---------+-----+---------+----+------+\n",
            "|            Thailand|             Bangkok|2020-03-20|27666|            null|    15.0|    101.0|      322|    1|       42|null|   279|\n",
            "|               Japan|             Hiraide|2020-03-20|27667|            null|    36.0|    138.0|      963|   33|      191|null|   739|\n",
            "|           Singapore|           Singapore|2020-03-20|27668|            null|  1.2833| 103.8333|      385|    0|      124|null|   261|\n",
            "|               Nepal|           Kathmandu|2020-03-20|27669|            null| 28.1667|    84.25|        1|    0|        1|null|     0|\n",
            "|            Malaysia|             Sarawak|2020-03-20|27670|            null|     2.5|    112.5|     1030|    3|       87|null|   940|\n",
            "|              Canada|    British Columbia|2020-03-20|27671|British Columbia| 49.2827|-123.1207|      271|    8|        4|null|   259|\n",
            "|           Australia|     New South Wales|2020-03-20|27672| New South Wales|-33.8688| 151.2093|      353|    6|        4|null|   343|\n",
            "|           Australia|            Victoria|2020-03-20|27673|        Victoria|-37.8136| 144.9631|      121|    0|        8|null|   113|\n",
            "|           Australia|          Queensland|2020-03-20|27674|      Queensland|-28.0167|    153.4|      184|    0|        8|null|   176|\n",
            "|            Cambodia|          Phnom Penh|2020-03-20|27675|            null|   11.55| 104.9167|       51|    0|        1|null|    50|\n",
            "|           Sri Lanka|Sri Jayawardenapu...|2020-03-20|27676|            null|     7.0|     81.0|       73|    0|        3|null|    70|\n",
            "|             Germany|              Berlin|2020-03-20|27677|            null|    51.0|      9.0|    19848|   67|      180|null| 19601|\n",
            "|             Finland|            Helsinki|2020-03-20|27678|            null|    64.0|     26.0|      450|    0|       10|null|   440|\n",
            "|United Arab Emirates|           Abu Dhabi|2020-03-20|27679|            null|    24.0|     54.0|      140|    2|       31|null|   107|\n",
            "|         Philippines|              Manila|2020-03-20|27680|            null|    13.0|    122.0|      230|   18|        8|null|   204|\n",
            "|               India|           New Delhi|2020-03-20|27681|            null|    21.0|     78.0|      244|    5|       20|null|   219|\n",
            "|               Italy|                Rome|2020-03-20|27682|            null|    43.0|     12.0|    47021| 4032|     4440|null| 38549|\n",
            "|              Sweden|           Stockholm|2020-03-20|27683|            null|    63.0|     16.0|     1639|   16|       16|null|  1607|\n",
            "|               Spain|              Toledo|2020-03-20|27684|            null|    40.0|     -4.0|    20410| 1043|     1588|null| 17779|\n",
            "|           Australia|     South Australia|2020-03-20|27685| South Australia|-34.9285| 138.6007|       50|    0|        3|null|    47|\n",
            "+--------------------+--------------------+----------+-----+----------------+--------+---------+---------+-----+---------+----+------+\n",
            "only showing top 20 rows\n",
            "\n"
          ],
          "name": "stdout"
        }
      ]
    },
    {
      "cell_type": "code",
      "metadata": {
        "id": "ZJS_lPbj4iJO",
        "colab_type": "code",
        "colab": {
          "base_uri": "https://localhost:8080/",
          "height": 485
        },
        "outputId": "3c798a8a-a799-4992-a78d-990f59b666ab"
      },
      "source": [
        "spark.sql(\"select * from corona where Country in ('Australia','Canada') order by Country\").show()"
      ],
      "execution_count": 86,
      "outputs": [
        {
          "output_type": "stream",
          "text": [
            "+---------+--------------------+----------+-----+--------------------+------------------+---------+---------+-----+---------+----+------+\n",
            "|  Country|       state_cleaned|      Date|  _c0|               State|               Lat|     Long|Confirmed|Death|Recovered|City|Active|\n",
            "+---------+--------------------+----------+-----+--------------------+------------------+---------+---------+-----+---------+----+------+\n",
            "|Australia|     New South Wales|2020-03-20|27672|     New South Wales|          -33.8688| 151.2093|      353|    6|        4|null|   343|\n",
            "|Australia|            Victoria|2020-03-20|27673|            Victoria|          -37.8136| 144.9631|      121|    0|        8|null|   113|\n",
            "|Australia|   Western Australia|2020-03-20|27715|   Western Australia|          -31.9505| 115.8605|       64|    1|        0|null|    63|\n",
            "|Australia|          Queensland|2020-03-20|27674|          Queensland|          -28.0167|    153.4|      184|    0|        8|null|   176|\n",
            "|Australia|            Tasmania|2020-03-20|27727|            Tasmania|          -41.4545| 145.9707|       10|    0|        3|null|     7|\n",
            "|Australia|  Northern Territory|2020-03-20|27737|  Northern Territory|          -12.4634| 130.8456|        3|    0|        0|null|     3|\n",
            "|Australia|     South Australia|2020-03-20|27685|     South Australia|          -34.9285| 138.6007|       50|    0|        3|null|    47|\n",
            "|Australia|Australian Capita...|2020-03-20|28068|Australian Capita...|          -35.4735| 149.0124|        6|    0|        0|null|     6|\n",
            "|Australia|From Diamond Prin...|2020-03-20|27688|From Diamond Prin...|           35.4437|  139.638|        0|    0|        0|null|     0|\n",
            "|   Canada|    British Columbia|2020-03-20|27671|    British Columbia|           49.2827|-123.1207|      271|    8|        4|null|   259|\n",
            "|   Canada|             Ontario|2020-03-20|27758|             Ontario|           51.2538| -85.3232|      308|    2|        5|null|   301|\n",
            "|   Canada|             Alberta|2020-03-20|27759|             Alberta|           53.9333|-116.5765|      146|    1|        0|null|   145|\n",
            "|   Canada|        Saskatchewan|2020-03-20|28073|        Saskatchewan|           52.9399|-106.4509|       20|    0|        0|null|    20|\n",
            "|   Canada|         Nova Scotia|2020-03-20|28107|         Nova Scotia|44.681999999999995| -63.7443|       15|    0|        0|null|    15|\n",
            "|   Canada|              Quebec|2020-03-20|27760|              Quebec|           52.9399| -73.5491|      139|    1|        0|null|   138|\n",
            "|   Canada|       New Brunswick|2020-03-20|27867|       New Brunswick|           46.5653| -66.4619|       11|    0|        0|null|    11|\n",
            "|   Canada|      Grand Princess|2020-03-20|28077|      Grand Princess|           37.6489|-122.6655|       10|    0|        0|null|    10|\n",
            "|   Canada|Newfoundland and ...|2020-03-20|28099|Newfoundland and ...|           53.1355| -57.6604|        4|    0|        0|null|     4|\n",
            "|   Canada|            Manitoba|2020-03-20|28072|            Manitoba|           53.7609| -98.8139|       17|    0|        0|null|    17|\n",
            "|   Canada|Prince Edward Island|2020-03-20|28100|Prince Edward Island|           46.5107| -63.4168|        2|    0|        0|null|     2|\n",
            "+---------+--------------------+----------+-----+--------------------+------------------+---------+---------+-----+---------+----+------+\n",
            "\n"
          ],
          "name": "stdout"
        }
      ]
    },
    {
      "cell_type": "code",
      "metadata": {
        "id": "dqkW0jjB435h",
        "colab_type": "code",
        "colab": {
          "base_uri": "https://localhost:8080/",
          "height": 503
        },
        "outputId": "3a3769e8-fd73-493c-9c39-2036f14cc363"
      },
      "source": [
        "spark.sql(\"select Country, State_cleaned, SUM(Confirmed), SUM(Recovered) from corona where Country in ('Australia','Canada') GROUP BY ROLLUP (Country, State_cleaned) order by Country\").show()"
      ],
      "execution_count": 87,
      "outputs": [
        {
          "output_type": "stream",
          "text": [
            "+---------+--------------------+--------------+--------------+\n",
            "|  Country|       State_cleaned|sum(Confirmed)|sum(Recovered)|\n",
            "+---------+--------------------+--------------+--------------+\n",
            "|     null|                null|          1734|            35|\n",
            "|Australia|     New South Wales|           353|             4|\n",
            "|Australia|          Queensland|           184|             8|\n",
            "|Australia|Australian Capita...|             6|             0|\n",
            "|Australia|  Northern Territory|             3|             0|\n",
            "|Australia|   Western Australia|            64|             0|\n",
            "|Australia|                null|           791|            26|\n",
            "|Australia|From Diamond Prin...|             0|             0|\n",
            "|Australia|            Tasmania|            10|             3|\n",
            "|Australia|            Victoria|           121|             8|\n",
            "|Australia|     South Australia|            50|             3|\n",
            "|   Canada|            Manitoba|            17|             0|\n",
            "|   Canada|       New Brunswick|            11|             0|\n",
            "|   Canada|      Grand Princess|            10|             0|\n",
            "|   Canada|             Alberta|           146|             0|\n",
            "|   Canada|Newfoundland and ...|             4|             0|\n",
            "|   Canada|    British Columbia|           271|             4|\n",
            "|   Canada|             Ontario|           308|             5|\n",
            "|   Canada|         Nova Scotia|            15|             0|\n",
            "|   Canada|              Quebec|           139|             0|\n",
            "+---------+--------------------+--------------+--------------+\n",
            "only showing top 20 rows\n",
            "\n"
          ],
          "name": "stdout"
        }
      ]
    },
    {
      "cell_type": "code",
      "metadata": {
        "id": "9SUS8daZ5ApT",
        "colab_type": "code",
        "colab": {
          "base_uri": "https://localhost:8080/",
          "height": 503
        },
        "outputId": "87c8c0a3-950d-4879-ad74-5221e108d4fe"
      },
      "source": [
        "spark.sql(\"select Country, State_cleaned, SUM(Confirmed), SUM(Recovered) from corona where Country in ('Australia','Canada') GROUP BY CUBE (Country, State_cleaned) order by Country\").show()"
      ],
      "execution_count": 88,
      "outputs": [
        {
          "output_type": "stream",
          "text": [
            "+-------+--------------------+--------------+--------------+\n",
            "|Country|       State_cleaned|sum(Confirmed)|sum(Recovered)|\n",
            "+-------+--------------------+--------------+--------------+\n",
            "|   null|            Victoria|           121|             8|\n",
            "|   null|     South Australia|            50|             3|\n",
            "|   null|       New Brunswick|            11|             0|\n",
            "|   null|         Nova Scotia|            15|             0|\n",
            "|   null|Australian Capita...|             6|             0|\n",
            "|   null|             Ontario|           308|             5|\n",
            "|   null|     New South Wales|           353|             4|\n",
            "|   null|            Manitoba|            17|             0|\n",
            "|   null|        Saskatchewan|            20|             0|\n",
            "|   null|Newfoundland and ...|             4|             0|\n",
            "|   null|   Western Australia|            64|             0|\n",
            "|   null|            Tasmania|            10|             3|\n",
            "|   null|    British Columbia|           271|             4|\n",
            "|   null|  Northern Territory|             3|             0|\n",
            "|   null|From Diamond Prin...|             0|             0|\n",
            "|   null|             Alberta|           146|             0|\n",
            "|   null|          Queensland|           184|             8|\n",
            "|   null|Prince Edward Island|             2|             0|\n",
            "|   null|      Grand Princess|            10|             0|\n",
            "|   null|                null|          1734|            35|\n",
            "+-------+--------------------+--------------+--------------+\n",
            "only showing top 20 rows\n",
            "\n"
          ],
          "name": "stdout"
        }
      ]
    },
    {
      "cell_type": "code",
      "metadata": {
        "id": "mnwrpx195F9G",
        "colab_type": "code",
        "colab": {}
      },
      "source": [
        ""
      ],
      "execution_count": 0,
      "outputs": []
    }
  ]
}